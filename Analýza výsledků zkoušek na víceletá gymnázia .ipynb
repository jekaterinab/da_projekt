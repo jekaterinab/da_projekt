{
 "cells": [
  {
   "cell_type": "markdown",
   "metadata": {},
   "source": []
  },
  {
   "cell_type": "markdown",
   "metadata": {},
   "source": []
  },
  {
   "cell_type": "markdown",
   "metadata": {},
   "source": [
    "Zajímalo nás, jestli se dají školy rozdělit na několik skupin a zjistit, jestli jsou nějaké zajímavé tendence nebo anomalie, které nevidíme, jestli je korelace mezi výsledky a zájmem o školu, výsledky a existencí školní zkoušky. Protože celkový počet uchazečů a zájem o konkrétní školu se v čase mění, stejně jako se čas od času mění kritéria přijetí pro danou školu zejména (zavedení nebo zrušení školní zkoušky), pracovali jsme  s parametrem “škola + rok”. "
   ]
  },
  {
   "cell_type": "code",
   "execution_count": 45,
   "metadata": {},
   "outputs": [
    {
     "ename": "ImportError",
     "evalue": "cannot import name 'get_params' from 'sklearn.cluster' (c:\\users\\realk\\appdata\\local\\programs\\python\\python37\\lib\\site-packages\\sklearn\\cluster\\__init__.py)",
     "output_type": "error",
     "traceback": [
      "\u001b[1;31m---------------------------------------------------------------------------\u001b[0m",
      "\u001b[1;31mImportError\u001b[0m                               Traceback (most recent call last)",
      "\u001b[1;32m<ipython-input-45-905c8e1a89c8>\u001b[0m in \u001b[0;36m<module>\u001b[1;34m\u001b[0m\n\u001b[0;32m     10\u001b[0m \u001b[1;32mimport\u001b[0m \u001b[0mplotly\u001b[0m\u001b[1;33m.\u001b[0m\u001b[0mexpress\u001b[0m \u001b[1;32mas\u001b[0m \u001b[0mpx\u001b[0m\u001b[1;33m\u001b[0m\u001b[1;33m\u001b[0m\u001b[0m\n\u001b[0;32m     11\u001b[0m \u001b[1;32mimport\u001b[0m \u001b[0mdatapane\u001b[0m \u001b[1;32mas\u001b[0m \u001b[0mdp\u001b[0m\u001b[1;33m\u001b[0m\u001b[1;33m\u001b[0m\u001b[0m\n\u001b[1;32m---> 12\u001b[1;33m \u001b[1;32mfrom\u001b[0m \u001b[0msklearn\u001b[0m\u001b[1;33m.\u001b[0m\u001b[0mcluster\u001b[0m \u001b[1;32mimport\u001b[0m \u001b[0mKMeans\u001b[0m\u001b[1;33m,\u001b[0m \u001b[0mget_params\u001b[0m\u001b[1;33m\u001b[0m\u001b[1;33m\u001b[0m\u001b[0m\n\u001b[0m\u001b[0;32m     13\u001b[0m \u001b[1;32mimport\u001b[0m \u001b[0mwarnings\u001b[0m\u001b[1;33m\u001b[0m\u001b[1;33m\u001b[0m\u001b[0m\n\u001b[0;32m     14\u001b[0m \u001b[0mwarnings\u001b[0m\u001b[1;33m.\u001b[0m\u001b[0msimplefilter\u001b[0m\u001b[1;33m(\u001b[0m\u001b[1;34m'ignore'\u001b[0m\u001b[1;33m)\u001b[0m\u001b[1;33m\u001b[0m\u001b[1;33m\u001b[0m\u001b[0m\n",
      "\u001b[1;31mImportError\u001b[0m: cannot import name 'get_params' from 'sklearn.cluster' (c:\\users\\realk\\appdata\\local\\programs\\python\\python37\\lib\\site-packages\\sklearn\\cluster\\__init__.py)"
     ]
    }
   ],
   "source": [
    "import pandas as pd\n",
    "import numpy as np\n",
    "import matplotlib.pyplot as plt\n",
    "import statsmodels.api as sm\n",
    "import plotly.io as pli\n",
    "import os\n",
    "if not os.path.exists(\"images\"):\n",
    "    os.mkdir(\"images\")\n",
    "import sklearn\n",
    "import plotly.express as px\n",
    "import datapane as dp\n",
    "from sklearn.cluster import KMeans \n",
    "import warnings\n",
    "warnings.simplefilter('ignore')"
   ]
  },
  {
   "cell_type": "code",
   "execution_count": 2,
   "metadata": {},
   "outputs": [],
   "source": [
    "data = pd.read_csv(\"./data/complet5.gz\", compression = \"gzip\", encoding = 'utf8')"
   ]
  },
  {
   "cell_type": "code",
   "execution_count": 3,
   "metadata": {},
   "outputs": [
    {
     "name": "stdout",
     "output_type": "stream",
     "text": [
      "<class 'pandas.core.frame.DataFrame'>\n"
     ]
    }
   ],
   "source": [
    "print(type(data))"
   ]
  },
  {
   "cell_type": "code",
   "execution_count": 4,
   "metadata": {},
   "outputs": [
    {
     "name": "stdout",
     "output_type": "stream",
     "text": [
      "<class 'pandas.core.frame.DataFrame'>\n",
      "RangeIndex: 28214 entries, 0 to 28213\n",
      "Data columns (total 60 columns):\n",
      " #   Column                   Non-Null Count  Dtype  \n",
      "---  ------                   --------------  -----  \n",
      " 0   DESCRIPTION              28214 non-null  object \n",
      " 1   COMENT                   44 non-null     object \n",
      " 2   SCHOOLCOURSE_ID          28214 non-null  int64  \n",
      " 3   YEAR                     28214 non-null  int64  \n",
      " 4   MAX_SUM                  28214 non-null  float64\n",
      " 5   MAX_CZECH                28214 non-null  int64  \n",
      " 6   PROCENTA_CZECH           28214 non-null  float64\n",
      " 7   MAX_MATH                 28214 non-null  int64  \n",
      " 8   PROCENTA_MATH            28214 non-null  float64\n",
      " 9   MAX_GRADES               28214 non-null  float64\n",
      " 10  PROCENTA_GRADES          28214 non-null  float64\n",
      " 11  MAX_SP                   2673 non-null   float64\n",
      " 12  PROCENTA_SP              28214 non-null  float64\n",
      " 13  MAX_VR                   5164 non-null   float64\n",
      " 14  PROCENTA_VR              28214 non-null  float64\n",
      " 15  MAX_AJ                   6287 non-null   float64\n",
      " 16  PROCENTA_AJ              28214 non-null  float64\n",
      " 17  MAX_CONTESTS             14522 non-null  float64\n",
      " 18  PROCENTA_CONTESTS        28214 non-null  float64\n",
      " 19  MAX_OTHER                1319 non-null   float64\n",
      " 20  PROCENTA_OTHER           28214 non-null  float64\n",
      " 21  MIN_SUM_ADMITTED         26401 non-null  float64\n",
      " 22  MIN_MATH_ADMITTED        26401 non-null  float64\n",
      " 23  MIN_CZECH_ADMITTED       26401 non-null  float64\n",
      " 24  COUNT_ADMITTED           28214 non-null  int64  \n",
      " 25  REGISTRED                28214 non-null  int64  \n",
      " 26  UCHAZECU_NA_JEDNO_MISTO  28214 non-null  float64\n",
      " 27  ADMITTED_PERCENT         28214 non-null  float64\n",
      " 28  UNIQUE_ID                28214 non-null  object \n",
      " 29  ID                       28205 non-null  object \n",
      " 30  RANK                     27645 non-null  object \n",
      " 31  ADMITTED_ID              28214 non-null  int64  \n",
      " 32  SUM                      24379 non-null  float64\n",
      " 33  MATH                     26351 non-null  float64\n",
      " 34  CZECH                    26345 non-null  float64\n",
      " 35  GRADES                   26400 non-null  float64\n",
      " 36  IS_SCHOOL_EXAM           28214 non-null  bool   \n",
      " 37  SP                       2317 non-null   float64\n",
      " 38  VR                       3577 non-null   float64\n",
      " 39  AJ                       4718 non-null   float64\n",
      " 40  OTHER                    2888 non-null   float64\n",
      " 41  OTHER_TXT                3738 non-null   object \n",
      " 42  CONTESTS                 7325 non-null   float64\n",
      " 43  IS_CONTESTS              28214 non-null  bool   \n",
      " 44  PRIJATI_NEPRIJATI        28214 non-null  int64  \n",
      " 45  IS_MIN_CRITERIA          28214 non-null  bool   \n",
      " 46  FOUNDER                  28214 non-null  object \n",
      " 47  SCHOOL_ID                28214 non-null  int64  \n",
      " 48  RED_IZO                  28214 non-null  int64  \n",
      " 49  SCHOOL_NAME              28214 non-null  object \n",
      " 50  ADDRESS                  28214 non-null  object \n",
      " 51  CITY                     28214 non-null  object \n",
      " 52  PSC                      28214 non-null  object \n",
      " 53  KRAJ                     28214 non-null  object \n",
      " 54  LAT                      28214 non-null  float64\n",
      " 55  LNG                      28214 non-null  float64\n",
      " 56  COURSE_CODE              28214 non-null  object \n",
      " 57  NAME                     28214 non-null  object \n",
      " 58  DURATION                 28214 non-null  int64  \n",
      " 59  COURSE_ID                28214 non-null  int64  \n",
      "dtypes: bool(3), float64(31), int64(12), object(14)\n",
      "memory usage: 12.4+ MB\n"
     ]
    }
   ],
   "source": [
    "data.info()"
   ]
  },
  {
   "cell_type": "code",
   "execution_count": 5,
   "metadata": {},
   "outputs": [
    {
     "data": {
      "text/html": [
       "<div>\n",
       "<style scoped>\n",
       "    .dataframe tbody tr th:only-of-type {\n",
       "        vertical-align: middle;\n",
       "    }\n",
       "\n",
       "    .dataframe tbody tr th {\n",
       "        vertical-align: top;\n",
       "    }\n",
       "\n",
       "    .dataframe thead th {\n",
       "        text-align: right;\n",
       "    }\n",
       "</style>\n",
       "<table border=\"1\" class=\"dataframe\">\n",
       "  <thead>\n",
       "    <tr style=\"text-align: right;\">\n",
       "      <th></th>\n",
       "      <th>DESCRIPTION</th>\n",
       "      <th>COMENT</th>\n",
       "      <th>SCHOOLCOURSE_ID</th>\n",
       "      <th>YEAR</th>\n",
       "      <th>MAX_SUM</th>\n",
       "      <th>MAX_CZECH</th>\n",
       "      <th>PROCENTA_CZECH</th>\n",
       "      <th>MAX_MATH</th>\n",
       "      <th>PROCENTA_MATH</th>\n",
       "      <th>MAX_GRADES</th>\n",
       "      <th>...</th>\n",
       "      <th>ADDRESS</th>\n",
       "      <th>CITY</th>\n",
       "      <th>PSC</th>\n",
       "      <th>KRAJ</th>\n",
       "      <th>LAT</th>\n",
       "      <th>LNG</th>\n",
       "      <th>COURSE_CODE</th>\n",
       "      <th>NAME</th>\n",
       "      <th>DURATION</th>\n",
       "      <th>COURSE_ID</th>\n",
       "    </tr>\n",
       "  </thead>\n",
       "  <tbody>\n",
       "    <tr>\n",
       "      <th>0</th>\n",
       "      <td>nepřijat z důvodu kapacity / škola nemá stanov...</td>\n",
       "      <td>NaN</td>\n",
       "      <td>1981</td>\n",
       "      <td>2019</td>\n",
       "      <td>162.0</td>\n",
       "      <td>50</td>\n",
       "      <td>30.86</td>\n",
       "      <td>50</td>\n",
       "      <td>30.86</td>\n",
       "      <td>12.0</td>\n",
       "      <td>...</td>\n",
       "      <td>Mezi Školami 2475/29</td>\n",
       "      <td>Praha</td>\n",
       "      <td>15 800</td>\n",
       "      <td>Hlavní město Praha</td>\n",
       "      <td>50.052284</td>\n",
       "      <td>14.340408</td>\n",
       "      <td>79-41/K-81</td>\n",
       "      <td>osmileté gymnázium</td>\n",
       "      <td>8</td>\n",
       "      <td>81</td>\n",
       "    </tr>\n",
       "    <tr>\n",
       "      <th>1</th>\n",
       "      <td>nepřijat z důvodu kapacity / škola nemá stanov...</td>\n",
       "      <td>NaN</td>\n",
       "      <td>1981</td>\n",
       "      <td>2019</td>\n",
       "      <td>162.0</td>\n",
       "      <td>50</td>\n",
       "      <td>30.86</td>\n",
       "      <td>50</td>\n",
       "      <td>30.86</td>\n",
       "      <td>12.0</td>\n",
       "      <td>...</td>\n",
       "      <td>Mezi Školami 2475/29</td>\n",
       "      <td>Praha</td>\n",
       "      <td>15 800</td>\n",
       "      <td>Hlavní město Praha</td>\n",
       "      <td>50.052284</td>\n",
       "      <td>14.340408</td>\n",
       "      <td>79-41/K-81</td>\n",
       "      <td>osmileté gymnázium</td>\n",
       "      <td>8</td>\n",
       "      <td>81</td>\n",
       "    </tr>\n",
       "    <tr>\n",
       "      <th>2</th>\n",
       "      <td>nepřijat z důvodu kapacity / škola nemá stanov...</td>\n",
       "      <td>NaN</td>\n",
       "      <td>1981</td>\n",
       "      <td>2019</td>\n",
       "      <td>162.0</td>\n",
       "      <td>50</td>\n",
       "      <td>30.86</td>\n",
       "      <td>50</td>\n",
       "      <td>30.86</td>\n",
       "      <td>12.0</td>\n",
       "      <td>...</td>\n",
       "      <td>Mezi Školami 2475/29</td>\n",
       "      <td>Praha</td>\n",
       "      <td>15 800</td>\n",
       "      <td>Hlavní město Praha</td>\n",
       "      <td>50.052284</td>\n",
       "      <td>14.340408</td>\n",
       "      <td>79-41/K-81</td>\n",
       "      <td>osmileté gymnázium</td>\n",
       "      <td>8</td>\n",
       "      <td>81</td>\n",
       "    </tr>\n",
       "    <tr>\n",
       "      <th>3</th>\n",
       "      <td>nepřijat z důvodu kapacity / škola nemá stanov...</td>\n",
       "      <td>NaN</td>\n",
       "      <td>1981</td>\n",
       "      <td>2019</td>\n",
       "      <td>162.0</td>\n",
       "      <td>50</td>\n",
       "      <td>30.86</td>\n",
       "      <td>50</td>\n",
       "      <td>30.86</td>\n",
       "      <td>12.0</td>\n",
       "      <td>...</td>\n",
       "      <td>Mezi Školami 2475/29</td>\n",
       "      <td>Praha</td>\n",
       "      <td>15 800</td>\n",
       "      <td>Hlavní město Praha</td>\n",
       "      <td>50.052284</td>\n",
       "      <td>14.340408</td>\n",
       "      <td>79-41/K-81</td>\n",
       "      <td>osmileté gymnázium</td>\n",
       "      <td>8</td>\n",
       "      <td>81</td>\n",
       "    </tr>\n",
       "    <tr>\n",
       "      <th>4</th>\n",
       "      <td>nepřijat z důvodu kapacity / škola nemá stanov...</td>\n",
       "      <td>NaN</td>\n",
       "      <td>1981</td>\n",
       "      <td>2019</td>\n",
       "      <td>162.0</td>\n",
       "      <td>50</td>\n",
       "      <td>30.86</td>\n",
       "      <td>50</td>\n",
       "      <td>30.86</td>\n",
       "      <td>12.0</td>\n",
       "      <td>...</td>\n",
       "      <td>Mezi Školami 2475/29</td>\n",
       "      <td>Praha</td>\n",
       "      <td>15 800</td>\n",
       "      <td>Hlavní město Praha</td>\n",
       "      <td>50.052284</td>\n",
       "      <td>14.340408</td>\n",
       "      <td>79-41/K-81</td>\n",
       "      <td>osmileté gymnázium</td>\n",
       "      <td>8</td>\n",
       "      <td>81</td>\n",
       "    </tr>\n",
       "    <tr>\n",
       "      <th>5</th>\n",
       "      <td>nepřijat z důvodu kapacity / škola nemá stanov...</td>\n",
       "      <td>NaN</td>\n",
       "      <td>1981</td>\n",
       "      <td>2019</td>\n",
       "      <td>162.0</td>\n",
       "      <td>50</td>\n",
       "      <td>30.86</td>\n",
       "      <td>50</td>\n",
       "      <td>30.86</td>\n",
       "      <td>12.0</td>\n",
       "      <td>...</td>\n",
       "      <td>Mezi Školami 2475/29</td>\n",
       "      <td>Praha</td>\n",
       "      <td>15 800</td>\n",
       "      <td>Hlavní město Praha</td>\n",
       "      <td>50.052284</td>\n",
       "      <td>14.340408</td>\n",
       "      <td>79-41/K-81</td>\n",
       "      <td>osmileté gymnázium</td>\n",
       "      <td>8</td>\n",
       "      <td>81</td>\n",
       "    </tr>\n",
       "    <tr>\n",
       "      <th>6</th>\n",
       "      <td>nepřijat z důvodu kapacity / škola nemá stanov...</td>\n",
       "      <td>NaN</td>\n",
       "      <td>1981</td>\n",
       "      <td>2019</td>\n",
       "      <td>162.0</td>\n",
       "      <td>50</td>\n",
       "      <td>30.86</td>\n",
       "      <td>50</td>\n",
       "      <td>30.86</td>\n",
       "      <td>12.0</td>\n",
       "      <td>...</td>\n",
       "      <td>Mezi Školami 2475/29</td>\n",
       "      <td>Praha</td>\n",
       "      <td>15 800</td>\n",
       "      <td>Hlavní město Praha</td>\n",
       "      <td>50.052284</td>\n",
       "      <td>14.340408</td>\n",
       "      <td>79-41/K-81</td>\n",
       "      <td>osmileté gymnázium</td>\n",
       "      <td>8</td>\n",
       "      <td>81</td>\n",
       "    </tr>\n",
       "    <tr>\n",
       "      <th>7</th>\n",
       "      <td>nepřijat z důvodu kapacity / škola nemá stanov...</td>\n",
       "      <td>NaN</td>\n",
       "      <td>1981</td>\n",
       "      <td>2019</td>\n",
       "      <td>162.0</td>\n",
       "      <td>50</td>\n",
       "      <td>30.86</td>\n",
       "      <td>50</td>\n",
       "      <td>30.86</td>\n",
       "      <td>12.0</td>\n",
       "      <td>...</td>\n",
       "      <td>Mezi Školami 2475/29</td>\n",
       "      <td>Praha</td>\n",
       "      <td>15 800</td>\n",
       "      <td>Hlavní město Praha</td>\n",
       "      <td>50.052284</td>\n",
       "      <td>14.340408</td>\n",
       "      <td>79-41/K-81</td>\n",
       "      <td>osmileté gymnázium</td>\n",
       "      <td>8</td>\n",
       "      <td>81</td>\n",
       "    </tr>\n",
       "    <tr>\n",
       "      <th>8</th>\n",
       "      <td>nepřijat z důvodu kapacity / škola nemá stanov...</td>\n",
       "      <td>NaN</td>\n",
       "      <td>1981</td>\n",
       "      <td>2019</td>\n",
       "      <td>162.0</td>\n",
       "      <td>50</td>\n",
       "      <td>30.86</td>\n",
       "      <td>50</td>\n",
       "      <td>30.86</td>\n",
       "      <td>12.0</td>\n",
       "      <td>...</td>\n",
       "      <td>Mezi Školami 2475/29</td>\n",
       "      <td>Praha</td>\n",
       "      <td>15 800</td>\n",
       "      <td>Hlavní město Praha</td>\n",
       "      <td>50.052284</td>\n",
       "      <td>14.340408</td>\n",
       "      <td>79-41/K-81</td>\n",
       "      <td>osmileté gymnázium</td>\n",
       "      <td>8</td>\n",
       "      <td>81</td>\n",
       "    </tr>\n",
       "    <tr>\n",
       "      <th>9</th>\n",
       "      <td>nepřijat z důvodu kapacity / škola nemá stanov...</td>\n",
       "      <td>NaN</td>\n",
       "      <td>1981</td>\n",
       "      <td>2019</td>\n",
       "      <td>162.0</td>\n",
       "      <td>50</td>\n",
       "      <td>30.86</td>\n",
       "      <td>50</td>\n",
       "      <td>30.86</td>\n",
       "      <td>12.0</td>\n",
       "      <td>...</td>\n",
       "      <td>Mezi Školami 2475/29</td>\n",
       "      <td>Praha</td>\n",
       "      <td>15 800</td>\n",
       "      <td>Hlavní město Praha</td>\n",
       "      <td>50.052284</td>\n",
       "      <td>14.340408</td>\n",
       "      <td>79-41/K-81</td>\n",
       "      <td>osmileté gymnázium</td>\n",
       "      <td>8</td>\n",
       "      <td>81</td>\n",
       "    </tr>\n",
       "  </tbody>\n",
       "</table>\n",
       "<p>10 rows × 60 columns</p>\n",
       "</div>"
      ],
      "text/plain": [
       "                                         DESCRIPTION COMENT  SCHOOLCOURSE_ID  \\\n",
       "0  nepřijat z důvodu kapacity / škola nemá stanov...    NaN             1981   \n",
       "1  nepřijat z důvodu kapacity / škola nemá stanov...    NaN             1981   \n",
       "2  nepřijat z důvodu kapacity / škola nemá stanov...    NaN             1981   \n",
       "3  nepřijat z důvodu kapacity / škola nemá stanov...    NaN             1981   \n",
       "4  nepřijat z důvodu kapacity / škola nemá stanov...    NaN             1981   \n",
       "5  nepřijat z důvodu kapacity / škola nemá stanov...    NaN             1981   \n",
       "6  nepřijat z důvodu kapacity / škola nemá stanov...    NaN             1981   \n",
       "7  nepřijat z důvodu kapacity / škola nemá stanov...    NaN             1981   \n",
       "8  nepřijat z důvodu kapacity / škola nemá stanov...    NaN             1981   \n",
       "9  nepřijat z důvodu kapacity / škola nemá stanov...    NaN             1981   \n",
       "\n",
       "   YEAR  MAX_SUM  MAX_CZECH  PROCENTA_CZECH  MAX_MATH  PROCENTA_MATH  \\\n",
       "0  2019    162.0         50           30.86        50          30.86   \n",
       "1  2019    162.0         50           30.86        50          30.86   \n",
       "2  2019    162.0         50           30.86        50          30.86   \n",
       "3  2019    162.0         50           30.86        50          30.86   \n",
       "4  2019    162.0         50           30.86        50          30.86   \n",
       "5  2019    162.0         50           30.86        50          30.86   \n",
       "6  2019    162.0         50           30.86        50          30.86   \n",
       "7  2019    162.0         50           30.86        50          30.86   \n",
       "8  2019    162.0         50           30.86        50          30.86   \n",
       "9  2019    162.0         50           30.86        50          30.86   \n",
       "\n",
       "   MAX_GRADES  ...               ADDRESS   CITY     PSC                KRAJ  \\\n",
       "0        12.0  ...  Mezi Školami 2475/29  Praha  15 800  Hlavní město Praha   \n",
       "1        12.0  ...  Mezi Školami 2475/29  Praha  15 800  Hlavní město Praha   \n",
       "2        12.0  ...  Mezi Školami 2475/29  Praha  15 800  Hlavní město Praha   \n",
       "3        12.0  ...  Mezi Školami 2475/29  Praha  15 800  Hlavní město Praha   \n",
       "4        12.0  ...  Mezi Školami 2475/29  Praha  15 800  Hlavní město Praha   \n",
       "5        12.0  ...  Mezi Školami 2475/29  Praha  15 800  Hlavní město Praha   \n",
       "6        12.0  ...  Mezi Školami 2475/29  Praha  15 800  Hlavní město Praha   \n",
       "7        12.0  ...  Mezi Školami 2475/29  Praha  15 800  Hlavní město Praha   \n",
       "8        12.0  ...  Mezi Školami 2475/29  Praha  15 800  Hlavní město Praha   \n",
       "9        12.0  ...  Mezi Školami 2475/29  Praha  15 800  Hlavní město Praha   \n",
       "\n",
       "         LAT        LNG  COURSE_CODE                 NAME  DURATION  COURSE_ID  \n",
       "0  50.052284  14.340408   79-41/K-81  osmileté gymnázium          8         81  \n",
       "1  50.052284  14.340408   79-41/K-81  osmileté gymnázium          8         81  \n",
       "2  50.052284  14.340408   79-41/K-81  osmileté gymnázium          8         81  \n",
       "3  50.052284  14.340408   79-41/K-81  osmileté gymnázium          8         81  \n",
       "4  50.052284  14.340408   79-41/K-81  osmileté gymnázium          8         81  \n",
       "5  50.052284  14.340408   79-41/K-81  osmileté gymnázium          8         81  \n",
       "6  50.052284  14.340408   79-41/K-81  osmileté gymnázium          8         81  \n",
       "7  50.052284  14.340408   79-41/K-81  osmileté gymnázium          8         81  \n",
       "8  50.052284  14.340408   79-41/K-81  osmileté gymnázium          8         81  \n",
       "9  50.052284  14.340408   79-41/K-81  osmileté gymnázium          8         81  \n",
       "\n",
       "[10 rows x 60 columns]"
      ]
     },
     "execution_count": 5,
     "metadata": {},
     "output_type": "execute_result"
    }
   ],
   "source": [
    "data.head(10)"
   ]
  },
  {
   "cell_type": "markdown",
   "metadata": {},
   "source": [
    "\n",
    "##### Připravíme k agregaci sloupce, které budeme k analýtze potřebovat\n"
   ]
  },
  {
   "cell_type": "code",
   "execution_count": 6,
   "metadata": {},
   "outputs": [
    {
     "name": "stdout",
     "output_type": "stream",
     "text": [
      "<class 'pandas.core.frame.DataFrame'>\n",
      "RangeIndex: 28214 entries, 0 to 28213\n",
      "Data columns (total 18 columns):\n",
      " #   Column                   Non-Null Count  Dtype  \n",
      "---  ------                   --------------  -----  \n",
      " 0   SCHOOLCOURSE_ID          28214 non-null  int64  \n",
      " 1   PROCENTA_MATH            28214 non-null  float64\n",
      " 2   PROCENTA_GRADES          28214 non-null  float64\n",
      " 3   PROCENTA_CZECH           28214 non-null  float64\n",
      " 4   IS_SCHOOL_EXAM           28214 non-null  bool   \n",
      " 5   MIN_MATH_ADMITTED        26401 non-null  float64\n",
      " 6   MIN_CZECH_ADMITTED       26401 non-null  float64\n",
      " 7   PROCENTA_VR              28214 non-null  float64\n",
      " 8   PROCENTA_AJ              28214 non-null  float64\n",
      " 9   PROCENTA_SP              28214 non-null  float64\n",
      " 10  PROCENTA_OTHER           28214 non-null  float64\n",
      " 11  PROCENTA_CONTESTS        28214 non-null  float64\n",
      " 12  IS_MIN_CRITERIA          28214 non-null  bool   \n",
      " 13  UCHAZECU_NA_JEDNO_MISTO  28214 non-null  float64\n",
      " 14  ADMITTED_ID              28214 non-null  int64  \n",
      " 15  SCHOOL_NAME              28214 non-null  object \n",
      " 16  YEAR                     28214 non-null  int64  \n",
      " 17  ADMITTED_PERCENT         28214 non-null  float64\n",
      "dtypes: bool(2), float64(12), int64(3), object(1)\n",
      "memory usage: 3.5+ MB\n"
     ]
    }
   ],
   "source": [
    "data2 = data[[\"SCHOOLCOURSE_ID\", \"PROCENTA_MATH\", \"PROCENTA_GRADES\", \"PROCENTA_CZECH\", \"IS_SCHOOL_EXAM\", \"MIN_MATH_ADMITTED\", \"MIN_CZECH_ADMITTED\", \n",
    "              \"PROCENTA_VR\", \"PROCENTA_AJ\", \"PROCENTA_SP\", \"PROCENTA_OTHER\", \n",
    "              \"PROCENTA_CONTESTS\", \"IS_MIN_CRITERIA\",\n",
    "              \"UCHAZECU_NA_JEDNO_MISTO\", \"ADMITTED_ID\", \"SCHOOL_NAME\", \"YEAR\", \"ADMITTED_PERCENT\"]] \n",
    "data2[\"PROCENTA_MATH\"]=data2[\"PROCENTA_MATH\"].astype(float)\n",
    "data2[\"PROCENTA_GRADES\"]=data2[\"PROCENTA_GRADES\"].astype(float)\n",
    "data2[\"PROCENTA_CZECH\"]=data2[\"PROCENTA_CZECH\"].astype(float)\n",
    "data2[\"PROCENTA_VR\"]=data2[\"PROCENTA_VR\"].astype(float)\n",
    "data2[\"PROCENTA_AJ\"]=data2[\"PROCENTA_AJ\"].astype(float)\n",
    "data2[\"PROCENTA_SP\"]=data2[\"PROCENTA_SP\"].astype(float)\n",
    "data2[\"PROCENTA_OTHER\"]=data2[\"PROCENTA_OTHER\"].astype(float)\n",
    "data2[\"PROCENTA_CONTESTS\"]=data2[\"PROCENTA_CONTESTS\"].astype(float)\n",
    "data2.info()"
   ]
  },
  {
   "cell_type": "markdown",
   "metadata": {},
   "source": [
    "#### Grupujeme podle školy a roku"
   ]
  },
  {
   "cell_type": "code",
   "execution_count": 7,
   "metadata": {},
   "outputs": [],
   "source": [
    "dataset = data2.groupby([\"YEAR\", \"SCHOOL_NAME\"], as_index=False).agg({\"ADMITTED_PERCENT\":'max', \n",
    "                                                                      \"SCHOOLCOURSE_ID\":'max',\n",
    "                                                        \"IS_SCHOOL_EXAM\": 'all', \n",
    "                                                        \"PROCENTA_MATH\":'max', \n",
    "                                                        \"PROCENTA_GRADES\":'max', \n",
    "                                                        \"PROCENTA_CZECH\":'max', \n",
    "                                                        \"MIN_MATH_ADMITTED\":'max',\n",
    "                                                        \"MIN_CZECH_ADMITTED\":'max', \n",
    "                                                        \"UCHAZECU_NA_JEDNO_MISTO\":'max', \n",
    "                                                        \"PROCENTA_VR\":'max', \n",
    "                                                        \"PROCENTA_SP\":'max', \n",
    "                                                        \"PROCENTA_AJ\":'max',\n",
    "                                                        \"PROCENTA_OTHER\":'max', \n",
    "                                                        \"PROCENTA_CONTESTS\":'max',\n",
    "                                                        \"IS_MIN_CRITERIA\": 'all'\n",
    "                                                                     })\n"
   ]
  },
  {
   "cell_type": "code",
   "execution_count": 8,
   "metadata": {},
   "outputs": [],
   "source": [
    "dataset[\"IS_SCHOOL_EXAM\"]=dataset[\"IS_SCHOOL_EXAM\"].astype(float)"
   ]
  },
  {
   "cell_type": "code",
   "execution_count": 9,
   "metadata": {},
   "outputs": [],
   "source": [
    "column_list = [\"PROCENTA_MATH\", \"PROCENTA_CZECH\"] \n",
    "dataset[\"PROCENTA_CERMAT\"] = dataset[column_list].sum(axis=1)"
   ]
  },
  {
   "cell_type": "code",
   "execution_count": 10,
   "metadata": {},
   "outputs": [],
   "source": [
    "column_list = [\"MIN_MATH_ADMITTED\", \"MIN_CZECH_ADMITTED\"] \n",
    "dataset[\"MIN_CERMAT\"] = dataset[column_list].sum(axis=1)"
   ]
  },
  {
   "cell_type": "code",
   "execution_count": 11,
   "metadata": {},
   "outputs": [
    {
     "name": "stdout",
     "output_type": "stream",
     "text": [
      "<class 'pandas.core.frame.DataFrame'>\n",
      "Int64Index: 90 entries, 0 to 89\n",
      "Data columns (total 19 columns):\n",
      " #   Column                   Non-Null Count  Dtype  \n",
      "---  ------                   --------------  -----  \n",
      " 0   YEAR                     90 non-null     int64  \n",
      " 1   SCHOOL_NAME              90 non-null     object \n",
      " 2   ADMITTED_PERCENT         90 non-null     float64\n",
      " 3   SCHOOLCOURSE_ID          90 non-null     int64  \n",
      " 4   IS_SCHOOL_EXAM           90 non-null     float64\n",
      " 5   PROCENTA_MATH            90 non-null     float64\n",
      " 6   PROCENTA_GRADES          90 non-null     float64\n",
      " 7   PROCENTA_CZECH           90 non-null     float64\n",
      " 8   MIN_MATH_ADMITTED        84 non-null     float64\n",
      " 9   MIN_CZECH_ADMITTED       84 non-null     float64\n",
      " 10  UCHAZECU_NA_JEDNO_MISTO  90 non-null     float64\n",
      " 11  PROCENTA_VR              90 non-null     float64\n",
      " 12  PROCENTA_SP              90 non-null     float64\n",
      " 13  PROCENTA_AJ              90 non-null     float64\n",
      " 14  PROCENTA_OTHER           90 non-null     float64\n",
      " 15  PROCENTA_CONTESTS        90 non-null     float64\n",
      " 16  IS_MIN_CRITERIA          90 non-null     bool   \n",
      " 17  PROCENTA_CERMAT          90 non-null     float64\n",
      " 18  MIN_CERMAT               90 non-null     float64\n",
      "dtypes: bool(1), float64(15), int64(2), object(1)\n",
      "memory usage: 13.4+ KB\n"
     ]
    }
   ],
   "source": [
    "dataset.info()"
   ]
  },
  {
   "cell_type": "code",
   "execution_count": 12,
   "metadata": {},
   "outputs": [
    {
     "data": {
      "text/html": [
       "<div>\n",
       "<style scoped>\n",
       "    .dataframe tbody tr th:only-of-type {\n",
       "        vertical-align: middle;\n",
       "    }\n",
       "\n",
       "    .dataframe tbody tr th {\n",
       "        vertical-align: top;\n",
       "    }\n",
       "\n",
       "    .dataframe thead th {\n",
       "        text-align: right;\n",
       "    }\n",
       "</style>\n",
       "<table border=\"1\" class=\"dataframe\">\n",
       "  <thead>\n",
       "    <tr style=\"text-align: right;\">\n",
       "      <th></th>\n",
       "      <th>YEAR</th>\n",
       "      <th>SCHOOL_NAME</th>\n",
       "      <th>ADMITTED_PERCENT</th>\n",
       "      <th>SCHOOLCOURSE_ID</th>\n",
       "      <th>IS_SCHOOL_EXAM</th>\n",
       "      <th>PROCENTA_MATH</th>\n",
       "      <th>PROCENTA_GRADES</th>\n",
       "      <th>PROCENTA_CZECH</th>\n",
       "      <th>MIN_MATH_ADMITTED</th>\n",
       "      <th>MIN_CZECH_ADMITTED</th>\n",
       "      <th>UCHAZECU_NA_JEDNO_MISTO</th>\n",
       "      <th>PROCENTA_VR</th>\n",
       "      <th>PROCENTA_SP</th>\n",
       "      <th>PROCENTA_AJ</th>\n",
       "      <th>PROCENTA_OTHER</th>\n",
       "      <th>PROCENTA_CONTESTS</th>\n",
       "      <th>IS_MIN_CRITERIA</th>\n",
       "      <th>PROCENTA_CERMAT</th>\n",
       "      <th>MIN_CERMAT</th>\n",
       "    </tr>\n",
       "  </thead>\n",
       "  <tbody>\n",
       "    <tr>\n",
       "      <th>0</th>\n",
       "      <td>2017</td>\n",
       "      <td>Gymnázium Budějovická</td>\n",
       "      <td>13.23</td>\n",
       "      <td>1481</td>\n",
       "      <td>0.0</td>\n",
       "      <td>41.32</td>\n",
       "      <td>9.09</td>\n",
       "      <td>41.32</td>\n",
       "      <td>37.0</td>\n",
       "      <td>36.0</td>\n",
       "      <td>7.56</td>\n",
       "      <td>0.0</td>\n",
       "      <td>0.0</td>\n",
       "      <td>0.00</td>\n",
       "      <td>0.00</td>\n",
       "      <td>8.26</td>\n",
       "      <td>False</td>\n",
       "      <td>82.64</td>\n",
       "      <td>73.0</td>\n",
       "    </tr>\n",
       "    <tr>\n",
       "      <th>1</th>\n",
       "      <td>2017</td>\n",
       "      <td>Gymnázium Chodovická</td>\n",
       "      <td>44.88</td>\n",
       "      <td>2181</td>\n",
       "      <td>0.0</td>\n",
       "      <td>45.45</td>\n",
       "      <td>4.55</td>\n",
       "      <td>45.45</td>\n",
       "      <td>NaN</td>\n",
       "      <td>NaN</td>\n",
       "      <td>2.23</td>\n",
       "      <td>0.0</td>\n",
       "      <td>0.0</td>\n",
       "      <td>0.00</td>\n",
       "      <td>0.00</td>\n",
       "      <td>4.55</td>\n",
       "      <td>False</td>\n",
       "      <td>90.90</td>\n",
       "      <td>0.0</td>\n",
       "    </tr>\n",
       "    <tr>\n",
       "      <th>2</th>\n",
       "      <td>2017</td>\n",
       "      <td>Gymnázium Elišky Krásnohorské</td>\n",
       "      <td>13.06</td>\n",
       "      <td>481</td>\n",
       "      <td>0.0</td>\n",
       "      <td>42.37</td>\n",
       "      <td>10.17</td>\n",
       "      <td>42.37</td>\n",
       "      <td>35.0</td>\n",
       "      <td>32.0</td>\n",
       "      <td>7.66</td>\n",
       "      <td>0.0</td>\n",
       "      <td>0.0</td>\n",
       "      <td>0.00</td>\n",
       "      <td>0.00</td>\n",
       "      <td>5.08</td>\n",
       "      <td>True</td>\n",
       "      <td>84.74</td>\n",
       "      <td>67.0</td>\n",
       "    </tr>\n",
       "    <tr>\n",
       "      <th>3</th>\n",
       "      <td>2017</td>\n",
       "      <td>Gymnázium Hlivická</td>\n",
       "      <td>19.24</td>\n",
       "      <td>1581</td>\n",
       "      <td>0.0</td>\n",
       "      <td>39.37</td>\n",
       "      <td>15.75</td>\n",
       "      <td>39.37</td>\n",
       "      <td>38.0</td>\n",
       "      <td>34.0</td>\n",
       "      <td>5.20</td>\n",
       "      <td>0.0</td>\n",
       "      <td>0.0</td>\n",
       "      <td>0.00</td>\n",
       "      <td>0.00</td>\n",
       "      <td>5.51</td>\n",
       "      <td>False</td>\n",
       "      <td>78.74</td>\n",
       "      <td>72.0</td>\n",
       "    </tr>\n",
       "    <tr>\n",
       "      <th>4</th>\n",
       "      <td>2017</td>\n",
       "      <td>Gymnázium J.G.Jarkovského</td>\n",
       "      <td>22.69</td>\n",
       "      <td>1781</td>\n",
       "      <td>0.0</td>\n",
       "      <td>43.48</td>\n",
       "      <td>6.52</td>\n",
       "      <td>43.48</td>\n",
       "      <td>32.0</td>\n",
       "      <td>33.0</td>\n",
       "      <td>4.41</td>\n",
       "      <td>0.0</td>\n",
       "      <td>0.0</td>\n",
       "      <td>0.00</td>\n",
       "      <td>0.00</td>\n",
       "      <td>6.52</td>\n",
       "      <td>False</td>\n",
       "      <td>86.96</td>\n",
       "      <td>65.0</td>\n",
       "    </tr>\n",
       "    <tr>\n",
       "      <th>...</th>\n",
       "      <td>...</td>\n",
       "      <td>...</td>\n",
       "      <td>...</td>\n",
       "      <td>...</td>\n",
       "      <td>...</td>\n",
       "      <td>...</td>\n",
       "      <td>...</td>\n",
       "      <td>...</td>\n",
       "      <td>...</td>\n",
       "      <td>...</td>\n",
       "      <td>...</td>\n",
       "      <td>...</td>\n",
       "      <td>...</td>\n",
       "      <td>...</td>\n",
       "      <td>...</td>\n",
       "      <td>...</td>\n",
       "      <td>...</td>\n",
       "      <td>...</td>\n",
       "      <td>...</td>\n",
       "    </tr>\n",
       "    <tr>\n",
       "      <th>85</th>\n",
       "      <td>2020</td>\n",
       "      <td>Gymnázium a Hudební škola hl.m.Prahy ZUŠ</td>\n",
       "      <td>63.16</td>\n",
       "      <td>1681</td>\n",
       "      <td>1.0</td>\n",
       "      <td>29.94</td>\n",
       "      <td>4.79</td>\n",
       "      <td>29.94</td>\n",
       "      <td>11.0</td>\n",
       "      <td>24.0</td>\n",
       "      <td>1.58</td>\n",
       "      <td>0.0</td>\n",
       "      <td>0.0</td>\n",
       "      <td>0.00</td>\n",
       "      <td>35.33</td>\n",
       "      <td>0.00</td>\n",
       "      <td>False</td>\n",
       "      <td>59.88</td>\n",
       "      <td>35.0</td>\n",
       "    </tr>\n",
       "    <tr>\n",
       "      <th>86</th>\n",
       "      <td>2020</td>\n",
       "      <td>Gymnázium prof. Jana Patočky</td>\n",
       "      <td>14.46</td>\n",
       "      <td>181</td>\n",
       "      <td>1.0</td>\n",
       "      <td>41.67</td>\n",
       "      <td>8.33</td>\n",
       "      <td>41.67</td>\n",
       "      <td>37.0</td>\n",
       "      <td>34.0</td>\n",
       "      <td>6.91</td>\n",
       "      <td>0.0</td>\n",
       "      <td>0.0</td>\n",
       "      <td>8.33</td>\n",
       "      <td>0.00</td>\n",
       "      <td>0.00</td>\n",
       "      <td>True</td>\n",
       "      <td>83.34</td>\n",
       "      <td>71.0</td>\n",
       "    </tr>\n",
       "    <tr>\n",
       "      <th>87</th>\n",
       "      <td>2020</td>\n",
       "      <td>Gymnázium Českolipská</td>\n",
       "      <td>17.80</td>\n",
       "      <td>881</td>\n",
       "      <td>0.0</td>\n",
       "      <td>47.62</td>\n",
       "      <td>4.76</td>\n",
       "      <td>47.62</td>\n",
       "      <td>33.0</td>\n",
       "      <td>36.0</td>\n",
       "      <td>5.62</td>\n",
       "      <td>0.0</td>\n",
       "      <td>0.0</td>\n",
       "      <td>0.00</td>\n",
       "      <td>0.00</td>\n",
       "      <td>0.00</td>\n",
       "      <td>True</td>\n",
       "      <td>95.24</td>\n",
       "      <td>69.0</td>\n",
       "    </tr>\n",
       "    <tr>\n",
       "      <th>88</th>\n",
       "      <td>2020</td>\n",
       "      <td>Gymnázium Špitálská</td>\n",
       "      <td>12.95</td>\n",
       "      <td>1081</td>\n",
       "      <td>0.0</td>\n",
       "      <td>43.90</td>\n",
       "      <td>9.76</td>\n",
       "      <td>43.90</td>\n",
       "      <td>40.0</td>\n",
       "      <td>38.0</td>\n",
       "      <td>7.72</td>\n",
       "      <td>0.0</td>\n",
       "      <td>0.0</td>\n",
       "      <td>0.00</td>\n",
       "      <td>0.00</td>\n",
       "      <td>2.44</td>\n",
       "      <td>False</td>\n",
       "      <td>87.80</td>\n",
       "      <td>78.0</td>\n",
       "    </tr>\n",
       "    <tr>\n",
       "      <th>89</th>\n",
       "      <td>2020</td>\n",
       "      <td>Malostranské gymnázium</td>\n",
       "      <td>13.19</td>\n",
       "      <td>1881</td>\n",
       "      <td>0.0</td>\n",
       "      <td>45.45</td>\n",
       "      <td>9.09</td>\n",
       "      <td>45.45</td>\n",
       "      <td>39.0</td>\n",
       "      <td>38.0</td>\n",
       "      <td>7.58</td>\n",
       "      <td>0.0</td>\n",
       "      <td>0.0</td>\n",
       "      <td>0.00</td>\n",
       "      <td>0.00</td>\n",
       "      <td>0.00</td>\n",
       "      <td>False</td>\n",
       "      <td>90.90</td>\n",
       "      <td>77.0</td>\n",
       "    </tr>\n",
       "  </tbody>\n",
       "</table>\n",
       "<p>90 rows × 19 columns</p>\n",
       "</div>"
      ],
      "text/plain": [
       "    YEAR                               SCHOOL_NAME  ADMITTED_PERCENT  \\\n",
       "0   2017                     Gymnázium Budějovická             13.23   \n",
       "1   2017                      Gymnázium Chodovická             44.88   \n",
       "2   2017             Gymnázium Elišky Krásnohorské             13.06   \n",
       "3   2017                        Gymnázium Hlivická             19.24   \n",
       "4   2017                 Gymnázium J.G.Jarkovského             22.69   \n",
       "..   ...                                       ...               ...   \n",
       "85  2020  Gymnázium a Hudební škola hl.m.Prahy ZUŠ             63.16   \n",
       "86  2020              Gymnázium prof. Jana Patočky             14.46   \n",
       "87  2020                     Gymnázium Českolipská             17.80   \n",
       "88  2020                       Gymnázium Špitálská             12.95   \n",
       "89  2020                    Malostranské gymnázium             13.19   \n",
       "\n",
       "    SCHOOLCOURSE_ID  IS_SCHOOL_EXAM  PROCENTA_MATH  PROCENTA_GRADES  \\\n",
       "0              1481             0.0          41.32             9.09   \n",
       "1              2181             0.0          45.45             4.55   \n",
       "2               481             0.0          42.37            10.17   \n",
       "3              1581             0.0          39.37            15.75   \n",
       "4              1781             0.0          43.48             6.52   \n",
       "..              ...             ...            ...              ...   \n",
       "85             1681             1.0          29.94             4.79   \n",
       "86              181             1.0          41.67             8.33   \n",
       "87              881             0.0          47.62             4.76   \n",
       "88             1081             0.0          43.90             9.76   \n",
       "89             1881             0.0          45.45             9.09   \n",
       "\n",
       "    PROCENTA_CZECH  MIN_MATH_ADMITTED  MIN_CZECH_ADMITTED  \\\n",
       "0            41.32               37.0                36.0   \n",
       "1            45.45                NaN                 NaN   \n",
       "2            42.37               35.0                32.0   \n",
       "3            39.37               38.0                34.0   \n",
       "4            43.48               32.0                33.0   \n",
       "..             ...                ...                 ...   \n",
       "85           29.94               11.0                24.0   \n",
       "86           41.67               37.0                34.0   \n",
       "87           47.62               33.0                36.0   \n",
       "88           43.90               40.0                38.0   \n",
       "89           45.45               39.0                38.0   \n",
       "\n",
       "    UCHAZECU_NA_JEDNO_MISTO  PROCENTA_VR  PROCENTA_SP  PROCENTA_AJ  \\\n",
       "0                      7.56          0.0          0.0         0.00   \n",
       "1                      2.23          0.0          0.0         0.00   \n",
       "2                      7.66          0.0          0.0         0.00   \n",
       "3                      5.20          0.0          0.0         0.00   \n",
       "4                      4.41          0.0          0.0         0.00   \n",
       "..                      ...          ...          ...          ...   \n",
       "85                     1.58          0.0          0.0         0.00   \n",
       "86                     6.91          0.0          0.0         8.33   \n",
       "87                     5.62          0.0          0.0         0.00   \n",
       "88                     7.72          0.0          0.0         0.00   \n",
       "89                     7.58          0.0          0.0         0.00   \n",
       "\n",
       "    PROCENTA_OTHER  PROCENTA_CONTESTS  IS_MIN_CRITERIA  PROCENTA_CERMAT  \\\n",
       "0             0.00               8.26            False            82.64   \n",
       "1             0.00               4.55            False            90.90   \n",
       "2             0.00               5.08             True            84.74   \n",
       "3             0.00               5.51            False            78.74   \n",
       "4             0.00               6.52            False            86.96   \n",
       "..             ...                ...              ...              ...   \n",
       "85           35.33               0.00            False            59.88   \n",
       "86            0.00               0.00             True            83.34   \n",
       "87            0.00               0.00             True            95.24   \n",
       "88            0.00               2.44            False            87.80   \n",
       "89            0.00               0.00            False            90.90   \n",
       "\n",
       "    MIN_CERMAT  \n",
       "0         73.0  \n",
       "1          0.0  \n",
       "2         67.0  \n",
       "3         72.0  \n",
       "4         65.0  \n",
       "..         ...  \n",
       "85        35.0  \n",
       "86        71.0  \n",
       "87        69.0  \n",
       "88        78.0  \n",
       "89        77.0  \n",
       "\n",
       "[90 rows x 19 columns]"
      ]
     },
     "execution_count": 12,
     "metadata": {},
     "output_type": "execute_result"
    }
   ],
   "source": [
    "dataset"
   ]
  },
  {
   "cell_type": "code",
   "execution_count": 13,
   "metadata": {},
   "outputs": [
    {
     "data": {
      "text/plain": [
       "0     0\n",
       "1     2\n",
       "2     0\n",
       "3     0\n",
       "4     0\n",
       "     ..\n",
       "85    0\n",
       "86    0\n",
       "87    0\n",
       "88    0\n",
       "89    0\n",
       "Length: 90, dtype: int64"
      ]
     },
     "execution_count": 13,
     "metadata": {},
     "output_type": "execute_result"
    }
   ],
   "source": [
    "dataset.isnull().sum(axis=1)"
   ]
  },
  {
   "cell_type": "markdown",
   "metadata": {},
   "source": [
    "Vylučujeme z dataframe, nad kterým jsme děláme analyzu, dvě školy. Jedná se o Chodovickou, u které nejsou k dispozici data výsledků zkoušek, a Gymnázium a Hudební škola, která je velmi specifická. Má velkou váhu školní zkoušky, ale malý zájem a malou úspěšnost. Je to dáno tím, že se jedná o školu pro hudebně nadané děti. Její chování ovlivňuje celkový výsledek a zároveň nijak nepomáhá rodičům “běžných” dětí. "
   ]
  },
  {
   "cell_type": "code",
   "execution_count": 117,
   "metadata": {},
   "outputs": [],
   "source": [
    "#Chodovická\n",
    "dataset = dataset.dropna()"
   ]
  },
  {
   "cell_type": "code",
   "execution_count": 118,
   "metadata": {},
   "outputs": [
    {
     "name": "stdout",
     "output_type": "stream",
     "text": [
      "<class 'pandas.core.frame.DataFrame'>\n",
      "Int64Index: 84 entries, 0 to 89\n",
      "Data columns (total 19 columns):\n",
      " #   Column                   Non-Null Count  Dtype  \n",
      "---  ------                   --------------  -----  \n",
      " 0   YEAR                     84 non-null     int64  \n",
      " 1   SCHOOL_NAME              84 non-null     object \n",
      " 2   ADMITTED_PERCENT         84 non-null     float64\n",
      " 3   SCHOOLCOURSE_ID          84 non-null     int64  \n",
      " 4   IS_SCHOOL_EXAM           84 non-null     float64\n",
      " 5   PROCENTA_MATH            84 non-null     float64\n",
      " 6   PROCENTA_GRADES          84 non-null     float64\n",
      " 7   PROCENTA_CZECH           84 non-null     float64\n",
      " 8   MIN_MATH_ADMITTED        84 non-null     float64\n",
      " 9   MIN_CZECH_ADMITTED       84 non-null     float64\n",
      " 10  UCHAZECU_NA_JEDNO_MISTO  84 non-null     float64\n",
      " 11  PROCENTA_VR              84 non-null     float64\n",
      " 12  PROCENTA_SP              84 non-null     float64\n",
      " 13  PROCENTA_AJ              84 non-null     float64\n",
      " 14  PROCENTA_OTHER           84 non-null     float64\n",
      " 15  PROCENTA_CONTESTS        84 non-null     float64\n",
      " 16  IS_MIN_CRITERIA          84 non-null     bool   \n",
      " 17  PROCENTA_CERMAT          84 non-null     float64\n",
      " 18  MIN_CERMAT               84 non-null     float64\n",
      "dtypes: bool(1), float64(15), int64(2), object(1)\n",
      "memory usage: 12.6+ KB\n"
     ]
    }
   ],
   "source": [
    "dataset.info()"
   ]
  },
  {
   "cell_type": "code",
   "execution_count": 119,
   "metadata": {},
   "outputs": [],
   "source": [
    "#vytvoreni datasetu bez hudebni skoly\n",
    "is_hudebni = dataset[\"SCHOOLCOURSE_ID\"] != 1681\n",
    "dataset_no_hudebni = dataset[is_hudebni] "
   ]
  },
  {
   "cell_type": "code",
   "execution_count": 120,
   "metadata": {},
   "outputs": [
    {
     "name": "stdout",
     "output_type": "stream",
     "text": [
      "<class 'pandas.core.frame.DataFrame'>\n",
      "Int64Index: 80 entries, 0 to 89\n",
      "Data columns (total 19 columns):\n",
      " #   Column                   Non-Null Count  Dtype  \n",
      "---  ------                   --------------  -----  \n",
      " 0   YEAR                     80 non-null     int64  \n",
      " 1   SCHOOL_NAME              80 non-null     object \n",
      " 2   ADMITTED_PERCENT         80 non-null     float64\n",
      " 3   SCHOOLCOURSE_ID          80 non-null     int64  \n",
      " 4   IS_SCHOOL_EXAM           80 non-null     float64\n",
      " 5   PROCENTA_MATH            80 non-null     float64\n",
      " 6   PROCENTA_GRADES          80 non-null     float64\n",
      " 7   PROCENTA_CZECH           80 non-null     float64\n",
      " 8   MIN_MATH_ADMITTED        80 non-null     float64\n",
      " 9   MIN_CZECH_ADMITTED       80 non-null     float64\n",
      " 10  UCHAZECU_NA_JEDNO_MISTO  80 non-null     float64\n",
      " 11  PROCENTA_VR              80 non-null     float64\n",
      " 12  PROCENTA_SP              80 non-null     float64\n",
      " 13  PROCENTA_AJ              80 non-null     float64\n",
      " 14  PROCENTA_OTHER           80 non-null     float64\n",
      " 15  PROCENTA_CONTESTS        80 non-null     float64\n",
      " 16  IS_MIN_CRITERIA          80 non-null     bool   \n",
      " 17  PROCENTA_CERMAT          80 non-null     float64\n",
      " 18  MIN_CERMAT               80 non-null     float64\n",
      "dtypes: bool(1), float64(15), int64(2), object(1)\n",
      "memory usage: 12.0+ KB\n"
     ]
    }
   ],
   "source": [
    "\n",
    "dataset_no_hudebni.info()"
   ]
  },
  {
   "cell_type": "markdown",
   "metadata": {},
   "source": [
    "# Analýza"
   ]
  },
  {
   "cell_type": "markdown",
   "metadata": {},
   "source": [
    "### Proměnná pro rok, se kterým chceme pracovat:"
   ]
  },
  {
   "cell_type": "code",
   "execution_count": 121,
   "metadata": {},
   "outputs": [],
   "source": [
    "year = \"2019\""
   ]
  },
  {
   "cell_type": "markdown",
   "metadata": {},
   "source": [
    "#### 4 parametry, 3 clustery"
   ]
  },
  {
   "cell_type": "markdown",
   "metadata": {},
   "source": [
    "Shlukujeme školy podle váhy jednotné zkoušky CERMAT v celkovém hodnocení dané školy, minimálního počtu bodů za CERMAT, školní zkoušky (je nebo není) a váhy známek. Chceme potvrdit domněnku, zda opravdu existují stabilní skupiny škol, v rámci kterých bude šance dostat se u uchazečů se stejnými předpoklady (úspěšnost v CERMATu, známky, připravenost k školní zkoušce) také stejná. Nejdřív zkusíme 3 skupiny. \n"
   ]
  },
  {
   "cell_type": "code",
   "execution_count": 122,
   "metadata": {},
   "outputs": [
    {
     "data": {
      "text/plain": [
       "array([1, 1, 1, 1, 2, 1, 0, 0, 1, 2, 2, 2, 2, 1, 2, 1, 1, 1, 1, 0, 0, 0,\n",
       "       0, 0, 0, 2, 2, 0, 0, 1, 2, 2, 2, 2, 0, 0, 0, 1, 1, 1, 0, 0, 1, 0,\n",
       "       0, 0, 2, 2, 0, 1, 2, 2, 2, 2, 0, 0, 0, 1, 1, 1, 1, 1, 1, 1, 1, 1,\n",
       "       2, 2, 0, 1, 2, 2, 2, 2, 1, 2, 1, 1, 1, 1])"
      ]
     },
     "execution_count": 122,
     "metadata": {},
     "output_type": "execute_result"
    }
   ],
   "source": [
    "kmeans = KMeans(n_clusters=3)\n",
    "clusters43 = kmeans.fit_predict(dataset_no_hudebni[[\"MIN_CERMAT\", \"PROCENTA_CERMAT\", \n",
    "                                                    \"IS_SCHOOL_EXAM\", \"PROCENTA_GRADES\"\n",
    "                                                   ]])\n",
    "clusters43"
   ]
  },
  {
   "cell_type": "code",
   "execution_count": 123,
   "metadata": {},
   "outputs": [],
   "source": [
    "dataset_no_hudebni.loc[:, \"clusters43\"]=clusters43.astype(str)\n",
    "dataset_no_hudebni.loc[:,\"IS_SCHOOL_EXAM\"] = dataset_no_hudebni.loc[:, \"IS_SCHOOL_EXAM\"].replace(0, 0.5)"
   ]
  },
  {
   "cell_type": "code",
   "execution_count": 124,
   "metadata": {},
   "outputs": [
    {
     "data": {
      "application/vnd.plotly.v1+json": {
       "config": {
        "plotlyServerURL": "https://plot.ly"
       },
       "data": [
        {
         "customdata": [
          [
           "Gymnázium Budějovická",
           2017
          ],
          [
           "Gymnázium Elišky Krásnohorské",
           2017
          ],
          [
           "Gymnázium Hlivická",
           2017
          ],
          [
           "Gymnázium J.G.Jarkovského",
           2017
          ],
          [
           "Gymnázium Jaroslava Heyrovského",
           2017
          ],
          [
           "Gymnázium Nad Alejí",
           2017
          ],
          [
           "Gymnázium Písnická",
           2017
          ],
          [
           "Gymnázium prof. Jana Patočky",
           2017
          ],
          [
           "Gymnázium Českolipská",
           2017
          ],
          [
           "Gymnázium Špitálská",
           2017
          ],
          [
           "Malostranské gymnázium",
           2017
          ],
          [
           "Gymnázium Nad Alejí",
           2018
          ],
          [
           "Gymnázium Českolipská",
           2018
          ],
          [
           "Gymnázium Špitálská",
           2018
          ],
          [
           "Malostranské gymnázium",
           2018
          ],
          [
           "Gymnázium Christiana Dopplera - matematická třída",
           2019
          ],
          [
           "Gymnázium Nad Alejí",
           2019
          ],
          [
           "Gymnázium Českolipská",
           2019
          ],
          [
           "Gymnázium Špitálská",
           2019
          ],
          [
           "Malostranské gymnázium",
           2019
          ],
          [
           "Gymnázium Budějovická",
           2020
          ],
          [
           "Gymnázium Christiana Dopplera - jazyková třída",
           2020
          ],
          [
           "Gymnázium Christiana Dopplera - matematická třída",
           2020
          ],
          [
           "Gymnázium Elišky Krásnohorské",
           2020
          ],
          [
           "Gymnázium Hlivická",
           2020
          ],
          [
           "Gymnázium J.G.Jarkovského",
           2020
          ],
          [
           "Gymnázium Nad Alejí",
           2020
          ],
          [
           "Gymnázium Písnická",
           2020
          ],
          [
           "Gymnázium prof. Jana Patočky",
           2020
          ],
          [
           "Gymnázium Českolipská",
           2020
          ],
          [
           "Gymnázium Špitálská",
           2020
          ],
          [
           "Malostranské gymnázium",
           2020
          ]
         ],
         "hovertemplate": "clusters43=1<br>PROCENTA_CERMAT=%{x}<br>MIN_CERMAT=%{y}<br>IS_SCHOOL_EXAM=%{marker.size}<br>SCHOOL_NAME=%{customdata[0]}<br>YEAR=%{customdata[1]}<extra></extra>",
         "legendgroup": "1",
         "marker": {
          "color": "#636efa",
          "size": [
           0.5,
           0.5,
           0.5,
           0.5,
           0.5,
           0.5,
           0.5,
           1,
           0.5,
           0.5,
           0.5,
           0.5,
           0.5,
           0.5,
           0.5,
           0.5,
           0.5,
           0.5,
           0.5,
           0.5,
           0.5,
           0.5,
           0.5,
           0.5,
           0.5,
           0.5,
           0.5,
           0.5,
           1,
           0.5,
           0.5,
           0.5
          ],
          "sizemode": "area",
          "sizeref": 0.0025,
          "symbol": "circle"
         },
         "mode": "markers",
         "name": "1",
         "orientation": "v",
         "showlegend": true,
         "type": "scatter",
         "x": [
          82.64,
          84.74,
          78.74,
          86.96,
          89.28,
          89.28,
          81.96,
          83.34,
          95.24,
          85.72,
          97.08,
          89.28,
          95.24,
          87.8,
          95.24,
          80.75,
          89.28,
          95.24,
          87.8,
          90.9,
          82.64,
          80.75,
          80.75,
          84.74,
          78.74,
          86.96,
          89.28,
          80.64,
          83.34,
          95.24,
          87.8,
          90.9
         ],
         "xaxis": "x",
         "y": [
          73,
          67,
          72,
          65,
          64,
          75,
          72,
          66,
          71,
          79,
          71,
          67,
          59,
          71,
          63,
          72,
          72,
          64,
          73,
          74,
          73,
          74,
          74,
          66,
          72,
          69,
          76,
          76,
          71,
          69,
          78,
          77
         ],
         "yaxis": "y"
        },
        {
         "customdata": [
          [
           "Gymnázium Jana Keplera",
           2017
          ],
          [
           "Gymnázium Nad Kavalírkou",
           2017
          ],
          [
           "Gymnázium Nad Štolou",
           2017
          ],
          [
           "Gymnázium Omská",
           2017
          ],
          [
           "Gymnázium Opatov",
           2017
          ],
          [
           "Gymnázium Voděradská",
           2017
          ],
          [
           "Gymnázium Jana Keplera",
           2018
          ],
          [
           "Gymnázium Jaroslava Heyrovského",
           2018
          ],
          [
           "Gymnázium Nad Kavalírkou",
           2018
          ],
          [
           "Gymnázium Nad Štolou",
           2018
          ],
          [
           "Gymnázium Omská",
           2018
          ],
          [
           "Gymnázium Opatov",
           2018
          ],
          [
           "Gymnázium Jana Keplera",
           2019
          ],
          [
           "Gymnázium Jaroslava Heyrovského",
           2019
          ],
          [
           "Gymnázium Nad Kavalírkou",
           2019
          ],
          [
           "Gymnázium Nad Štolou",
           2019
          ],
          [
           "Gymnázium Omská",
           2019
          ],
          [
           "Gymnázium Opatov",
           2019
          ],
          [
           "Gymnázium Jana Keplera",
           2020
          ],
          [
           "Gymnázium Jaroslava Heyrovského",
           2020
          ],
          [
           "Gymnázium Nad Kavalírkou",
           2020
          ],
          [
           "Gymnázium Nad Štolou",
           2020
          ],
          [
           "Gymnázium Omská",
           2020
          ],
          [
           "Gymnázium Opatov",
           2020
          ],
          [
           "Gymnázium Voděradská",
           2020
          ]
         ],
         "hovertemplate": "clusters43=2<br>PROCENTA_CERMAT=%{x}<br>MIN_CERMAT=%{y}<br>IS_SCHOOL_EXAM=%{marker.size}<br>SCHOOL_NAME=%{customdata[0]}<br>YEAR=%{customdata[1]}<extra></extra>",
         "legendgroup": "2",
         "marker": {
          "color": "#EF553B",
          "size": [
           1,
           1,
           1,
           1,
           1,
           1,
           1,
           1,
           1,
           1,
           1,
           1,
           1,
           1,
           1,
           1,
           1,
           1,
           1,
           1,
           1,
           1,
           1,
           1,
           1
          ],
          "sizemode": "area",
          "sizeref": 0.0025,
          "symbol": "circle"
         },
         "mode": "markers",
         "name": "2",
         "orientation": "v",
         "showlegend": true,
         "type": "scatter",
         "x": [
          60.6,
          65.78,
          66.22,
          62.5,
          60.24,
          68.96,
          60.6,
          61.72,
          65.78,
          70.42,
          62.5,
          60.24,
          60.6,
          61.72,
          65.78,
          70.92,
          62.5,
          60.24,
          60.6,
          61.72,
          65.78,
          70.92,
          62.5,
          60.24,
          73.52
         ],
         "xaxis": "x",
         "y": [
          81,
          60,
          64,
          62,
          60,
          58,
          76,
          61,
          61,
          61,
          54,
          52,
          72,
          57,
          64,
          63,
          59,
          61,
          78,
          57,
          61,
          70,
          61,
          66,
          71
         ],
         "yaxis": "y"
        },
        {
         "customdata": [
          [
           "Gymnázium Karla Sladkovského",
           2017
          ],
          [
           "Gymnázium Litoměřická",
           2017
          ],
          [
           "Gymnázium Budějovická",
           2018
          ],
          [
           "Gymnázium Christiana Dopplera - jazyková třída",
           2018
          ],
          [
           "Gymnázium Christiana Dopplera - matematická třída",
           2018
          ],
          [
           "Gymnázium Elišky Krásnohorské",
           2018
          ],
          [
           "Gymnázium Hlivická",
           2018
          ],
          [
           "Gymnázium J.G.Jarkovského",
           2018
          ],
          [
           "Gymnázium Karla Sladkovského",
           2018
          ],
          [
           "Gymnázium Litoměřická",
           2018
          ],
          [
           "Gymnázium Písnická",
           2018
          ],
          [
           "Gymnázium Voděradská",
           2018
          ],
          [
           "Gymnázium prof. Jana Patočky",
           2018
          ],
          [
           "Gymnázium Budějovická",
           2019
          ],
          [
           "Gymnázium Christiana Dopplera - jazyková třída",
           2019
          ],
          [
           "Gymnázium Elišky Krásnohorské",
           2019
          ],
          [
           "Gymnázium Hlivická",
           2019
          ],
          [
           "Gymnázium J.G.Jarkovského",
           2019
          ],
          [
           "Gymnázium Karla Sladkovského",
           2019
          ],
          [
           "Gymnázium Písnická",
           2019
          ],
          [
           "Gymnázium Voděradská",
           2019
          ],
          [
           "Gymnázium prof. Jana Patočky",
           2019
          ],
          [
           "Gymnázium Karla Sladkovského",
           2020
          ]
         ],
         "hovertemplate": "clusters43=0<br>PROCENTA_CERMAT=%{x}<br>MIN_CERMAT=%{y}<br>IS_SCHOOL_EXAM=%{marker.size}<br>SCHOOL_NAME=%{customdata[0]}<br>YEAR=%{customdata[1]}<extra></extra>",
         "legendgroup": "0",
         "marker": {
          "color": "#00cc96",
          "size": [
           0.5,
           0.5,
           0.5,
           0.5,
           0.5,
           0.5,
           0.5,
           0.5,
           0.5,
           0.5,
           0.5,
           1,
           1,
           0.5,
           0.5,
           0.5,
           0.5,
           0.5,
           0.5,
           0.5,
           1,
           1,
           0.5
          ],
          "sizemode": "area",
          "sizeref": 0.0025,
          "symbol": "circle"
         },
         "mode": "markers",
         "name": "0",
         "orientation": "v",
         "showlegend": true,
         "type": "scatter",
         "x": [
          76.92,
          75.48,
          82.64,
          80.75,
          80.75,
          84.74,
          78.74,
          86.96,
          76.92,
          75.48,
          81.96,
          73.52,
          83.34,
          82.64,
          80.75,
          84.74,
          78.74,
          86.96,
          76.92,
          81.96,
          73.52,
          83.34,
          76.92
         ],
         "xaxis": "x",
         "y": [
          52,
          67,
          61,
          58,
          66,
          61,
          63,
          59,
          51,
          58,
          61,
          56,
          59,
          64,
          59,
          60,
          64,
          60,
          50,
          62,
          59,
          61,
          59
         ],
         "yaxis": "y"
        }
       ],
       "layout": {
        "legend": {
         "itemsizing": "constant",
         "title": {
          "text": "clusters43"
         },
         "tracegroupgap": 0
        },
        "margin": {
         "t": 60
        },
        "template": {
         "data": {
          "bar": [
           {
            "error_x": {
             "color": "#2a3f5f"
            },
            "error_y": {
             "color": "#2a3f5f"
            },
            "marker": {
             "line": {
              "color": "#E5ECF6",
              "width": 0.5
             }
            },
            "type": "bar"
           }
          ],
          "barpolar": [
           {
            "marker": {
             "line": {
              "color": "#E5ECF6",
              "width": 0.5
             }
            },
            "type": "barpolar"
           }
          ],
          "carpet": [
           {
            "aaxis": {
             "endlinecolor": "#2a3f5f",
             "gridcolor": "white",
             "linecolor": "white",
             "minorgridcolor": "white",
             "startlinecolor": "#2a3f5f"
            },
            "baxis": {
             "endlinecolor": "#2a3f5f",
             "gridcolor": "white",
             "linecolor": "white",
             "minorgridcolor": "white",
             "startlinecolor": "#2a3f5f"
            },
            "type": "carpet"
           }
          ],
          "choropleth": [
           {
            "colorbar": {
             "outlinewidth": 0,
             "ticks": ""
            },
            "type": "choropleth"
           }
          ],
          "contour": [
           {
            "colorbar": {
             "outlinewidth": 0,
             "ticks": ""
            },
            "colorscale": [
             [
              0,
              "#0d0887"
             ],
             [
              0.1111111111111111,
              "#46039f"
             ],
             [
              0.2222222222222222,
              "#7201a8"
             ],
             [
              0.3333333333333333,
              "#9c179e"
             ],
             [
              0.4444444444444444,
              "#bd3786"
             ],
             [
              0.5555555555555556,
              "#d8576b"
             ],
             [
              0.6666666666666666,
              "#ed7953"
             ],
             [
              0.7777777777777778,
              "#fb9f3a"
             ],
             [
              0.8888888888888888,
              "#fdca26"
             ],
             [
              1,
              "#f0f921"
             ]
            ],
            "type": "contour"
           }
          ],
          "contourcarpet": [
           {
            "colorbar": {
             "outlinewidth": 0,
             "ticks": ""
            },
            "type": "contourcarpet"
           }
          ],
          "heatmap": [
           {
            "colorbar": {
             "outlinewidth": 0,
             "ticks": ""
            },
            "colorscale": [
             [
              0,
              "#0d0887"
             ],
             [
              0.1111111111111111,
              "#46039f"
             ],
             [
              0.2222222222222222,
              "#7201a8"
             ],
             [
              0.3333333333333333,
              "#9c179e"
             ],
             [
              0.4444444444444444,
              "#bd3786"
             ],
             [
              0.5555555555555556,
              "#d8576b"
             ],
             [
              0.6666666666666666,
              "#ed7953"
             ],
             [
              0.7777777777777778,
              "#fb9f3a"
             ],
             [
              0.8888888888888888,
              "#fdca26"
             ],
             [
              1,
              "#f0f921"
             ]
            ],
            "type": "heatmap"
           }
          ],
          "heatmapgl": [
           {
            "colorbar": {
             "outlinewidth": 0,
             "ticks": ""
            },
            "colorscale": [
             [
              0,
              "#0d0887"
             ],
             [
              0.1111111111111111,
              "#46039f"
             ],
             [
              0.2222222222222222,
              "#7201a8"
             ],
             [
              0.3333333333333333,
              "#9c179e"
             ],
             [
              0.4444444444444444,
              "#bd3786"
             ],
             [
              0.5555555555555556,
              "#d8576b"
             ],
             [
              0.6666666666666666,
              "#ed7953"
             ],
             [
              0.7777777777777778,
              "#fb9f3a"
             ],
             [
              0.8888888888888888,
              "#fdca26"
             ],
             [
              1,
              "#f0f921"
             ]
            ],
            "type": "heatmapgl"
           }
          ],
          "histogram": [
           {
            "marker": {
             "colorbar": {
              "outlinewidth": 0,
              "ticks": ""
             }
            },
            "type": "histogram"
           }
          ],
          "histogram2d": [
           {
            "colorbar": {
             "outlinewidth": 0,
             "ticks": ""
            },
            "colorscale": [
             [
              0,
              "#0d0887"
             ],
             [
              0.1111111111111111,
              "#46039f"
             ],
             [
              0.2222222222222222,
              "#7201a8"
             ],
             [
              0.3333333333333333,
              "#9c179e"
             ],
             [
              0.4444444444444444,
              "#bd3786"
             ],
             [
              0.5555555555555556,
              "#d8576b"
             ],
             [
              0.6666666666666666,
              "#ed7953"
             ],
             [
              0.7777777777777778,
              "#fb9f3a"
             ],
             [
              0.8888888888888888,
              "#fdca26"
             ],
             [
              1,
              "#f0f921"
             ]
            ],
            "type": "histogram2d"
           }
          ],
          "histogram2dcontour": [
           {
            "colorbar": {
             "outlinewidth": 0,
             "ticks": ""
            },
            "colorscale": [
             [
              0,
              "#0d0887"
             ],
             [
              0.1111111111111111,
              "#46039f"
             ],
             [
              0.2222222222222222,
              "#7201a8"
             ],
             [
              0.3333333333333333,
              "#9c179e"
             ],
             [
              0.4444444444444444,
              "#bd3786"
             ],
             [
              0.5555555555555556,
              "#d8576b"
             ],
             [
              0.6666666666666666,
              "#ed7953"
             ],
             [
              0.7777777777777778,
              "#fb9f3a"
             ],
             [
              0.8888888888888888,
              "#fdca26"
             ],
             [
              1,
              "#f0f921"
             ]
            ],
            "type": "histogram2dcontour"
           }
          ],
          "mesh3d": [
           {
            "colorbar": {
             "outlinewidth": 0,
             "ticks": ""
            },
            "type": "mesh3d"
           }
          ],
          "parcoords": [
           {
            "line": {
             "colorbar": {
              "outlinewidth": 0,
              "ticks": ""
             }
            },
            "type": "parcoords"
           }
          ],
          "pie": [
           {
            "automargin": true,
            "type": "pie"
           }
          ],
          "scatter": [
           {
            "marker": {
             "colorbar": {
              "outlinewidth": 0,
              "ticks": ""
             }
            },
            "type": "scatter"
           }
          ],
          "scatter3d": [
           {
            "line": {
             "colorbar": {
              "outlinewidth": 0,
              "ticks": ""
             }
            },
            "marker": {
             "colorbar": {
              "outlinewidth": 0,
              "ticks": ""
             }
            },
            "type": "scatter3d"
           }
          ],
          "scattercarpet": [
           {
            "marker": {
             "colorbar": {
              "outlinewidth": 0,
              "ticks": ""
             }
            },
            "type": "scattercarpet"
           }
          ],
          "scattergeo": [
           {
            "marker": {
             "colorbar": {
              "outlinewidth": 0,
              "ticks": ""
             }
            },
            "type": "scattergeo"
           }
          ],
          "scattergl": [
           {
            "marker": {
             "colorbar": {
              "outlinewidth": 0,
              "ticks": ""
             }
            },
            "type": "scattergl"
           }
          ],
          "scattermapbox": [
           {
            "marker": {
             "colorbar": {
              "outlinewidth": 0,
              "ticks": ""
             }
            },
            "type": "scattermapbox"
           }
          ],
          "scatterpolar": [
           {
            "marker": {
             "colorbar": {
              "outlinewidth": 0,
              "ticks": ""
             }
            },
            "type": "scatterpolar"
           }
          ],
          "scatterpolargl": [
           {
            "marker": {
             "colorbar": {
              "outlinewidth": 0,
              "ticks": ""
             }
            },
            "type": "scatterpolargl"
           }
          ],
          "scatterternary": [
           {
            "marker": {
             "colorbar": {
              "outlinewidth": 0,
              "ticks": ""
             }
            },
            "type": "scatterternary"
           }
          ],
          "surface": [
           {
            "colorbar": {
             "outlinewidth": 0,
             "ticks": ""
            },
            "colorscale": [
             [
              0,
              "#0d0887"
             ],
             [
              0.1111111111111111,
              "#46039f"
             ],
             [
              0.2222222222222222,
              "#7201a8"
             ],
             [
              0.3333333333333333,
              "#9c179e"
             ],
             [
              0.4444444444444444,
              "#bd3786"
             ],
             [
              0.5555555555555556,
              "#d8576b"
             ],
             [
              0.6666666666666666,
              "#ed7953"
             ],
             [
              0.7777777777777778,
              "#fb9f3a"
             ],
             [
              0.8888888888888888,
              "#fdca26"
             ],
             [
              1,
              "#f0f921"
             ]
            ],
            "type": "surface"
           }
          ],
          "table": [
           {
            "cells": {
             "fill": {
              "color": "#EBF0F8"
             },
             "line": {
              "color": "white"
             }
            },
            "header": {
             "fill": {
              "color": "#C8D4E3"
             },
             "line": {
              "color": "white"
             }
            },
            "type": "table"
           }
          ]
         },
         "layout": {
          "annotationdefaults": {
           "arrowcolor": "#2a3f5f",
           "arrowhead": 0,
           "arrowwidth": 1
          },
          "coloraxis": {
           "colorbar": {
            "outlinewidth": 0,
            "ticks": ""
           }
          },
          "colorscale": {
           "diverging": [
            [
             0,
             "#8e0152"
            ],
            [
             0.1,
             "#c51b7d"
            ],
            [
             0.2,
             "#de77ae"
            ],
            [
             0.3,
             "#f1b6da"
            ],
            [
             0.4,
             "#fde0ef"
            ],
            [
             0.5,
             "#f7f7f7"
            ],
            [
             0.6,
             "#e6f5d0"
            ],
            [
             0.7,
             "#b8e186"
            ],
            [
             0.8,
             "#7fbc41"
            ],
            [
             0.9,
             "#4d9221"
            ],
            [
             1,
             "#276419"
            ]
           ],
           "sequential": [
            [
             0,
             "#0d0887"
            ],
            [
             0.1111111111111111,
             "#46039f"
            ],
            [
             0.2222222222222222,
             "#7201a8"
            ],
            [
             0.3333333333333333,
             "#9c179e"
            ],
            [
             0.4444444444444444,
             "#bd3786"
            ],
            [
             0.5555555555555556,
             "#d8576b"
            ],
            [
             0.6666666666666666,
             "#ed7953"
            ],
            [
             0.7777777777777778,
             "#fb9f3a"
            ],
            [
             0.8888888888888888,
             "#fdca26"
            ],
            [
             1,
             "#f0f921"
            ]
           ],
           "sequentialminus": [
            [
             0,
             "#0d0887"
            ],
            [
             0.1111111111111111,
             "#46039f"
            ],
            [
             0.2222222222222222,
             "#7201a8"
            ],
            [
             0.3333333333333333,
             "#9c179e"
            ],
            [
             0.4444444444444444,
             "#bd3786"
            ],
            [
             0.5555555555555556,
             "#d8576b"
            ],
            [
             0.6666666666666666,
             "#ed7953"
            ],
            [
             0.7777777777777778,
             "#fb9f3a"
            ],
            [
             0.8888888888888888,
             "#fdca26"
            ],
            [
             1,
             "#f0f921"
            ]
           ]
          },
          "colorway": [
           "#636efa",
           "#EF553B",
           "#00cc96",
           "#ab63fa",
           "#FFA15A",
           "#19d3f3",
           "#FF6692",
           "#B6E880",
           "#FF97FF",
           "#FECB52"
          ],
          "font": {
           "color": "#2a3f5f"
          },
          "geo": {
           "bgcolor": "white",
           "lakecolor": "white",
           "landcolor": "#E5ECF6",
           "showlakes": true,
           "showland": true,
           "subunitcolor": "white"
          },
          "hoverlabel": {
           "align": "left"
          },
          "hovermode": "closest",
          "mapbox": {
           "style": "light"
          },
          "paper_bgcolor": "white",
          "plot_bgcolor": "#E5ECF6",
          "polar": {
           "angularaxis": {
            "gridcolor": "white",
            "linecolor": "white",
            "ticks": ""
           },
           "bgcolor": "#E5ECF6",
           "radialaxis": {
            "gridcolor": "white",
            "linecolor": "white",
            "ticks": ""
           }
          },
          "scene": {
           "xaxis": {
            "backgroundcolor": "#E5ECF6",
            "gridcolor": "white",
            "gridwidth": 2,
            "linecolor": "white",
            "showbackground": true,
            "ticks": "",
            "zerolinecolor": "white"
           },
           "yaxis": {
            "backgroundcolor": "#E5ECF6",
            "gridcolor": "white",
            "gridwidth": 2,
            "linecolor": "white",
            "showbackground": true,
            "ticks": "",
            "zerolinecolor": "white"
           },
           "zaxis": {
            "backgroundcolor": "#E5ECF6",
            "gridcolor": "white",
            "gridwidth": 2,
            "linecolor": "white",
            "showbackground": true,
            "ticks": "",
            "zerolinecolor": "white"
           }
          },
          "shapedefaults": {
           "line": {
            "color": "#2a3f5f"
           }
          },
          "ternary": {
           "aaxis": {
            "gridcolor": "white",
            "linecolor": "white",
            "ticks": ""
           },
           "baxis": {
            "gridcolor": "white",
            "linecolor": "white",
            "ticks": ""
           },
           "bgcolor": "#E5ECF6",
           "caxis": {
            "gridcolor": "white",
            "linecolor": "white",
            "ticks": ""
           }
          },
          "title": {
           "x": 0.05
          },
          "xaxis": {
           "automargin": true,
           "gridcolor": "white",
           "linecolor": "white",
           "ticks": "",
           "title": {
            "standoff": 15
           },
           "zerolinecolor": "white",
           "zerolinewidth": 2
          },
          "yaxis": {
           "automargin": true,
           "gridcolor": "white",
           "linecolor": "white",
           "ticks": "",
           "title": {
            "standoff": 15
           },
           "zerolinecolor": "white",
           "zerolinewidth": 2
          }
         }
        },
        "xaxis": {
         "anchor": "y",
         "domain": [
          0,
          1
         ],
         "title": {
          "text": "PROCENTA_CERMAT"
         }
        },
        "yaxis": {
         "anchor": "x",
         "domain": [
          0,
          1
         ],
         "title": {
          "text": "MIN_CERMAT"
         }
        }
       }
      },
      "text/html": [
       "<div>                            <div id=\"2799319c-8e08-4e6b-a5cb-8d69052c621c\" class=\"plotly-graph-div\" style=\"height:525px; width:100%;\"></div>            <script type=\"text/javascript\">                require([\"plotly\"], function(Plotly) {                    window.PLOTLYENV=window.PLOTLYENV || {};                                    if (document.getElementById(\"2799319c-8e08-4e6b-a5cb-8d69052c621c\")) {                    Plotly.newPlot(                        \"2799319c-8e08-4e6b-a5cb-8d69052c621c\",                        [{\"customdata\": [[\"Gymn\\u00e1zium Bud\\u011bjovick\\u00e1\", 2017], [\"Gymn\\u00e1zium Eli\\u0161ky Kr\\u00e1snohorsk\\u00e9\", 2017], [\"Gymn\\u00e1zium Hlivick\\u00e1\", 2017], [\"Gymn\\u00e1zium J.G.Jarkovsk\\u00e9ho\", 2017], [\"Gymn\\u00e1zium Jaroslava Heyrovsk\\u00e9ho\", 2017], [\"Gymn\\u00e1zium Nad Alej\\u00ed\", 2017], [\"Gymn\\u00e1zium P\\u00edsnick\\u00e1\", 2017], [\"Gymn\\u00e1zium prof. Jana Pato\\u010dky\", 2017], [\"Gymn\\u00e1zium \\u010ceskolipsk\\u00e1\", 2017], [\"Gymn\\u00e1zium \\u0160pit\\u00e1lsk\\u00e1\", 2017], [\"Malostransk\\u00e9 gymn\\u00e1zium\", 2017], [\"Gymn\\u00e1zium Nad Alej\\u00ed\", 2018], [\"Gymn\\u00e1zium \\u010ceskolipsk\\u00e1\", 2018], [\"Gymn\\u00e1zium \\u0160pit\\u00e1lsk\\u00e1\", 2018], [\"Malostransk\\u00e9 gymn\\u00e1zium\", 2018], [\"Gymn\\u00e1zium Christiana Dopplera - matematick\\u00e1 t\\u0159\\u00edda\", 2019], [\"Gymn\\u00e1zium Nad Alej\\u00ed\", 2019], [\"Gymn\\u00e1zium \\u010ceskolipsk\\u00e1\", 2019], [\"Gymn\\u00e1zium \\u0160pit\\u00e1lsk\\u00e1\", 2019], [\"Malostransk\\u00e9 gymn\\u00e1zium\", 2019], [\"Gymn\\u00e1zium Bud\\u011bjovick\\u00e1\", 2020], [\"Gymn\\u00e1zium Christiana Dopplera - jazykov\\u00e1 t\\u0159\\u00edda\", 2020], [\"Gymn\\u00e1zium Christiana Dopplera - matematick\\u00e1 t\\u0159\\u00edda\", 2020], [\"Gymn\\u00e1zium Eli\\u0161ky Kr\\u00e1snohorsk\\u00e9\", 2020], [\"Gymn\\u00e1zium Hlivick\\u00e1\", 2020], [\"Gymn\\u00e1zium J.G.Jarkovsk\\u00e9ho\", 2020], [\"Gymn\\u00e1zium Nad Alej\\u00ed\", 2020], [\"Gymn\\u00e1zium P\\u00edsnick\\u00e1\", 2020], [\"Gymn\\u00e1zium prof. Jana Pato\\u010dky\", 2020], [\"Gymn\\u00e1zium \\u010ceskolipsk\\u00e1\", 2020], [\"Gymn\\u00e1zium \\u0160pit\\u00e1lsk\\u00e1\", 2020], [\"Malostransk\\u00e9 gymn\\u00e1zium\", 2020]], \"hovertemplate\": \"clusters43=1<br>PROCENTA_CERMAT=%{x}<br>MIN_CERMAT=%{y}<br>IS_SCHOOL_EXAM=%{marker.size}<br>SCHOOL_NAME=%{customdata[0]}<br>YEAR=%{customdata[1]}<extra></extra>\", \"legendgroup\": \"1\", \"marker\": {\"color\": \"#636efa\", \"size\": [0.5, 0.5, 0.5, 0.5, 0.5, 0.5, 0.5, 1.0, 0.5, 0.5, 0.5, 0.5, 0.5, 0.5, 0.5, 0.5, 0.5, 0.5, 0.5, 0.5, 0.5, 0.5, 0.5, 0.5, 0.5, 0.5, 0.5, 0.5, 1.0, 0.5, 0.5, 0.5], \"sizemode\": \"area\", \"sizeref\": 0.0025, \"symbol\": \"circle\"}, \"mode\": \"markers\", \"name\": \"1\", \"orientation\": \"v\", \"showlegend\": true, \"type\": \"scatter\", \"x\": [82.64, 84.74, 78.74, 86.96, 89.28, 89.28, 81.96, 83.34, 95.24, 85.72, 97.08, 89.28, 95.24, 87.8, 95.24, 80.75, 89.28, 95.24, 87.8, 90.9, 82.64, 80.75, 80.75, 84.74, 78.74, 86.96, 89.28, 80.64, 83.34, 95.24, 87.8, 90.9], \"xaxis\": \"x\", \"y\": [73.0, 67.0, 72.0, 65.0, 64.0, 75.0, 72.0, 66.0, 71.0, 79.0, 71.0, 67.0, 59.0, 71.0, 63.0, 72.0, 72.0, 64.0, 73.0, 74.0, 73.0, 74.0, 74.0, 66.0, 72.0, 69.0, 76.0, 76.0, 71.0, 69.0, 78.0, 77.0], \"yaxis\": \"y\"}, {\"customdata\": [[\"Gymn\\u00e1zium Jana Keplera\", 2017], [\"Gymn\\u00e1zium Nad Kaval\\u00edrkou\", 2017], [\"Gymn\\u00e1zium Nad \\u0160tolou\", 2017], [\"Gymn\\u00e1zium Omsk\\u00e1\", 2017], [\"Gymn\\u00e1zium Opatov\", 2017], [\"Gymn\\u00e1zium Vod\\u011bradsk\\u00e1\", 2017], [\"Gymn\\u00e1zium Jana Keplera\", 2018], [\"Gymn\\u00e1zium Jaroslava Heyrovsk\\u00e9ho\", 2018], [\"Gymn\\u00e1zium Nad Kaval\\u00edrkou\", 2018], [\"Gymn\\u00e1zium Nad \\u0160tolou\", 2018], [\"Gymn\\u00e1zium Omsk\\u00e1\", 2018], [\"Gymn\\u00e1zium Opatov\", 2018], [\"Gymn\\u00e1zium Jana Keplera\", 2019], [\"Gymn\\u00e1zium Jaroslava Heyrovsk\\u00e9ho\", 2019], [\"Gymn\\u00e1zium Nad Kaval\\u00edrkou\", 2019], [\"Gymn\\u00e1zium Nad \\u0160tolou\", 2019], [\"Gymn\\u00e1zium Omsk\\u00e1\", 2019], [\"Gymn\\u00e1zium Opatov\", 2019], [\"Gymn\\u00e1zium Jana Keplera\", 2020], [\"Gymn\\u00e1zium Jaroslava Heyrovsk\\u00e9ho\", 2020], [\"Gymn\\u00e1zium Nad Kaval\\u00edrkou\", 2020], [\"Gymn\\u00e1zium Nad \\u0160tolou\", 2020], [\"Gymn\\u00e1zium Omsk\\u00e1\", 2020], [\"Gymn\\u00e1zium Opatov\", 2020], [\"Gymn\\u00e1zium Vod\\u011bradsk\\u00e1\", 2020]], \"hovertemplate\": \"clusters43=2<br>PROCENTA_CERMAT=%{x}<br>MIN_CERMAT=%{y}<br>IS_SCHOOL_EXAM=%{marker.size}<br>SCHOOL_NAME=%{customdata[0]}<br>YEAR=%{customdata[1]}<extra></extra>\", \"legendgroup\": \"2\", \"marker\": {\"color\": \"#EF553B\", \"size\": [1.0, 1.0, 1.0, 1.0, 1.0, 1.0, 1.0, 1.0, 1.0, 1.0, 1.0, 1.0, 1.0, 1.0, 1.0, 1.0, 1.0, 1.0, 1.0, 1.0, 1.0, 1.0, 1.0, 1.0, 1.0], \"sizemode\": \"area\", \"sizeref\": 0.0025, \"symbol\": \"circle\"}, \"mode\": \"markers\", \"name\": \"2\", \"orientation\": \"v\", \"showlegend\": true, \"type\": \"scatter\", \"x\": [60.6, 65.78, 66.22, 62.5, 60.24, 68.96, 60.6, 61.72, 65.78, 70.42, 62.5, 60.24, 60.6, 61.72, 65.78, 70.92, 62.5, 60.24, 60.6, 61.72, 65.78, 70.92, 62.5, 60.24, 73.52], \"xaxis\": \"x\", \"y\": [81.0, 60.0, 64.0, 62.0, 60.0, 58.0, 76.0, 61.0, 61.0, 61.0, 54.0, 52.0, 72.0, 57.0, 64.0, 63.0, 59.0, 61.0, 78.0, 57.0, 61.0, 70.0, 61.0, 66.0, 71.0], \"yaxis\": \"y\"}, {\"customdata\": [[\"Gymn\\u00e1zium Karla Sladkovsk\\u00e9ho\", 2017], [\"Gymn\\u00e1zium Litom\\u011b\\u0159ick\\u00e1\", 2017], [\"Gymn\\u00e1zium Bud\\u011bjovick\\u00e1\", 2018], [\"Gymn\\u00e1zium Christiana Dopplera - jazykov\\u00e1 t\\u0159\\u00edda\", 2018], [\"Gymn\\u00e1zium Christiana Dopplera - matematick\\u00e1 t\\u0159\\u00edda\", 2018], [\"Gymn\\u00e1zium Eli\\u0161ky Kr\\u00e1snohorsk\\u00e9\", 2018], [\"Gymn\\u00e1zium Hlivick\\u00e1\", 2018], [\"Gymn\\u00e1zium J.G.Jarkovsk\\u00e9ho\", 2018], [\"Gymn\\u00e1zium Karla Sladkovsk\\u00e9ho\", 2018], [\"Gymn\\u00e1zium Litom\\u011b\\u0159ick\\u00e1\", 2018], [\"Gymn\\u00e1zium P\\u00edsnick\\u00e1\", 2018], [\"Gymn\\u00e1zium Vod\\u011bradsk\\u00e1\", 2018], [\"Gymn\\u00e1zium prof. Jana Pato\\u010dky\", 2018], [\"Gymn\\u00e1zium Bud\\u011bjovick\\u00e1\", 2019], [\"Gymn\\u00e1zium Christiana Dopplera - jazykov\\u00e1 t\\u0159\\u00edda\", 2019], [\"Gymn\\u00e1zium Eli\\u0161ky Kr\\u00e1snohorsk\\u00e9\", 2019], [\"Gymn\\u00e1zium Hlivick\\u00e1\", 2019], [\"Gymn\\u00e1zium J.G.Jarkovsk\\u00e9ho\", 2019], [\"Gymn\\u00e1zium Karla Sladkovsk\\u00e9ho\", 2019], [\"Gymn\\u00e1zium P\\u00edsnick\\u00e1\", 2019], [\"Gymn\\u00e1zium Vod\\u011bradsk\\u00e1\", 2019], [\"Gymn\\u00e1zium prof. Jana Pato\\u010dky\", 2019], [\"Gymn\\u00e1zium Karla Sladkovsk\\u00e9ho\", 2020]], \"hovertemplate\": \"clusters43=0<br>PROCENTA_CERMAT=%{x}<br>MIN_CERMAT=%{y}<br>IS_SCHOOL_EXAM=%{marker.size}<br>SCHOOL_NAME=%{customdata[0]}<br>YEAR=%{customdata[1]}<extra></extra>\", \"legendgroup\": \"0\", \"marker\": {\"color\": \"#00cc96\", \"size\": [0.5, 0.5, 0.5, 0.5, 0.5, 0.5, 0.5, 0.5, 0.5, 0.5, 0.5, 1.0, 1.0, 0.5, 0.5, 0.5, 0.5, 0.5, 0.5, 0.5, 1.0, 1.0, 0.5], \"sizemode\": \"area\", \"sizeref\": 0.0025, \"symbol\": \"circle\"}, \"mode\": \"markers\", \"name\": \"0\", \"orientation\": \"v\", \"showlegend\": true, \"type\": \"scatter\", \"x\": [76.92, 75.48, 82.64, 80.75, 80.75, 84.74, 78.74, 86.96, 76.92, 75.48, 81.96, 73.52, 83.34, 82.64, 80.75, 84.74, 78.74, 86.96, 76.92, 81.96, 73.52, 83.34, 76.92], \"xaxis\": \"x\", \"y\": [52.0, 67.0, 61.0, 58.0, 66.0, 61.0, 63.0, 59.0, 51.0, 58.0, 61.0, 56.0, 59.0, 64.0, 59.0, 60.0, 64.0, 60.0, 50.0, 62.0, 59.0, 61.0, 59.0], \"yaxis\": \"y\"}],                        {\"legend\": {\"itemsizing\": \"constant\", \"title\": {\"text\": \"clusters43\"}, \"tracegroupgap\": 0}, \"margin\": {\"t\": 60}, \"template\": {\"data\": {\"bar\": [{\"error_x\": {\"color\": \"#2a3f5f\"}, \"error_y\": {\"color\": \"#2a3f5f\"}, \"marker\": {\"line\": {\"color\": \"#E5ECF6\", \"width\": 0.5}}, \"type\": \"bar\"}], \"barpolar\": [{\"marker\": {\"line\": {\"color\": \"#E5ECF6\", \"width\": 0.5}}, \"type\": \"barpolar\"}], \"carpet\": [{\"aaxis\": {\"endlinecolor\": \"#2a3f5f\", \"gridcolor\": \"white\", \"linecolor\": \"white\", \"minorgridcolor\": \"white\", \"startlinecolor\": \"#2a3f5f\"}, \"baxis\": {\"endlinecolor\": \"#2a3f5f\", \"gridcolor\": \"white\", \"linecolor\": \"white\", \"minorgridcolor\": \"white\", \"startlinecolor\": \"#2a3f5f\"}, \"type\": \"carpet\"}], \"choropleth\": [{\"colorbar\": {\"outlinewidth\": 0, \"ticks\": \"\"}, \"type\": \"choropleth\"}], \"contour\": [{\"colorbar\": {\"outlinewidth\": 0, \"ticks\": \"\"}, \"colorscale\": [[0.0, \"#0d0887\"], [0.1111111111111111, \"#46039f\"], [0.2222222222222222, \"#7201a8\"], [0.3333333333333333, \"#9c179e\"], [0.4444444444444444, \"#bd3786\"], [0.5555555555555556, \"#d8576b\"], [0.6666666666666666, \"#ed7953\"], [0.7777777777777778, \"#fb9f3a\"], [0.8888888888888888, \"#fdca26\"], [1.0, \"#f0f921\"]], \"type\": \"contour\"}], \"contourcarpet\": [{\"colorbar\": {\"outlinewidth\": 0, \"ticks\": \"\"}, \"type\": \"contourcarpet\"}], \"heatmap\": [{\"colorbar\": {\"outlinewidth\": 0, \"ticks\": \"\"}, \"colorscale\": [[0.0, \"#0d0887\"], [0.1111111111111111, \"#46039f\"], [0.2222222222222222, \"#7201a8\"], [0.3333333333333333, \"#9c179e\"], [0.4444444444444444, \"#bd3786\"], [0.5555555555555556, \"#d8576b\"], [0.6666666666666666, \"#ed7953\"], [0.7777777777777778, \"#fb9f3a\"], [0.8888888888888888, \"#fdca26\"], [1.0, \"#f0f921\"]], \"type\": \"heatmap\"}], \"heatmapgl\": [{\"colorbar\": {\"outlinewidth\": 0, \"ticks\": \"\"}, \"colorscale\": [[0.0, \"#0d0887\"], [0.1111111111111111, \"#46039f\"], [0.2222222222222222, \"#7201a8\"], [0.3333333333333333, \"#9c179e\"], [0.4444444444444444, \"#bd3786\"], [0.5555555555555556, \"#d8576b\"], [0.6666666666666666, \"#ed7953\"], [0.7777777777777778, \"#fb9f3a\"], [0.8888888888888888, \"#fdca26\"], [1.0, \"#f0f921\"]], \"type\": \"heatmapgl\"}], \"histogram\": [{\"marker\": {\"colorbar\": {\"outlinewidth\": 0, \"ticks\": \"\"}}, \"type\": \"histogram\"}], \"histogram2d\": [{\"colorbar\": {\"outlinewidth\": 0, \"ticks\": \"\"}, \"colorscale\": [[0.0, \"#0d0887\"], [0.1111111111111111, \"#46039f\"], [0.2222222222222222, \"#7201a8\"], [0.3333333333333333, \"#9c179e\"], [0.4444444444444444, \"#bd3786\"], [0.5555555555555556, \"#d8576b\"], [0.6666666666666666, \"#ed7953\"], [0.7777777777777778, \"#fb9f3a\"], [0.8888888888888888, \"#fdca26\"], [1.0, \"#f0f921\"]], \"type\": \"histogram2d\"}], \"histogram2dcontour\": [{\"colorbar\": {\"outlinewidth\": 0, \"ticks\": \"\"}, \"colorscale\": [[0.0, \"#0d0887\"], [0.1111111111111111, \"#46039f\"], [0.2222222222222222, \"#7201a8\"], [0.3333333333333333, \"#9c179e\"], [0.4444444444444444, \"#bd3786\"], [0.5555555555555556, \"#d8576b\"], [0.6666666666666666, \"#ed7953\"], [0.7777777777777778, \"#fb9f3a\"], [0.8888888888888888, \"#fdca26\"], [1.0, \"#f0f921\"]], \"type\": \"histogram2dcontour\"}], \"mesh3d\": [{\"colorbar\": {\"outlinewidth\": 0, \"ticks\": \"\"}, \"type\": \"mesh3d\"}], \"parcoords\": [{\"line\": {\"colorbar\": {\"outlinewidth\": 0, \"ticks\": \"\"}}, \"type\": \"parcoords\"}], \"pie\": [{\"automargin\": true, \"type\": \"pie\"}], \"scatter\": [{\"marker\": {\"colorbar\": {\"outlinewidth\": 0, \"ticks\": \"\"}}, \"type\": \"scatter\"}], \"scatter3d\": [{\"line\": {\"colorbar\": {\"outlinewidth\": 0, \"ticks\": \"\"}}, \"marker\": {\"colorbar\": {\"outlinewidth\": 0, \"ticks\": \"\"}}, \"type\": \"scatter3d\"}], \"scattercarpet\": [{\"marker\": {\"colorbar\": {\"outlinewidth\": 0, \"ticks\": \"\"}}, \"type\": \"scattercarpet\"}], \"scattergeo\": [{\"marker\": {\"colorbar\": {\"outlinewidth\": 0, \"ticks\": \"\"}}, \"type\": \"scattergeo\"}], \"scattergl\": [{\"marker\": {\"colorbar\": {\"outlinewidth\": 0, \"ticks\": \"\"}}, \"type\": \"scattergl\"}], \"scattermapbox\": [{\"marker\": {\"colorbar\": {\"outlinewidth\": 0, \"ticks\": \"\"}}, \"type\": \"scattermapbox\"}], \"scatterpolar\": [{\"marker\": {\"colorbar\": {\"outlinewidth\": 0, \"ticks\": \"\"}}, \"type\": \"scatterpolar\"}], \"scatterpolargl\": [{\"marker\": {\"colorbar\": {\"outlinewidth\": 0, \"ticks\": \"\"}}, \"type\": \"scatterpolargl\"}], \"scatterternary\": [{\"marker\": {\"colorbar\": {\"outlinewidth\": 0, \"ticks\": \"\"}}, \"type\": \"scatterternary\"}], \"surface\": [{\"colorbar\": {\"outlinewidth\": 0, \"ticks\": \"\"}, \"colorscale\": [[0.0, \"#0d0887\"], [0.1111111111111111, \"#46039f\"], [0.2222222222222222, \"#7201a8\"], [0.3333333333333333, \"#9c179e\"], [0.4444444444444444, \"#bd3786\"], [0.5555555555555556, \"#d8576b\"], [0.6666666666666666, \"#ed7953\"], [0.7777777777777778, \"#fb9f3a\"], [0.8888888888888888, \"#fdca26\"], [1.0, \"#f0f921\"]], \"type\": \"surface\"}], \"table\": [{\"cells\": {\"fill\": {\"color\": \"#EBF0F8\"}, \"line\": {\"color\": \"white\"}}, \"header\": {\"fill\": {\"color\": \"#C8D4E3\"}, \"line\": {\"color\": \"white\"}}, \"type\": \"table\"}]}, \"layout\": {\"annotationdefaults\": {\"arrowcolor\": \"#2a3f5f\", \"arrowhead\": 0, \"arrowwidth\": 1}, \"coloraxis\": {\"colorbar\": {\"outlinewidth\": 0, \"ticks\": \"\"}}, \"colorscale\": {\"diverging\": [[0, \"#8e0152\"], [0.1, \"#c51b7d\"], [0.2, \"#de77ae\"], [0.3, \"#f1b6da\"], [0.4, \"#fde0ef\"], [0.5, \"#f7f7f7\"], [0.6, \"#e6f5d0\"], [0.7, \"#b8e186\"], [0.8, \"#7fbc41\"], [0.9, \"#4d9221\"], [1, \"#276419\"]], \"sequential\": [[0.0, \"#0d0887\"], [0.1111111111111111, \"#46039f\"], [0.2222222222222222, \"#7201a8\"], [0.3333333333333333, \"#9c179e\"], [0.4444444444444444, \"#bd3786\"], [0.5555555555555556, \"#d8576b\"], [0.6666666666666666, \"#ed7953\"], [0.7777777777777778, \"#fb9f3a\"], [0.8888888888888888, \"#fdca26\"], [1.0, \"#f0f921\"]], \"sequentialminus\": [[0.0, \"#0d0887\"], [0.1111111111111111, \"#46039f\"], [0.2222222222222222, \"#7201a8\"], [0.3333333333333333, \"#9c179e\"], [0.4444444444444444, \"#bd3786\"], [0.5555555555555556, \"#d8576b\"], [0.6666666666666666, \"#ed7953\"], [0.7777777777777778, \"#fb9f3a\"], [0.8888888888888888, \"#fdca26\"], [1.0, \"#f0f921\"]]}, \"colorway\": [\"#636efa\", \"#EF553B\", \"#00cc96\", \"#ab63fa\", \"#FFA15A\", \"#19d3f3\", \"#FF6692\", \"#B6E880\", \"#FF97FF\", \"#FECB52\"], \"font\": {\"color\": \"#2a3f5f\"}, \"geo\": {\"bgcolor\": \"white\", \"lakecolor\": \"white\", \"landcolor\": \"#E5ECF6\", \"showlakes\": true, \"showland\": true, \"subunitcolor\": \"white\"}, \"hoverlabel\": {\"align\": \"left\"}, \"hovermode\": \"closest\", \"mapbox\": {\"style\": \"light\"}, \"paper_bgcolor\": \"white\", \"plot_bgcolor\": \"#E5ECF6\", \"polar\": {\"angularaxis\": {\"gridcolor\": \"white\", \"linecolor\": \"white\", \"ticks\": \"\"}, \"bgcolor\": \"#E5ECF6\", \"radialaxis\": {\"gridcolor\": \"white\", \"linecolor\": \"white\", \"ticks\": \"\"}}, \"scene\": {\"xaxis\": {\"backgroundcolor\": \"#E5ECF6\", \"gridcolor\": \"white\", \"gridwidth\": 2, \"linecolor\": \"white\", \"showbackground\": true, \"ticks\": \"\", \"zerolinecolor\": \"white\"}, \"yaxis\": {\"backgroundcolor\": \"#E5ECF6\", \"gridcolor\": \"white\", \"gridwidth\": 2, \"linecolor\": \"white\", \"showbackground\": true, \"ticks\": \"\", \"zerolinecolor\": \"white\"}, \"zaxis\": {\"backgroundcolor\": \"#E5ECF6\", \"gridcolor\": \"white\", \"gridwidth\": 2, \"linecolor\": \"white\", \"showbackground\": true, \"ticks\": \"\", \"zerolinecolor\": \"white\"}}, \"shapedefaults\": {\"line\": {\"color\": \"#2a3f5f\"}}, \"ternary\": {\"aaxis\": {\"gridcolor\": \"white\", \"linecolor\": \"white\", \"ticks\": \"\"}, \"baxis\": {\"gridcolor\": \"white\", \"linecolor\": \"white\", \"ticks\": \"\"}, \"bgcolor\": \"#E5ECF6\", \"caxis\": {\"gridcolor\": \"white\", \"linecolor\": \"white\", \"ticks\": \"\"}}, \"title\": {\"x\": 0.05}, \"xaxis\": {\"automargin\": true, \"gridcolor\": \"white\", \"linecolor\": \"white\", \"ticks\": \"\", \"title\": {\"standoff\": 15}, \"zerolinecolor\": \"white\", \"zerolinewidth\": 2}, \"yaxis\": {\"automargin\": true, \"gridcolor\": \"white\", \"linecolor\": \"white\", \"ticks\": \"\", \"title\": {\"standoff\": 15}, \"zerolinecolor\": \"white\", \"zerolinewidth\": 2}}}, \"xaxis\": {\"anchor\": \"y\", \"domain\": [0.0, 1.0], \"title\": {\"text\": \"PROCENTA_CERMAT\"}}, \"yaxis\": {\"anchor\": \"x\", \"domain\": [0.0, 1.0], \"title\": {\"text\": \"MIN_CERMAT\"}}},                        {\"responsive\": true}                    ).then(function(){\n",
       "                            \n",
       "var gd = document.getElementById('2799319c-8e08-4e6b-a5cb-8d69052c621c');\n",
       "var x = new MutationObserver(function (mutations, observer) {{\n",
       "        var display = window.getComputedStyle(gd).display;\n",
       "        if (!display || display === 'none') {{\n",
       "            console.log([gd, 'removed!']);\n",
       "            Plotly.purge(gd);\n",
       "            observer.disconnect();\n",
       "        }}\n",
       "}});\n",
       "\n",
       "// Listen for the removal of the full notebook cells\n",
       "var notebookContainer = gd.closest('#notebook-container');\n",
       "if (notebookContainer) {{\n",
       "    x.observe(notebookContainer, {childList: true});\n",
       "}}\n",
       "\n",
       "// Listen for the clearing of the current output cell\n",
       "var outputEl = gd.closest('.output');\n",
       "if (outputEl) {{\n",
       "    x.observe(outputEl, {childList: true});\n",
       "}}\n",
       "\n",
       "                        })                };                });            </script>        </div>"
      ]
     },
     "metadata": {},
     "output_type": "display_data"
    }
   ],
   "source": [
    "fig43 = px.scatter(\n",
    "    dataset_no_hudebni, x='PROCENTA_CERMAT', y='MIN_CERMAT', color = \"clusters43\",\n",
    "    size='IS_SCHOOL_EXAM', hover_data=[\"SCHOOL_NAME\", \"YEAR\"])\n",
    "fig43.show()\n"
   ]
  },
  {
   "cell_type": "code",
   "execution_count": 125,
   "metadata": {},
   "outputs": [
    {
     "data": {
      "application/vnd.plotly.v1+json": {
       "config": {
        "plotlyServerURL": "https://plot.ly"
       },
       "data": [
        {
         "customdata": [
          [
           "Gymnázium Budějovická",
           2019
          ],
          [
           "Gymnázium Christiana Dopplera - jazyková třída",
           2019
          ],
          [
           "Gymnázium Elišky Krásnohorské",
           2019
          ],
          [
           "Gymnázium Hlivická",
           2019
          ],
          [
           "Gymnázium J.G.Jarkovského",
           2019
          ],
          [
           "Gymnázium Karla Sladkovského",
           2019
          ],
          [
           "Gymnázium Písnická",
           2019
          ],
          [
           "Gymnázium Voděradská",
           2019
          ],
          [
           "Gymnázium prof. Jana Patočky",
           2019
          ]
         ],
         "hovertemplate": "clusters43=0<br>PROCENTA_CERMAT=%{x}<br>MIN_CERMAT=%{y}<br>IS_SCHOOL_EXAM=%{marker.size}<br>SCHOOL_NAME=%{customdata[0]}<br>YEAR=%{customdata[1]}<extra></extra>",
         "legendgroup": "0",
         "marker": {
          "color": "#636efa",
          "size": [
           0.5,
           0.5,
           0.5,
           0.5,
           0.5,
           0.5,
           0.5,
           1,
           1
          ],
          "sizemode": "area",
          "sizeref": 0.0025,
          "symbol": "circle"
         },
         "mode": "markers",
         "name": "0",
         "orientation": "v",
         "showlegend": true,
         "type": "scatter",
         "x": [
          82.64,
          80.75,
          84.74,
          78.74,
          86.96,
          76.92,
          81.96,
          73.52,
          83.34
         ],
         "xaxis": "x",
         "y": [
          64,
          59,
          60,
          64,
          60,
          50,
          62,
          59,
          61
         ],
         "yaxis": "y"
        },
        {
         "customdata": [
          [
           "Gymnázium Christiana Dopplera - matematická třída",
           2019
          ],
          [
           "Gymnázium Nad Alejí",
           2019
          ],
          [
           "Gymnázium Českolipská",
           2019
          ],
          [
           "Gymnázium Špitálská",
           2019
          ],
          [
           "Malostranské gymnázium",
           2019
          ]
         ],
         "hovertemplate": "clusters43=1<br>PROCENTA_CERMAT=%{x}<br>MIN_CERMAT=%{y}<br>IS_SCHOOL_EXAM=%{marker.size}<br>SCHOOL_NAME=%{customdata[0]}<br>YEAR=%{customdata[1]}<extra></extra>",
         "legendgroup": "1",
         "marker": {
          "color": "#EF553B",
          "size": [
           0.5,
           0.5,
           0.5,
           0.5,
           0.5
          ],
          "sizemode": "area",
          "sizeref": 0.0025,
          "symbol": "circle"
         },
         "mode": "markers",
         "name": "1",
         "orientation": "v",
         "showlegend": true,
         "type": "scatter",
         "x": [
          80.75,
          89.28,
          95.24,
          87.8,
          90.9
         ],
         "xaxis": "x",
         "y": [
          72,
          72,
          64,
          73,
          74
         ],
         "yaxis": "y"
        },
        {
         "customdata": [
          [
           "Gymnázium Jana Keplera",
           2019
          ],
          [
           "Gymnázium Jaroslava Heyrovského",
           2019
          ],
          [
           "Gymnázium Nad Kavalírkou",
           2019
          ],
          [
           "Gymnázium Nad Štolou",
           2019
          ],
          [
           "Gymnázium Omská",
           2019
          ],
          [
           "Gymnázium Opatov",
           2019
          ]
         ],
         "hovertemplate": "clusters43=2<br>PROCENTA_CERMAT=%{x}<br>MIN_CERMAT=%{y}<br>IS_SCHOOL_EXAM=%{marker.size}<br>SCHOOL_NAME=%{customdata[0]}<br>YEAR=%{customdata[1]}<extra></extra>",
         "legendgroup": "2",
         "marker": {
          "color": "#00cc96",
          "size": [
           1,
           1,
           1,
           1,
           1,
           1
          ],
          "sizemode": "area",
          "sizeref": 0.0025,
          "symbol": "circle"
         },
         "mode": "markers",
         "name": "2",
         "orientation": "v",
         "showlegend": true,
         "type": "scatter",
         "x": [
          60.6,
          61.72,
          65.78,
          70.92,
          62.5,
          60.24
         ],
         "xaxis": "x",
         "y": [
          72,
          57,
          64,
          63,
          59,
          61
         ],
         "yaxis": "y"
        }
       ],
       "layout": {
        "legend": {
         "itemsizing": "constant",
         "title": {
          "text": "clusters43"
         },
         "tracegroupgap": 0
        },
        "margin": {
         "t": 60
        },
        "template": {
         "data": {
          "bar": [
           {
            "error_x": {
             "color": "#2a3f5f"
            },
            "error_y": {
             "color": "#2a3f5f"
            },
            "marker": {
             "line": {
              "color": "#E5ECF6",
              "width": 0.5
             }
            },
            "type": "bar"
           }
          ],
          "barpolar": [
           {
            "marker": {
             "line": {
              "color": "#E5ECF6",
              "width": 0.5
             }
            },
            "type": "barpolar"
           }
          ],
          "carpet": [
           {
            "aaxis": {
             "endlinecolor": "#2a3f5f",
             "gridcolor": "white",
             "linecolor": "white",
             "minorgridcolor": "white",
             "startlinecolor": "#2a3f5f"
            },
            "baxis": {
             "endlinecolor": "#2a3f5f",
             "gridcolor": "white",
             "linecolor": "white",
             "minorgridcolor": "white",
             "startlinecolor": "#2a3f5f"
            },
            "type": "carpet"
           }
          ],
          "choropleth": [
           {
            "colorbar": {
             "outlinewidth": 0,
             "ticks": ""
            },
            "type": "choropleth"
           }
          ],
          "contour": [
           {
            "colorbar": {
             "outlinewidth": 0,
             "ticks": ""
            },
            "colorscale": [
             [
              0,
              "#0d0887"
             ],
             [
              0.1111111111111111,
              "#46039f"
             ],
             [
              0.2222222222222222,
              "#7201a8"
             ],
             [
              0.3333333333333333,
              "#9c179e"
             ],
             [
              0.4444444444444444,
              "#bd3786"
             ],
             [
              0.5555555555555556,
              "#d8576b"
             ],
             [
              0.6666666666666666,
              "#ed7953"
             ],
             [
              0.7777777777777778,
              "#fb9f3a"
             ],
             [
              0.8888888888888888,
              "#fdca26"
             ],
             [
              1,
              "#f0f921"
             ]
            ],
            "type": "contour"
           }
          ],
          "contourcarpet": [
           {
            "colorbar": {
             "outlinewidth": 0,
             "ticks": ""
            },
            "type": "contourcarpet"
           }
          ],
          "heatmap": [
           {
            "colorbar": {
             "outlinewidth": 0,
             "ticks": ""
            },
            "colorscale": [
             [
              0,
              "#0d0887"
             ],
             [
              0.1111111111111111,
              "#46039f"
             ],
             [
              0.2222222222222222,
              "#7201a8"
             ],
             [
              0.3333333333333333,
              "#9c179e"
             ],
             [
              0.4444444444444444,
              "#bd3786"
             ],
             [
              0.5555555555555556,
              "#d8576b"
             ],
             [
              0.6666666666666666,
              "#ed7953"
             ],
             [
              0.7777777777777778,
              "#fb9f3a"
             ],
             [
              0.8888888888888888,
              "#fdca26"
             ],
             [
              1,
              "#f0f921"
             ]
            ],
            "type": "heatmap"
           }
          ],
          "heatmapgl": [
           {
            "colorbar": {
             "outlinewidth": 0,
             "ticks": ""
            },
            "colorscale": [
             [
              0,
              "#0d0887"
             ],
             [
              0.1111111111111111,
              "#46039f"
             ],
             [
              0.2222222222222222,
              "#7201a8"
             ],
             [
              0.3333333333333333,
              "#9c179e"
             ],
             [
              0.4444444444444444,
              "#bd3786"
             ],
             [
              0.5555555555555556,
              "#d8576b"
             ],
             [
              0.6666666666666666,
              "#ed7953"
             ],
             [
              0.7777777777777778,
              "#fb9f3a"
             ],
             [
              0.8888888888888888,
              "#fdca26"
             ],
             [
              1,
              "#f0f921"
             ]
            ],
            "type": "heatmapgl"
           }
          ],
          "histogram": [
           {
            "marker": {
             "colorbar": {
              "outlinewidth": 0,
              "ticks": ""
             }
            },
            "type": "histogram"
           }
          ],
          "histogram2d": [
           {
            "colorbar": {
             "outlinewidth": 0,
             "ticks": ""
            },
            "colorscale": [
             [
              0,
              "#0d0887"
             ],
             [
              0.1111111111111111,
              "#46039f"
             ],
             [
              0.2222222222222222,
              "#7201a8"
             ],
             [
              0.3333333333333333,
              "#9c179e"
             ],
             [
              0.4444444444444444,
              "#bd3786"
             ],
             [
              0.5555555555555556,
              "#d8576b"
             ],
             [
              0.6666666666666666,
              "#ed7953"
             ],
             [
              0.7777777777777778,
              "#fb9f3a"
             ],
             [
              0.8888888888888888,
              "#fdca26"
             ],
             [
              1,
              "#f0f921"
             ]
            ],
            "type": "histogram2d"
           }
          ],
          "histogram2dcontour": [
           {
            "colorbar": {
             "outlinewidth": 0,
             "ticks": ""
            },
            "colorscale": [
             [
              0,
              "#0d0887"
             ],
             [
              0.1111111111111111,
              "#46039f"
             ],
             [
              0.2222222222222222,
              "#7201a8"
             ],
             [
              0.3333333333333333,
              "#9c179e"
             ],
             [
              0.4444444444444444,
              "#bd3786"
             ],
             [
              0.5555555555555556,
              "#d8576b"
             ],
             [
              0.6666666666666666,
              "#ed7953"
             ],
             [
              0.7777777777777778,
              "#fb9f3a"
             ],
             [
              0.8888888888888888,
              "#fdca26"
             ],
             [
              1,
              "#f0f921"
             ]
            ],
            "type": "histogram2dcontour"
           }
          ],
          "mesh3d": [
           {
            "colorbar": {
             "outlinewidth": 0,
             "ticks": ""
            },
            "type": "mesh3d"
           }
          ],
          "parcoords": [
           {
            "line": {
             "colorbar": {
              "outlinewidth": 0,
              "ticks": ""
             }
            },
            "type": "parcoords"
           }
          ],
          "pie": [
           {
            "automargin": true,
            "type": "pie"
           }
          ],
          "scatter": [
           {
            "marker": {
             "colorbar": {
              "outlinewidth": 0,
              "ticks": ""
             }
            },
            "type": "scatter"
           }
          ],
          "scatter3d": [
           {
            "line": {
             "colorbar": {
              "outlinewidth": 0,
              "ticks": ""
             }
            },
            "marker": {
             "colorbar": {
              "outlinewidth": 0,
              "ticks": ""
             }
            },
            "type": "scatter3d"
           }
          ],
          "scattercarpet": [
           {
            "marker": {
             "colorbar": {
              "outlinewidth": 0,
              "ticks": ""
             }
            },
            "type": "scattercarpet"
           }
          ],
          "scattergeo": [
           {
            "marker": {
             "colorbar": {
              "outlinewidth": 0,
              "ticks": ""
             }
            },
            "type": "scattergeo"
           }
          ],
          "scattergl": [
           {
            "marker": {
             "colorbar": {
              "outlinewidth": 0,
              "ticks": ""
             }
            },
            "type": "scattergl"
           }
          ],
          "scattermapbox": [
           {
            "marker": {
             "colorbar": {
              "outlinewidth": 0,
              "ticks": ""
             }
            },
            "type": "scattermapbox"
           }
          ],
          "scatterpolar": [
           {
            "marker": {
             "colorbar": {
              "outlinewidth": 0,
              "ticks": ""
             }
            },
            "type": "scatterpolar"
           }
          ],
          "scatterpolargl": [
           {
            "marker": {
             "colorbar": {
              "outlinewidth": 0,
              "ticks": ""
             }
            },
            "type": "scatterpolargl"
           }
          ],
          "scatterternary": [
           {
            "marker": {
             "colorbar": {
              "outlinewidth": 0,
              "ticks": ""
             }
            },
            "type": "scatterternary"
           }
          ],
          "surface": [
           {
            "colorbar": {
             "outlinewidth": 0,
             "ticks": ""
            },
            "colorscale": [
             [
              0,
              "#0d0887"
             ],
             [
              0.1111111111111111,
              "#46039f"
             ],
             [
              0.2222222222222222,
              "#7201a8"
             ],
             [
              0.3333333333333333,
              "#9c179e"
             ],
             [
              0.4444444444444444,
              "#bd3786"
             ],
             [
              0.5555555555555556,
              "#d8576b"
             ],
             [
              0.6666666666666666,
              "#ed7953"
             ],
             [
              0.7777777777777778,
              "#fb9f3a"
             ],
             [
              0.8888888888888888,
              "#fdca26"
             ],
             [
              1,
              "#f0f921"
             ]
            ],
            "type": "surface"
           }
          ],
          "table": [
           {
            "cells": {
             "fill": {
              "color": "#EBF0F8"
             },
             "line": {
              "color": "white"
             }
            },
            "header": {
             "fill": {
              "color": "#C8D4E3"
             },
             "line": {
              "color": "white"
             }
            },
            "type": "table"
           }
          ]
         },
         "layout": {
          "annotationdefaults": {
           "arrowcolor": "#2a3f5f",
           "arrowhead": 0,
           "arrowwidth": 1
          },
          "coloraxis": {
           "colorbar": {
            "outlinewidth": 0,
            "ticks": ""
           }
          },
          "colorscale": {
           "diverging": [
            [
             0,
             "#8e0152"
            ],
            [
             0.1,
             "#c51b7d"
            ],
            [
             0.2,
             "#de77ae"
            ],
            [
             0.3,
             "#f1b6da"
            ],
            [
             0.4,
             "#fde0ef"
            ],
            [
             0.5,
             "#f7f7f7"
            ],
            [
             0.6,
             "#e6f5d0"
            ],
            [
             0.7,
             "#b8e186"
            ],
            [
             0.8,
             "#7fbc41"
            ],
            [
             0.9,
             "#4d9221"
            ],
            [
             1,
             "#276419"
            ]
           ],
           "sequential": [
            [
             0,
             "#0d0887"
            ],
            [
             0.1111111111111111,
             "#46039f"
            ],
            [
             0.2222222222222222,
             "#7201a8"
            ],
            [
             0.3333333333333333,
             "#9c179e"
            ],
            [
             0.4444444444444444,
             "#bd3786"
            ],
            [
             0.5555555555555556,
             "#d8576b"
            ],
            [
             0.6666666666666666,
             "#ed7953"
            ],
            [
             0.7777777777777778,
             "#fb9f3a"
            ],
            [
             0.8888888888888888,
             "#fdca26"
            ],
            [
             1,
             "#f0f921"
            ]
           ],
           "sequentialminus": [
            [
             0,
             "#0d0887"
            ],
            [
             0.1111111111111111,
             "#46039f"
            ],
            [
             0.2222222222222222,
             "#7201a8"
            ],
            [
             0.3333333333333333,
             "#9c179e"
            ],
            [
             0.4444444444444444,
             "#bd3786"
            ],
            [
             0.5555555555555556,
             "#d8576b"
            ],
            [
             0.6666666666666666,
             "#ed7953"
            ],
            [
             0.7777777777777778,
             "#fb9f3a"
            ],
            [
             0.8888888888888888,
             "#fdca26"
            ],
            [
             1,
             "#f0f921"
            ]
           ]
          },
          "colorway": [
           "#636efa",
           "#EF553B",
           "#00cc96",
           "#ab63fa",
           "#FFA15A",
           "#19d3f3",
           "#FF6692",
           "#B6E880",
           "#FF97FF",
           "#FECB52"
          ],
          "font": {
           "color": "#2a3f5f"
          },
          "geo": {
           "bgcolor": "white",
           "lakecolor": "white",
           "landcolor": "#E5ECF6",
           "showlakes": true,
           "showland": true,
           "subunitcolor": "white"
          },
          "hoverlabel": {
           "align": "left"
          },
          "hovermode": "closest",
          "mapbox": {
           "style": "light"
          },
          "paper_bgcolor": "white",
          "plot_bgcolor": "#E5ECF6",
          "polar": {
           "angularaxis": {
            "gridcolor": "white",
            "linecolor": "white",
            "ticks": ""
           },
           "bgcolor": "#E5ECF6",
           "radialaxis": {
            "gridcolor": "white",
            "linecolor": "white",
            "ticks": ""
           }
          },
          "scene": {
           "xaxis": {
            "backgroundcolor": "#E5ECF6",
            "gridcolor": "white",
            "gridwidth": 2,
            "linecolor": "white",
            "showbackground": true,
            "ticks": "",
            "zerolinecolor": "white"
           },
           "yaxis": {
            "backgroundcolor": "#E5ECF6",
            "gridcolor": "white",
            "gridwidth": 2,
            "linecolor": "white",
            "showbackground": true,
            "ticks": "",
            "zerolinecolor": "white"
           },
           "zaxis": {
            "backgroundcolor": "#E5ECF6",
            "gridcolor": "white",
            "gridwidth": 2,
            "linecolor": "white",
            "showbackground": true,
            "ticks": "",
            "zerolinecolor": "white"
           }
          },
          "shapedefaults": {
           "line": {
            "color": "#2a3f5f"
           }
          },
          "ternary": {
           "aaxis": {
            "gridcolor": "white",
            "linecolor": "white",
            "ticks": ""
           },
           "baxis": {
            "gridcolor": "white",
            "linecolor": "white",
            "ticks": ""
           },
           "bgcolor": "#E5ECF6",
           "caxis": {
            "gridcolor": "white",
            "linecolor": "white",
            "ticks": ""
           }
          },
          "title": {
           "x": 0.05
          },
          "xaxis": {
           "automargin": true,
           "gridcolor": "white",
           "linecolor": "white",
           "ticks": "",
           "title": {
            "standoff": 15
           },
           "zerolinecolor": "white",
           "zerolinewidth": 2
          },
          "yaxis": {
           "automargin": true,
           "gridcolor": "white",
           "linecolor": "white",
           "ticks": "",
           "title": {
            "standoff": 15
           },
           "zerolinecolor": "white",
           "zerolinewidth": 2
          }
         }
        },
        "xaxis": {
         "anchor": "y",
         "domain": [
          0,
          1
         ],
         "title": {
          "text": "PROCENTA_CERMAT"
         }
        },
        "yaxis": {
         "anchor": "x",
         "domain": [
          0,
          1
         ],
         "title": {
          "text": "MIN_CERMAT"
         }
        }
       }
      },
      "text/html": [
       "<div>                            <div id=\"ffc387d2-c5ae-40df-9493-85be833dc897\" class=\"plotly-graph-div\" style=\"height:525px; width:100%;\"></div>            <script type=\"text/javascript\">                require([\"plotly\"], function(Plotly) {                    window.PLOTLYENV=window.PLOTLYENV || {};                                    if (document.getElementById(\"ffc387d2-c5ae-40df-9493-85be833dc897\")) {                    Plotly.newPlot(                        \"ffc387d2-c5ae-40df-9493-85be833dc897\",                        [{\"customdata\": [[\"Gymn\\u00e1zium Bud\\u011bjovick\\u00e1\", 2019], [\"Gymn\\u00e1zium Christiana Dopplera - jazykov\\u00e1 t\\u0159\\u00edda\", 2019], [\"Gymn\\u00e1zium Eli\\u0161ky Kr\\u00e1snohorsk\\u00e9\", 2019], [\"Gymn\\u00e1zium Hlivick\\u00e1\", 2019], [\"Gymn\\u00e1zium J.G.Jarkovsk\\u00e9ho\", 2019], [\"Gymn\\u00e1zium Karla Sladkovsk\\u00e9ho\", 2019], [\"Gymn\\u00e1zium P\\u00edsnick\\u00e1\", 2019], [\"Gymn\\u00e1zium Vod\\u011bradsk\\u00e1\", 2019], [\"Gymn\\u00e1zium prof. Jana Pato\\u010dky\", 2019]], \"hovertemplate\": \"clusters43=0<br>PROCENTA_CERMAT=%{x}<br>MIN_CERMAT=%{y}<br>IS_SCHOOL_EXAM=%{marker.size}<br>SCHOOL_NAME=%{customdata[0]}<br>YEAR=%{customdata[1]}<extra></extra>\", \"legendgroup\": \"0\", \"marker\": {\"color\": \"#636efa\", \"size\": [0.5, 0.5, 0.5, 0.5, 0.5, 0.5, 0.5, 1.0, 1.0], \"sizemode\": \"area\", \"sizeref\": 0.0025, \"symbol\": \"circle\"}, \"mode\": \"markers\", \"name\": \"0\", \"orientation\": \"v\", \"showlegend\": true, \"type\": \"scatter\", \"x\": [82.64, 80.75, 84.74, 78.74, 86.96, 76.92, 81.96, 73.52, 83.34], \"xaxis\": \"x\", \"y\": [64.0, 59.0, 60.0, 64.0, 60.0, 50.0, 62.0, 59.0, 61.0], \"yaxis\": \"y\"}, {\"customdata\": [[\"Gymn\\u00e1zium Christiana Dopplera - matematick\\u00e1 t\\u0159\\u00edda\", 2019], [\"Gymn\\u00e1zium Nad Alej\\u00ed\", 2019], [\"Gymn\\u00e1zium \\u010ceskolipsk\\u00e1\", 2019], [\"Gymn\\u00e1zium \\u0160pit\\u00e1lsk\\u00e1\", 2019], [\"Malostransk\\u00e9 gymn\\u00e1zium\", 2019]], \"hovertemplate\": \"clusters43=1<br>PROCENTA_CERMAT=%{x}<br>MIN_CERMAT=%{y}<br>IS_SCHOOL_EXAM=%{marker.size}<br>SCHOOL_NAME=%{customdata[0]}<br>YEAR=%{customdata[1]}<extra></extra>\", \"legendgroup\": \"1\", \"marker\": {\"color\": \"#EF553B\", \"size\": [0.5, 0.5, 0.5, 0.5, 0.5], \"sizemode\": \"area\", \"sizeref\": 0.0025, \"symbol\": \"circle\"}, \"mode\": \"markers\", \"name\": \"1\", \"orientation\": \"v\", \"showlegend\": true, \"type\": \"scatter\", \"x\": [80.75, 89.28, 95.24, 87.8, 90.9], \"xaxis\": \"x\", \"y\": [72.0, 72.0, 64.0, 73.0, 74.0], \"yaxis\": \"y\"}, {\"customdata\": [[\"Gymn\\u00e1zium Jana Keplera\", 2019], [\"Gymn\\u00e1zium Jaroslava Heyrovsk\\u00e9ho\", 2019], [\"Gymn\\u00e1zium Nad Kaval\\u00edrkou\", 2019], [\"Gymn\\u00e1zium Nad \\u0160tolou\", 2019], [\"Gymn\\u00e1zium Omsk\\u00e1\", 2019], [\"Gymn\\u00e1zium Opatov\", 2019]], \"hovertemplate\": \"clusters43=2<br>PROCENTA_CERMAT=%{x}<br>MIN_CERMAT=%{y}<br>IS_SCHOOL_EXAM=%{marker.size}<br>SCHOOL_NAME=%{customdata[0]}<br>YEAR=%{customdata[1]}<extra></extra>\", \"legendgroup\": \"2\", \"marker\": {\"color\": \"#00cc96\", \"size\": [1.0, 1.0, 1.0, 1.0, 1.0, 1.0], \"sizemode\": \"area\", \"sizeref\": 0.0025, \"symbol\": \"circle\"}, \"mode\": \"markers\", \"name\": \"2\", \"orientation\": \"v\", \"showlegend\": true, \"type\": \"scatter\", \"x\": [60.6, 61.72, 65.78, 70.92, 62.5, 60.24], \"xaxis\": \"x\", \"y\": [72.0, 57.0, 64.0, 63.0, 59.0, 61.0], \"yaxis\": \"y\"}],                        {\"legend\": {\"itemsizing\": \"constant\", \"title\": {\"text\": \"clusters43\"}, \"tracegroupgap\": 0}, \"margin\": {\"t\": 60}, \"template\": {\"data\": {\"bar\": [{\"error_x\": {\"color\": \"#2a3f5f\"}, \"error_y\": {\"color\": \"#2a3f5f\"}, \"marker\": {\"line\": {\"color\": \"#E5ECF6\", \"width\": 0.5}}, \"type\": \"bar\"}], \"barpolar\": [{\"marker\": {\"line\": {\"color\": \"#E5ECF6\", \"width\": 0.5}}, \"type\": \"barpolar\"}], \"carpet\": [{\"aaxis\": {\"endlinecolor\": \"#2a3f5f\", \"gridcolor\": \"white\", \"linecolor\": \"white\", \"minorgridcolor\": \"white\", \"startlinecolor\": \"#2a3f5f\"}, \"baxis\": {\"endlinecolor\": \"#2a3f5f\", \"gridcolor\": \"white\", \"linecolor\": \"white\", \"minorgridcolor\": \"white\", \"startlinecolor\": \"#2a3f5f\"}, \"type\": \"carpet\"}], \"choropleth\": [{\"colorbar\": {\"outlinewidth\": 0, \"ticks\": \"\"}, \"type\": \"choropleth\"}], \"contour\": [{\"colorbar\": {\"outlinewidth\": 0, \"ticks\": \"\"}, \"colorscale\": [[0.0, \"#0d0887\"], [0.1111111111111111, \"#46039f\"], [0.2222222222222222, \"#7201a8\"], [0.3333333333333333, \"#9c179e\"], [0.4444444444444444, \"#bd3786\"], [0.5555555555555556, \"#d8576b\"], [0.6666666666666666, \"#ed7953\"], [0.7777777777777778, \"#fb9f3a\"], [0.8888888888888888, \"#fdca26\"], [1.0, \"#f0f921\"]], \"type\": \"contour\"}], \"contourcarpet\": [{\"colorbar\": {\"outlinewidth\": 0, \"ticks\": \"\"}, \"type\": \"contourcarpet\"}], \"heatmap\": [{\"colorbar\": {\"outlinewidth\": 0, \"ticks\": \"\"}, \"colorscale\": [[0.0, \"#0d0887\"], [0.1111111111111111, \"#46039f\"], [0.2222222222222222, \"#7201a8\"], [0.3333333333333333, \"#9c179e\"], [0.4444444444444444, \"#bd3786\"], [0.5555555555555556, \"#d8576b\"], [0.6666666666666666, \"#ed7953\"], [0.7777777777777778, \"#fb9f3a\"], [0.8888888888888888, \"#fdca26\"], [1.0, \"#f0f921\"]], \"type\": \"heatmap\"}], \"heatmapgl\": [{\"colorbar\": {\"outlinewidth\": 0, \"ticks\": \"\"}, \"colorscale\": [[0.0, \"#0d0887\"], [0.1111111111111111, \"#46039f\"], [0.2222222222222222, \"#7201a8\"], [0.3333333333333333, \"#9c179e\"], [0.4444444444444444, \"#bd3786\"], [0.5555555555555556, \"#d8576b\"], [0.6666666666666666, \"#ed7953\"], [0.7777777777777778, \"#fb9f3a\"], [0.8888888888888888, \"#fdca26\"], [1.0, \"#f0f921\"]], \"type\": \"heatmapgl\"}], \"histogram\": [{\"marker\": {\"colorbar\": {\"outlinewidth\": 0, \"ticks\": \"\"}}, \"type\": \"histogram\"}], \"histogram2d\": [{\"colorbar\": {\"outlinewidth\": 0, \"ticks\": \"\"}, \"colorscale\": [[0.0, \"#0d0887\"], [0.1111111111111111, \"#46039f\"], [0.2222222222222222, \"#7201a8\"], [0.3333333333333333, \"#9c179e\"], [0.4444444444444444, \"#bd3786\"], [0.5555555555555556, \"#d8576b\"], [0.6666666666666666, \"#ed7953\"], [0.7777777777777778, \"#fb9f3a\"], [0.8888888888888888, \"#fdca26\"], [1.0, \"#f0f921\"]], \"type\": \"histogram2d\"}], \"histogram2dcontour\": [{\"colorbar\": {\"outlinewidth\": 0, \"ticks\": \"\"}, \"colorscale\": [[0.0, \"#0d0887\"], [0.1111111111111111, \"#46039f\"], [0.2222222222222222, \"#7201a8\"], [0.3333333333333333, \"#9c179e\"], [0.4444444444444444, \"#bd3786\"], [0.5555555555555556, \"#d8576b\"], [0.6666666666666666, \"#ed7953\"], [0.7777777777777778, \"#fb9f3a\"], [0.8888888888888888, \"#fdca26\"], [1.0, \"#f0f921\"]], \"type\": \"histogram2dcontour\"}], \"mesh3d\": [{\"colorbar\": {\"outlinewidth\": 0, \"ticks\": \"\"}, \"type\": \"mesh3d\"}], \"parcoords\": [{\"line\": {\"colorbar\": {\"outlinewidth\": 0, \"ticks\": \"\"}}, \"type\": \"parcoords\"}], \"pie\": [{\"automargin\": true, \"type\": \"pie\"}], \"scatter\": [{\"marker\": {\"colorbar\": {\"outlinewidth\": 0, \"ticks\": \"\"}}, \"type\": \"scatter\"}], \"scatter3d\": [{\"line\": {\"colorbar\": {\"outlinewidth\": 0, \"ticks\": \"\"}}, \"marker\": {\"colorbar\": {\"outlinewidth\": 0, \"ticks\": \"\"}}, \"type\": \"scatter3d\"}], \"scattercarpet\": [{\"marker\": {\"colorbar\": {\"outlinewidth\": 0, \"ticks\": \"\"}}, \"type\": \"scattercarpet\"}], \"scattergeo\": [{\"marker\": {\"colorbar\": {\"outlinewidth\": 0, \"ticks\": \"\"}}, \"type\": \"scattergeo\"}], \"scattergl\": [{\"marker\": {\"colorbar\": {\"outlinewidth\": 0, \"ticks\": \"\"}}, \"type\": \"scattergl\"}], \"scattermapbox\": [{\"marker\": {\"colorbar\": {\"outlinewidth\": 0, \"ticks\": \"\"}}, \"type\": \"scattermapbox\"}], \"scatterpolar\": [{\"marker\": {\"colorbar\": {\"outlinewidth\": 0, \"ticks\": \"\"}}, \"type\": \"scatterpolar\"}], \"scatterpolargl\": [{\"marker\": {\"colorbar\": {\"outlinewidth\": 0, \"ticks\": \"\"}}, \"type\": \"scatterpolargl\"}], \"scatterternary\": [{\"marker\": {\"colorbar\": {\"outlinewidth\": 0, \"ticks\": \"\"}}, \"type\": \"scatterternary\"}], \"surface\": [{\"colorbar\": {\"outlinewidth\": 0, \"ticks\": \"\"}, \"colorscale\": [[0.0, \"#0d0887\"], [0.1111111111111111, \"#46039f\"], [0.2222222222222222, \"#7201a8\"], [0.3333333333333333, \"#9c179e\"], [0.4444444444444444, \"#bd3786\"], [0.5555555555555556, \"#d8576b\"], [0.6666666666666666, \"#ed7953\"], [0.7777777777777778, \"#fb9f3a\"], [0.8888888888888888, \"#fdca26\"], [1.0, \"#f0f921\"]], \"type\": \"surface\"}], \"table\": [{\"cells\": {\"fill\": {\"color\": \"#EBF0F8\"}, \"line\": {\"color\": \"white\"}}, \"header\": {\"fill\": {\"color\": \"#C8D4E3\"}, \"line\": {\"color\": \"white\"}}, \"type\": \"table\"}]}, \"layout\": {\"annotationdefaults\": {\"arrowcolor\": \"#2a3f5f\", \"arrowhead\": 0, \"arrowwidth\": 1}, \"coloraxis\": {\"colorbar\": {\"outlinewidth\": 0, \"ticks\": \"\"}}, \"colorscale\": {\"diverging\": [[0, \"#8e0152\"], [0.1, \"#c51b7d\"], [0.2, \"#de77ae\"], [0.3, \"#f1b6da\"], [0.4, \"#fde0ef\"], [0.5, \"#f7f7f7\"], [0.6, \"#e6f5d0\"], [0.7, \"#b8e186\"], [0.8, \"#7fbc41\"], [0.9, \"#4d9221\"], [1, \"#276419\"]], \"sequential\": [[0.0, \"#0d0887\"], [0.1111111111111111, \"#46039f\"], [0.2222222222222222, \"#7201a8\"], [0.3333333333333333, \"#9c179e\"], [0.4444444444444444, \"#bd3786\"], [0.5555555555555556, \"#d8576b\"], [0.6666666666666666, \"#ed7953\"], [0.7777777777777778, \"#fb9f3a\"], [0.8888888888888888, \"#fdca26\"], [1.0, \"#f0f921\"]], \"sequentialminus\": [[0.0, \"#0d0887\"], [0.1111111111111111, \"#46039f\"], [0.2222222222222222, \"#7201a8\"], [0.3333333333333333, \"#9c179e\"], [0.4444444444444444, \"#bd3786\"], [0.5555555555555556, \"#d8576b\"], [0.6666666666666666, \"#ed7953\"], [0.7777777777777778, \"#fb9f3a\"], [0.8888888888888888, \"#fdca26\"], [1.0, \"#f0f921\"]]}, \"colorway\": [\"#636efa\", \"#EF553B\", \"#00cc96\", \"#ab63fa\", \"#FFA15A\", \"#19d3f3\", \"#FF6692\", \"#B6E880\", \"#FF97FF\", \"#FECB52\"], \"font\": {\"color\": \"#2a3f5f\"}, \"geo\": {\"bgcolor\": \"white\", \"lakecolor\": \"white\", \"landcolor\": \"#E5ECF6\", \"showlakes\": true, \"showland\": true, \"subunitcolor\": \"white\"}, \"hoverlabel\": {\"align\": \"left\"}, \"hovermode\": \"closest\", \"mapbox\": {\"style\": \"light\"}, \"paper_bgcolor\": \"white\", \"plot_bgcolor\": \"#E5ECF6\", \"polar\": {\"angularaxis\": {\"gridcolor\": \"white\", \"linecolor\": \"white\", \"ticks\": \"\"}, \"bgcolor\": \"#E5ECF6\", \"radialaxis\": {\"gridcolor\": \"white\", \"linecolor\": \"white\", \"ticks\": \"\"}}, \"scene\": {\"xaxis\": {\"backgroundcolor\": \"#E5ECF6\", \"gridcolor\": \"white\", \"gridwidth\": 2, \"linecolor\": \"white\", \"showbackground\": true, \"ticks\": \"\", \"zerolinecolor\": \"white\"}, \"yaxis\": {\"backgroundcolor\": \"#E5ECF6\", \"gridcolor\": \"white\", \"gridwidth\": 2, \"linecolor\": \"white\", \"showbackground\": true, \"ticks\": \"\", \"zerolinecolor\": \"white\"}, \"zaxis\": {\"backgroundcolor\": \"#E5ECF6\", \"gridcolor\": \"white\", \"gridwidth\": 2, \"linecolor\": \"white\", \"showbackground\": true, \"ticks\": \"\", \"zerolinecolor\": \"white\"}}, \"shapedefaults\": {\"line\": {\"color\": \"#2a3f5f\"}}, \"ternary\": {\"aaxis\": {\"gridcolor\": \"white\", \"linecolor\": \"white\", \"ticks\": \"\"}, \"baxis\": {\"gridcolor\": \"white\", \"linecolor\": \"white\", \"ticks\": \"\"}, \"bgcolor\": \"#E5ECF6\", \"caxis\": {\"gridcolor\": \"white\", \"linecolor\": \"white\", \"ticks\": \"\"}}, \"title\": {\"x\": 0.05}, \"xaxis\": {\"automargin\": true, \"gridcolor\": \"white\", \"linecolor\": \"white\", \"ticks\": \"\", \"title\": {\"standoff\": 15}, \"zerolinecolor\": \"white\", \"zerolinewidth\": 2}, \"yaxis\": {\"automargin\": true, \"gridcolor\": \"white\", \"linecolor\": \"white\", \"ticks\": \"\", \"title\": {\"standoff\": 15}, \"zerolinecolor\": \"white\", \"zerolinewidth\": 2}}}, \"xaxis\": {\"anchor\": \"y\", \"domain\": [0.0, 1.0], \"title\": {\"text\": \"PROCENTA_CERMAT\"}}, \"yaxis\": {\"anchor\": \"x\", \"domain\": [0.0, 1.0], \"title\": {\"text\": \"MIN_CERMAT\"}}},                        {\"responsive\": true}                    ).then(function(){\n",
       "                            \n",
       "var gd = document.getElementById('ffc387d2-c5ae-40df-9493-85be833dc897');\n",
       "var x = new MutationObserver(function (mutations, observer) {{\n",
       "        var display = window.getComputedStyle(gd).display;\n",
       "        if (!display || display === 'none') {{\n",
       "            console.log([gd, 'removed!']);\n",
       "            Plotly.purge(gd);\n",
       "            observer.disconnect();\n",
       "        }}\n",
       "}});\n",
       "\n",
       "// Listen for the removal of the full notebook cells\n",
       "var notebookContainer = gd.closest('#notebook-container');\n",
       "if (notebookContainer) {{\n",
       "    x.observe(notebookContainer, {childList: true});\n",
       "}}\n",
       "\n",
       "// Listen for the clearing of the current output cell\n",
       "var outputEl = gd.closest('.output');\n",
       "if (outputEl) {{\n",
       "    x.observe(outputEl, {childList: true});\n",
       "}}\n",
       "\n",
       "                        })                };                });            </script>        </div>"
      ]
     },
     "metadata": {},
     "output_type": "display_data"
    }
   ],
   "source": [
    "fig43y = px.scatter(\n",
    "    dataset_no_hudebni.query(f\"YEAR=={year}\"), \n",
    "    x='PROCENTA_CERMAT', y='MIN_CERMAT', color=\"clusters43\",\n",
    "    size='IS_SCHOOL_EXAM', hover_data=[\"SCHOOL_NAME\", \"YEAR\"])\n",
    "fig43y.show()"
   ]
  },
  {
   "cell_type": "markdown",
   "metadata": {},
   "source": [
    "Nelibi se nam, ze jsou v jednom clusteru (1) skoro všechny školy se školní zkouškou a menší váhou CERMATu bez ohledu na minimální počet bodů nutný k přijetí. A chceme vudět, jestli ovlivní výsledek skutečnost, kolik dětí se na školu hlásí. "
   ]
  },
  {
   "cell_type": "markdown",
   "metadata": {},
   "source": [
    "### 4 parametry, 4 clustery"
   ]
  },
  {
   "cell_type": "markdown",
   "metadata": {},
   "source": [
    "Shlukujeme tedy školy podle váhy jednotné zkoušky CERMAT v celkovém hodnocení dané školy, počtu uchazečů na jedno místo, minimálního počtu bodů za CERMAT a váhy známek.\n",
    "\n"
   ]
  },
  {
   "cell_type": "code",
   "execution_count": 126,
   "metadata": {},
   "outputs": [],
   "source": [
    "kmeans = KMeans(n_clusters=4)\n",
    "clusters54 = kmeans.fit_predict(dataset_no_hudebni[[\"PROCENTA_CERMAT\", \"UCHAZECU_NA_JEDNO_MISTO\",  \n",
    "                                                     \"MIN_CERMAT\",  \"PROCENTA_GRADES\"]])\n",
    "dataset_no_hudebni[\"clusters54\"]=clusters54.astype(str)"
   ]
  },
  {
   "cell_type": "code",
   "execution_count": 127,
   "metadata": {},
   "outputs": [
    {
     "data": {
      "text/plain": [
       "array([0, 0, 0, 0, 3, 0, 1, 1, 0, 2, 2, 2, 2, 0, 2, 0, 0, 0, 0, 1, 1, 1,\n",
       "       1, 1, 1, 3, 2, 1, 1, 0, 2, 2, 2, 2, 1, 2, 1, 0, 0, 0, 1, 1, 0, 1,\n",
       "       1, 1, 3, 2, 1, 0, 2, 2, 2, 2, 1, 2, 1, 0, 0, 0, 0, 0, 0, 0, 0, 0,\n",
       "       3, 2, 1, 0, 2, 3, 2, 2, 0, 3, 0, 0, 0, 0])"
      ]
     },
     "execution_count": 127,
     "metadata": {},
     "output_type": "execute_result"
    }
   ],
   "source": [
    "clusters54"
   ]
  },
  {
   "cell_type": "code",
   "execution_count": 128,
   "metadata": {},
   "outputs": [],
   "source": [
    "##!!!!!!!!!! SKOLNI ZKOUSKA JAKO STRING ANO/NE\n",
    "\n",
    "\n",
    "fig54 = px.scatter(dataset_no_hudebni, x='PROCENTA_CERMAT', y='MIN_CERMAT', color=\"clusters54\",\n",
    "                size='IS_SCHOOL_EXAM', \n",
    "                trendline=\"ols\",\n",
    "                hover_data=[\"SCHOOL_NAME\", \"YEAR\"], \n",
    "                labels={\"YEAR\":\"Rok\",\n",
    "                        \"SCHOOL_NAME\": \"Škola\", \n",
    "                        \"clusters54\": \"Skupina\",\n",
    "                        \"IS_SCHOOL_EXAM\":\"Školní zkouška\",  \n",
    "                        \"PROCENTA_CERMAT\": \"Váha zkoušky CERMAT\", \n",
    "                        \"MIN_CERMAT\":\"Počet bodů CERMAT u posledního přijatého\"\n",
    "                       }\n",
    "                  )"
   ]
  },
  {
   "cell_type": "code",
   "execution_count": 116,
   "metadata": {},
   "outputs": [
    {
     "data": {
      "application/vnd.plotly.v1+json": {
       "config": {
        "plotlyServerURL": "https://plot.ly"
       },
       "data": [
        {
         "customdata": [
          [
           "Gymnázium Budějovická",
           2017
          ],
          [
           "Gymnázium Elišky Krásnohorské",
           2017
          ],
          [
           "Gymnázium Hlivická",
           2017
          ],
          [
           "Gymnázium J.G.Jarkovského",
           2017
          ],
          [
           "Gymnázium Jaroslava Heyrovského",
           2017
          ],
          [
           "Gymnázium Nad Alejí",
           2017
          ],
          [
           "Gymnázium Písnická",
           2017
          ],
          [
           "Gymnázium prof. Jana Patočky",
           2017
          ],
          [
           "Gymnázium Českolipská",
           2017
          ],
          [
           "Gymnázium Špitálská",
           2017
          ],
          [
           "Malostranské gymnázium",
           2017
          ],
          [
           "Gymnázium Nad Alejí",
           2018
          ],
          [
           "Gymnázium Špitálská",
           2018
          ],
          [
           "Malostranské gymnázium",
           2018
          ],
          [
           "Gymnázium Christiana Dopplera - matematická třída",
           2019
          ],
          [
           "Gymnázium Nad Alejí",
           2019
          ],
          [
           "Gymnázium Českolipská",
           2019
          ],
          [
           "Gymnázium Špitálská",
           2019
          ],
          [
           "Malostranské gymnázium",
           2019
          ],
          [
           "Gymnázium Budějovická",
           2020
          ],
          [
           "Gymnázium Christiana Dopplera - jazyková třída",
           2020
          ],
          [
           "Gymnázium Christiana Dopplera - matematická třída",
           2020
          ],
          [
           "Gymnázium Elišky Krásnohorské",
           2020
          ],
          [
           "Gymnázium Hlivická",
           2020
          ],
          [
           "Gymnázium J.G.Jarkovského",
           2020
          ],
          [
           "Gymnázium Nad Alejí",
           2020
          ],
          [
           "Gymnázium Písnická",
           2020
          ],
          [
           "Gymnázium prof. Jana Patočky",
           2020
          ],
          [
           "Gymnázium Českolipská",
           2020
          ],
          [
           "Gymnázium Špitálská",
           2020
          ],
          [
           "Malostranské gymnázium",
           2020
          ]
         ],
         "hovertemplate": "Skupina=1<br>Váha zkoušky CERMAT=%{x}<br>Počet bodů CERMAT u posledního přijatého=%{y}<br>Školní zkouška=%{marker.size}<br>Škola=%{customdata[0]}<br>Rok=%{customdata[1]}<extra></extra>",
         "legendgroup": "1",
         "marker": {
          "color": "#636efa",
          "size": [
           0.5,
           0.5,
           0.5,
           0.5,
           0.5,
           0.5,
           0.5,
           1,
           0.5,
           0.5,
           0.5,
           0.5,
           0.5,
           0.5,
           0.5,
           0.5,
           0.5,
           0.5,
           0.5,
           0.5,
           0.5,
           0.5,
           0.5,
           0.5,
           0.5,
           0.5,
           0.5,
           1,
           0.5,
           0.5,
           0.5
          ],
          "sizemode": "area",
          "sizeref": 0.0025,
          "symbol": "circle"
         },
         "mode": "markers",
         "name": "1",
         "orientation": "v",
         "showlegend": true,
         "type": "scatter",
         "x": [
          82.64,
          84.74,
          78.74,
          86.96,
          89.28,
          89.28,
          81.96,
          83.34,
          95.24,
          85.72,
          97.08,
          89.28,
          87.8,
          95.24,
          80.75,
          89.28,
          95.24,
          87.8,
          90.9,
          82.64,
          80.75,
          80.75,
          84.74,
          78.74,
          86.96,
          89.28,
          80.64,
          83.34,
          95.24,
          87.8,
          90.9
         ],
         "xaxis": "x",
         "y": [
          73,
          67,
          72,
          65,
          64,
          75,
          72,
          66,
          71,
          79,
          71,
          67,
          71,
          63,
          72,
          72,
          64,
          73,
          74,
          73,
          74,
          74,
          66,
          72,
          69,
          76,
          76,
          71,
          69,
          78,
          77
         ],
         "yaxis": "y"
        },
        {
         "hovertemplate": "<b>OLS trendline</b><br>MIN_CERMAT = -0.223955 * PROCENTA_CERMAT + 90.6169<br>R<sup>2</sup>=0.075959<br><br>Skupina=1<br>Váha zkoušky CERMAT=%{x}<br>Počet bodů CERMAT u posledního přijatého=%{y} <b>(trend)</b><extra></extra>",
         "legendgroup": "1",
         "marker": {
          "color": "#636efa",
          "symbol": "circle"
         },
         "mode": "lines",
         "name": "1",
         "showlegend": false,
         "type": "scatter",
         "x": [
          78.74,
          78.74,
          80.64,
          80.75,
          80.75,
          80.75,
          81.96,
          82.64,
          82.64,
          83.34,
          83.34,
          84.74,
          84.74,
          85.72,
          86.96,
          86.96,
          87.8,
          87.8,
          87.8,
          89.28,
          89.28,
          89.28,
          89.28,
          89.28,
          90.9,
          90.9,
          95.24,
          95.24,
          95.24,
          95.24,
          97.08
         ],
         "xaxis": "x",
         "y": [
          72.9826256621336,
          72.9826256621336,
          72.55711040490593,
          72.53247531106642,
          72.53247531106642,
          72.53247531106642,
          72.26148927883196,
          72.10919960782415,
          72.10919960782415,
          71.95243082884554,
          71.95243082884554,
          71.6388932708883,
          71.6388932708883,
          71.41941698031823,
          71.14171228612753,
          71.14171228612753,
          70.95358975135318,
          70.95358975135318,
          70.95358975135318,
          70.62213576151268,
          70.62213576151268,
          70.62213576151268,
          70.62213576151268,
          70.62213576151268,
          70.25932801587643,
          70.25932801587643,
          69.287361586209,
          69.287361586209,
          69.287361586209,
          69.287361586209,
          68.87528365289377
         ],
         "yaxis": "y"
        },
        {
         "customdata": [
          [
           "Gymnázium Jana Keplera",
           2017
          ],
          [
           "Gymnázium Jana Keplera",
           2018
          ],
          [
           "Gymnázium Jana Keplera",
           2019
          ],
          [
           "Gymnázium Jana Keplera",
           2020
          ],
          [
           "Gymnázium Nad Štolou",
           2020
          ],
          [
           "Gymnázium Voděradská",
           2020
          ]
         ],
         "hovertemplate": "Skupina=0<br>Váha zkoušky CERMAT=%{x}<br>Počet bodů CERMAT u posledního přijatého=%{y}<br>Školní zkouška=%{marker.size}<br>Škola=%{customdata[0]}<br>Rok=%{customdata[1]}<extra></extra>",
         "legendgroup": "0",
         "marker": {
          "color": "#EF553B",
          "size": [
           1,
           1,
           1,
           1,
           1,
           1
          ],
          "sizemode": "area",
          "sizeref": 0.0025,
          "symbol": "circle"
         },
         "mode": "markers",
         "name": "0",
         "orientation": "v",
         "showlegend": true,
         "type": "scatter",
         "x": [
          60.6,
          60.6,
          60.6,
          60.6,
          70.92,
          73.52
         ],
         "xaxis": "x",
         "y": [
          81,
          76,
          72,
          78,
          70,
          71
         ],
         "yaxis": "y"
        },
        {
         "hovertemplate": "<b>OLS trendline</b><br>MIN_CERMAT = -0.520866 * PROCENTA_CERMAT + 108.249<br>R<sup>2</sup>=0.521959<br><br>Skupina=0<br>Váha zkoušky CERMAT=%{x}<br>Počet bodů CERMAT u posledního přijatého=%{y} <b>(trend)</b><extra></extra>",
         "legendgroup": "0",
         "marker": {
          "color": "#EF553B",
          "symbol": "circle"
         },
         "mode": "lines",
         "name": "0",
         "showlegend": false,
         "type": "scatter",
         "x": [
          60.6,
          60.6,
          60.6,
          60.6,
          70.92,
          73.52
         ],
         "xaxis": "x",
         "y": [
          76.68415390006068,
          76.68415390006068,
          76.68415390006068,
          76.68415390006068,
          71.30881786341033,
          69.95456653634727
         ],
         "yaxis": "y"
        },
        {
         "customdata": [
          [
           "Gymnázium Karla Sladkovského",
           2017
          ],
          [
           "Gymnázium Litoměřická",
           2017
          ],
          [
           "Gymnázium Budějovická",
           2018
          ],
          [
           "Gymnázium Christiana Dopplera - jazyková třída",
           2018
          ],
          [
           "Gymnázium Christiana Dopplera - matematická třída",
           2018
          ],
          [
           "Gymnázium Elišky Krásnohorské",
           2018
          ],
          [
           "Gymnázium Hlivická",
           2018
          ],
          [
           "Gymnázium J.G.Jarkovského",
           2018
          ],
          [
           "Gymnázium Karla Sladkovského",
           2018
          ],
          [
           "Gymnázium Litoměřická",
           2018
          ],
          [
           "Gymnázium Písnická",
           2018
          ],
          [
           "Gymnázium prof. Jana Patočky",
           2018
          ],
          [
           "Gymnázium Českolipská",
           2018
          ],
          [
           "Gymnázium Budějovická",
           2019
          ],
          [
           "Gymnázium Christiana Dopplera - jazyková třída",
           2019
          ],
          [
           "Gymnázium Elišky Krásnohorské",
           2019
          ],
          [
           "Gymnázium Hlivická",
           2019
          ],
          [
           "Gymnázium J.G.Jarkovského",
           2019
          ],
          [
           "Gymnázium Karla Sladkovského",
           2019
          ],
          [
           "Gymnázium Písnická",
           2019
          ],
          [
           "Gymnázium prof. Jana Patočky",
           2019
          ],
          [
           "Gymnázium Karla Sladkovského",
           2020
          ]
         ],
         "hovertemplate": "Skupina=2<br>Váha zkoušky CERMAT=%{x}<br>Počet bodů CERMAT u posledního přijatého=%{y}<br>Školní zkouška=%{marker.size}<br>Škola=%{customdata[0]}<br>Rok=%{customdata[1]}<extra></extra>",
         "legendgroup": "2",
         "marker": {
          "color": "#00cc96",
          "size": [
           0.5,
           0.5,
           0.5,
           0.5,
           0.5,
           0.5,
           0.5,
           0.5,
           0.5,
           0.5,
           0.5,
           1,
           0.5,
           0.5,
           0.5,
           0.5,
           0.5,
           0.5,
           0.5,
           0.5,
           1,
           0.5
          ],
          "sizemode": "area",
          "sizeref": 0.0025,
          "symbol": "circle"
         },
         "mode": "markers",
         "name": "2",
         "orientation": "v",
         "showlegend": true,
         "type": "scatter",
         "x": [
          76.92,
          75.48,
          82.64,
          80.75,
          80.75,
          84.74,
          78.74,
          86.96,
          76.92,
          75.48,
          81.96,
          83.34,
          95.24,
          82.64,
          80.75,
          84.74,
          78.74,
          86.96,
          76.92,
          81.96,
          83.34,
          76.92
         ],
         "xaxis": "x",
         "y": [
          52,
          67,
          61,
          58,
          66,
          61,
          63,
          59,
          51,
          58,
          61,
          59,
          59,
          64,
          59,
          60,
          64,
          60,
          50,
          62,
          61,
          59
         ],
         "yaxis": "y"
        },
        {
         "hovertemplate": "<b>OLS trendline</b><br>MIN_CERMAT = 0.149522 * PROCENTA_CERMAT + 47.542<br>R<sup>2</sup>=0.025916<br><br>Skupina=2<br>Váha zkoušky CERMAT=%{x}<br>Počet bodů CERMAT u posledního přijatého=%{y} <b>(trend)</b><extra></extra>",
         "legendgroup": "2",
         "marker": {
          "color": "#00cc96",
          "symbol": "circle"
         },
         "mode": "lines",
         "name": "2",
         "showlegend": false,
         "type": "scatter",
         "x": [
          75.48,
          75.48,
          76.92,
          76.92,
          76.92,
          76.92,
          78.74,
          78.74,
          80.75,
          80.75,
          80.75,
          81.96,
          81.96,
          82.64,
          82.64,
          83.34,
          83.34,
          84.74,
          84.74,
          86.96,
          86.96,
          95.24
         ],
         "xaxis": "x",
         "y": [
          58.8278968817769,
          58.8278968817769,
          59.043208804888124,
          59.043208804888124,
          59.043208804888124,
          59.043208804888124,
          59.31533915215369,
          59.31533915215369,
          59.615878711496435,
          59.615878711496435,
          59.615878711496435,
          59.79680053577739,
          59.79680053577739,
          59.89847561057991,
          59.89847561057991,
          60.003141128758976,
          60.003141128758976,
          60.212472165117106,
          60.212472165117106,
          60.54441137991357,
          60.54441137991357,
          61.78245493780308
         ],
         "yaxis": "y"
        },
        {
         "customdata": [
          [
           "Gymnázium Nad Kavalírkou",
           2017
          ],
          [
           "Gymnázium Nad Štolou",
           2017
          ],
          [
           "Gymnázium Omská",
           2017
          ],
          [
           "Gymnázium Opatov",
           2017
          ],
          [
           "Gymnázium Voděradská",
           2017
          ],
          [
           "Gymnázium Jaroslava Heyrovského",
           2018
          ],
          [
           "Gymnázium Nad Kavalírkou",
           2018
          ],
          [
           "Gymnázium Nad Štolou",
           2018
          ],
          [
           "Gymnázium Omská",
           2018
          ],
          [
           "Gymnázium Opatov",
           2018
          ],
          [
           "Gymnázium Voděradská",
           2018
          ],
          [
           "Gymnázium Jaroslava Heyrovského",
           2019
          ],
          [
           "Gymnázium Nad Kavalírkou",
           2019
          ],
          [
           "Gymnázium Nad Štolou",
           2019
          ],
          [
           "Gymnázium Omská",
           2019
          ],
          [
           "Gymnázium Opatov",
           2019
          ],
          [
           "Gymnázium Voděradská",
           2019
          ],
          [
           "Gymnázium Jaroslava Heyrovského",
           2020
          ],
          [
           "Gymnázium Nad Kavalírkou",
           2020
          ],
          [
           "Gymnázium Omská",
           2020
          ],
          [
           "Gymnázium Opatov",
           2020
          ]
         ],
         "hovertemplate": "Skupina=3<br>Váha zkoušky CERMAT=%{x}<br>Počet bodů CERMAT u posledního přijatého=%{y}<br>Školní zkouška=%{marker.size}<br>Škola=%{customdata[0]}<br>Rok=%{customdata[1]}<extra></extra>",
         "legendgroup": "3",
         "marker": {
          "color": "#ab63fa",
          "size": [
           1,
           1,
           1,
           1,
           1,
           1,
           1,
           1,
           1,
           1,
           1,
           1,
           1,
           1,
           1,
           1,
           1,
           1,
           1,
           1,
           1
          ],
          "sizemode": "area",
          "sizeref": 0.0025,
          "symbol": "circle"
         },
         "mode": "markers",
         "name": "3",
         "orientation": "v",
         "showlegend": true,
         "type": "scatter",
         "x": [
          65.78,
          66.22,
          62.5,
          60.24,
          68.96,
          61.72,
          65.78,
          70.42,
          62.5,
          60.24,
          73.52,
          61.72,
          65.78,
          70.92,
          62.5,
          60.24,
          73.52,
          61.72,
          65.78,
          62.5,
          60.24
         ],
         "xaxis": "x",
         "y": [
          60,
          64,
          62,
          60,
          58,
          61,
          61,
          61,
          54,
          52,
          56,
          57,
          64,
          63,
          59,
          61,
          59,
          57,
          61,
          61,
          66
         ],
         "yaxis": "y"
        },
        {
         "hovertemplate": "<b>OLS trendline</b><br>MIN_CERMAT = 0.0346679 * PROCENTA_CERMAT + 57.6074<br>R<sup>2</sup>=0.001999<br><br>Skupina=3<br>Váha zkoušky CERMAT=%{x}<br>Počet bodů CERMAT u posledního přijatého=%{y} <b>(trend)</b><extra></extra>",
         "legendgroup": "3",
         "marker": {
          "color": "#ab63fa",
          "symbol": "circle"
         },
         "mode": "lines",
         "name": "3",
         "showlegend": false,
         "type": "scatter",
         "x": [
          60.24,
          60.24,
          60.24,
          60.24,
          61.72,
          61.72,
          61.72,
          62.5,
          62.5,
          62.5,
          62.5,
          65.78,
          65.78,
          65.78,
          65.78,
          66.22,
          68.96,
          70.42,
          70.92,
          73.52,
          73.52
         ],
         "xaxis": "x",
         "y": [
          59.69575558307398,
          59.69575558307398,
          59.69575558307398,
          59.69575558307398,
          59.74706405768589,
          59.74706405768589,
          59.74706405768589,
          59.77410501052189,
          59.77410501052189,
          59.77410501052189,
          59.77410501052189,
          59.88781568398612,
          59.88781568398612,
          59.88781568398612,
          59.88781568398612,
          59.90306955481668,
          59.99805956862521,
          60.04867468547209,
          60.06600862959773,
          60.156145139051084,
          60.156145139051084
         ],
         "yaxis": "y"
        }
       ],
       "layout": {
        "legend": {
         "itemsizing": "constant",
         "title": {
          "text": "Skupiny"
         },
         "tracegroupgap": 0
        },
        "margin": {
         "t": 60
        },
        "template": {
         "data": {
          "bar": [
           {
            "error_x": {
             "color": "#2a3f5f"
            },
            "error_y": {
             "color": "#2a3f5f"
            },
            "marker": {
             "line": {
              "color": "#E5ECF6",
              "width": 0.5
             }
            },
            "type": "bar"
           }
          ],
          "barpolar": [
           {
            "marker": {
             "line": {
              "color": "#E5ECF6",
              "width": 0.5
             }
            },
            "type": "barpolar"
           }
          ],
          "carpet": [
           {
            "aaxis": {
             "endlinecolor": "#2a3f5f",
             "gridcolor": "white",
             "linecolor": "white",
             "minorgridcolor": "white",
             "startlinecolor": "#2a3f5f"
            },
            "baxis": {
             "endlinecolor": "#2a3f5f",
             "gridcolor": "white",
             "linecolor": "white",
             "minorgridcolor": "white",
             "startlinecolor": "#2a3f5f"
            },
            "type": "carpet"
           }
          ],
          "choropleth": [
           {
            "colorbar": {
             "outlinewidth": 0,
             "ticks": ""
            },
            "type": "choropleth"
           }
          ],
          "contour": [
           {
            "colorbar": {
             "outlinewidth": 0,
             "ticks": ""
            },
            "colorscale": [
             [
              0,
              "#0d0887"
             ],
             [
              0.1111111111111111,
              "#46039f"
             ],
             [
              0.2222222222222222,
              "#7201a8"
             ],
             [
              0.3333333333333333,
              "#9c179e"
             ],
             [
              0.4444444444444444,
              "#bd3786"
             ],
             [
              0.5555555555555556,
              "#d8576b"
             ],
             [
              0.6666666666666666,
              "#ed7953"
             ],
             [
              0.7777777777777778,
              "#fb9f3a"
             ],
             [
              0.8888888888888888,
              "#fdca26"
             ],
             [
              1,
              "#f0f921"
             ]
            ],
            "type": "contour"
           }
          ],
          "contourcarpet": [
           {
            "colorbar": {
             "outlinewidth": 0,
             "ticks": ""
            },
            "type": "contourcarpet"
           }
          ],
          "heatmap": [
           {
            "colorbar": {
             "outlinewidth": 0,
             "ticks": ""
            },
            "colorscale": [
             [
              0,
              "#0d0887"
             ],
             [
              0.1111111111111111,
              "#46039f"
             ],
             [
              0.2222222222222222,
              "#7201a8"
             ],
             [
              0.3333333333333333,
              "#9c179e"
             ],
             [
              0.4444444444444444,
              "#bd3786"
             ],
             [
              0.5555555555555556,
              "#d8576b"
             ],
             [
              0.6666666666666666,
              "#ed7953"
             ],
             [
              0.7777777777777778,
              "#fb9f3a"
             ],
             [
              0.8888888888888888,
              "#fdca26"
             ],
             [
              1,
              "#f0f921"
             ]
            ],
            "type": "heatmap"
           }
          ],
          "heatmapgl": [
           {
            "colorbar": {
             "outlinewidth": 0,
             "ticks": ""
            },
            "colorscale": [
             [
              0,
              "#0d0887"
             ],
             [
              0.1111111111111111,
              "#46039f"
             ],
             [
              0.2222222222222222,
              "#7201a8"
             ],
             [
              0.3333333333333333,
              "#9c179e"
             ],
             [
              0.4444444444444444,
              "#bd3786"
             ],
             [
              0.5555555555555556,
              "#d8576b"
             ],
             [
              0.6666666666666666,
              "#ed7953"
             ],
             [
              0.7777777777777778,
              "#fb9f3a"
             ],
             [
              0.8888888888888888,
              "#fdca26"
             ],
             [
              1,
              "#f0f921"
             ]
            ],
            "type": "heatmapgl"
           }
          ],
          "histogram": [
           {
            "marker": {
             "colorbar": {
              "outlinewidth": 0,
              "ticks": ""
             }
            },
            "type": "histogram"
           }
          ],
          "histogram2d": [
           {
            "colorbar": {
             "outlinewidth": 0,
             "ticks": ""
            },
            "colorscale": [
             [
              0,
              "#0d0887"
             ],
             [
              0.1111111111111111,
              "#46039f"
             ],
             [
              0.2222222222222222,
              "#7201a8"
             ],
             [
              0.3333333333333333,
              "#9c179e"
             ],
             [
              0.4444444444444444,
              "#bd3786"
             ],
             [
              0.5555555555555556,
              "#d8576b"
             ],
             [
              0.6666666666666666,
              "#ed7953"
             ],
             [
              0.7777777777777778,
              "#fb9f3a"
             ],
             [
              0.8888888888888888,
              "#fdca26"
             ],
             [
              1,
              "#f0f921"
             ]
            ],
            "type": "histogram2d"
           }
          ],
          "histogram2dcontour": [
           {
            "colorbar": {
             "outlinewidth": 0,
             "ticks": ""
            },
            "colorscale": [
             [
              0,
              "#0d0887"
             ],
             [
              0.1111111111111111,
              "#46039f"
             ],
             [
              0.2222222222222222,
              "#7201a8"
             ],
             [
              0.3333333333333333,
              "#9c179e"
             ],
             [
              0.4444444444444444,
              "#bd3786"
             ],
             [
              0.5555555555555556,
              "#d8576b"
             ],
             [
              0.6666666666666666,
              "#ed7953"
             ],
             [
              0.7777777777777778,
              "#fb9f3a"
             ],
             [
              0.8888888888888888,
              "#fdca26"
             ],
             [
              1,
              "#f0f921"
             ]
            ],
            "type": "histogram2dcontour"
           }
          ],
          "mesh3d": [
           {
            "colorbar": {
             "outlinewidth": 0,
             "ticks": ""
            },
            "type": "mesh3d"
           }
          ],
          "parcoords": [
           {
            "line": {
             "colorbar": {
              "outlinewidth": 0,
              "ticks": ""
             }
            },
            "type": "parcoords"
           }
          ],
          "pie": [
           {
            "automargin": true,
            "type": "pie"
           }
          ],
          "scatter": [
           {
            "marker": {
             "colorbar": {
              "outlinewidth": 0,
              "ticks": ""
             }
            },
            "type": "scatter"
           }
          ],
          "scatter3d": [
           {
            "line": {
             "colorbar": {
              "outlinewidth": 0,
              "ticks": ""
             }
            },
            "marker": {
             "colorbar": {
              "outlinewidth": 0,
              "ticks": ""
             }
            },
            "type": "scatter3d"
           }
          ],
          "scattercarpet": [
           {
            "marker": {
             "colorbar": {
              "outlinewidth": 0,
              "ticks": ""
             }
            },
            "type": "scattercarpet"
           }
          ],
          "scattergeo": [
           {
            "marker": {
             "colorbar": {
              "outlinewidth": 0,
              "ticks": ""
             }
            },
            "type": "scattergeo"
           }
          ],
          "scattergl": [
           {
            "marker": {
             "colorbar": {
              "outlinewidth": 0,
              "ticks": ""
             }
            },
            "type": "scattergl"
           }
          ],
          "scattermapbox": [
           {
            "marker": {
             "colorbar": {
              "outlinewidth": 0,
              "ticks": ""
             }
            },
            "type": "scattermapbox"
           }
          ],
          "scatterpolar": [
           {
            "marker": {
             "colorbar": {
              "outlinewidth": 0,
              "ticks": ""
             }
            },
            "type": "scatterpolar"
           }
          ],
          "scatterpolargl": [
           {
            "marker": {
             "colorbar": {
              "outlinewidth": 0,
              "ticks": ""
             }
            },
            "type": "scatterpolargl"
           }
          ],
          "scatterternary": [
           {
            "marker": {
             "colorbar": {
              "outlinewidth": 0,
              "ticks": ""
             }
            },
            "type": "scatterternary"
           }
          ],
          "surface": [
           {
            "colorbar": {
             "outlinewidth": 0,
             "ticks": ""
            },
            "colorscale": [
             [
              0,
              "#0d0887"
             ],
             [
              0.1111111111111111,
              "#46039f"
             ],
             [
              0.2222222222222222,
              "#7201a8"
             ],
             [
              0.3333333333333333,
              "#9c179e"
             ],
             [
              0.4444444444444444,
              "#bd3786"
             ],
             [
              0.5555555555555556,
              "#d8576b"
             ],
             [
              0.6666666666666666,
              "#ed7953"
             ],
             [
              0.7777777777777778,
              "#fb9f3a"
             ],
             [
              0.8888888888888888,
              "#fdca26"
             ],
             [
              1,
              "#f0f921"
             ]
            ],
            "type": "surface"
           }
          ],
          "table": [
           {
            "cells": {
             "fill": {
              "color": "#EBF0F8"
             },
             "line": {
              "color": "white"
             }
            },
            "header": {
             "fill": {
              "color": "#C8D4E3"
             },
             "line": {
              "color": "white"
             }
            },
            "type": "table"
           }
          ]
         },
         "layout": {
          "annotationdefaults": {
           "arrowcolor": "#2a3f5f",
           "arrowhead": 0,
           "arrowwidth": 1
          },
          "coloraxis": {
           "colorbar": {
            "outlinewidth": 0,
            "ticks": ""
           }
          },
          "colorscale": {
           "diverging": [
            [
             0,
             "#8e0152"
            ],
            [
             0.1,
             "#c51b7d"
            ],
            [
             0.2,
             "#de77ae"
            ],
            [
             0.3,
             "#f1b6da"
            ],
            [
             0.4,
             "#fde0ef"
            ],
            [
             0.5,
             "#f7f7f7"
            ],
            [
             0.6,
             "#e6f5d0"
            ],
            [
             0.7,
             "#b8e186"
            ],
            [
             0.8,
             "#7fbc41"
            ],
            [
             0.9,
             "#4d9221"
            ],
            [
             1,
             "#276419"
            ]
           ],
           "sequential": [
            [
             0,
             "#0d0887"
            ],
            [
             0.1111111111111111,
             "#46039f"
            ],
            [
             0.2222222222222222,
             "#7201a8"
            ],
            [
             0.3333333333333333,
             "#9c179e"
            ],
            [
             0.4444444444444444,
             "#bd3786"
            ],
            [
             0.5555555555555556,
             "#d8576b"
            ],
            [
             0.6666666666666666,
             "#ed7953"
            ],
            [
             0.7777777777777778,
             "#fb9f3a"
            ],
            [
             0.8888888888888888,
             "#fdca26"
            ],
            [
             1,
             "#f0f921"
            ]
           ],
           "sequentialminus": [
            [
             0,
             "#0d0887"
            ],
            [
             0.1111111111111111,
             "#46039f"
            ],
            [
             0.2222222222222222,
             "#7201a8"
            ],
            [
             0.3333333333333333,
             "#9c179e"
            ],
            [
             0.4444444444444444,
             "#bd3786"
            ],
            [
             0.5555555555555556,
             "#d8576b"
            ],
            [
             0.6666666666666666,
             "#ed7953"
            ],
            [
             0.7777777777777778,
             "#fb9f3a"
            ],
            [
             0.8888888888888888,
             "#fdca26"
            ],
            [
             1,
             "#f0f921"
            ]
           ]
          },
          "colorway": [
           "#636efa",
           "#EF553B",
           "#00cc96",
           "#ab63fa",
           "#FFA15A",
           "#19d3f3",
           "#FF6692",
           "#B6E880",
           "#FF97FF",
           "#FECB52"
          ],
          "font": {
           "color": "#2a3f5f"
          },
          "geo": {
           "bgcolor": "white",
           "lakecolor": "white",
           "landcolor": "#E5ECF6",
           "showlakes": true,
           "showland": true,
           "subunitcolor": "white"
          },
          "hoverlabel": {
           "align": "left"
          },
          "hovermode": "closest",
          "mapbox": {
           "style": "light"
          },
          "paper_bgcolor": "white",
          "plot_bgcolor": "#E5ECF6",
          "polar": {
           "angularaxis": {
            "gridcolor": "white",
            "linecolor": "white",
            "ticks": ""
           },
           "bgcolor": "#E5ECF6",
           "radialaxis": {
            "gridcolor": "white",
            "linecolor": "white",
            "ticks": ""
           }
          },
          "scene": {
           "xaxis": {
            "backgroundcolor": "#E5ECF6",
            "gridcolor": "white",
            "gridwidth": 2,
            "linecolor": "white",
            "showbackground": true,
            "ticks": "",
            "zerolinecolor": "white"
           },
           "yaxis": {
            "backgroundcolor": "#E5ECF6",
            "gridcolor": "white",
            "gridwidth": 2,
            "linecolor": "white",
            "showbackground": true,
            "ticks": "",
            "zerolinecolor": "white"
           },
           "zaxis": {
            "backgroundcolor": "#E5ECF6",
            "gridcolor": "white",
            "gridwidth": 2,
            "linecolor": "white",
            "showbackground": true,
            "ticks": "",
            "zerolinecolor": "white"
           }
          },
          "shapedefaults": {
           "line": {
            "color": "#2a3f5f"
           }
          },
          "ternary": {
           "aaxis": {
            "gridcolor": "white",
            "linecolor": "white",
            "ticks": ""
           },
           "baxis": {
            "gridcolor": "white",
            "linecolor": "white",
            "ticks": ""
           },
           "bgcolor": "#E5ECF6",
           "caxis": {
            "gridcolor": "white",
            "linecolor": "white",
            "ticks": ""
           }
          },
          "title": {
           "x": 0.05
          },
          "xaxis": {
           "automargin": true,
           "gridcolor": "white",
           "linecolor": "white",
           "ticks": "",
           "title": {
            "standoff": 15
           },
           "zerolinecolor": "white",
           "zerolinewidth": 2
          },
          "yaxis": {
           "automargin": true,
           "gridcolor": "white",
           "linecolor": "white",
           "ticks": "",
           "title": {
            "standoff": 15
           },
           "zerolinecolor": "white",
           "zerolinewidth": 2
          }
         }
        },
        "title": {
         "text": "Rozdělení škol na skupiny"
        },
        "xaxis": {
         "anchor": "y",
         "domain": [
          0,
          1
         ],
         "title": {
          "text": "Procentuální váha jednotné zkoušky CERMAT (čeština + matematika)"
         }
        },
        "yaxis": {
         "anchor": "x",
         "domain": [
          0,
          1
         ],
         "title": {
          "text": "Počet bodů za jednotnou zkoušku u posledního přijatého"
         }
        }
       }
      },
      "text/html": [
       "<div>                            <div id=\"0809d88e-985e-47e5-8fc9-77cf3251776c\" class=\"plotly-graph-div\" style=\"height:525px; width:100%;\"></div>            <script type=\"text/javascript\">                require([\"plotly\"], function(Plotly) {                    window.PLOTLYENV=window.PLOTLYENV || {};                                    if (document.getElementById(\"0809d88e-985e-47e5-8fc9-77cf3251776c\")) {                    Plotly.newPlot(                        \"0809d88e-985e-47e5-8fc9-77cf3251776c\",                        [{\"customdata\": [[\"Gymn\\u00e1zium Bud\\u011bjovick\\u00e1\", 2017], [\"Gymn\\u00e1zium Eli\\u0161ky Kr\\u00e1snohorsk\\u00e9\", 2017], [\"Gymn\\u00e1zium Hlivick\\u00e1\", 2017], [\"Gymn\\u00e1zium J.G.Jarkovsk\\u00e9ho\", 2017], [\"Gymn\\u00e1zium Jaroslava Heyrovsk\\u00e9ho\", 2017], [\"Gymn\\u00e1zium Nad Alej\\u00ed\", 2017], [\"Gymn\\u00e1zium P\\u00edsnick\\u00e1\", 2017], [\"Gymn\\u00e1zium prof. Jana Pato\\u010dky\", 2017], [\"Gymn\\u00e1zium \\u010ceskolipsk\\u00e1\", 2017], [\"Gymn\\u00e1zium \\u0160pit\\u00e1lsk\\u00e1\", 2017], [\"Malostransk\\u00e9 gymn\\u00e1zium\", 2017], [\"Gymn\\u00e1zium Nad Alej\\u00ed\", 2018], [\"Gymn\\u00e1zium \\u0160pit\\u00e1lsk\\u00e1\", 2018], [\"Malostransk\\u00e9 gymn\\u00e1zium\", 2018], [\"Gymn\\u00e1zium Christiana Dopplera - matematick\\u00e1 t\\u0159\\u00edda\", 2019], [\"Gymn\\u00e1zium Nad Alej\\u00ed\", 2019], [\"Gymn\\u00e1zium \\u010ceskolipsk\\u00e1\", 2019], [\"Gymn\\u00e1zium \\u0160pit\\u00e1lsk\\u00e1\", 2019], [\"Malostransk\\u00e9 gymn\\u00e1zium\", 2019], [\"Gymn\\u00e1zium Bud\\u011bjovick\\u00e1\", 2020], [\"Gymn\\u00e1zium Christiana Dopplera - jazykov\\u00e1 t\\u0159\\u00edda\", 2020], [\"Gymn\\u00e1zium Christiana Dopplera - matematick\\u00e1 t\\u0159\\u00edda\", 2020], [\"Gymn\\u00e1zium Eli\\u0161ky Kr\\u00e1snohorsk\\u00e9\", 2020], [\"Gymn\\u00e1zium Hlivick\\u00e1\", 2020], [\"Gymn\\u00e1zium J.G.Jarkovsk\\u00e9ho\", 2020], [\"Gymn\\u00e1zium Nad Alej\\u00ed\", 2020], [\"Gymn\\u00e1zium P\\u00edsnick\\u00e1\", 2020], [\"Gymn\\u00e1zium prof. Jana Pato\\u010dky\", 2020], [\"Gymn\\u00e1zium \\u010ceskolipsk\\u00e1\", 2020], [\"Gymn\\u00e1zium \\u0160pit\\u00e1lsk\\u00e1\", 2020], [\"Malostransk\\u00e9 gymn\\u00e1zium\", 2020]], \"hovertemplate\": \"Skupina=1<br>V\\u00e1ha zkou\\u0161ky CERMAT=%{x}<br>Po\\u010det bod\\u016f CERMAT u posledn\\u00edho p\\u0159ijat\\u00e9ho=%{y}<br>\\u0160koln\\u00ed zkou\\u0161ka=%{marker.size}<br>\\u0160kola=%{customdata[0]}<br>Rok=%{customdata[1]}<extra></extra>\", \"legendgroup\": \"1\", \"marker\": {\"color\": \"#636efa\", \"size\": [0.5, 0.5, 0.5, 0.5, 0.5, 0.5, 0.5, 1.0, 0.5, 0.5, 0.5, 0.5, 0.5, 0.5, 0.5, 0.5, 0.5, 0.5, 0.5, 0.5, 0.5, 0.5, 0.5, 0.5, 0.5, 0.5, 0.5, 1.0, 0.5, 0.5, 0.5], \"sizemode\": \"area\", \"sizeref\": 0.0025, \"symbol\": \"circle\"}, \"mode\": \"markers\", \"name\": \"1\", \"orientation\": \"v\", \"showlegend\": true, \"type\": \"scatter\", \"x\": [82.64, 84.74, 78.74, 86.96, 89.28, 89.28, 81.96, 83.34, 95.24, 85.72, 97.08, 89.28, 87.8, 95.24, 80.75, 89.28, 95.24, 87.8, 90.9, 82.64, 80.75, 80.75, 84.74, 78.74, 86.96, 89.28, 80.64, 83.34, 95.24, 87.8, 90.9], \"xaxis\": \"x\", \"y\": [73.0, 67.0, 72.0, 65.0, 64.0, 75.0, 72.0, 66.0, 71.0, 79.0, 71.0, 67.0, 71.0, 63.0, 72.0, 72.0, 64.0, 73.0, 74.0, 73.0, 74.0, 74.0, 66.0, 72.0, 69.0, 76.0, 76.0, 71.0, 69.0, 78.0, 77.0], \"yaxis\": \"y\"}, {\"hovertemplate\": \"<b>OLS trendline</b><br>MIN_CERMAT = -0.223955 * PROCENTA_CERMAT + 90.6169<br>R<sup>2</sup>=0.075959<br><br>Skupina=1<br>V\\u00e1ha zkou\\u0161ky CERMAT=%{x}<br>Po\\u010det bod\\u016f CERMAT u posledn\\u00edho p\\u0159ijat\\u00e9ho=%{y} <b>(trend)</b><extra></extra>\", \"legendgroup\": \"1\", \"marker\": {\"color\": \"#636efa\", \"symbol\": \"circle\"}, \"mode\": \"lines\", \"name\": \"1\", \"showlegend\": false, \"type\": \"scatter\", \"x\": [78.74, 78.74, 80.64, 80.75, 80.75, 80.75, 81.96, 82.64, 82.64, 83.34, 83.34, 84.74, 84.74, 85.72, 86.96, 86.96, 87.8, 87.8, 87.8, 89.28, 89.28, 89.28, 89.28, 89.28, 90.9, 90.9, 95.24, 95.24, 95.24, 95.24, 97.08], \"xaxis\": \"x\", \"y\": [72.9826256621336, 72.9826256621336, 72.55711040490593, 72.53247531106642, 72.53247531106642, 72.53247531106642, 72.26148927883196, 72.10919960782415, 72.10919960782415, 71.95243082884554, 71.95243082884554, 71.6388932708883, 71.6388932708883, 71.41941698031823, 71.14171228612753, 71.14171228612753, 70.95358975135318, 70.95358975135318, 70.95358975135318, 70.62213576151268, 70.62213576151268, 70.62213576151268, 70.62213576151268, 70.62213576151268, 70.25932801587643, 70.25932801587643, 69.287361586209, 69.287361586209, 69.287361586209, 69.287361586209, 68.87528365289377], \"yaxis\": \"y\"}, {\"customdata\": [[\"Gymn\\u00e1zium Jana Keplera\", 2017], [\"Gymn\\u00e1zium Jana Keplera\", 2018], [\"Gymn\\u00e1zium Jana Keplera\", 2019], [\"Gymn\\u00e1zium Jana Keplera\", 2020], [\"Gymn\\u00e1zium Nad \\u0160tolou\", 2020], [\"Gymn\\u00e1zium Vod\\u011bradsk\\u00e1\", 2020]], \"hovertemplate\": \"Skupina=0<br>V\\u00e1ha zkou\\u0161ky CERMAT=%{x}<br>Po\\u010det bod\\u016f CERMAT u posledn\\u00edho p\\u0159ijat\\u00e9ho=%{y}<br>\\u0160koln\\u00ed zkou\\u0161ka=%{marker.size}<br>\\u0160kola=%{customdata[0]}<br>Rok=%{customdata[1]}<extra></extra>\", \"legendgroup\": \"0\", \"marker\": {\"color\": \"#EF553B\", \"size\": [1.0, 1.0, 1.0, 1.0, 1.0, 1.0], \"sizemode\": \"area\", \"sizeref\": 0.0025, \"symbol\": \"circle\"}, \"mode\": \"markers\", \"name\": \"0\", \"orientation\": \"v\", \"showlegend\": true, \"type\": \"scatter\", \"x\": [60.6, 60.6, 60.6, 60.6, 70.92, 73.52], \"xaxis\": \"x\", \"y\": [81.0, 76.0, 72.0, 78.0, 70.0, 71.0], \"yaxis\": \"y\"}, {\"hovertemplate\": \"<b>OLS trendline</b><br>MIN_CERMAT = -0.520866 * PROCENTA_CERMAT + 108.249<br>R<sup>2</sup>=0.521959<br><br>Skupina=0<br>V\\u00e1ha zkou\\u0161ky CERMAT=%{x}<br>Po\\u010det bod\\u016f CERMAT u posledn\\u00edho p\\u0159ijat\\u00e9ho=%{y} <b>(trend)</b><extra></extra>\", \"legendgroup\": \"0\", \"marker\": {\"color\": \"#EF553B\", \"symbol\": \"circle\"}, \"mode\": \"lines\", \"name\": \"0\", \"showlegend\": false, \"type\": \"scatter\", \"x\": [60.6, 60.6, 60.6, 60.6, 70.92, 73.52], \"xaxis\": \"x\", \"y\": [76.68415390006068, 76.68415390006068, 76.68415390006068, 76.68415390006068, 71.30881786341033, 69.95456653634727], \"yaxis\": \"y\"}, {\"customdata\": [[\"Gymn\\u00e1zium Karla Sladkovsk\\u00e9ho\", 2017], [\"Gymn\\u00e1zium Litom\\u011b\\u0159ick\\u00e1\", 2017], [\"Gymn\\u00e1zium Bud\\u011bjovick\\u00e1\", 2018], [\"Gymn\\u00e1zium Christiana Dopplera - jazykov\\u00e1 t\\u0159\\u00edda\", 2018], [\"Gymn\\u00e1zium Christiana Dopplera - matematick\\u00e1 t\\u0159\\u00edda\", 2018], [\"Gymn\\u00e1zium Eli\\u0161ky Kr\\u00e1snohorsk\\u00e9\", 2018], [\"Gymn\\u00e1zium Hlivick\\u00e1\", 2018], [\"Gymn\\u00e1zium J.G.Jarkovsk\\u00e9ho\", 2018], [\"Gymn\\u00e1zium Karla Sladkovsk\\u00e9ho\", 2018], [\"Gymn\\u00e1zium Litom\\u011b\\u0159ick\\u00e1\", 2018], [\"Gymn\\u00e1zium P\\u00edsnick\\u00e1\", 2018], [\"Gymn\\u00e1zium prof. Jana Pato\\u010dky\", 2018], [\"Gymn\\u00e1zium \\u010ceskolipsk\\u00e1\", 2018], [\"Gymn\\u00e1zium Bud\\u011bjovick\\u00e1\", 2019], [\"Gymn\\u00e1zium Christiana Dopplera - jazykov\\u00e1 t\\u0159\\u00edda\", 2019], [\"Gymn\\u00e1zium Eli\\u0161ky Kr\\u00e1snohorsk\\u00e9\", 2019], [\"Gymn\\u00e1zium Hlivick\\u00e1\", 2019], [\"Gymn\\u00e1zium J.G.Jarkovsk\\u00e9ho\", 2019], [\"Gymn\\u00e1zium Karla Sladkovsk\\u00e9ho\", 2019], [\"Gymn\\u00e1zium P\\u00edsnick\\u00e1\", 2019], [\"Gymn\\u00e1zium prof. Jana Pato\\u010dky\", 2019], [\"Gymn\\u00e1zium Karla Sladkovsk\\u00e9ho\", 2020]], \"hovertemplate\": \"Skupina=2<br>V\\u00e1ha zkou\\u0161ky CERMAT=%{x}<br>Po\\u010det bod\\u016f CERMAT u posledn\\u00edho p\\u0159ijat\\u00e9ho=%{y}<br>\\u0160koln\\u00ed zkou\\u0161ka=%{marker.size}<br>\\u0160kola=%{customdata[0]}<br>Rok=%{customdata[1]}<extra></extra>\", \"legendgroup\": \"2\", \"marker\": {\"color\": \"#00cc96\", \"size\": [0.5, 0.5, 0.5, 0.5, 0.5, 0.5, 0.5, 0.5, 0.5, 0.5, 0.5, 1.0, 0.5, 0.5, 0.5, 0.5, 0.5, 0.5, 0.5, 0.5, 1.0, 0.5], \"sizemode\": \"area\", \"sizeref\": 0.0025, \"symbol\": \"circle\"}, \"mode\": \"markers\", \"name\": \"2\", \"orientation\": \"v\", \"showlegend\": true, \"type\": \"scatter\", \"x\": [76.92, 75.48, 82.64, 80.75, 80.75, 84.74, 78.74, 86.96, 76.92, 75.48, 81.96, 83.34, 95.24, 82.64, 80.75, 84.74, 78.74, 86.96, 76.92, 81.96, 83.34, 76.92], \"xaxis\": \"x\", \"y\": [52.0, 67.0, 61.0, 58.0, 66.0, 61.0, 63.0, 59.0, 51.0, 58.0, 61.0, 59.0, 59.0, 64.0, 59.0, 60.0, 64.0, 60.0, 50.0, 62.0, 61.0, 59.0], \"yaxis\": \"y\"}, {\"hovertemplate\": \"<b>OLS trendline</b><br>MIN_CERMAT = 0.149522 * PROCENTA_CERMAT + 47.542<br>R<sup>2</sup>=0.025916<br><br>Skupina=2<br>V\\u00e1ha zkou\\u0161ky CERMAT=%{x}<br>Po\\u010det bod\\u016f CERMAT u posledn\\u00edho p\\u0159ijat\\u00e9ho=%{y} <b>(trend)</b><extra></extra>\", \"legendgroup\": \"2\", \"marker\": {\"color\": \"#00cc96\", \"symbol\": \"circle\"}, \"mode\": \"lines\", \"name\": \"2\", \"showlegend\": false, \"type\": \"scatter\", \"x\": [75.48, 75.48, 76.92, 76.92, 76.92, 76.92, 78.74, 78.74, 80.75, 80.75, 80.75, 81.96, 81.96, 82.64, 82.64, 83.34, 83.34, 84.74, 84.74, 86.96, 86.96, 95.24], \"xaxis\": \"x\", \"y\": [58.8278968817769, 58.8278968817769, 59.043208804888124, 59.043208804888124, 59.043208804888124, 59.043208804888124, 59.31533915215369, 59.31533915215369, 59.615878711496435, 59.615878711496435, 59.615878711496435, 59.79680053577739, 59.79680053577739, 59.89847561057991, 59.89847561057991, 60.003141128758976, 60.003141128758976, 60.212472165117106, 60.212472165117106, 60.54441137991357, 60.54441137991357, 61.78245493780308], \"yaxis\": \"y\"}, {\"customdata\": [[\"Gymn\\u00e1zium Nad Kaval\\u00edrkou\", 2017], [\"Gymn\\u00e1zium Nad \\u0160tolou\", 2017], [\"Gymn\\u00e1zium Omsk\\u00e1\", 2017], [\"Gymn\\u00e1zium Opatov\", 2017], [\"Gymn\\u00e1zium Vod\\u011bradsk\\u00e1\", 2017], [\"Gymn\\u00e1zium Jaroslava Heyrovsk\\u00e9ho\", 2018], [\"Gymn\\u00e1zium Nad Kaval\\u00edrkou\", 2018], [\"Gymn\\u00e1zium Nad \\u0160tolou\", 2018], [\"Gymn\\u00e1zium Omsk\\u00e1\", 2018], [\"Gymn\\u00e1zium Opatov\", 2018], [\"Gymn\\u00e1zium Vod\\u011bradsk\\u00e1\", 2018], [\"Gymn\\u00e1zium Jaroslava Heyrovsk\\u00e9ho\", 2019], [\"Gymn\\u00e1zium Nad Kaval\\u00edrkou\", 2019], [\"Gymn\\u00e1zium Nad \\u0160tolou\", 2019], [\"Gymn\\u00e1zium Omsk\\u00e1\", 2019], [\"Gymn\\u00e1zium Opatov\", 2019], [\"Gymn\\u00e1zium Vod\\u011bradsk\\u00e1\", 2019], [\"Gymn\\u00e1zium Jaroslava Heyrovsk\\u00e9ho\", 2020], [\"Gymn\\u00e1zium Nad Kaval\\u00edrkou\", 2020], [\"Gymn\\u00e1zium Omsk\\u00e1\", 2020], [\"Gymn\\u00e1zium Opatov\", 2020]], \"hovertemplate\": \"Skupina=3<br>V\\u00e1ha zkou\\u0161ky CERMAT=%{x}<br>Po\\u010det bod\\u016f CERMAT u posledn\\u00edho p\\u0159ijat\\u00e9ho=%{y}<br>\\u0160koln\\u00ed zkou\\u0161ka=%{marker.size}<br>\\u0160kola=%{customdata[0]}<br>Rok=%{customdata[1]}<extra></extra>\", \"legendgroup\": \"3\", \"marker\": {\"color\": \"#ab63fa\", \"size\": [1.0, 1.0, 1.0, 1.0, 1.0, 1.0, 1.0, 1.0, 1.0, 1.0, 1.0, 1.0, 1.0, 1.0, 1.0, 1.0, 1.0, 1.0, 1.0, 1.0, 1.0], \"sizemode\": \"area\", \"sizeref\": 0.0025, \"symbol\": \"circle\"}, \"mode\": \"markers\", \"name\": \"3\", \"orientation\": \"v\", \"showlegend\": true, \"type\": \"scatter\", \"x\": [65.78, 66.22, 62.5, 60.24, 68.96, 61.72, 65.78, 70.42, 62.5, 60.24, 73.52, 61.72, 65.78, 70.92, 62.5, 60.24, 73.52, 61.72, 65.78, 62.5, 60.24], \"xaxis\": \"x\", \"y\": [60.0, 64.0, 62.0, 60.0, 58.0, 61.0, 61.0, 61.0, 54.0, 52.0, 56.0, 57.0, 64.0, 63.0, 59.0, 61.0, 59.0, 57.0, 61.0, 61.0, 66.0], \"yaxis\": \"y\"}, {\"hovertemplate\": \"<b>OLS trendline</b><br>MIN_CERMAT = 0.0346679 * PROCENTA_CERMAT + 57.6074<br>R<sup>2</sup>=0.001999<br><br>Skupina=3<br>V\\u00e1ha zkou\\u0161ky CERMAT=%{x}<br>Po\\u010det bod\\u016f CERMAT u posledn\\u00edho p\\u0159ijat\\u00e9ho=%{y} <b>(trend)</b><extra></extra>\", \"legendgroup\": \"3\", \"marker\": {\"color\": \"#ab63fa\", \"symbol\": \"circle\"}, \"mode\": \"lines\", \"name\": \"3\", \"showlegend\": false, \"type\": \"scatter\", \"x\": [60.24, 60.24, 60.24, 60.24, 61.72, 61.72, 61.72, 62.5, 62.5, 62.5, 62.5, 65.78, 65.78, 65.78, 65.78, 66.22, 68.96, 70.42, 70.92, 73.52, 73.52], \"xaxis\": \"x\", \"y\": [59.69575558307398, 59.69575558307398, 59.69575558307398, 59.69575558307398, 59.74706405768589, 59.74706405768589, 59.74706405768589, 59.77410501052189, 59.77410501052189, 59.77410501052189, 59.77410501052189, 59.88781568398612, 59.88781568398612, 59.88781568398612, 59.88781568398612, 59.90306955481668, 59.99805956862521, 60.04867468547209, 60.06600862959773, 60.156145139051084, 60.156145139051084], \"yaxis\": \"y\"}],                        {\"legend\": {\"itemsizing\": \"constant\", \"title\": {\"text\": \"Skupiny\"}, \"tracegroupgap\": 0}, \"margin\": {\"t\": 60}, \"template\": {\"data\": {\"bar\": [{\"error_x\": {\"color\": \"#2a3f5f\"}, \"error_y\": {\"color\": \"#2a3f5f\"}, \"marker\": {\"line\": {\"color\": \"#E5ECF6\", \"width\": 0.5}}, \"type\": \"bar\"}], \"barpolar\": [{\"marker\": {\"line\": {\"color\": \"#E5ECF6\", \"width\": 0.5}}, \"type\": \"barpolar\"}], \"carpet\": [{\"aaxis\": {\"endlinecolor\": \"#2a3f5f\", \"gridcolor\": \"white\", \"linecolor\": \"white\", \"minorgridcolor\": \"white\", \"startlinecolor\": \"#2a3f5f\"}, \"baxis\": {\"endlinecolor\": \"#2a3f5f\", \"gridcolor\": \"white\", \"linecolor\": \"white\", \"minorgridcolor\": \"white\", \"startlinecolor\": \"#2a3f5f\"}, \"type\": \"carpet\"}], \"choropleth\": [{\"colorbar\": {\"outlinewidth\": 0, \"ticks\": \"\"}, \"type\": \"choropleth\"}], \"contour\": [{\"colorbar\": {\"outlinewidth\": 0, \"ticks\": \"\"}, \"colorscale\": [[0.0, \"#0d0887\"], [0.1111111111111111, \"#46039f\"], [0.2222222222222222, \"#7201a8\"], [0.3333333333333333, \"#9c179e\"], [0.4444444444444444, \"#bd3786\"], [0.5555555555555556, \"#d8576b\"], [0.6666666666666666, \"#ed7953\"], [0.7777777777777778, \"#fb9f3a\"], [0.8888888888888888, \"#fdca26\"], [1.0, \"#f0f921\"]], \"type\": \"contour\"}], \"contourcarpet\": [{\"colorbar\": {\"outlinewidth\": 0, \"ticks\": \"\"}, \"type\": \"contourcarpet\"}], \"heatmap\": [{\"colorbar\": {\"outlinewidth\": 0, \"ticks\": \"\"}, \"colorscale\": [[0.0, \"#0d0887\"], [0.1111111111111111, \"#46039f\"], [0.2222222222222222, \"#7201a8\"], [0.3333333333333333, \"#9c179e\"], [0.4444444444444444, \"#bd3786\"], [0.5555555555555556, \"#d8576b\"], [0.6666666666666666, \"#ed7953\"], [0.7777777777777778, \"#fb9f3a\"], [0.8888888888888888, \"#fdca26\"], [1.0, \"#f0f921\"]], \"type\": \"heatmap\"}], \"heatmapgl\": [{\"colorbar\": {\"outlinewidth\": 0, \"ticks\": \"\"}, \"colorscale\": [[0.0, \"#0d0887\"], [0.1111111111111111, \"#46039f\"], [0.2222222222222222, \"#7201a8\"], [0.3333333333333333, \"#9c179e\"], [0.4444444444444444, \"#bd3786\"], [0.5555555555555556, \"#d8576b\"], [0.6666666666666666, \"#ed7953\"], [0.7777777777777778, \"#fb9f3a\"], [0.8888888888888888, \"#fdca26\"], [1.0, \"#f0f921\"]], \"type\": \"heatmapgl\"}], \"histogram\": [{\"marker\": {\"colorbar\": {\"outlinewidth\": 0, \"ticks\": \"\"}}, \"type\": \"histogram\"}], \"histogram2d\": [{\"colorbar\": {\"outlinewidth\": 0, \"ticks\": \"\"}, \"colorscale\": [[0.0, \"#0d0887\"], [0.1111111111111111, \"#46039f\"], [0.2222222222222222, \"#7201a8\"], [0.3333333333333333, \"#9c179e\"], [0.4444444444444444, \"#bd3786\"], [0.5555555555555556, \"#d8576b\"], [0.6666666666666666, \"#ed7953\"], [0.7777777777777778, \"#fb9f3a\"], [0.8888888888888888, \"#fdca26\"], [1.0, \"#f0f921\"]], \"type\": \"histogram2d\"}], \"histogram2dcontour\": [{\"colorbar\": {\"outlinewidth\": 0, \"ticks\": \"\"}, \"colorscale\": [[0.0, \"#0d0887\"], [0.1111111111111111, \"#46039f\"], [0.2222222222222222, \"#7201a8\"], [0.3333333333333333, \"#9c179e\"], [0.4444444444444444, \"#bd3786\"], [0.5555555555555556, \"#d8576b\"], [0.6666666666666666, \"#ed7953\"], [0.7777777777777778, \"#fb9f3a\"], [0.8888888888888888, \"#fdca26\"], [1.0, \"#f0f921\"]], \"type\": \"histogram2dcontour\"}], \"mesh3d\": [{\"colorbar\": {\"outlinewidth\": 0, \"ticks\": \"\"}, \"type\": \"mesh3d\"}], \"parcoords\": [{\"line\": {\"colorbar\": {\"outlinewidth\": 0, \"ticks\": \"\"}}, \"type\": \"parcoords\"}], \"pie\": [{\"automargin\": true, \"type\": \"pie\"}], \"scatter\": [{\"marker\": {\"colorbar\": {\"outlinewidth\": 0, \"ticks\": \"\"}}, \"type\": \"scatter\"}], \"scatter3d\": [{\"line\": {\"colorbar\": {\"outlinewidth\": 0, \"ticks\": \"\"}}, \"marker\": {\"colorbar\": {\"outlinewidth\": 0, \"ticks\": \"\"}}, \"type\": \"scatter3d\"}], \"scattercarpet\": [{\"marker\": {\"colorbar\": {\"outlinewidth\": 0, \"ticks\": \"\"}}, \"type\": \"scattercarpet\"}], \"scattergeo\": [{\"marker\": {\"colorbar\": {\"outlinewidth\": 0, \"ticks\": \"\"}}, \"type\": \"scattergeo\"}], \"scattergl\": [{\"marker\": {\"colorbar\": {\"outlinewidth\": 0, \"ticks\": \"\"}}, \"type\": \"scattergl\"}], \"scattermapbox\": [{\"marker\": {\"colorbar\": {\"outlinewidth\": 0, \"ticks\": \"\"}}, \"type\": \"scattermapbox\"}], \"scatterpolar\": [{\"marker\": {\"colorbar\": {\"outlinewidth\": 0, \"ticks\": \"\"}}, \"type\": \"scatterpolar\"}], \"scatterpolargl\": [{\"marker\": {\"colorbar\": {\"outlinewidth\": 0, \"ticks\": \"\"}}, \"type\": \"scatterpolargl\"}], \"scatterternary\": [{\"marker\": {\"colorbar\": {\"outlinewidth\": 0, \"ticks\": \"\"}}, \"type\": \"scatterternary\"}], \"surface\": [{\"colorbar\": {\"outlinewidth\": 0, \"ticks\": \"\"}, \"colorscale\": [[0.0, \"#0d0887\"], [0.1111111111111111, \"#46039f\"], [0.2222222222222222, \"#7201a8\"], [0.3333333333333333, \"#9c179e\"], [0.4444444444444444, \"#bd3786\"], [0.5555555555555556, \"#d8576b\"], [0.6666666666666666, \"#ed7953\"], [0.7777777777777778, \"#fb9f3a\"], [0.8888888888888888, \"#fdca26\"], [1.0, \"#f0f921\"]], \"type\": \"surface\"}], \"table\": [{\"cells\": {\"fill\": {\"color\": \"#EBF0F8\"}, \"line\": {\"color\": \"white\"}}, \"header\": {\"fill\": {\"color\": \"#C8D4E3\"}, \"line\": {\"color\": \"white\"}}, \"type\": \"table\"}]}, \"layout\": {\"annotationdefaults\": {\"arrowcolor\": \"#2a3f5f\", \"arrowhead\": 0, \"arrowwidth\": 1}, \"coloraxis\": {\"colorbar\": {\"outlinewidth\": 0, \"ticks\": \"\"}}, \"colorscale\": {\"diverging\": [[0, \"#8e0152\"], [0.1, \"#c51b7d\"], [0.2, \"#de77ae\"], [0.3, \"#f1b6da\"], [0.4, \"#fde0ef\"], [0.5, \"#f7f7f7\"], [0.6, \"#e6f5d0\"], [0.7, \"#b8e186\"], [0.8, \"#7fbc41\"], [0.9, \"#4d9221\"], [1, \"#276419\"]], \"sequential\": [[0.0, \"#0d0887\"], [0.1111111111111111, \"#46039f\"], [0.2222222222222222, \"#7201a8\"], [0.3333333333333333, \"#9c179e\"], [0.4444444444444444, \"#bd3786\"], [0.5555555555555556, \"#d8576b\"], [0.6666666666666666, \"#ed7953\"], [0.7777777777777778, \"#fb9f3a\"], [0.8888888888888888, \"#fdca26\"], [1.0, \"#f0f921\"]], \"sequentialminus\": [[0.0, \"#0d0887\"], [0.1111111111111111, \"#46039f\"], [0.2222222222222222, \"#7201a8\"], [0.3333333333333333, \"#9c179e\"], [0.4444444444444444, \"#bd3786\"], [0.5555555555555556, \"#d8576b\"], [0.6666666666666666, \"#ed7953\"], [0.7777777777777778, \"#fb9f3a\"], [0.8888888888888888, \"#fdca26\"], [1.0, \"#f0f921\"]]}, \"colorway\": [\"#636efa\", \"#EF553B\", \"#00cc96\", \"#ab63fa\", \"#FFA15A\", \"#19d3f3\", \"#FF6692\", \"#B6E880\", \"#FF97FF\", \"#FECB52\"], \"font\": {\"color\": \"#2a3f5f\"}, \"geo\": {\"bgcolor\": \"white\", \"lakecolor\": \"white\", \"landcolor\": \"#E5ECF6\", \"showlakes\": true, \"showland\": true, \"subunitcolor\": \"white\"}, \"hoverlabel\": {\"align\": \"left\"}, \"hovermode\": \"closest\", \"mapbox\": {\"style\": \"light\"}, \"paper_bgcolor\": \"white\", \"plot_bgcolor\": \"#E5ECF6\", \"polar\": {\"angularaxis\": {\"gridcolor\": \"white\", \"linecolor\": \"white\", \"ticks\": \"\"}, \"bgcolor\": \"#E5ECF6\", \"radialaxis\": {\"gridcolor\": \"white\", \"linecolor\": \"white\", \"ticks\": \"\"}}, \"scene\": {\"xaxis\": {\"backgroundcolor\": \"#E5ECF6\", \"gridcolor\": \"white\", \"gridwidth\": 2, \"linecolor\": \"white\", \"showbackground\": true, \"ticks\": \"\", \"zerolinecolor\": \"white\"}, \"yaxis\": {\"backgroundcolor\": \"#E5ECF6\", \"gridcolor\": \"white\", \"gridwidth\": 2, \"linecolor\": \"white\", \"showbackground\": true, \"ticks\": \"\", \"zerolinecolor\": \"white\"}, \"zaxis\": {\"backgroundcolor\": \"#E5ECF6\", \"gridcolor\": \"white\", \"gridwidth\": 2, \"linecolor\": \"white\", \"showbackground\": true, \"ticks\": \"\", \"zerolinecolor\": \"white\"}}, \"shapedefaults\": {\"line\": {\"color\": \"#2a3f5f\"}}, \"ternary\": {\"aaxis\": {\"gridcolor\": \"white\", \"linecolor\": \"white\", \"ticks\": \"\"}, \"baxis\": {\"gridcolor\": \"white\", \"linecolor\": \"white\", \"ticks\": \"\"}, \"bgcolor\": \"#E5ECF6\", \"caxis\": {\"gridcolor\": \"white\", \"linecolor\": \"white\", \"ticks\": \"\"}}, \"title\": {\"x\": 0.05}, \"xaxis\": {\"automargin\": true, \"gridcolor\": \"white\", \"linecolor\": \"white\", \"ticks\": \"\", \"title\": {\"standoff\": 15}, \"zerolinecolor\": \"white\", \"zerolinewidth\": 2}, \"yaxis\": {\"automargin\": true, \"gridcolor\": \"white\", \"linecolor\": \"white\", \"ticks\": \"\", \"title\": {\"standoff\": 15}, \"zerolinecolor\": \"white\", \"zerolinewidth\": 2}}}, \"title\": {\"text\": \"Rozd\\u011blen\\u00ed \\u0161kol na skupiny\"}, \"xaxis\": {\"anchor\": \"y\", \"domain\": [0.0, 1.0], \"title\": {\"text\": \"Procentu\\u00e1ln\\u00ed v\\u00e1ha jednotn\\u00e9 zkou\\u0161ky CERMAT (\\u010de\\u0161tina + matematika)\"}}, \"yaxis\": {\"anchor\": \"x\", \"domain\": [0.0, 1.0], \"title\": {\"text\": \"Po\\u010det bod\\u016f za jednotnou zkou\\u0161ku u posledn\\u00edho p\\u0159ijat\\u00e9ho\"}}},                        {\"responsive\": true}                    ).then(function(){\n",
       "                            \n",
       "var gd = document.getElementById('0809d88e-985e-47e5-8fc9-77cf3251776c');\n",
       "var x = new MutationObserver(function (mutations, observer) {{\n",
       "        var display = window.getComputedStyle(gd).display;\n",
       "        if (!display || display === 'none') {{\n",
       "            console.log([gd, 'removed!']);\n",
       "            Plotly.purge(gd);\n",
       "            observer.disconnect();\n",
       "        }}\n",
       "}});\n",
       "\n",
       "// Listen for the removal of the full notebook cells\n",
       "var notebookContainer = gd.closest('#notebook-container');\n",
       "if (notebookContainer) {{\n",
       "    x.observe(notebookContainer, {childList: true});\n",
       "}}\n",
       "\n",
       "// Listen for the clearing of the current output cell\n",
       "var outputEl = gd.closest('.output');\n",
       "if (outputEl) {{\n",
       "    x.observe(outputEl, {childList: true});\n",
       "}}\n",
       "\n",
       "                        })                };                });            </script>        </div>"
      ]
     },
     "metadata": {},
     "output_type": "display_data"
    }
   ],
   "source": [
    "fig54.update_layout(\n",
    "    title=\"Rozdělení škol na skupiny\",\n",
    "    \n",
    "    xaxis_title=\"Procentuální váha jednotné zkoušky CERMAT (čeština + matematika)\",\n",
    "    yaxis_title=\"Počet bodů za jednotnou zkoušku u posledního přijatého\",\n",
    "    legend_title=\"Skupiny\")"
   ]
  },
  {
   "cell_type": "markdown",
   "metadata": {},
   "source": [
    "#### To je mnohem lepší!"
   ]
  },
  {
   "cell_type": "markdown",
   "metadata": {},
   "source": [
    "### Popis skupin\n"
   ]
  },
  {
   "cell_type": "markdown",
   "metadata": {},
   "source": [
    "### Modré"
   ]
  },
  {
   "cell_type": "markdown",
   "metadata": {},
   "source": [
    "Nejpočetnější skupina, která zahrnuje školy bez školní zkoušky s průměrnou až nadprůměrnou\n",
    "váhou CERMATu a průměrnými až nadprůměrnými výsledky jednotné zkoušky. \"Nejhorší\" výsledky se vztahují k \n",
    "r. 2018, ve kterém výsledky CERMATu byly obecně slabší. \n",
    "\n",
    "Zajímavé je, že Gymnázium prof. Jaroslava Patočky, které školní \n",
    "zkoušku sice koná,  v letech 2017 a 2020 mělo podobné výsledky jako členy této skupiny."
   ]
  },
  {
   "cell_type": "markdown",
   "metadata": {},
   "source": [
    "#### Fialové"
   ]
  },
  {
   "cell_type": "markdown",
   "metadata": {},
   "source": [
    "Tvoří ji školy, které mají školní zkoušku a proto váha CERMATu je logicky spíš nízká. Na rozdíl od clusteru 3 mají \n",
    "menší (průměrný až podprůměrný) minimální počet bodů za CERMAT, který nekoreluje s váhou zkoušky CERMAT."
   ]
  },
  {
   "cell_type": "markdown",
   "metadata": {},
   "source": [
    "#### Zelené"
   ]
  },
  {
   "cell_type": "markdown",
   "metadata": {},
   "source": [
    "Tato skupina škol má průměrnou váhu zkoušky CERMAT (zohledňuje více známky za předchozí vzdělávání) \n",
    "a zároveň - až na 1 výjimku (Gymnázium Jaroslava Patočky v letech 2018 a 2019) - nepořádá školní zkoušku. \n",
    "K tomu, aby se student na tuto školu dostal, stačí průměrný až podprůměrný (50 až 67) počet bodů za CERMAT"
   ]
  },
  {
   "cell_type": "markdown",
   "metadata": {},
   "source": [
    "#### Červené"
   ]
  },
  {
   "cell_type": "markdown",
   "metadata": {},
   "source": [
    "Jedná se o školy, kam není vůnec snadno se dostat. Mají velkou váhu školní zkoušky \n",
    "a zároveň je třeba mít opravdu nadprůměrné výsledky ze zkoušky jednotné.  Tvoří ji Gymnázium Jana Keplera. V roce 2020, kdy byly výsledky CERMATu obecně vyšší, se sem dostaly další dvě školy, i když i tak jsou od Keplerky poměrně daleko.  "
   ]
  },
  {
   "cell_type": "markdown",
   "metadata": {},
   "source": [
    "## Publikace na Datapane"
   ]
  },
  {
   "cell_type": "markdown",
   "metadata": {},
   "source": [
    "#Datapane\n",
    "dp.Report(\n",
    "    dp.Plot(fig54)).publish(name='Shlukování škol s trendlines', open=True)"
   ]
  },
  {
   "cell_type": "markdown",
   "metadata": {},
   "source": [
    "### ------------------------------------"
   ]
  },
  {
   "cell_type": "code",
   "execution_count": 105,
   "metadata": {},
   "outputs": [],
   "source": [
    "dataset_no_hudebni.loc[:, \"IS_SCHOOL_EXAM\"] = dataset_no_hudebni.loc[:,\"IS_SCHOOL_EXAM\"].replace(\"0.5\", \"NE\")\n",
    "dataset_no_hudebni.loc[:, \"IS_SCHOOL_EXAM\"] = dataset_no_hudebni.loc[:,\"IS_SCHOOL_EXAM\"].replace('1.0', \"ANO\")"
   ]
  },
  {
   "cell_type": "markdown",
   "metadata": {},
   "source": [
    "# Korelace"
   ]
  },
  {
   "cell_type": "markdown",
   "metadata": {},
   "source": [
    "### Zájem o školu a váha Cermatu, publikace na Datapane pro blog"
   ]
  },
  {
   "cell_type": "code",
   "execution_count": 106,
   "metadata": {},
   "outputs": [],
   "source": [
    "dataset_no_hudebni[\"IS_SCHOOL_EXAM\"]= dataset_no_hudebni[\"IS_SCHOOL_EXAM\"].astype(str) \n",
    "kor_c_a= px.scatter(dataset_no_hudebni\n",
    "                    #.query(f'YEAR=={year}')\n",
    "                    , x='PROCENTA_CERMAT', y=\"ADMITTED_PERCENT\", \n",
    "                hover_data=['SCHOOL_NAME', 'IS_SCHOOL_EXAM', 'YEAR'], \n",
    "                 trendline=\"ols\",  \n",
    "                 color=\"IS_SCHOOL_EXAM\",\n",
    "                 \n",
    "                labels={\"YEAR\":\"Rok\",\"SCHOOL_NAME\": \"Škola\",\n",
    "                      \"IS_SCHOOL_EXAM\":\"Školní zkouška\",  \n",
    "                        \"PROCENTA_CERMAT\": \"Váha zkoušky CERMAT, %\", \n",
    "                       \"ADMITTED_PERCENT\":\"přijatých z celkového počtu uchazečů, %\"}\n",
    "                   )"
   ]
  },
  {
   "cell_type": "code",
   "execution_count": 107,
   "metadata": {},
   "outputs": [
    {
     "data": {
      "application/vnd.plotly.v1+json": {
       "config": {
        "plotlyServerURL": "https://plot.ly"
       },
       "data": [
        {
         "customdata": [
          [
           "Gymnázium Budějovická",
           "0.5",
           2017
          ],
          [
           "Gymnázium Elišky Krásnohorské",
           "0.5",
           2017
          ],
          [
           "Gymnázium Hlivická",
           "0.5",
           2017
          ],
          [
           "Gymnázium J.G.Jarkovského",
           "0.5",
           2017
          ],
          [
           "Gymnázium Jaroslava Heyrovského",
           "0.5",
           2017
          ],
          [
           "Gymnázium Karla Sladkovského",
           "0.5",
           2017
          ],
          [
           "Gymnázium Litoměřická",
           "0.5",
           2017
          ],
          [
           "Gymnázium Nad Alejí",
           "0.5",
           2017
          ],
          [
           "Gymnázium Písnická",
           "0.5",
           2017
          ],
          [
           "Gymnázium Českolipská",
           "0.5",
           2017
          ],
          [
           "Gymnázium Špitálská",
           "0.5",
           2017
          ],
          [
           "Malostranské gymnázium",
           "0.5",
           2017
          ],
          [
           "Gymnázium Budějovická",
           "0.5",
           2018
          ],
          [
           "Gymnázium Christiana Dopplera - jazyková třída",
           "0.5",
           2018
          ],
          [
           "Gymnázium Christiana Dopplera - matematická třída",
           "0.5",
           2018
          ],
          [
           "Gymnázium Elišky Krásnohorské",
           "0.5",
           2018
          ],
          [
           "Gymnázium Hlivická",
           "0.5",
           2018
          ],
          [
           "Gymnázium J.G.Jarkovského",
           "0.5",
           2018
          ],
          [
           "Gymnázium Karla Sladkovského",
           "0.5",
           2018
          ],
          [
           "Gymnázium Litoměřická",
           "0.5",
           2018
          ],
          [
           "Gymnázium Nad Alejí",
           "0.5",
           2018
          ],
          [
           "Gymnázium Písnická",
           "0.5",
           2018
          ],
          [
           "Gymnázium Českolipská",
           "0.5",
           2018
          ],
          [
           "Gymnázium Špitálská",
           "0.5",
           2018
          ],
          [
           "Malostranské gymnázium",
           "0.5",
           2018
          ],
          [
           "Gymnázium Budějovická",
           "0.5",
           2019
          ],
          [
           "Gymnázium Christiana Dopplera - jazyková třída",
           "0.5",
           2019
          ],
          [
           "Gymnázium Christiana Dopplera - matematická třída",
           "0.5",
           2019
          ],
          [
           "Gymnázium Elišky Krásnohorské",
           "0.5",
           2019
          ],
          [
           "Gymnázium Hlivická",
           "0.5",
           2019
          ],
          [
           "Gymnázium J.G.Jarkovského",
           "0.5",
           2019
          ],
          [
           "Gymnázium Karla Sladkovského",
           "0.5",
           2019
          ],
          [
           "Gymnázium Nad Alejí",
           "0.5",
           2019
          ],
          [
           "Gymnázium Písnická",
           "0.5",
           2019
          ],
          [
           "Gymnázium Českolipská",
           "0.5",
           2019
          ],
          [
           "Gymnázium Špitálská",
           "0.5",
           2019
          ],
          [
           "Malostranské gymnázium",
           "0.5",
           2019
          ],
          [
           "Gymnázium Budějovická",
           "0.5",
           2020
          ],
          [
           "Gymnázium Christiana Dopplera - jazyková třída",
           "0.5",
           2020
          ],
          [
           "Gymnázium Christiana Dopplera - matematická třída",
           "0.5",
           2020
          ],
          [
           "Gymnázium Elišky Krásnohorské",
           "0.5",
           2020
          ],
          [
           "Gymnázium Hlivická",
           "0.5",
           2020
          ],
          [
           "Gymnázium J.G.Jarkovského",
           "0.5",
           2020
          ],
          [
           "Gymnázium Karla Sladkovského",
           "0.5",
           2020
          ],
          [
           "Gymnázium Nad Alejí",
           "0.5",
           2020
          ],
          [
           "Gymnázium Písnická",
           "0.5",
           2020
          ],
          [
           "Gymnázium Českolipská",
           "0.5",
           2020
          ],
          [
           "Gymnázium Špitálská",
           "0.5",
           2020
          ],
          [
           "Malostranské gymnázium",
           "0.5",
           2020
          ]
         ],
         "hovertemplate": "Školní zkouška=%{customdata[1]}<br>Váha zkoušky CERMAT, %=%{x}<br>přijatých z celkového počtu uchazečů, %=%{y}<br>Škola=%{customdata[0]}<br>Rok=%{customdata[2]}<extra></extra>",
         "legendgroup": "0.5",
         "marker": {
          "color": "#636efa",
          "symbol": "circle"
         },
         "mode": "markers",
         "name": "0.5",
         "orientation": "v",
         "showlegend": true,
         "type": "scatter",
         "x": [
          82.64,
          84.74,
          78.74,
          86.96,
          89.28,
          76.92,
          75.48,
          89.28,
          81.96,
          95.24,
          85.72,
          97.08,
          82.64,
          80.75,
          80.75,
          84.74,
          78.74,
          86.96,
          76.92,
          75.48,
          89.28,
          81.96,
          95.24,
          87.8,
          95.24,
          82.64,
          80.75,
          80.75,
          84.74,
          78.74,
          86.96,
          76.92,
          89.28,
          81.96,
          95.24,
          87.8,
          90.9,
          82.64,
          80.75,
          80.75,
          84.74,
          78.74,
          86.96,
          76.92,
          89.28,
          80.64,
          95.24,
          87.8,
          90.9
         ],
         "xaxis": "x",
         "y": [
          13.23,
          13.06,
          19.24,
          22.69,
          21.1,
          43.94,
          15.94,
          13.51,
          11.25,
          16.36,
          11.84,
          12.08,
          15.57,
          19.72,
          15.51,
          14.07,
          16.81,
          21.66,
          27.78,
          13.27,
          13.86,
          11.35,
          12.08,
          13.76,
          13.76,
          15.16,
          18.06,
          16.09,
          14.4,
          17.81,
          19.13,
          35.5,
          13.83,
          11.16,
          23.33,
          12.95,
          9.45,
          13.7,
          16.77,
          15.46,
          15.16,
          20,
          18.18,
          27.65,
          14.71,
          9.41,
          17.8,
          12.95,
          13.19
         ],
         "yaxis": "y"
        },
        {
         "hovertemplate": "<b>OLS trendline</b><br>ADMITTED_PERCENT = -0.368072 * PROCENTA_CERMAT + 48.0355<br>R<sup>2</sup>=0.116201<br><br>Školní zkouška=0.5<br>Váha zkoušky CERMAT, %=%{x}<br>přijatých z celkového počtu uchazečů, %=%{y} <b>(trend)</b><extra></extra>",
         "legendgroup": "0.5",
         "marker": {
          "color": "#636efa",
          "symbol": "circle"
         },
         "mode": "lines",
         "name": "0.5",
         "showlegend": false,
         "type": "scatter",
         "x": [
          75.48,
          75.48,
          76.92,
          76.92,
          76.92,
          76.92,
          78.74,
          78.74,
          78.74,
          78.74,
          80.64,
          80.75,
          80.75,
          80.75,
          80.75,
          80.75,
          80.75,
          81.96,
          81.96,
          81.96,
          82.64,
          82.64,
          82.64,
          82.64,
          84.74,
          84.74,
          84.74,
          84.74,
          85.72,
          86.96,
          86.96,
          86.96,
          86.96,
          87.8,
          87.8,
          87.8,
          89.28,
          89.28,
          89.28,
          89.28,
          89.28,
          90.9,
          90.9,
          95.24,
          95.24,
          95.24,
          95.24,
          95.24,
          97.08
         ],
         "xaxis": "x",
         "y": [
          20.253401491340664,
          20.253401491340664,
          19.723378126082775,
          19.723378126082775,
          19.723378126082775,
          19.723378126082775,
          19.05348748388183,
          19.05348748388183,
          19.05348748388183,
          19.05348748388183,
          18.354151099166554,
          18.313663203209355,
          18.313663203209355,
          18.313663203209355,
          18.313663203209355,
          18.313663203209355,
          18.313663203209355,
          17.868296347680154,
          17.868296347680154,
          17.868296347680154,
          17.618007536308372,
          17.618007536308372,
          17.618007536308372,
          17.618007536308372,
          16.84505679530728,
          16.84505679530728,
          16.84505679530728,
          16.84505679530728,
          16.48434644950677,
          16.0279374405347,
          16.0279374405347,
          16.0279374405347,
          16.0279374405347,
          15.718757144134258,
          15.718757144134258,
          15.718757144134258,
          15.174010907619206,
          15.174010907619206,
          15.174010907619206,
          15.174010907619206,
          15.174010907619206,
          14.577734621704074,
          14.577734621704074,
          12.980303090301817,
          12.980303090301817,
          12.980303090301817,
          12.980303090301817,
          12.980303090301817,
          12.303051012472288
         ],
         "yaxis": "y"
        },
        {
         "customdata": [
          [
           "Gymnázium Jana Keplera",
           "1.0",
           2017
          ],
          [
           "Gymnázium Nad Kavalírkou",
           "1.0",
           2017
          ],
          [
           "Gymnázium Nad Štolou",
           "1.0",
           2017
          ],
          [
           "Gymnázium Omská",
           "1.0",
           2017
          ],
          [
           "Gymnázium Opatov",
           "1.0",
           2017
          ],
          [
           "Gymnázium Voděradská",
           "1.0",
           2017
          ],
          [
           "Gymnázium prof. Jana Patočky",
           "1.0",
           2017
          ],
          [
           "Gymnázium Jana Keplera",
           "1.0",
           2018
          ],
          [
           "Gymnázium Jaroslava Heyrovského",
           "1.0",
           2018
          ],
          [
           "Gymnázium Nad Kavalírkou",
           "1.0",
           2018
          ],
          [
           "Gymnázium Nad Štolou",
           "1.0",
           2018
          ],
          [
           "Gymnázium Omská",
           "1.0",
           2018
          ],
          [
           "Gymnázium Opatov",
           "1.0",
           2018
          ],
          [
           "Gymnázium Voděradská",
           "1.0",
           2018
          ],
          [
           "Gymnázium prof. Jana Patočky",
           "1.0",
           2018
          ],
          [
           "Gymnázium Jana Keplera",
           "1.0",
           2019
          ],
          [
           "Gymnázium Jaroslava Heyrovského",
           "1.0",
           2019
          ],
          [
           "Gymnázium Nad Kavalírkou",
           "1.0",
           2019
          ],
          [
           "Gymnázium Nad Štolou",
           "1.0",
           2019
          ],
          [
           "Gymnázium Omská",
           "1.0",
           2019
          ],
          [
           "Gymnázium Opatov",
           "1.0",
           2019
          ],
          [
           "Gymnázium Voděradská",
           "1.0",
           2019
          ],
          [
           "Gymnázium prof. Jana Patočky",
           "1.0",
           2019
          ],
          [
           "Gymnázium Jana Keplera",
           "1.0",
           2020
          ],
          [
           "Gymnázium Jaroslava Heyrovského",
           "1.0",
           2020
          ],
          [
           "Gymnázium Nad Kavalírkou",
           "1.0",
           2020
          ],
          [
           "Gymnázium Nad Štolou",
           "1.0",
           2020
          ],
          [
           "Gymnázium Omská",
           "1.0",
           2020
          ],
          [
           "Gymnázium Opatov",
           "1.0",
           2020
          ],
          [
           "Gymnázium Voděradská",
           "1.0",
           2020
          ],
          [
           "Gymnázium prof. Jana Patočky",
           "1.0",
           2020
          ]
         ],
         "hovertemplate": "Školní zkouška=%{customdata[1]}<br>Váha zkoušky CERMAT, %=%{x}<br>přijatých z celkového počtu uchazečů, %=%{y}<br>Škola=%{customdata[0]}<br>Rok=%{customdata[2]}<extra></extra>",
         "legendgroup": "1.0",
         "marker": {
          "color": "#EF553B",
          "symbol": "circle"
         },
         "mode": "markers",
         "name": "1.0",
         "orientation": "v",
         "showlegend": true,
         "type": "scatter",
         "x": [
          60.6,
          65.78,
          66.22,
          62.5,
          60.24,
          68.96,
          83.34,
          60.6,
          61.72,
          65.78,
          70.42,
          62.5,
          60.24,
          73.52,
          83.34,
          60.6,
          61.72,
          65.78,
          70.92,
          62.5,
          60.24,
          73.52,
          83.34,
          60.6,
          61.72,
          65.78,
          70.92,
          62.5,
          60.24,
          73.52,
          83.34
         ],
         "xaxis": "x",
         "y": [
          13.72,
          23.88,
          17.66,
          21.05,
          13.73,
          17.54,
          19.27,
          13.66,
          17.4,
          15.62,
          14.75,
          20.26,
          15.75,
          16.3,
          16.16,
          15.38,
          20.65,
          14.51,
          15.77,
          19.5,
          15.11,
          15.85,
          15.06,
          14.93,
          21.08,
          14.13,
          19.47,
          18.32,
          17.51,
          12.5,
          14.46
         ],
         "yaxis": "y"
        },
        {
         "hovertemplate": "<b>OLS trendline</b><br>ADMITTED_PERCENT = -0.0453118 * PROCENTA_CERMAT + 19.8505<br>R<sup>2</sup>=0.016110<br><br>Školní zkouška=1.0<br>Váha zkoušky CERMAT, %=%{x}<br>přijatých z celkového počtu uchazečů, %=%{y} <b>(trend)</b><extra></extra>",
         "legendgroup": "1.0",
         "marker": {
          "color": "#EF553B",
          "symbol": "circle"
         },
         "mode": "lines",
         "name": "1.0",
         "showlegend": false,
         "type": "scatter",
         "x": [
          60.24,
          60.24,
          60.24,
          60.24,
          60.6,
          60.6,
          60.6,
          60.6,
          61.72,
          61.72,
          61.72,
          62.5,
          62.5,
          62.5,
          62.5,
          65.78,
          65.78,
          65.78,
          65.78,
          66.22,
          68.96,
          70.42,
          70.92,
          70.92,
          73.52,
          73.52,
          73.52,
          83.34,
          83.34,
          83.34,
          83.34
         ],
         "xaxis": "x",
         "y": [
          17.120884529512175,
          17.120884529512175,
          17.120884529512175,
          17.120884529512175,
          17.104572266804087,
          17.104572266804087,
          17.104572266804087,
          17.104572266804087,
          17.053823005045587,
          17.053823005045587,
          17.053823005045587,
          17.01847976917806,
          17.01847976917806,
          17.01847976917806,
          17.01847976917806,
          16.86985693117103,
          16.86985693117103,
          16.86985693117103,
          16.86985693117103,
          16.849919721194475,
          16.725765277249575,
          16.659609989600103,
          16.636954069172198,
          16.636954069172198,
          16.519143282947113,
          16.519143282947113,
          16.519143282947113,
          16.074181005743128,
          16.074181005743128,
          16.074181005743128,
          16.074181005743128
         ],
         "yaxis": "y"
        }
       ],
       "layout": {
        "legend": {
         "title": {
          "text": "Školní zkouška"
         },
         "tracegroupgap": 0
        },
        "margin": {
         "t": 60
        },
        "template": {
         "data": {
          "bar": [
           {
            "error_x": {
             "color": "#2a3f5f"
            },
            "error_y": {
             "color": "#2a3f5f"
            },
            "marker": {
             "line": {
              "color": "#E5ECF6",
              "width": 0.5
             }
            },
            "type": "bar"
           }
          ],
          "barpolar": [
           {
            "marker": {
             "line": {
              "color": "#E5ECF6",
              "width": 0.5
             }
            },
            "type": "barpolar"
           }
          ],
          "carpet": [
           {
            "aaxis": {
             "endlinecolor": "#2a3f5f",
             "gridcolor": "white",
             "linecolor": "white",
             "minorgridcolor": "white",
             "startlinecolor": "#2a3f5f"
            },
            "baxis": {
             "endlinecolor": "#2a3f5f",
             "gridcolor": "white",
             "linecolor": "white",
             "minorgridcolor": "white",
             "startlinecolor": "#2a3f5f"
            },
            "type": "carpet"
           }
          ],
          "choropleth": [
           {
            "colorbar": {
             "outlinewidth": 0,
             "ticks": ""
            },
            "type": "choropleth"
           }
          ],
          "contour": [
           {
            "colorbar": {
             "outlinewidth": 0,
             "ticks": ""
            },
            "colorscale": [
             [
              0,
              "#0d0887"
             ],
             [
              0.1111111111111111,
              "#46039f"
             ],
             [
              0.2222222222222222,
              "#7201a8"
             ],
             [
              0.3333333333333333,
              "#9c179e"
             ],
             [
              0.4444444444444444,
              "#bd3786"
             ],
             [
              0.5555555555555556,
              "#d8576b"
             ],
             [
              0.6666666666666666,
              "#ed7953"
             ],
             [
              0.7777777777777778,
              "#fb9f3a"
             ],
             [
              0.8888888888888888,
              "#fdca26"
             ],
             [
              1,
              "#f0f921"
             ]
            ],
            "type": "contour"
           }
          ],
          "contourcarpet": [
           {
            "colorbar": {
             "outlinewidth": 0,
             "ticks": ""
            },
            "type": "contourcarpet"
           }
          ],
          "heatmap": [
           {
            "colorbar": {
             "outlinewidth": 0,
             "ticks": ""
            },
            "colorscale": [
             [
              0,
              "#0d0887"
             ],
             [
              0.1111111111111111,
              "#46039f"
             ],
             [
              0.2222222222222222,
              "#7201a8"
             ],
             [
              0.3333333333333333,
              "#9c179e"
             ],
             [
              0.4444444444444444,
              "#bd3786"
             ],
             [
              0.5555555555555556,
              "#d8576b"
             ],
             [
              0.6666666666666666,
              "#ed7953"
             ],
             [
              0.7777777777777778,
              "#fb9f3a"
             ],
             [
              0.8888888888888888,
              "#fdca26"
             ],
             [
              1,
              "#f0f921"
             ]
            ],
            "type": "heatmap"
           }
          ],
          "heatmapgl": [
           {
            "colorbar": {
             "outlinewidth": 0,
             "ticks": ""
            },
            "colorscale": [
             [
              0,
              "#0d0887"
             ],
             [
              0.1111111111111111,
              "#46039f"
             ],
             [
              0.2222222222222222,
              "#7201a8"
             ],
             [
              0.3333333333333333,
              "#9c179e"
             ],
             [
              0.4444444444444444,
              "#bd3786"
             ],
             [
              0.5555555555555556,
              "#d8576b"
             ],
             [
              0.6666666666666666,
              "#ed7953"
             ],
             [
              0.7777777777777778,
              "#fb9f3a"
             ],
             [
              0.8888888888888888,
              "#fdca26"
             ],
             [
              1,
              "#f0f921"
             ]
            ],
            "type": "heatmapgl"
           }
          ],
          "histogram": [
           {
            "marker": {
             "colorbar": {
              "outlinewidth": 0,
              "ticks": ""
             }
            },
            "type": "histogram"
           }
          ],
          "histogram2d": [
           {
            "colorbar": {
             "outlinewidth": 0,
             "ticks": ""
            },
            "colorscale": [
             [
              0,
              "#0d0887"
             ],
             [
              0.1111111111111111,
              "#46039f"
             ],
             [
              0.2222222222222222,
              "#7201a8"
             ],
             [
              0.3333333333333333,
              "#9c179e"
             ],
             [
              0.4444444444444444,
              "#bd3786"
             ],
             [
              0.5555555555555556,
              "#d8576b"
             ],
             [
              0.6666666666666666,
              "#ed7953"
             ],
             [
              0.7777777777777778,
              "#fb9f3a"
             ],
             [
              0.8888888888888888,
              "#fdca26"
             ],
             [
              1,
              "#f0f921"
             ]
            ],
            "type": "histogram2d"
           }
          ],
          "histogram2dcontour": [
           {
            "colorbar": {
             "outlinewidth": 0,
             "ticks": ""
            },
            "colorscale": [
             [
              0,
              "#0d0887"
             ],
             [
              0.1111111111111111,
              "#46039f"
             ],
             [
              0.2222222222222222,
              "#7201a8"
             ],
             [
              0.3333333333333333,
              "#9c179e"
             ],
             [
              0.4444444444444444,
              "#bd3786"
             ],
             [
              0.5555555555555556,
              "#d8576b"
             ],
             [
              0.6666666666666666,
              "#ed7953"
             ],
             [
              0.7777777777777778,
              "#fb9f3a"
             ],
             [
              0.8888888888888888,
              "#fdca26"
             ],
             [
              1,
              "#f0f921"
             ]
            ],
            "type": "histogram2dcontour"
           }
          ],
          "mesh3d": [
           {
            "colorbar": {
             "outlinewidth": 0,
             "ticks": ""
            },
            "type": "mesh3d"
           }
          ],
          "parcoords": [
           {
            "line": {
             "colorbar": {
              "outlinewidth": 0,
              "ticks": ""
             }
            },
            "type": "parcoords"
           }
          ],
          "pie": [
           {
            "automargin": true,
            "type": "pie"
           }
          ],
          "scatter": [
           {
            "marker": {
             "colorbar": {
              "outlinewidth": 0,
              "ticks": ""
             }
            },
            "type": "scatter"
           }
          ],
          "scatter3d": [
           {
            "line": {
             "colorbar": {
              "outlinewidth": 0,
              "ticks": ""
             }
            },
            "marker": {
             "colorbar": {
              "outlinewidth": 0,
              "ticks": ""
             }
            },
            "type": "scatter3d"
           }
          ],
          "scattercarpet": [
           {
            "marker": {
             "colorbar": {
              "outlinewidth": 0,
              "ticks": ""
             }
            },
            "type": "scattercarpet"
           }
          ],
          "scattergeo": [
           {
            "marker": {
             "colorbar": {
              "outlinewidth": 0,
              "ticks": ""
             }
            },
            "type": "scattergeo"
           }
          ],
          "scattergl": [
           {
            "marker": {
             "colorbar": {
              "outlinewidth": 0,
              "ticks": ""
             }
            },
            "type": "scattergl"
           }
          ],
          "scattermapbox": [
           {
            "marker": {
             "colorbar": {
              "outlinewidth": 0,
              "ticks": ""
             }
            },
            "type": "scattermapbox"
           }
          ],
          "scatterpolar": [
           {
            "marker": {
             "colorbar": {
              "outlinewidth": 0,
              "ticks": ""
             }
            },
            "type": "scatterpolar"
           }
          ],
          "scatterpolargl": [
           {
            "marker": {
             "colorbar": {
              "outlinewidth": 0,
              "ticks": ""
             }
            },
            "type": "scatterpolargl"
           }
          ],
          "scatterternary": [
           {
            "marker": {
             "colorbar": {
              "outlinewidth": 0,
              "ticks": ""
             }
            },
            "type": "scatterternary"
           }
          ],
          "surface": [
           {
            "colorbar": {
             "outlinewidth": 0,
             "ticks": ""
            },
            "colorscale": [
             [
              0,
              "#0d0887"
             ],
             [
              0.1111111111111111,
              "#46039f"
             ],
             [
              0.2222222222222222,
              "#7201a8"
             ],
             [
              0.3333333333333333,
              "#9c179e"
             ],
             [
              0.4444444444444444,
              "#bd3786"
             ],
             [
              0.5555555555555556,
              "#d8576b"
             ],
             [
              0.6666666666666666,
              "#ed7953"
             ],
             [
              0.7777777777777778,
              "#fb9f3a"
             ],
             [
              0.8888888888888888,
              "#fdca26"
             ],
             [
              1,
              "#f0f921"
             ]
            ],
            "type": "surface"
           }
          ],
          "table": [
           {
            "cells": {
             "fill": {
              "color": "#EBF0F8"
             },
             "line": {
              "color": "white"
             }
            },
            "header": {
             "fill": {
              "color": "#C8D4E3"
             },
             "line": {
              "color": "white"
             }
            },
            "type": "table"
           }
          ]
         },
         "layout": {
          "annotationdefaults": {
           "arrowcolor": "#2a3f5f",
           "arrowhead": 0,
           "arrowwidth": 1
          },
          "coloraxis": {
           "colorbar": {
            "outlinewidth": 0,
            "ticks": ""
           }
          },
          "colorscale": {
           "diverging": [
            [
             0,
             "#8e0152"
            ],
            [
             0.1,
             "#c51b7d"
            ],
            [
             0.2,
             "#de77ae"
            ],
            [
             0.3,
             "#f1b6da"
            ],
            [
             0.4,
             "#fde0ef"
            ],
            [
             0.5,
             "#f7f7f7"
            ],
            [
             0.6,
             "#e6f5d0"
            ],
            [
             0.7,
             "#b8e186"
            ],
            [
             0.8,
             "#7fbc41"
            ],
            [
             0.9,
             "#4d9221"
            ],
            [
             1,
             "#276419"
            ]
           ],
           "sequential": [
            [
             0,
             "#0d0887"
            ],
            [
             0.1111111111111111,
             "#46039f"
            ],
            [
             0.2222222222222222,
             "#7201a8"
            ],
            [
             0.3333333333333333,
             "#9c179e"
            ],
            [
             0.4444444444444444,
             "#bd3786"
            ],
            [
             0.5555555555555556,
             "#d8576b"
            ],
            [
             0.6666666666666666,
             "#ed7953"
            ],
            [
             0.7777777777777778,
             "#fb9f3a"
            ],
            [
             0.8888888888888888,
             "#fdca26"
            ],
            [
             1,
             "#f0f921"
            ]
           ],
           "sequentialminus": [
            [
             0,
             "#0d0887"
            ],
            [
             0.1111111111111111,
             "#46039f"
            ],
            [
             0.2222222222222222,
             "#7201a8"
            ],
            [
             0.3333333333333333,
             "#9c179e"
            ],
            [
             0.4444444444444444,
             "#bd3786"
            ],
            [
             0.5555555555555556,
             "#d8576b"
            ],
            [
             0.6666666666666666,
             "#ed7953"
            ],
            [
             0.7777777777777778,
             "#fb9f3a"
            ],
            [
             0.8888888888888888,
             "#fdca26"
            ],
            [
             1,
             "#f0f921"
            ]
           ]
          },
          "colorway": [
           "#636efa",
           "#EF553B",
           "#00cc96",
           "#ab63fa",
           "#FFA15A",
           "#19d3f3",
           "#FF6692",
           "#B6E880",
           "#FF97FF",
           "#FECB52"
          ],
          "font": {
           "color": "#2a3f5f"
          },
          "geo": {
           "bgcolor": "white",
           "lakecolor": "white",
           "landcolor": "#E5ECF6",
           "showlakes": true,
           "showland": true,
           "subunitcolor": "white"
          },
          "hoverlabel": {
           "align": "left"
          },
          "hovermode": "closest",
          "mapbox": {
           "style": "light"
          },
          "paper_bgcolor": "white",
          "plot_bgcolor": "#E5ECF6",
          "polar": {
           "angularaxis": {
            "gridcolor": "white",
            "linecolor": "white",
            "ticks": ""
           },
           "bgcolor": "#E5ECF6",
           "radialaxis": {
            "gridcolor": "white",
            "linecolor": "white",
            "ticks": ""
           }
          },
          "scene": {
           "xaxis": {
            "backgroundcolor": "#E5ECF6",
            "gridcolor": "white",
            "gridwidth": 2,
            "linecolor": "white",
            "showbackground": true,
            "ticks": "",
            "zerolinecolor": "white"
           },
           "yaxis": {
            "backgroundcolor": "#E5ECF6",
            "gridcolor": "white",
            "gridwidth": 2,
            "linecolor": "white",
            "showbackground": true,
            "ticks": "",
            "zerolinecolor": "white"
           },
           "zaxis": {
            "backgroundcolor": "#E5ECF6",
            "gridcolor": "white",
            "gridwidth": 2,
            "linecolor": "white",
            "showbackground": true,
            "ticks": "",
            "zerolinecolor": "white"
           }
          },
          "shapedefaults": {
           "line": {
            "color": "#2a3f5f"
           }
          },
          "ternary": {
           "aaxis": {
            "gridcolor": "white",
            "linecolor": "white",
            "ticks": ""
           },
           "baxis": {
            "gridcolor": "white",
            "linecolor": "white",
            "ticks": ""
           },
           "bgcolor": "#E5ECF6",
           "caxis": {
            "gridcolor": "white",
            "linecolor": "white",
            "ticks": ""
           }
          },
          "title": {
           "x": 0.05
          },
          "xaxis": {
           "automargin": true,
           "gridcolor": "white",
           "linecolor": "white",
           "ticks": "",
           "title": {
            "standoff": 15
           },
           "zerolinecolor": "white",
           "zerolinewidth": 2
          },
          "yaxis": {
           "automargin": true,
           "gridcolor": "white",
           "linecolor": "white",
           "ticks": "",
           "title": {
            "standoff": 15
           },
           "zerolinecolor": "white",
           "zerolinewidth": 2
          }
         }
        },
        "title": {
         "text": "Zájem o školu vs váha zkoušky Cermat"
        },
        "xaxis": {
         "anchor": "y",
         "domain": [
          0,
          1
         ],
         "title": {
          "text": "Procentuální váha jednotné zkoušky CERMAT (čeština + matematika)"
         }
        },
        "yaxis": {
         "anchor": "x",
         "domain": [
          0,
          1
         ],
         "title": {
          "text": "% přijatých z celkového počtu uchazečů"
         }
        }
       }
      },
      "text/html": [
       "<div>                            <div id=\"8ef461d1-8e95-49fd-a1d8-730ffab467ee\" class=\"plotly-graph-div\" style=\"height:525px; width:100%;\"></div>            <script type=\"text/javascript\">                require([\"plotly\"], function(Plotly) {                    window.PLOTLYENV=window.PLOTLYENV || {};                                    if (document.getElementById(\"8ef461d1-8e95-49fd-a1d8-730ffab467ee\")) {                    Plotly.newPlot(                        \"8ef461d1-8e95-49fd-a1d8-730ffab467ee\",                        [{\"customdata\": [[\"Gymn\\u00e1zium Bud\\u011bjovick\\u00e1\", \"0.5\", 2017], [\"Gymn\\u00e1zium Eli\\u0161ky Kr\\u00e1snohorsk\\u00e9\", \"0.5\", 2017], [\"Gymn\\u00e1zium Hlivick\\u00e1\", \"0.5\", 2017], [\"Gymn\\u00e1zium J.G.Jarkovsk\\u00e9ho\", \"0.5\", 2017], [\"Gymn\\u00e1zium Jaroslava Heyrovsk\\u00e9ho\", \"0.5\", 2017], [\"Gymn\\u00e1zium Karla Sladkovsk\\u00e9ho\", \"0.5\", 2017], [\"Gymn\\u00e1zium Litom\\u011b\\u0159ick\\u00e1\", \"0.5\", 2017], [\"Gymn\\u00e1zium Nad Alej\\u00ed\", \"0.5\", 2017], [\"Gymn\\u00e1zium P\\u00edsnick\\u00e1\", \"0.5\", 2017], [\"Gymn\\u00e1zium \\u010ceskolipsk\\u00e1\", \"0.5\", 2017], [\"Gymn\\u00e1zium \\u0160pit\\u00e1lsk\\u00e1\", \"0.5\", 2017], [\"Malostransk\\u00e9 gymn\\u00e1zium\", \"0.5\", 2017], [\"Gymn\\u00e1zium Bud\\u011bjovick\\u00e1\", \"0.5\", 2018], [\"Gymn\\u00e1zium Christiana Dopplera - jazykov\\u00e1 t\\u0159\\u00edda\", \"0.5\", 2018], [\"Gymn\\u00e1zium Christiana Dopplera - matematick\\u00e1 t\\u0159\\u00edda\", \"0.5\", 2018], [\"Gymn\\u00e1zium Eli\\u0161ky Kr\\u00e1snohorsk\\u00e9\", \"0.5\", 2018], [\"Gymn\\u00e1zium Hlivick\\u00e1\", \"0.5\", 2018], [\"Gymn\\u00e1zium J.G.Jarkovsk\\u00e9ho\", \"0.5\", 2018], [\"Gymn\\u00e1zium Karla Sladkovsk\\u00e9ho\", \"0.5\", 2018], [\"Gymn\\u00e1zium Litom\\u011b\\u0159ick\\u00e1\", \"0.5\", 2018], [\"Gymn\\u00e1zium Nad Alej\\u00ed\", \"0.5\", 2018], [\"Gymn\\u00e1zium P\\u00edsnick\\u00e1\", \"0.5\", 2018], [\"Gymn\\u00e1zium \\u010ceskolipsk\\u00e1\", \"0.5\", 2018], [\"Gymn\\u00e1zium \\u0160pit\\u00e1lsk\\u00e1\", \"0.5\", 2018], [\"Malostransk\\u00e9 gymn\\u00e1zium\", \"0.5\", 2018], [\"Gymn\\u00e1zium Bud\\u011bjovick\\u00e1\", \"0.5\", 2019], [\"Gymn\\u00e1zium Christiana Dopplera - jazykov\\u00e1 t\\u0159\\u00edda\", \"0.5\", 2019], [\"Gymn\\u00e1zium Christiana Dopplera - matematick\\u00e1 t\\u0159\\u00edda\", \"0.5\", 2019], [\"Gymn\\u00e1zium Eli\\u0161ky Kr\\u00e1snohorsk\\u00e9\", \"0.5\", 2019], [\"Gymn\\u00e1zium Hlivick\\u00e1\", \"0.5\", 2019], [\"Gymn\\u00e1zium J.G.Jarkovsk\\u00e9ho\", \"0.5\", 2019], [\"Gymn\\u00e1zium Karla Sladkovsk\\u00e9ho\", \"0.5\", 2019], [\"Gymn\\u00e1zium Nad Alej\\u00ed\", \"0.5\", 2019], [\"Gymn\\u00e1zium P\\u00edsnick\\u00e1\", \"0.5\", 2019], [\"Gymn\\u00e1zium \\u010ceskolipsk\\u00e1\", \"0.5\", 2019], [\"Gymn\\u00e1zium \\u0160pit\\u00e1lsk\\u00e1\", \"0.5\", 2019], [\"Malostransk\\u00e9 gymn\\u00e1zium\", \"0.5\", 2019], [\"Gymn\\u00e1zium Bud\\u011bjovick\\u00e1\", \"0.5\", 2020], [\"Gymn\\u00e1zium Christiana Dopplera - jazykov\\u00e1 t\\u0159\\u00edda\", \"0.5\", 2020], [\"Gymn\\u00e1zium Christiana Dopplera - matematick\\u00e1 t\\u0159\\u00edda\", \"0.5\", 2020], [\"Gymn\\u00e1zium Eli\\u0161ky Kr\\u00e1snohorsk\\u00e9\", \"0.5\", 2020], [\"Gymn\\u00e1zium Hlivick\\u00e1\", \"0.5\", 2020], [\"Gymn\\u00e1zium J.G.Jarkovsk\\u00e9ho\", \"0.5\", 2020], [\"Gymn\\u00e1zium Karla Sladkovsk\\u00e9ho\", \"0.5\", 2020], [\"Gymn\\u00e1zium Nad Alej\\u00ed\", \"0.5\", 2020], [\"Gymn\\u00e1zium P\\u00edsnick\\u00e1\", \"0.5\", 2020], [\"Gymn\\u00e1zium \\u010ceskolipsk\\u00e1\", \"0.5\", 2020], [\"Gymn\\u00e1zium \\u0160pit\\u00e1lsk\\u00e1\", \"0.5\", 2020], [\"Malostransk\\u00e9 gymn\\u00e1zium\", \"0.5\", 2020]], \"hovertemplate\": \"\\u0160koln\\u00ed zkou\\u0161ka=%{customdata[1]}<br>V\\u00e1ha zkou\\u0161ky CERMAT, %=%{x}<br>p\\u0159ijat\\u00fdch z celkov\\u00e9ho po\\u010dtu uchaze\\u010d\\u016f, %=%{y}<br>\\u0160kola=%{customdata[0]}<br>Rok=%{customdata[2]}<extra></extra>\", \"legendgroup\": \"0.5\", \"marker\": {\"color\": \"#636efa\", \"symbol\": \"circle\"}, \"mode\": \"markers\", \"name\": \"0.5\", \"orientation\": \"v\", \"showlegend\": true, \"type\": \"scatter\", \"x\": [82.64, 84.74, 78.74, 86.96, 89.28, 76.92, 75.48, 89.28, 81.96, 95.24, 85.72, 97.08, 82.64, 80.75, 80.75, 84.74, 78.74, 86.96, 76.92, 75.48, 89.28, 81.96, 95.24, 87.8, 95.24, 82.64, 80.75, 80.75, 84.74, 78.74, 86.96, 76.92, 89.28, 81.96, 95.24, 87.8, 90.9, 82.64, 80.75, 80.75, 84.74, 78.74, 86.96, 76.92, 89.28, 80.64, 95.24, 87.8, 90.9], \"xaxis\": \"x\", \"y\": [13.23, 13.06, 19.24, 22.69, 21.1, 43.94, 15.94, 13.51, 11.25, 16.36, 11.84, 12.08, 15.57, 19.72, 15.51, 14.07, 16.81, 21.66, 27.78, 13.27, 13.86, 11.35, 12.08, 13.76, 13.76, 15.16, 18.06, 16.09, 14.4, 17.81, 19.13, 35.5, 13.83, 11.16, 23.33, 12.95, 9.45, 13.7, 16.77, 15.46, 15.16, 20.0, 18.18, 27.65, 14.71, 9.41, 17.8, 12.95, 13.19], \"yaxis\": \"y\"}, {\"hovertemplate\": \"<b>OLS trendline</b><br>ADMITTED_PERCENT = -0.368072 * PROCENTA_CERMAT + 48.0355<br>R<sup>2</sup>=0.116201<br><br>\\u0160koln\\u00ed zkou\\u0161ka=0.5<br>V\\u00e1ha zkou\\u0161ky CERMAT, %=%{x}<br>p\\u0159ijat\\u00fdch z celkov\\u00e9ho po\\u010dtu uchaze\\u010d\\u016f, %=%{y} <b>(trend)</b><extra></extra>\", \"legendgroup\": \"0.5\", \"marker\": {\"color\": \"#636efa\", \"symbol\": \"circle\"}, \"mode\": \"lines\", \"name\": \"0.5\", \"showlegend\": false, \"type\": \"scatter\", \"x\": [75.48, 75.48, 76.92, 76.92, 76.92, 76.92, 78.74, 78.74, 78.74, 78.74, 80.64, 80.75, 80.75, 80.75, 80.75, 80.75, 80.75, 81.96, 81.96, 81.96, 82.64, 82.64, 82.64, 82.64, 84.74, 84.74, 84.74, 84.74, 85.72, 86.96, 86.96, 86.96, 86.96, 87.8, 87.8, 87.8, 89.28, 89.28, 89.28, 89.28, 89.28, 90.9, 90.9, 95.24, 95.24, 95.24, 95.24, 95.24, 97.08], \"xaxis\": \"x\", \"y\": [20.253401491340664, 20.253401491340664, 19.723378126082775, 19.723378126082775, 19.723378126082775, 19.723378126082775, 19.05348748388183, 19.05348748388183, 19.05348748388183, 19.05348748388183, 18.354151099166554, 18.313663203209355, 18.313663203209355, 18.313663203209355, 18.313663203209355, 18.313663203209355, 18.313663203209355, 17.868296347680154, 17.868296347680154, 17.868296347680154, 17.618007536308372, 17.618007536308372, 17.618007536308372, 17.618007536308372, 16.84505679530728, 16.84505679530728, 16.84505679530728, 16.84505679530728, 16.48434644950677, 16.0279374405347, 16.0279374405347, 16.0279374405347, 16.0279374405347, 15.718757144134258, 15.718757144134258, 15.718757144134258, 15.174010907619206, 15.174010907619206, 15.174010907619206, 15.174010907619206, 15.174010907619206, 14.577734621704074, 14.577734621704074, 12.980303090301817, 12.980303090301817, 12.980303090301817, 12.980303090301817, 12.980303090301817, 12.303051012472288], \"yaxis\": \"y\"}, {\"customdata\": [[\"Gymn\\u00e1zium Jana Keplera\", \"1.0\", 2017], [\"Gymn\\u00e1zium Nad Kaval\\u00edrkou\", \"1.0\", 2017], [\"Gymn\\u00e1zium Nad \\u0160tolou\", \"1.0\", 2017], [\"Gymn\\u00e1zium Omsk\\u00e1\", \"1.0\", 2017], [\"Gymn\\u00e1zium Opatov\", \"1.0\", 2017], [\"Gymn\\u00e1zium Vod\\u011bradsk\\u00e1\", \"1.0\", 2017], [\"Gymn\\u00e1zium prof. Jana Pato\\u010dky\", \"1.0\", 2017], [\"Gymn\\u00e1zium Jana Keplera\", \"1.0\", 2018], [\"Gymn\\u00e1zium Jaroslava Heyrovsk\\u00e9ho\", \"1.0\", 2018], [\"Gymn\\u00e1zium Nad Kaval\\u00edrkou\", \"1.0\", 2018], [\"Gymn\\u00e1zium Nad \\u0160tolou\", \"1.0\", 2018], [\"Gymn\\u00e1zium Omsk\\u00e1\", \"1.0\", 2018], [\"Gymn\\u00e1zium Opatov\", \"1.0\", 2018], [\"Gymn\\u00e1zium Vod\\u011bradsk\\u00e1\", \"1.0\", 2018], [\"Gymn\\u00e1zium prof. Jana Pato\\u010dky\", \"1.0\", 2018], [\"Gymn\\u00e1zium Jana Keplera\", \"1.0\", 2019], [\"Gymn\\u00e1zium Jaroslava Heyrovsk\\u00e9ho\", \"1.0\", 2019], [\"Gymn\\u00e1zium Nad Kaval\\u00edrkou\", \"1.0\", 2019], [\"Gymn\\u00e1zium Nad \\u0160tolou\", \"1.0\", 2019], [\"Gymn\\u00e1zium Omsk\\u00e1\", \"1.0\", 2019], [\"Gymn\\u00e1zium Opatov\", \"1.0\", 2019], [\"Gymn\\u00e1zium Vod\\u011bradsk\\u00e1\", \"1.0\", 2019], [\"Gymn\\u00e1zium prof. Jana Pato\\u010dky\", \"1.0\", 2019], [\"Gymn\\u00e1zium Jana Keplera\", \"1.0\", 2020], [\"Gymn\\u00e1zium Jaroslava Heyrovsk\\u00e9ho\", \"1.0\", 2020], [\"Gymn\\u00e1zium Nad Kaval\\u00edrkou\", \"1.0\", 2020], [\"Gymn\\u00e1zium Nad \\u0160tolou\", \"1.0\", 2020], [\"Gymn\\u00e1zium Omsk\\u00e1\", \"1.0\", 2020], [\"Gymn\\u00e1zium Opatov\", \"1.0\", 2020], [\"Gymn\\u00e1zium Vod\\u011bradsk\\u00e1\", \"1.0\", 2020], [\"Gymn\\u00e1zium prof. Jana Pato\\u010dky\", \"1.0\", 2020]], \"hovertemplate\": \"\\u0160koln\\u00ed zkou\\u0161ka=%{customdata[1]}<br>V\\u00e1ha zkou\\u0161ky CERMAT, %=%{x}<br>p\\u0159ijat\\u00fdch z celkov\\u00e9ho po\\u010dtu uchaze\\u010d\\u016f, %=%{y}<br>\\u0160kola=%{customdata[0]}<br>Rok=%{customdata[2]}<extra></extra>\", \"legendgroup\": \"1.0\", \"marker\": {\"color\": \"#EF553B\", \"symbol\": \"circle\"}, \"mode\": \"markers\", \"name\": \"1.0\", \"orientation\": \"v\", \"showlegend\": true, \"type\": \"scatter\", \"x\": [60.6, 65.78, 66.22, 62.5, 60.24, 68.96, 83.34, 60.6, 61.72, 65.78, 70.42, 62.5, 60.24, 73.52, 83.34, 60.6, 61.72, 65.78, 70.92, 62.5, 60.24, 73.52, 83.34, 60.6, 61.72, 65.78, 70.92, 62.5, 60.24, 73.52, 83.34], \"xaxis\": \"x\", \"y\": [13.72, 23.88, 17.66, 21.05, 13.73, 17.54, 19.27, 13.66, 17.4, 15.62, 14.75, 20.26, 15.75, 16.3, 16.16, 15.38, 20.65, 14.51, 15.77, 19.5, 15.11, 15.85, 15.06, 14.93, 21.08, 14.13, 19.47, 18.32, 17.51, 12.5, 14.46], \"yaxis\": \"y\"}, {\"hovertemplate\": \"<b>OLS trendline</b><br>ADMITTED_PERCENT = -0.0453118 * PROCENTA_CERMAT + 19.8505<br>R<sup>2</sup>=0.016110<br><br>\\u0160koln\\u00ed zkou\\u0161ka=1.0<br>V\\u00e1ha zkou\\u0161ky CERMAT, %=%{x}<br>p\\u0159ijat\\u00fdch z celkov\\u00e9ho po\\u010dtu uchaze\\u010d\\u016f, %=%{y} <b>(trend)</b><extra></extra>\", \"legendgroup\": \"1.0\", \"marker\": {\"color\": \"#EF553B\", \"symbol\": \"circle\"}, \"mode\": \"lines\", \"name\": \"1.0\", \"showlegend\": false, \"type\": \"scatter\", \"x\": [60.24, 60.24, 60.24, 60.24, 60.6, 60.6, 60.6, 60.6, 61.72, 61.72, 61.72, 62.5, 62.5, 62.5, 62.5, 65.78, 65.78, 65.78, 65.78, 66.22, 68.96, 70.42, 70.92, 70.92, 73.52, 73.52, 73.52, 83.34, 83.34, 83.34, 83.34], \"xaxis\": \"x\", \"y\": [17.120884529512175, 17.120884529512175, 17.120884529512175, 17.120884529512175, 17.104572266804087, 17.104572266804087, 17.104572266804087, 17.104572266804087, 17.053823005045587, 17.053823005045587, 17.053823005045587, 17.01847976917806, 17.01847976917806, 17.01847976917806, 17.01847976917806, 16.86985693117103, 16.86985693117103, 16.86985693117103, 16.86985693117103, 16.849919721194475, 16.725765277249575, 16.659609989600103, 16.636954069172198, 16.636954069172198, 16.519143282947113, 16.519143282947113, 16.519143282947113, 16.074181005743128, 16.074181005743128, 16.074181005743128, 16.074181005743128], \"yaxis\": \"y\"}],                        {\"legend\": {\"title\": {\"text\": \"\\u0160koln\\u00ed zkou\\u0161ka\"}, \"tracegroupgap\": 0}, \"margin\": {\"t\": 60}, \"template\": {\"data\": {\"bar\": [{\"error_x\": {\"color\": \"#2a3f5f\"}, \"error_y\": {\"color\": \"#2a3f5f\"}, \"marker\": {\"line\": {\"color\": \"#E5ECF6\", \"width\": 0.5}}, \"type\": \"bar\"}], \"barpolar\": [{\"marker\": {\"line\": {\"color\": \"#E5ECF6\", \"width\": 0.5}}, \"type\": \"barpolar\"}], \"carpet\": [{\"aaxis\": {\"endlinecolor\": \"#2a3f5f\", \"gridcolor\": \"white\", \"linecolor\": \"white\", \"minorgridcolor\": \"white\", \"startlinecolor\": \"#2a3f5f\"}, \"baxis\": {\"endlinecolor\": \"#2a3f5f\", \"gridcolor\": \"white\", \"linecolor\": \"white\", \"minorgridcolor\": \"white\", \"startlinecolor\": \"#2a3f5f\"}, \"type\": \"carpet\"}], \"choropleth\": [{\"colorbar\": {\"outlinewidth\": 0, \"ticks\": \"\"}, \"type\": \"choropleth\"}], \"contour\": [{\"colorbar\": {\"outlinewidth\": 0, \"ticks\": \"\"}, \"colorscale\": [[0.0, \"#0d0887\"], [0.1111111111111111, \"#46039f\"], [0.2222222222222222, \"#7201a8\"], [0.3333333333333333, \"#9c179e\"], [0.4444444444444444, \"#bd3786\"], [0.5555555555555556, \"#d8576b\"], [0.6666666666666666, \"#ed7953\"], [0.7777777777777778, \"#fb9f3a\"], [0.8888888888888888, \"#fdca26\"], [1.0, \"#f0f921\"]], \"type\": \"contour\"}], \"contourcarpet\": [{\"colorbar\": {\"outlinewidth\": 0, \"ticks\": \"\"}, \"type\": \"contourcarpet\"}], \"heatmap\": [{\"colorbar\": {\"outlinewidth\": 0, \"ticks\": \"\"}, \"colorscale\": [[0.0, \"#0d0887\"], [0.1111111111111111, \"#46039f\"], [0.2222222222222222, \"#7201a8\"], [0.3333333333333333, \"#9c179e\"], [0.4444444444444444, \"#bd3786\"], [0.5555555555555556, \"#d8576b\"], [0.6666666666666666, \"#ed7953\"], [0.7777777777777778, \"#fb9f3a\"], [0.8888888888888888, \"#fdca26\"], [1.0, \"#f0f921\"]], \"type\": \"heatmap\"}], \"heatmapgl\": [{\"colorbar\": {\"outlinewidth\": 0, \"ticks\": \"\"}, \"colorscale\": [[0.0, \"#0d0887\"], [0.1111111111111111, \"#46039f\"], [0.2222222222222222, \"#7201a8\"], [0.3333333333333333, \"#9c179e\"], [0.4444444444444444, \"#bd3786\"], [0.5555555555555556, \"#d8576b\"], [0.6666666666666666, \"#ed7953\"], [0.7777777777777778, \"#fb9f3a\"], [0.8888888888888888, \"#fdca26\"], [1.0, \"#f0f921\"]], \"type\": \"heatmapgl\"}], \"histogram\": [{\"marker\": {\"colorbar\": {\"outlinewidth\": 0, \"ticks\": \"\"}}, \"type\": \"histogram\"}], \"histogram2d\": [{\"colorbar\": {\"outlinewidth\": 0, \"ticks\": \"\"}, \"colorscale\": [[0.0, \"#0d0887\"], [0.1111111111111111, \"#46039f\"], [0.2222222222222222, \"#7201a8\"], [0.3333333333333333, \"#9c179e\"], [0.4444444444444444, \"#bd3786\"], [0.5555555555555556, \"#d8576b\"], [0.6666666666666666, \"#ed7953\"], [0.7777777777777778, \"#fb9f3a\"], [0.8888888888888888, \"#fdca26\"], [1.0, \"#f0f921\"]], \"type\": \"histogram2d\"}], \"histogram2dcontour\": [{\"colorbar\": {\"outlinewidth\": 0, \"ticks\": \"\"}, \"colorscale\": [[0.0, \"#0d0887\"], [0.1111111111111111, \"#46039f\"], [0.2222222222222222, \"#7201a8\"], [0.3333333333333333, \"#9c179e\"], [0.4444444444444444, \"#bd3786\"], [0.5555555555555556, \"#d8576b\"], [0.6666666666666666, \"#ed7953\"], [0.7777777777777778, \"#fb9f3a\"], [0.8888888888888888, \"#fdca26\"], [1.0, \"#f0f921\"]], \"type\": \"histogram2dcontour\"}], \"mesh3d\": [{\"colorbar\": {\"outlinewidth\": 0, \"ticks\": \"\"}, \"type\": \"mesh3d\"}], \"parcoords\": [{\"line\": {\"colorbar\": {\"outlinewidth\": 0, \"ticks\": \"\"}}, \"type\": \"parcoords\"}], \"pie\": [{\"automargin\": true, \"type\": \"pie\"}], \"scatter\": [{\"marker\": {\"colorbar\": {\"outlinewidth\": 0, \"ticks\": \"\"}}, \"type\": \"scatter\"}], \"scatter3d\": [{\"line\": {\"colorbar\": {\"outlinewidth\": 0, \"ticks\": \"\"}}, \"marker\": {\"colorbar\": {\"outlinewidth\": 0, \"ticks\": \"\"}}, \"type\": \"scatter3d\"}], \"scattercarpet\": [{\"marker\": {\"colorbar\": {\"outlinewidth\": 0, \"ticks\": \"\"}}, \"type\": \"scattercarpet\"}], \"scattergeo\": [{\"marker\": {\"colorbar\": {\"outlinewidth\": 0, \"ticks\": \"\"}}, \"type\": \"scattergeo\"}], \"scattergl\": [{\"marker\": {\"colorbar\": {\"outlinewidth\": 0, \"ticks\": \"\"}}, \"type\": \"scattergl\"}], \"scattermapbox\": [{\"marker\": {\"colorbar\": {\"outlinewidth\": 0, \"ticks\": \"\"}}, \"type\": \"scattermapbox\"}], \"scatterpolar\": [{\"marker\": {\"colorbar\": {\"outlinewidth\": 0, \"ticks\": \"\"}}, \"type\": \"scatterpolar\"}], \"scatterpolargl\": [{\"marker\": {\"colorbar\": {\"outlinewidth\": 0, \"ticks\": \"\"}}, \"type\": \"scatterpolargl\"}], \"scatterternary\": [{\"marker\": {\"colorbar\": {\"outlinewidth\": 0, \"ticks\": \"\"}}, \"type\": \"scatterternary\"}], \"surface\": [{\"colorbar\": {\"outlinewidth\": 0, \"ticks\": \"\"}, \"colorscale\": [[0.0, \"#0d0887\"], [0.1111111111111111, \"#46039f\"], [0.2222222222222222, \"#7201a8\"], [0.3333333333333333, \"#9c179e\"], [0.4444444444444444, \"#bd3786\"], [0.5555555555555556, \"#d8576b\"], [0.6666666666666666, \"#ed7953\"], [0.7777777777777778, \"#fb9f3a\"], [0.8888888888888888, \"#fdca26\"], [1.0, \"#f0f921\"]], \"type\": \"surface\"}], \"table\": [{\"cells\": {\"fill\": {\"color\": \"#EBF0F8\"}, \"line\": {\"color\": \"white\"}}, \"header\": {\"fill\": {\"color\": \"#C8D4E3\"}, \"line\": {\"color\": \"white\"}}, \"type\": \"table\"}]}, \"layout\": {\"annotationdefaults\": {\"arrowcolor\": \"#2a3f5f\", \"arrowhead\": 0, \"arrowwidth\": 1}, \"coloraxis\": {\"colorbar\": {\"outlinewidth\": 0, \"ticks\": \"\"}}, \"colorscale\": {\"diverging\": [[0, \"#8e0152\"], [0.1, \"#c51b7d\"], [0.2, \"#de77ae\"], [0.3, \"#f1b6da\"], [0.4, \"#fde0ef\"], [0.5, \"#f7f7f7\"], [0.6, \"#e6f5d0\"], [0.7, \"#b8e186\"], [0.8, \"#7fbc41\"], [0.9, \"#4d9221\"], [1, \"#276419\"]], \"sequential\": [[0.0, \"#0d0887\"], [0.1111111111111111, \"#46039f\"], [0.2222222222222222, \"#7201a8\"], [0.3333333333333333, \"#9c179e\"], [0.4444444444444444, \"#bd3786\"], [0.5555555555555556, \"#d8576b\"], [0.6666666666666666, \"#ed7953\"], [0.7777777777777778, \"#fb9f3a\"], [0.8888888888888888, \"#fdca26\"], [1.0, \"#f0f921\"]], \"sequentialminus\": [[0.0, \"#0d0887\"], [0.1111111111111111, \"#46039f\"], [0.2222222222222222, \"#7201a8\"], [0.3333333333333333, \"#9c179e\"], [0.4444444444444444, \"#bd3786\"], [0.5555555555555556, \"#d8576b\"], [0.6666666666666666, \"#ed7953\"], [0.7777777777777778, \"#fb9f3a\"], [0.8888888888888888, \"#fdca26\"], [1.0, \"#f0f921\"]]}, \"colorway\": [\"#636efa\", \"#EF553B\", \"#00cc96\", \"#ab63fa\", \"#FFA15A\", \"#19d3f3\", \"#FF6692\", \"#B6E880\", \"#FF97FF\", \"#FECB52\"], \"font\": {\"color\": \"#2a3f5f\"}, \"geo\": {\"bgcolor\": \"white\", \"lakecolor\": \"white\", \"landcolor\": \"#E5ECF6\", \"showlakes\": true, \"showland\": true, \"subunitcolor\": \"white\"}, \"hoverlabel\": {\"align\": \"left\"}, \"hovermode\": \"closest\", \"mapbox\": {\"style\": \"light\"}, \"paper_bgcolor\": \"white\", \"plot_bgcolor\": \"#E5ECF6\", \"polar\": {\"angularaxis\": {\"gridcolor\": \"white\", \"linecolor\": \"white\", \"ticks\": \"\"}, \"bgcolor\": \"#E5ECF6\", \"radialaxis\": {\"gridcolor\": \"white\", \"linecolor\": \"white\", \"ticks\": \"\"}}, \"scene\": {\"xaxis\": {\"backgroundcolor\": \"#E5ECF6\", \"gridcolor\": \"white\", \"gridwidth\": 2, \"linecolor\": \"white\", \"showbackground\": true, \"ticks\": \"\", \"zerolinecolor\": \"white\"}, \"yaxis\": {\"backgroundcolor\": \"#E5ECF6\", \"gridcolor\": \"white\", \"gridwidth\": 2, \"linecolor\": \"white\", \"showbackground\": true, \"ticks\": \"\", \"zerolinecolor\": \"white\"}, \"zaxis\": {\"backgroundcolor\": \"#E5ECF6\", \"gridcolor\": \"white\", \"gridwidth\": 2, \"linecolor\": \"white\", \"showbackground\": true, \"ticks\": \"\", \"zerolinecolor\": \"white\"}}, \"shapedefaults\": {\"line\": {\"color\": \"#2a3f5f\"}}, \"ternary\": {\"aaxis\": {\"gridcolor\": \"white\", \"linecolor\": \"white\", \"ticks\": \"\"}, \"baxis\": {\"gridcolor\": \"white\", \"linecolor\": \"white\", \"ticks\": \"\"}, \"bgcolor\": \"#E5ECF6\", \"caxis\": {\"gridcolor\": \"white\", \"linecolor\": \"white\", \"ticks\": \"\"}}, \"title\": {\"x\": 0.05}, \"xaxis\": {\"automargin\": true, \"gridcolor\": \"white\", \"linecolor\": \"white\", \"ticks\": \"\", \"title\": {\"standoff\": 15}, \"zerolinecolor\": \"white\", \"zerolinewidth\": 2}, \"yaxis\": {\"automargin\": true, \"gridcolor\": \"white\", \"linecolor\": \"white\", \"ticks\": \"\", \"title\": {\"standoff\": 15}, \"zerolinecolor\": \"white\", \"zerolinewidth\": 2}}}, \"title\": {\"text\": \"Z\\u00e1jem o \\u0161kolu vs v\\u00e1ha zkou\\u0161ky Cermat\"}, \"xaxis\": {\"anchor\": \"y\", \"domain\": [0.0, 1.0], \"title\": {\"text\": \"Procentu\\u00e1ln\\u00ed v\\u00e1ha jednotn\\u00e9 zkou\\u0161ky CERMAT (\\u010de\\u0161tina + matematika)\"}}, \"yaxis\": {\"anchor\": \"x\", \"domain\": [0.0, 1.0], \"title\": {\"text\": \"% p\\u0159ijat\\u00fdch z celkov\\u00e9ho po\\u010dtu uchaze\\u010d\\u016f\"}}},                        {\"responsive\": true}                    ).then(function(){\n",
       "                            \n",
       "var gd = document.getElementById('8ef461d1-8e95-49fd-a1d8-730ffab467ee');\n",
       "var x = new MutationObserver(function (mutations, observer) {{\n",
       "        var display = window.getComputedStyle(gd).display;\n",
       "        if (!display || display === 'none') {{\n",
       "            console.log([gd, 'removed!']);\n",
       "            Plotly.purge(gd);\n",
       "            observer.disconnect();\n",
       "        }}\n",
       "}});\n",
       "\n",
       "// Listen for the removal of the full notebook cells\n",
       "var notebookContainer = gd.closest('#notebook-container');\n",
       "if (notebookContainer) {{\n",
       "    x.observe(notebookContainer, {childList: true});\n",
       "}}\n",
       "\n",
       "// Listen for the clearing of the current output cell\n",
       "var outputEl = gd.closest('.output');\n",
       "if (outputEl) {{\n",
       "    x.observe(outputEl, {childList: true});\n",
       "}}\n",
       "\n",
       "                        })                };                });            </script>        </div>"
      ]
     },
     "metadata": {},
     "output_type": "display_data"
    }
   ],
   "source": [
    "kor_c_a.update_layout(\n",
    "    title=\"Zájem o školu vs váha zkoušky Cermat\",\n",
    "    \n",
    "    xaxis_title=\"Procentuální váha jednotné zkoušky CERMAT (čeština + matematika)\",\n",
    "    yaxis_title=\"% přijatých z celkového počtu uchazečů\",\n",
    "   \n",
    "    \n",
    "    legend_title=\"Školní zkouška\")"
   ]
  },
  {
   "cell_type": "markdown",
   "metadata": {},
   "source": [
    "#Publikace na Datapane\n",
    "dp.Report(\n",
    "    dp.Plot(kor_c_a)).publish(name='Zájem o školy a jednotná zkouška - podle clusterů', open=True)"
   ]
  },
  {
   "cell_type": "markdown",
   "metadata": {},
   "source": [
    "### Komentar \n",
    "Mírná kolelace - čím méně zkoušek, tím větší zájem - tedy tím menší procento přijatých. \n",
    "Patočka je jasná volba, pokud nechcete školu s velkou vánou Cermatu anuu s celkou váhou školní zkoušky ani s velkým\n",
    "počtem uchazečů. Špitálská je jasná volba, pokud tam chcete, jinak můžete zkusit velmi podobnou vyhlášenou Nad Alejí"
   ]
  },
  {
   "cell_type": "markdown",
   "metadata": {},
   "source": [
    "### Zájem vs. známky"
   ]
  },
  {
   "cell_type": "code",
   "execution_count": 109,
   "metadata": {},
   "outputs": [
    {
     "data": {
      "application/vnd.plotly.v1+json": {
       "config": {
        "plotlyServerURL": "https://plot.ly"
       },
       "data": [
        {
         "customdata": [
          [
           "Gymnázium Budějovická",
           2017
          ],
          [
           "Gymnázium Elišky Krásnohorské",
           2017
          ],
          [
           "Gymnázium Hlivická",
           2017
          ],
          [
           "Gymnázium J.G.Jarkovského",
           2017
          ],
          [
           "Gymnázium Jaroslava Heyrovského",
           2017
          ],
          [
           "Gymnázium Karla Sladkovského",
           2017
          ],
          [
           "Gymnázium Litoměřická",
           2017
          ],
          [
           "Gymnázium Nad Alejí",
           2017
          ],
          [
           "Gymnázium Písnická",
           2017
          ],
          [
           "Gymnázium Českolipská",
           2017
          ],
          [
           "Gymnázium Špitálská",
           2017
          ],
          [
           "Malostranské gymnázium",
           2017
          ],
          [
           "Gymnázium Budějovická",
           2018
          ],
          [
           "Gymnázium Christiana Dopplera - jazyková třída",
           2018
          ],
          [
           "Gymnázium Christiana Dopplera - matematická třída",
           2018
          ],
          [
           "Gymnázium Elišky Krásnohorské",
           2018
          ],
          [
           "Gymnázium Hlivická",
           2018
          ],
          [
           "Gymnázium J.G.Jarkovského",
           2018
          ],
          [
           "Gymnázium Karla Sladkovského",
           2018
          ],
          [
           "Gymnázium Litoměřická",
           2018
          ],
          [
           "Gymnázium Nad Alejí",
           2018
          ],
          [
           "Gymnázium Písnická",
           2018
          ],
          [
           "Gymnázium Českolipská",
           2018
          ],
          [
           "Gymnázium Špitálská",
           2018
          ],
          [
           "Malostranské gymnázium",
           2018
          ],
          [
           "Gymnázium Budějovická",
           2019
          ],
          [
           "Gymnázium Christiana Dopplera - jazyková třída",
           2019
          ],
          [
           "Gymnázium Christiana Dopplera - matematická třída",
           2019
          ],
          [
           "Gymnázium Elišky Krásnohorské",
           2019
          ],
          [
           "Gymnázium Hlivická",
           2019
          ],
          [
           "Gymnázium J.G.Jarkovského",
           2019
          ],
          [
           "Gymnázium Karla Sladkovského",
           2019
          ],
          [
           "Gymnázium Nad Alejí",
           2019
          ],
          [
           "Gymnázium Písnická",
           2019
          ],
          [
           "Gymnázium Českolipská",
           2019
          ],
          [
           "Gymnázium Špitálská",
           2019
          ],
          [
           "Malostranské gymnázium",
           2019
          ],
          [
           "Gymnázium Budějovická",
           2020
          ],
          [
           "Gymnázium Christiana Dopplera - jazyková třída",
           2020
          ],
          [
           "Gymnázium Christiana Dopplera - matematická třída",
           2020
          ],
          [
           "Gymnázium Elišky Krásnohorské",
           2020
          ],
          [
           "Gymnázium Hlivická",
           2020
          ],
          [
           "Gymnázium J.G.Jarkovského",
           2020
          ],
          [
           "Gymnázium Karla Sladkovského",
           2020
          ],
          [
           "Gymnázium Nad Alejí",
           2020
          ],
          [
           "Gymnázium Písnická",
           2020
          ],
          [
           "Gymnázium Českolipská",
           2020
          ],
          [
           "Gymnázium Špitálská",
           2020
          ],
          [
           "Malostranské gymnázium",
           2020
          ]
         ],
         "hovertemplate": "IS_SCHOOL_EXAM=0.5<br>PROCENTA_GRADES=%{x}<br>UCHAZECU_NA_JEDNO_MISTO=%{y}<br>SCHOOL_NAME=%{customdata[0]}<br>YEAR=%{customdata[1]}<extra></extra>",
         "legendgroup": "0.5",
         "marker": {
          "color": "#636efa",
          "symbol": "circle"
         },
         "mode": "markers",
         "name": "0.5",
         "orientation": "v",
         "showlegend": true,
         "type": "scatter",
         "x": [
          9.09,
          10.17,
          15.75,
          6.52,
          10.71,
          15.38,
          18.87,
          10.71,
          18.03,
          4.76,
          9.52,
          2.91,
          9.09,
          6.45,
          6.45,
          10.17,
          15.75,
          6.52,
          15.38,
          18.87,
          10.71,
          18.03,
          4.76,
          9.76,
          4.76,
          9.09,
          6.45,
          6.45,
          10.17,
          15.75,
          6.52,
          11.54,
          10.71,
          18.03,
          4.76,
          9.76,
          9.09,
          9.09,
          6.45,
          6.45,
          10.17,
          15.75,
          6.52,
          11.54,
          10.71,
          19.35,
          4.76,
          9.76,
          9.09
         ],
         "xaxis": "x",
         "y": [
          7.56,
          7.66,
          5.2,
          4.41,
          4.74,
          2.28,
          6.27,
          7.4,
          8.89,
          6.11,
          8.44,
          8.28,
          6.42,
          5.07,
          6.45,
          7.11,
          5.95,
          4.62,
          3.6,
          7.54,
          7.21,
          8.81,
          8.28,
          7.27,
          7.27,
          6.6,
          5.54,
          6.21,
          6.94,
          5.61,
          5.23,
          2.82,
          7.23,
          8.96,
          4.29,
          7.72,
          10.58,
          7.3,
          5.96,
          6.47,
          6.59,
          5,
          5.5,
          3.62,
          6.8,
          10.63,
          5.62,
          7.72,
          7.58
         ],
         "yaxis": "y"
        },
        {
         "hovertemplate": "<b>OLS trendline</b><br>UCHAZECU_NA_JEDNO_MISTO = 0.0515419 * PROCENTA_GRADES + 5.98417<br>R<sup>2</sup>=0.016898<br><br>IS_SCHOOL_EXAM=0.5<br>PROCENTA_GRADES=%{x}<br>UCHAZECU_NA_JEDNO_MISTO=%{y} <b>(trend)</b><extra></extra>",
         "legendgroup": "0.5",
         "marker": {
          "color": "#636efa",
          "symbol": "circle"
         },
         "mode": "lines",
         "name": "0.5",
         "showlegend": false,
         "type": "scatter",
         "x": [
          2.91,
          4.76,
          4.76,
          4.76,
          4.76,
          4.76,
          6.45,
          6.45,
          6.45,
          6.45,
          6.45,
          6.45,
          6.52,
          6.52,
          6.52,
          6.52,
          9.09,
          9.09,
          9.09,
          9.09,
          9.09,
          9.09,
          9.52,
          9.76,
          9.76,
          9.76,
          10.17,
          10.17,
          10.17,
          10.17,
          10.71,
          10.71,
          10.71,
          10.71,
          10.71,
          11.54,
          11.54,
          15.38,
          15.38,
          15.75,
          15.75,
          15.75,
          15.75,
          18.03,
          18.03,
          18.03,
          18.87,
          18.87,
          19.35
         ],
         "xaxis": "x",
         "y": [
          6.134152860757303,
          6.229505389420232,
          6.229505389420232,
          6.229505389420232,
          6.229505389420232,
          6.229505389420232,
          6.316611212901501,
          6.316611212901501,
          6.316611212901501,
          6.316611212901501,
          6.316611212901501,
          6.316611212901501,
          6.320219146418477,
          6.320219146418477,
          6.320219146418477,
          6.320219146418477,
          6.452681848398869,
          6.452681848398869,
          6.452681848398869,
          6.452681848398869,
          6.452681848398869,
          6.452681848398869,
          6.474844868574577,
          6.487214926347065,
          6.487214926347065,
          6.487214926347065,
          6.508347108375065,
          6.508347108375065,
          6.508347108375065,
          6.508347108375065,
          6.536179738363163,
          6.536179738363163,
          6.536179738363163,
          6.536179738363163,
          6.536179738363163,
          6.578959521493017,
          6.578959521493017,
          6.776880445852825,
          6.776880445852825,
          6.795950951585411,
          6.795950951585411,
          6.795950951585411,
          6.795950951585411,
          6.913466500424047,
          6.913466500424047,
          6.913466500424047,
          6.956761702627754,
          6.956761702627754,
          6.98150181817273
         ],
         "yaxis": "y"
        },
        {
         "customdata": [
          [
           "Gymnázium Jana Keplera",
           2017
          ],
          [
           "Gymnázium Nad Kavalírkou",
           2017
          ],
          [
           "Gymnázium Nad Štolou",
           2017
          ],
          [
           "Gymnázium Omská",
           2017
          ],
          [
           "Gymnázium Opatov",
           2017
          ],
          [
           "Gymnázium Voděradská",
           2017
          ],
          [
           "Gymnázium prof. Jana Patočky",
           2017
          ],
          [
           "Gymnázium Jana Keplera",
           2018
          ],
          [
           "Gymnázium Jaroslava Heyrovského",
           2018
          ],
          [
           "Gymnázium Nad Kavalírkou",
           2018
          ],
          [
           "Gymnázium Nad Štolou",
           2018
          ],
          [
           "Gymnázium Omská",
           2018
          ],
          [
           "Gymnázium Opatov",
           2018
          ],
          [
           "Gymnázium Voděradská",
           2018
          ],
          [
           "Gymnázium prof. Jana Patočky",
           2018
          ],
          [
           "Gymnázium Jana Keplera",
           2019
          ],
          [
           "Gymnázium Jaroslava Heyrovského",
           2019
          ],
          [
           "Gymnázium Nad Kavalírkou",
           2019
          ],
          [
           "Gymnázium Nad Štolou",
           2019
          ],
          [
           "Gymnázium Omská",
           2019
          ],
          [
           "Gymnázium Opatov",
           2019
          ],
          [
           "Gymnázium Voděradská",
           2019
          ],
          [
           "Gymnázium prof. Jana Patočky",
           2019
          ],
          [
           "Gymnázium Jana Keplera",
           2020
          ],
          [
           "Gymnázium Jaroslava Heyrovského",
           2020
          ],
          [
           "Gymnázium Nad Kavalírkou",
           2020
          ],
          [
           "Gymnázium Nad Štolou",
           2020
          ],
          [
           "Gymnázium Omská",
           2020
          ],
          [
           "Gymnázium Opatov",
           2020
          ],
          [
           "Gymnázium Voděradská",
           2020
          ],
          [
           "Gymnázium prof. Jana Patočky",
           2020
          ]
         ],
         "hovertemplate": "IS_SCHOOL_EXAM=1.0<br>PROCENTA_GRADES=%{x}<br>UCHAZECU_NA_JEDNO_MISTO=%{y}<br>SCHOOL_NAME=%{customdata[0]}<br>YEAR=%{customdata[1]}<extra></extra>",
         "legendgroup": "1.0",
         "marker": {
          "color": "#EF553B",
          "symbol": "circle"
         },
         "mode": "markers",
         "name": "1.0",
         "orientation": "v",
         "showlegend": true,
         "type": "scatter",
         "x": [
          6.06,
          1.32,
          9.93,
          6.25,
          6.02,
          4.14,
          8.33,
          6.06,
          7.41,
          1.32,
          10.56,
          6.25,
          6.02,
          4.41,
          8.33,
          6.06,
          7.41,
          1.32,
          10.64,
          6.25,
          6.02,
          4.41,
          8.33,
          6.06,
          7.41,
          1.32,
          10.64,
          6.25,
          6.02,
          4.41,
          8.33
         ],
         "xaxis": "x",
         "y": [
          7.29,
          4.19,
          5.66,
          4.75,
          7.28,
          5.7,
          5.19,
          7.32,
          5.75,
          6.4,
          6.78,
          4.94,
          6.35,
          6.14,
          6.19,
          6.5,
          4.84,
          6.89,
          6.34,
          5.13,
          6.62,
          6.31,
          6.64,
          6.7,
          4.74,
          7.08,
          5.14,
          5.46,
          5.71,
          8,
          6.91
         ],
         "yaxis": "y"
        },
        {
         "hovertemplate": "<b>OLS trendline</b><br>UCHAZECU_NA_JEDNO_MISTO = -0.0445771 * PROCENTA_GRADES + 6.37278<br>R<sup>2</sup>=0.015643<br><br>IS_SCHOOL_EXAM=1.0<br>PROCENTA_GRADES=%{x}<br>UCHAZECU_NA_JEDNO_MISTO=%{y} <b>(trend)</b><extra></extra>",
         "legendgroup": "1.0",
         "marker": {
          "color": "#EF553B",
          "symbol": "circle"
         },
         "mode": "lines",
         "name": "1.0",
         "showlegend": false,
         "type": "scatter",
         "x": [
          1.32,
          1.32,
          1.32,
          1.32,
          4.14,
          4.41,
          4.41,
          4.41,
          6.02,
          6.02,
          6.02,
          6.02,
          6.06,
          6.06,
          6.06,
          6.06,
          6.25,
          6.25,
          6.25,
          6.25,
          7.41,
          7.41,
          7.41,
          8.33,
          8.33,
          8.33,
          8.33,
          9.93,
          10.56,
          10.64,
          10.64
         ],
         "xaxis": "x",
         "y": [
          6.313942303906714,
          6.313942303906714,
          6.313942303906714,
          6.313942303906714,
          6.188234906075611,
          6.1761990913896545,
          6.1761990913896545,
          6.1761990913896545,
          6.10442997418821,
          6.10442997418821,
          6.10442997418821,
          6.10442997418821,
          6.102646890531031,
          6.102646890531031,
          6.102646890531031,
          6.102646890531031,
          6.094177243159432,
          6.094177243159432,
          6.094177243159432,
          6.094177243159432,
          6.042467817101248,
          6.042467817101248,
          6.042467817101248,
          6.001456892986137,
          6.001456892986137,
          6.001456892986137,
          6.001456892986137,
          5.930133546698987,
          5.902049979098421,
          5.898483811784064,
          5.898483811784064
         ],
         "yaxis": "y"
        }
       ],
       "layout": {
        "legend": {
         "title": {
          "text": "IS_SCHOOL_EXAM"
         },
         "tracegroupgap": 0
        },
        "margin": {
         "t": 60
        },
        "template": {
         "data": {
          "bar": [
           {
            "error_x": {
             "color": "#2a3f5f"
            },
            "error_y": {
             "color": "#2a3f5f"
            },
            "marker": {
             "line": {
              "color": "#E5ECF6",
              "width": 0.5
             }
            },
            "type": "bar"
           }
          ],
          "barpolar": [
           {
            "marker": {
             "line": {
              "color": "#E5ECF6",
              "width": 0.5
             }
            },
            "type": "barpolar"
           }
          ],
          "carpet": [
           {
            "aaxis": {
             "endlinecolor": "#2a3f5f",
             "gridcolor": "white",
             "linecolor": "white",
             "minorgridcolor": "white",
             "startlinecolor": "#2a3f5f"
            },
            "baxis": {
             "endlinecolor": "#2a3f5f",
             "gridcolor": "white",
             "linecolor": "white",
             "minorgridcolor": "white",
             "startlinecolor": "#2a3f5f"
            },
            "type": "carpet"
           }
          ],
          "choropleth": [
           {
            "colorbar": {
             "outlinewidth": 0,
             "ticks": ""
            },
            "type": "choropleth"
           }
          ],
          "contour": [
           {
            "colorbar": {
             "outlinewidth": 0,
             "ticks": ""
            },
            "colorscale": [
             [
              0,
              "#0d0887"
             ],
             [
              0.1111111111111111,
              "#46039f"
             ],
             [
              0.2222222222222222,
              "#7201a8"
             ],
             [
              0.3333333333333333,
              "#9c179e"
             ],
             [
              0.4444444444444444,
              "#bd3786"
             ],
             [
              0.5555555555555556,
              "#d8576b"
             ],
             [
              0.6666666666666666,
              "#ed7953"
             ],
             [
              0.7777777777777778,
              "#fb9f3a"
             ],
             [
              0.8888888888888888,
              "#fdca26"
             ],
             [
              1,
              "#f0f921"
             ]
            ],
            "type": "contour"
           }
          ],
          "contourcarpet": [
           {
            "colorbar": {
             "outlinewidth": 0,
             "ticks": ""
            },
            "type": "contourcarpet"
           }
          ],
          "heatmap": [
           {
            "colorbar": {
             "outlinewidth": 0,
             "ticks": ""
            },
            "colorscale": [
             [
              0,
              "#0d0887"
             ],
             [
              0.1111111111111111,
              "#46039f"
             ],
             [
              0.2222222222222222,
              "#7201a8"
             ],
             [
              0.3333333333333333,
              "#9c179e"
             ],
             [
              0.4444444444444444,
              "#bd3786"
             ],
             [
              0.5555555555555556,
              "#d8576b"
             ],
             [
              0.6666666666666666,
              "#ed7953"
             ],
             [
              0.7777777777777778,
              "#fb9f3a"
             ],
             [
              0.8888888888888888,
              "#fdca26"
             ],
             [
              1,
              "#f0f921"
             ]
            ],
            "type": "heatmap"
           }
          ],
          "heatmapgl": [
           {
            "colorbar": {
             "outlinewidth": 0,
             "ticks": ""
            },
            "colorscale": [
             [
              0,
              "#0d0887"
             ],
             [
              0.1111111111111111,
              "#46039f"
             ],
             [
              0.2222222222222222,
              "#7201a8"
             ],
             [
              0.3333333333333333,
              "#9c179e"
             ],
             [
              0.4444444444444444,
              "#bd3786"
             ],
             [
              0.5555555555555556,
              "#d8576b"
             ],
             [
              0.6666666666666666,
              "#ed7953"
             ],
             [
              0.7777777777777778,
              "#fb9f3a"
             ],
             [
              0.8888888888888888,
              "#fdca26"
             ],
             [
              1,
              "#f0f921"
             ]
            ],
            "type": "heatmapgl"
           }
          ],
          "histogram": [
           {
            "marker": {
             "colorbar": {
              "outlinewidth": 0,
              "ticks": ""
             }
            },
            "type": "histogram"
           }
          ],
          "histogram2d": [
           {
            "colorbar": {
             "outlinewidth": 0,
             "ticks": ""
            },
            "colorscale": [
             [
              0,
              "#0d0887"
             ],
             [
              0.1111111111111111,
              "#46039f"
             ],
             [
              0.2222222222222222,
              "#7201a8"
             ],
             [
              0.3333333333333333,
              "#9c179e"
             ],
             [
              0.4444444444444444,
              "#bd3786"
             ],
             [
              0.5555555555555556,
              "#d8576b"
             ],
             [
              0.6666666666666666,
              "#ed7953"
             ],
             [
              0.7777777777777778,
              "#fb9f3a"
             ],
             [
              0.8888888888888888,
              "#fdca26"
             ],
             [
              1,
              "#f0f921"
             ]
            ],
            "type": "histogram2d"
           }
          ],
          "histogram2dcontour": [
           {
            "colorbar": {
             "outlinewidth": 0,
             "ticks": ""
            },
            "colorscale": [
             [
              0,
              "#0d0887"
             ],
             [
              0.1111111111111111,
              "#46039f"
             ],
             [
              0.2222222222222222,
              "#7201a8"
             ],
             [
              0.3333333333333333,
              "#9c179e"
             ],
             [
              0.4444444444444444,
              "#bd3786"
             ],
             [
              0.5555555555555556,
              "#d8576b"
             ],
             [
              0.6666666666666666,
              "#ed7953"
             ],
             [
              0.7777777777777778,
              "#fb9f3a"
             ],
             [
              0.8888888888888888,
              "#fdca26"
             ],
             [
              1,
              "#f0f921"
             ]
            ],
            "type": "histogram2dcontour"
           }
          ],
          "mesh3d": [
           {
            "colorbar": {
             "outlinewidth": 0,
             "ticks": ""
            },
            "type": "mesh3d"
           }
          ],
          "parcoords": [
           {
            "line": {
             "colorbar": {
              "outlinewidth": 0,
              "ticks": ""
             }
            },
            "type": "parcoords"
           }
          ],
          "pie": [
           {
            "automargin": true,
            "type": "pie"
           }
          ],
          "scatter": [
           {
            "marker": {
             "colorbar": {
              "outlinewidth": 0,
              "ticks": ""
             }
            },
            "type": "scatter"
           }
          ],
          "scatter3d": [
           {
            "line": {
             "colorbar": {
              "outlinewidth": 0,
              "ticks": ""
             }
            },
            "marker": {
             "colorbar": {
              "outlinewidth": 0,
              "ticks": ""
             }
            },
            "type": "scatter3d"
           }
          ],
          "scattercarpet": [
           {
            "marker": {
             "colorbar": {
              "outlinewidth": 0,
              "ticks": ""
             }
            },
            "type": "scattercarpet"
           }
          ],
          "scattergeo": [
           {
            "marker": {
             "colorbar": {
              "outlinewidth": 0,
              "ticks": ""
             }
            },
            "type": "scattergeo"
           }
          ],
          "scattergl": [
           {
            "marker": {
             "colorbar": {
              "outlinewidth": 0,
              "ticks": ""
             }
            },
            "type": "scattergl"
           }
          ],
          "scattermapbox": [
           {
            "marker": {
             "colorbar": {
              "outlinewidth": 0,
              "ticks": ""
             }
            },
            "type": "scattermapbox"
           }
          ],
          "scatterpolar": [
           {
            "marker": {
             "colorbar": {
              "outlinewidth": 0,
              "ticks": ""
             }
            },
            "type": "scatterpolar"
           }
          ],
          "scatterpolargl": [
           {
            "marker": {
             "colorbar": {
              "outlinewidth": 0,
              "ticks": ""
             }
            },
            "type": "scatterpolargl"
           }
          ],
          "scatterternary": [
           {
            "marker": {
             "colorbar": {
              "outlinewidth": 0,
              "ticks": ""
             }
            },
            "type": "scatterternary"
           }
          ],
          "surface": [
           {
            "colorbar": {
             "outlinewidth": 0,
             "ticks": ""
            },
            "colorscale": [
             [
              0,
              "#0d0887"
             ],
             [
              0.1111111111111111,
              "#46039f"
             ],
             [
              0.2222222222222222,
              "#7201a8"
             ],
             [
              0.3333333333333333,
              "#9c179e"
             ],
             [
              0.4444444444444444,
              "#bd3786"
             ],
             [
              0.5555555555555556,
              "#d8576b"
             ],
             [
              0.6666666666666666,
              "#ed7953"
             ],
             [
              0.7777777777777778,
              "#fb9f3a"
             ],
             [
              0.8888888888888888,
              "#fdca26"
             ],
             [
              1,
              "#f0f921"
             ]
            ],
            "type": "surface"
           }
          ],
          "table": [
           {
            "cells": {
             "fill": {
              "color": "#EBF0F8"
             },
             "line": {
              "color": "white"
             }
            },
            "header": {
             "fill": {
              "color": "#C8D4E3"
             },
             "line": {
              "color": "white"
             }
            },
            "type": "table"
           }
          ]
         },
         "layout": {
          "annotationdefaults": {
           "arrowcolor": "#2a3f5f",
           "arrowhead": 0,
           "arrowwidth": 1
          },
          "coloraxis": {
           "colorbar": {
            "outlinewidth": 0,
            "ticks": ""
           }
          },
          "colorscale": {
           "diverging": [
            [
             0,
             "#8e0152"
            ],
            [
             0.1,
             "#c51b7d"
            ],
            [
             0.2,
             "#de77ae"
            ],
            [
             0.3,
             "#f1b6da"
            ],
            [
             0.4,
             "#fde0ef"
            ],
            [
             0.5,
             "#f7f7f7"
            ],
            [
             0.6,
             "#e6f5d0"
            ],
            [
             0.7,
             "#b8e186"
            ],
            [
             0.8,
             "#7fbc41"
            ],
            [
             0.9,
             "#4d9221"
            ],
            [
             1,
             "#276419"
            ]
           ],
           "sequential": [
            [
             0,
             "#0d0887"
            ],
            [
             0.1111111111111111,
             "#46039f"
            ],
            [
             0.2222222222222222,
             "#7201a8"
            ],
            [
             0.3333333333333333,
             "#9c179e"
            ],
            [
             0.4444444444444444,
             "#bd3786"
            ],
            [
             0.5555555555555556,
             "#d8576b"
            ],
            [
             0.6666666666666666,
             "#ed7953"
            ],
            [
             0.7777777777777778,
             "#fb9f3a"
            ],
            [
             0.8888888888888888,
             "#fdca26"
            ],
            [
             1,
             "#f0f921"
            ]
           ],
           "sequentialminus": [
            [
             0,
             "#0d0887"
            ],
            [
             0.1111111111111111,
             "#46039f"
            ],
            [
             0.2222222222222222,
             "#7201a8"
            ],
            [
             0.3333333333333333,
             "#9c179e"
            ],
            [
             0.4444444444444444,
             "#bd3786"
            ],
            [
             0.5555555555555556,
             "#d8576b"
            ],
            [
             0.6666666666666666,
             "#ed7953"
            ],
            [
             0.7777777777777778,
             "#fb9f3a"
            ],
            [
             0.8888888888888888,
             "#fdca26"
            ],
            [
             1,
             "#f0f921"
            ]
           ]
          },
          "colorway": [
           "#636efa",
           "#EF553B",
           "#00cc96",
           "#ab63fa",
           "#FFA15A",
           "#19d3f3",
           "#FF6692",
           "#B6E880",
           "#FF97FF",
           "#FECB52"
          ],
          "font": {
           "color": "#2a3f5f"
          },
          "geo": {
           "bgcolor": "white",
           "lakecolor": "white",
           "landcolor": "#E5ECF6",
           "showlakes": true,
           "showland": true,
           "subunitcolor": "white"
          },
          "hoverlabel": {
           "align": "left"
          },
          "hovermode": "closest",
          "mapbox": {
           "style": "light"
          },
          "paper_bgcolor": "white",
          "plot_bgcolor": "#E5ECF6",
          "polar": {
           "angularaxis": {
            "gridcolor": "white",
            "linecolor": "white",
            "ticks": ""
           },
           "bgcolor": "#E5ECF6",
           "radialaxis": {
            "gridcolor": "white",
            "linecolor": "white",
            "ticks": ""
           }
          },
          "scene": {
           "xaxis": {
            "backgroundcolor": "#E5ECF6",
            "gridcolor": "white",
            "gridwidth": 2,
            "linecolor": "white",
            "showbackground": true,
            "ticks": "",
            "zerolinecolor": "white"
           },
           "yaxis": {
            "backgroundcolor": "#E5ECF6",
            "gridcolor": "white",
            "gridwidth": 2,
            "linecolor": "white",
            "showbackground": true,
            "ticks": "",
            "zerolinecolor": "white"
           },
           "zaxis": {
            "backgroundcolor": "#E5ECF6",
            "gridcolor": "white",
            "gridwidth": 2,
            "linecolor": "white",
            "showbackground": true,
            "ticks": "",
            "zerolinecolor": "white"
           }
          },
          "shapedefaults": {
           "line": {
            "color": "#2a3f5f"
           }
          },
          "ternary": {
           "aaxis": {
            "gridcolor": "white",
            "linecolor": "white",
            "ticks": ""
           },
           "baxis": {
            "gridcolor": "white",
            "linecolor": "white",
            "ticks": ""
           },
           "bgcolor": "#E5ECF6",
           "caxis": {
            "gridcolor": "white",
            "linecolor": "white",
            "ticks": ""
           }
          },
          "title": {
           "x": 0.05
          },
          "xaxis": {
           "automargin": true,
           "gridcolor": "white",
           "linecolor": "white",
           "ticks": "",
           "title": {
            "standoff": 15
           },
           "zerolinecolor": "white",
           "zerolinewidth": 2
          },
          "yaxis": {
           "automargin": true,
           "gridcolor": "white",
           "linecolor": "white",
           "ticks": "",
           "title": {
            "standoff": 15
           },
           "zerolinecolor": "white",
           "zerolinewidth": 2
          }
         }
        },
        "xaxis": {
         "anchor": "y",
         "domain": [
          0,
          1
         ],
         "title": {
          "text": "PROCENTA_GRADES"
         }
        },
        "yaxis": {
         "anchor": "x",
         "domain": [
          0,
          1
         ],
         "title": {
          "text": "UCHAZECU_NA_JEDNO_MISTO"
         }
        }
       }
      },
      "text/html": [
       "<div>                            <div id=\"074cca42-2246-41f0-a91b-6bc92fd55493\" class=\"plotly-graph-div\" style=\"height:525px; width:100%;\"></div>            <script type=\"text/javascript\">                require([\"plotly\"], function(Plotly) {                    window.PLOTLYENV=window.PLOTLYENV || {};                                    if (document.getElementById(\"074cca42-2246-41f0-a91b-6bc92fd55493\")) {                    Plotly.newPlot(                        \"074cca42-2246-41f0-a91b-6bc92fd55493\",                        [{\"customdata\": [[\"Gymn\\u00e1zium Bud\\u011bjovick\\u00e1\", 2017], [\"Gymn\\u00e1zium Eli\\u0161ky Kr\\u00e1snohorsk\\u00e9\", 2017], [\"Gymn\\u00e1zium Hlivick\\u00e1\", 2017], [\"Gymn\\u00e1zium J.G.Jarkovsk\\u00e9ho\", 2017], [\"Gymn\\u00e1zium Jaroslava Heyrovsk\\u00e9ho\", 2017], [\"Gymn\\u00e1zium Karla Sladkovsk\\u00e9ho\", 2017], [\"Gymn\\u00e1zium Litom\\u011b\\u0159ick\\u00e1\", 2017], [\"Gymn\\u00e1zium Nad Alej\\u00ed\", 2017], [\"Gymn\\u00e1zium P\\u00edsnick\\u00e1\", 2017], [\"Gymn\\u00e1zium \\u010ceskolipsk\\u00e1\", 2017], [\"Gymn\\u00e1zium \\u0160pit\\u00e1lsk\\u00e1\", 2017], [\"Malostransk\\u00e9 gymn\\u00e1zium\", 2017], [\"Gymn\\u00e1zium Bud\\u011bjovick\\u00e1\", 2018], [\"Gymn\\u00e1zium Christiana Dopplera - jazykov\\u00e1 t\\u0159\\u00edda\", 2018], [\"Gymn\\u00e1zium Christiana Dopplera - matematick\\u00e1 t\\u0159\\u00edda\", 2018], [\"Gymn\\u00e1zium Eli\\u0161ky Kr\\u00e1snohorsk\\u00e9\", 2018], [\"Gymn\\u00e1zium Hlivick\\u00e1\", 2018], [\"Gymn\\u00e1zium J.G.Jarkovsk\\u00e9ho\", 2018], [\"Gymn\\u00e1zium Karla Sladkovsk\\u00e9ho\", 2018], [\"Gymn\\u00e1zium Litom\\u011b\\u0159ick\\u00e1\", 2018], [\"Gymn\\u00e1zium Nad Alej\\u00ed\", 2018], [\"Gymn\\u00e1zium P\\u00edsnick\\u00e1\", 2018], [\"Gymn\\u00e1zium \\u010ceskolipsk\\u00e1\", 2018], [\"Gymn\\u00e1zium \\u0160pit\\u00e1lsk\\u00e1\", 2018], [\"Malostransk\\u00e9 gymn\\u00e1zium\", 2018], [\"Gymn\\u00e1zium Bud\\u011bjovick\\u00e1\", 2019], [\"Gymn\\u00e1zium Christiana Dopplera - jazykov\\u00e1 t\\u0159\\u00edda\", 2019], [\"Gymn\\u00e1zium Christiana Dopplera - matematick\\u00e1 t\\u0159\\u00edda\", 2019], [\"Gymn\\u00e1zium Eli\\u0161ky Kr\\u00e1snohorsk\\u00e9\", 2019], [\"Gymn\\u00e1zium Hlivick\\u00e1\", 2019], [\"Gymn\\u00e1zium J.G.Jarkovsk\\u00e9ho\", 2019], [\"Gymn\\u00e1zium Karla Sladkovsk\\u00e9ho\", 2019], [\"Gymn\\u00e1zium Nad Alej\\u00ed\", 2019], [\"Gymn\\u00e1zium P\\u00edsnick\\u00e1\", 2019], [\"Gymn\\u00e1zium \\u010ceskolipsk\\u00e1\", 2019], [\"Gymn\\u00e1zium \\u0160pit\\u00e1lsk\\u00e1\", 2019], [\"Malostransk\\u00e9 gymn\\u00e1zium\", 2019], [\"Gymn\\u00e1zium Bud\\u011bjovick\\u00e1\", 2020], [\"Gymn\\u00e1zium Christiana Dopplera - jazykov\\u00e1 t\\u0159\\u00edda\", 2020], [\"Gymn\\u00e1zium Christiana Dopplera - matematick\\u00e1 t\\u0159\\u00edda\", 2020], [\"Gymn\\u00e1zium Eli\\u0161ky Kr\\u00e1snohorsk\\u00e9\", 2020], [\"Gymn\\u00e1zium Hlivick\\u00e1\", 2020], [\"Gymn\\u00e1zium J.G.Jarkovsk\\u00e9ho\", 2020], [\"Gymn\\u00e1zium Karla Sladkovsk\\u00e9ho\", 2020], [\"Gymn\\u00e1zium Nad Alej\\u00ed\", 2020], [\"Gymn\\u00e1zium P\\u00edsnick\\u00e1\", 2020], [\"Gymn\\u00e1zium \\u010ceskolipsk\\u00e1\", 2020], [\"Gymn\\u00e1zium \\u0160pit\\u00e1lsk\\u00e1\", 2020], [\"Malostransk\\u00e9 gymn\\u00e1zium\", 2020]], \"hovertemplate\": \"IS_SCHOOL_EXAM=0.5<br>PROCENTA_GRADES=%{x}<br>UCHAZECU_NA_JEDNO_MISTO=%{y}<br>SCHOOL_NAME=%{customdata[0]}<br>YEAR=%{customdata[1]}<extra></extra>\", \"legendgroup\": \"0.5\", \"marker\": {\"color\": \"#636efa\", \"symbol\": \"circle\"}, \"mode\": \"markers\", \"name\": \"0.5\", \"orientation\": \"v\", \"showlegend\": true, \"type\": \"scatter\", \"x\": [9.09, 10.17, 15.75, 6.52, 10.71, 15.38, 18.87, 10.71, 18.03, 4.76, 9.52, 2.91, 9.09, 6.45, 6.45, 10.17, 15.75, 6.52, 15.38, 18.87, 10.71, 18.03, 4.76, 9.76, 4.76, 9.09, 6.45, 6.45, 10.17, 15.75, 6.52, 11.54, 10.71, 18.03, 4.76, 9.76, 9.09, 9.09, 6.45, 6.45, 10.17, 15.75, 6.52, 11.54, 10.71, 19.35, 4.76, 9.76, 9.09], \"xaxis\": \"x\", \"y\": [7.56, 7.66, 5.2, 4.41, 4.74, 2.28, 6.27, 7.4, 8.89, 6.11, 8.44, 8.28, 6.42, 5.07, 6.45, 7.11, 5.95, 4.62, 3.6, 7.54, 7.21, 8.81, 8.28, 7.27, 7.27, 6.6, 5.54, 6.21, 6.94, 5.61, 5.23, 2.82, 7.23, 8.96, 4.29, 7.72, 10.58, 7.3, 5.96, 6.47, 6.59, 5.0, 5.5, 3.62, 6.8, 10.63, 5.62, 7.72, 7.58], \"yaxis\": \"y\"}, {\"hovertemplate\": \"<b>OLS trendline</b><br>UCHAZECU_NA_JEDNO_MISTO = 0.0515419 * PROCENTA_GRADES + 5.98417<br>R<sup>2</sup>=0.016898<br><br>IS_SCHOOL_EXAM=0.5<br>PROCENTA_GRADES=%{x}<br>UCHAZECU_NA_JEDNO_MISTO=%{y} <b>(trend)</b><extra></extra>\", \"legendgroup\": \"0.5\", \"marker\": {\"color\": \"#636efa\", \"symbol\": \"circle\"}, \"mode\": \"lines\", \"name\": \"0.5\", \"showlegend\": false, \"type\": \"scatter\", \"x\": [2.91, 4.76, 4.76, 4.76, 4.76, 4.76, 6.45, 6.45, 6.45, 6.45, 6.45, 6.45, 6.52, 6.52, 6.52, 6.52, 9.09, 9.09, 9.09, 9.09, 9.09, 9.09, 9.52, 9.76, 9.76, 9.76, 10.17, 10.17, 10.17, 10.17, 10.71, 10.71, 10.71, 10.71, 10.71, 11.54, 11.54, 15.38, 15.38, 15.75, 15.75, 15.75, 15.75, 18.03, 18.03, 18.03, 18.87, 18.87, 19.35], \"xaxis\": \"x\", \"y\": [6.134152860757303, 6.229505389420232, 6.229505389420232, 6.229505389420232, 6.229505389420232, 6.229505389420232, 6.316611212901501, 6.316611212901501, 6.316611212901501, 6.316611212901501, 6.316611212901501, 6.316611212901501, 6.320219146418477, 6.320219146418477, 6.320219146418477, 6.320219146418477, 6.452681848398869, 6.452681848398869, 6.452681848398869, 6.452681848398869, 6.452681848398869, 6.452681848398869, 6.474844868574577, 6.487214926347065, 6.487214926347065, 6.487214926347065, 6.508347108375065, 6.508347108375065, 6.508347108375065, 6.508347108375065, 6.536179738363163, 6.536179738363163, 6.536179738363163, 6.536179738363163, 6.536179738363163, 6.578959521493017, 6.578959521493017, 6.776880445852825, 6.776880445852825, 6.795950951585411, 6.795950951585411, 6.795950951585411, 6.795950951585411, 6.913466500424047, 6.913466500424047, 6.913466500424047, 6.956761702627754, 6.956761702627754, 6.98150181817273], \"yaxis\": \"y\"}, {\"customdata\": [[\"Gymn\\u00e1zium Jana Keplera\", 2017], [\"Gymn\\u00e1zium Nad Kaval\\u00edrkou\", 2017], [\"Gymn\\u00e1zium Nad \\u0160tolou\", 2017], [\"Gymn\\u00e1zium Omsk\\u00e1\", 2017], [\"Gymn\\u00e1zium Opatov\", 2017], [\"Gymn\\u00e1zium Vod\\u011bradsk\\u00e1\", 2017], [\"Gymn\\u00e1zium prof. Jana Pato\\u010dky\", 2017], [\"Gymn\\u00e1zium Jana Keplera\", 2018], [\"Gymn\\u00e1zium Jaroslava Heyrovsk\\u00e9ho\", 2018], [\"Gymn\\u00e1zium Nad Kaval\\u00edrkou\", 2018], [\"Gymn\\u00e1zium Nad \\u0160tolou\", 2018], [\"Gymn\\u00e1zium Omsk\\u00e1\", 2018], [\"Gymn\\u00e1zium Opatov\", 2018], [\"Gymn\\u00e1zium Vod\\u011bradsk\\u00e1\", 2018], [\"Gymn\\u00e1zium prof. Jana Pato\\u010dky\", 2018], [\"Gymn\\u00e1zium Jana Keplera\", 2019], [\"Gymn\\u00e1zium Jaroslava Heyrovsk\\u00e9ho\", 2019], [\"Gymn\\u00e1zium Nad Kaval\\u00edrkou\", 2019], [\"Gymn\\u00e1zium Nad \\u0160tolou\", 2019], [\"Gymn\\u00e1zium Omsk\\u00e1\", 2019], [\"Gymn\\u00e1zium Opatov\", 2019], [\"Gymn\\u00e1zium Vod\\u011bradsk\\u00e1\", 2019], [\"Gymn\\u00e1zium prof. Jana Pato\\u010dky\", 2019], [\"Gymn\\u00e1zium Jana Keplera\", 2020], [\"Gymn\\u00e1zium Jaroslava Heyrovsk\\u00e9ho\", 2020], [\"Gymn\\u00e1zium Nad Kaval\\u00edrkou\", 2020], [\"Gymn\\u00e1zium Nad \\u0160tolou\", 2020], [\"Gymn\\u00e1zium Omsk\\u00e1\", 2020], [\"Gymn\\u00e1zium Opatov\", 2020], [\"Gymn\\u00e1zium Vod\\u011bradsk\\u00e1\", 2020], [\"Gymn\\u00e1zium prof. Jana Pato\\u010dky\", 2020]], \"hovertemplate\": \"IS_SCHOOL_EXAM=1.0<br>PROCENTA_GRADES=%{x}<br>UCHAZECU_NA_JEDNO_MISTO=%{y}<br>SCHOOL_NAME=%{customdata[0]}<br>YEAR=%{customdata[1]}<extra></extra>\", \"legendgroup\": \"1.0\", \"marker\": {\"color\": \"#EF553B\", \"symbol\": \"circle\"}, \"mode\": \"markers\", \"name\": \"1.0\", \"orientation\": \"v\", \"showlegend\": true, \"type\": \"scatter\", \"x\": [6.06, 1.32, 9.93, 6.25, 6.02, 4.14, 8.33, 6.06, 7.41, 1.32, 10.56, 6.25, 6.02, 4.41, 8.33, 6.06, 7.41, 1.32, 10.64, 6.25, 6.02, 4.41, 8.33, 6.06, 7.41, 1.32, 10.64, 6.25, 6.02, 4.41, 8.33], \"xaxis\": \"x\", \"y\": [7.29, 4.19, 5.66, 4.75, 7.28, 5.7, 5.19, 7.32, 5.75, 6.4, 6.78, 4.94, 6.35, 6.14, 6.19, 6.5, 4.84, 6.89, 6.34, 5.13, 6.62, 6.31, 6.64, 6.7, 4.74, 7.08, 5.14, 5.46, 5.71, 8.0, 6.91], \"yaxis\": \"y\"}, {\"hovertemplate\": \"<b>OLS trendline</b><br>UCHAZECU_NA_JEDNO_MISTO = -0.0445771 * PROCENTA_GRADES + 6.37278<br>R<sup>2</sup>=0.015643<br><br>IS_SCHOOL_EXAM=1.0<br>PROCENTA_GRADES=%{x}<br>UCHAZECU_NA_JEDNO_MISTO=%{y} <b>(trend)</b><extra></extra>\", \"legendgroup\": \"1.0\", \"marker\": {\"color\": \"#EF553B\", \"symbol\": \"circle\"}, \"mode\": \"lines\", \"name\": \"1.0\", \"showlegend\": false, \"type\": \"scatter\", \"x\": [1.32, 1.32, 1.32, 1.32, 4.14, 4.41, 4.41, 4.41, 6.02, 6.02, 6.02, 6.02, 6.06, 6.06, 6.06, 6.06, 6.25, 6.25, 6.25, 6.25, 7.41, 7.41, 7.41, 8.33, 8.33, 8.33, 8.33, 9.93, 10.56, 10.64, 10.64], \"xaxis\": \"x\", \"y\": [6.313942303906714, 6.313942303906714, 6.313942303906714, 6.313942303906714, 6.188234906075611, 6.1761990913896545, 6.1761990913896545, 6.1761990913896545, 6.10442997418821, 6.10442997418821, 6.10442997418821, 6.10442997418821, 6.102646890531031, 6.102646890531031, 6.102646890531031, 6.102646890531031, 6.094177243159432, 6.094177243159432, 6.094177243159432, 6.094177243159432, 6.042467817101248, 6.042467817101248, 6.042467817101248, 6.001456892986137, 6.001456892986137, 6.001456892986137, 6.001456892986137, 5.930133546698987, 5.902049979098421, 5.898483811784064, 5.898483811784064], \"yaxis\": \"y\"}],                        {\"legend\": {\"title\": {\"text\": \"IS_SCHOOL_EXAM\"}, \"tracegroupgap\": 0}, \"margin\": {\"t\": 60}, \"template\": {\"data\": {\"bar\": [{\"error_x\": {\"color\": \"#2a3f5f\"}, \"error_y\": {\"color\": \"#2a3f5f\"}, \"marker\": {\"line\": {\"color\": \"#E5ECF6\", \"width\": 0.5}}, \"type\": \"bar\"}], \"barpolar\": [{\"marker\": {\"line\": {\"color\": \"#E5ECF6\", \"width\": 0.5}}, \"type\": \"barpolar\"}], \"carpet\": [{\"aaxis\": {\"endlinecolor\": \"#2a3f5f\", \"gridcolor\": \"white\", \"linecolor\": \"white\", \"minorgridcolor\": \"white\", \"startlinecolor\": \"#2a3f5f\"}, \"baxis\": {\"endlinecolor\": \"#2a3f5f\", \"gridcolor\": \"white\", \"linecolor\": \"white\", \"minorgridcolor\": \"white\", \"startlinecolor\": \"#2a3f5f\"}, \"type\": \"carpet\"}], \"choropleth\": [{\"colorbar\": {\"outlinewidth\": 0, \"ticks\": \"\"}, \"type\": \"choropleth\"}], \"contour\": [{\"colorbar\": {\"outlinewidth\": 0, \"ticks\": \"\"}, \"colorscale\": [[0.0, \"#0d0887\"], [0.1111111111111111, \"#46039f\"], [0.2222222222222222, \"#7201a8\"], [0.3333333333333333, \"#9c179e\"], [0.4444444444444444, \"#bd3786\"], [0.5555555555555556, \"#d8576b\"], [0.6666666666666666, \"#ed7953\"], [0.7777777777777778, \"#fb9f3a\"], [0.8888888888888888, \"#fdca26\"], [1.0, \"#f0f921\"]], \"type\": \"contour\"}], \"contourcarpet\": [{\"colorbar\": {\"outlinewidth\": 0, \"ticks\": \"\"}, \"type\": \"contourcarpet\"}], \"heatmap\": [{\"colorbar\": {\"outlinewidth\": 0, \"ticks\": \"\"}, \"colorscale\": [[0.0, \"#0d0887\"], [0.1111111111111111, \"#46039f\"], [0.2222222222222222, \"#7201a8\"], [0.3333333333333333, \"#9c179e\"], [0.4444444444444444, \"#bd3786\"], [0.5555555555555556, \"#d8576b\"], [0.6666666666666666, \"#ed7953\"], [0.7777777777777778, \"#fb9f3a\"], [0.8888888888888888, \"#fdca26\"], [1.0, \"#f0f921\"]], \"type\": \"heatmap\"}], \"heatmapgl\": [{\"colorbar\": {\"outlinewidth\": 0, \"ticks\": \"\"}, \"colorscale\": [[0.0, \"#0d0887\"], [0.1111111111111111, \"#46039f\"], [0.2222222222222222, \"#7201a8\"], [0.3333333333333333, \"#9c179e\"], [0.4444444444444444, \"#bd3786\"], [0.5555555555555556, \"#d8576b\"], [0.6666666666666666, \"#ed7953\"], [0.7777777777777778, \"#fb9f3a\"], [0.8888888888888888, \"#fdca26\"], [1.0, \"#f0f921\"]], \"type\": \"heatmapgl\"}], \"histogram\": [{\"marker\": {\"colorbar\": {\"outlinewidth\": 0, \"ticks\": \"\"}}, \"type\": \"histogram\"}], \"histogram2d\": [{\"colorbar\": {\"outlinewidth\": 0, \"ticks\": \"\"}, \"colorscale\": [[0.0, \"#0d0887\"], [0.1111111111111111, \"#46039f\"], [0.2222222222222222, \"#7201a8\"], [0.3333333333333333, \"#9c179e\"], [0.4444444444444444, \"#bd3786\"], [0.5555555555555556, \"#d8576b\"], [0.6666666666666666, \"#ed7953\"], [0.7777777777777778, \"#fb9f3a\"], [0.8888888888888888, \"#fdca26\"], [1.0, \"#f0f921\"]], \"type\": \"histogram2d\"}], \"histogram2dcontour\": [{\"colorbar\": {\"outlinewidth\": 0, \"ticks\": \"\"}, \"colorscale\": [[0.0, \"#0d0887\"], [0.1111111111111111, \"#46039f\"], [0.2222222222222222, \"#7201a8\"], [0.3333333333333333, \"#9c179e\"], [0.4444444444444444, \"#bd3786\"], [0.5555555555555556, \"#d8576b\"], [0.6666666666666666, \"#ed7953\"], [0.7777777777777778, \"#fb9f3a\"], [0.8888888888888888, \"#fdca26\"], [1.0, \"#f0f921\"]], \"type\": \"histogram2dcontour\"}], \"mesh3d\": [{\"colorbar\": {\"outlinewidth\": 0, \"ticks\": \"\"}, \"type\": \"mesh3d\"}], \"parcoords\": [{\"line\": {\"colorbar\": {\"outlinewidth\": 0, \"ticks\": \"\"}}, \"type\": \"parcoords\"}], \"pie\": [{\"automargin\": true, \"type\": \"pie\"}], \"scatter\": [{\"marker\": {\"colorbar\": {\"outlinewidth\": 0, \"ticks\": \"\"}}, \"type\": \"scatter\"}], \"scatter3d\": [{\"line\": {\"colorbar\": {\"outlinewidth\": 0, \"ticks\": \"\"}}, \"marker\": {\"colorbar\": {\"outlinewidth\": 0, \"ticks\": \"\"}}, \"type\": \"scatter3d\"}], \"scattercarpet\": [{\"marker\": {\"colorbar\": {\"outlinewidth\": 0, \"ticks\": \"\"}}, \"type\": \"scattercarpet\"}], \"scattergeo\": [{\"marker\": {\"colorbar\": {\"outlinewidth\": 0, \"ticks\": \"\"}}, \"type\": \"scattergeo\"}], \"scattergl\": [{\"marker\": {\"colorbar\": {\"outlinewidth\": 0, \"ticks\": \"\"}}, \"type\": \"scattergl\"}], \"scattermapbox\": [{\"marker\": {\"colorbar\": {\"outlinewidth\": 0, \"ticks\": \"\"}}, \"type\": \"scattermapbox\"}], \"scatterpolar\": [{\"marker\": {\"colorbar\": {\"outlinewidth\": 0, \"ticks\": \"\"}}, \"type\": \"scatterpolar\"}], \"scatterpolargl\": [{\"marker\": {\"colorbar\": {\"outlinewidth\": 0, \"ticks\": \"\"}}, \"type\": \"scatterpolargl\"}], \"scatterternary\": [{\"marker\": {\"colorbar\": {\"outlinewidth\": 0, \"ticks\": \"\"}}, \"type\": \"scatterternary\"}], \"surface\": [{\"colorbar\": {\"outlinewidth\": 0, \"ticks\": \"\"}, \"colorscale\": [[0.0, \"#0d0887\"], [0.1111111111111111, \"#46039f\"], [0.2222222222222222, \"#7201a8\"], [0.3333333333333333, \"#9c179e\"], [0.4444444444444444, \"#bd3786\"], [0.5555555555555556, \"#d8576b\"], [0.6666666666666666, \"#ed7953\"], [0.7777777777777778, \"#fb9f3a\"], [0.8888888888888888, \"#fdca26\"], [1.0, \"#f0f921\"]], \"type\": \"surface\"}], \"table\": [{\"cells\": {\"fill\": {\"color\": \"#EBF0F8\"}, \"line\": {\"color\": \"white\"}}, \"header\": {\"fill\": {\"color\": \"#C8D4E3\"}, \"line\": {\"color\": \"white\"}}, \"type\": \"table\"}]}, \"layout\": {\"annotationdefaults\": {\"arrowcolor\": \"#2a3f5f\", \"arrowhead\": 0, \"arrowwidth\": 1}, \"coloraxis\": {\"colorbar\": {\"outlinewidth\": 0, \"ticks\": \"\"}}, \"colorscale\": {\"diverging\": [[0, \"#8e0152\"], [0.1, \"#c51b7d\"], [0.2, \"#de77ae\"], [0.3, \"#f1b6da\"], [0.4, \"#fde0ef\"], [0.5, \"#f7f7f7\"], [0.6, \"#e6f5d0\"], [0.7, \"#b8e186\"], [0.8, \"#7fbc41\"], [0.9, \"#4d9221\"], [1, \"#276419\"]], \"sequential\": [[0.0, \"#0d0887\"], [0.1111111111111111, \"#46039f\"], [0.2222222222222222, \"#7201a8\"], [0.3333333333333333, \"#9c179e\"], [0.4444444444444444, \"#bd3786\"], [0.5555555555555556, \"#d8576b\"], [0.6666666666666666, \"#ed7953\"], [0.7777777777777778, \"#fb9f3a\"], [0.8888888888888888, \"#fdca26\"], [1.0, \"#f0f921\"]], \"sequentialminus\": [[0.0, \"#0d0887\"], [0.1111111111111111, \"#46039f\"], [0.2222222222222222, \"#7201a8\"], [0.3333333333333333, \"#9c179e\"], [0.4444444444444444, \"#bd3786\"], [0.5555555555555556, \"#d8576b\"], [0.6666666666666666, \"#ed7953\"], [0.7777777777777778, \"#fb9f3a\"], [0.8888888888888888, \"#fdca26\"], [1.0, \"#f0f921\"]]}, \"colorway\": [\"#636efa\", \"#EF553B\", \"#00cc96\", \"#ab63fa\", \"#FFA15A\", \"#19d3f3\", \"#FF6692\", \"#B6E880\", \"#FF97FF\", \"#FECB52\"], \"font\": {\"color\": \"#2a3f5f\"}, \"geo\": {\"bgcolor\": \"white\", \"lakecolor\": \"white\", \"landcolor\": \"#E5ECF6\", \"showlakes\": true, \"showland\": true, \"subunitcolor\": \"white\"}, \"hoverlabel\": {\"align\": \"left\"}, \"hovermode\": \"closest\", \"mapbox\": {\"style\": \"light\"}, \"paper_bgcolor\": \"white\", \"plot_bgcolor\": \"#E5ECF6\", \"polar\": {\"angularaxis\": {\"gridcolor\": \"white\", \"linecolor\": \"white\", \"ticks\": \"\"}, \"bgcolor\": \"#E5ECF6\", \"radialaxis\": {\"gridcolor\": \"white\", \"linecolor\": \"white\", \"ticks\": \"\"}}, \"scene\": {\"xaxis\": {\"backgroundcolor\": \"#E5ECF6\", \"gridcolor\": \"white\", \"gridwidth\": 2, \"linecolor\": \"white\", \"showbackground\": true, \"ticks\": \"\", \"zerolinecolor\": \"white\"}, \"yaxis\": {\"backgroundcolor\": \"#E5ECF6\", \"gridcolor\": \"white\", \"gridwidth\": 2, \"linecolor\": \"white\", \"showbackground\": true, \"ticks\": \"\", \"zerolinecolor\": \"white\"}, \"zaxis\": {\"backgroundcolor\": \"#E5ECF6\", \"gridcolor\": \"white\", \"gridwidth\": 2, \"linecolor\": \"white\", \"showbackground\": true, \"ticks\": \"\", \"zerolinecolor\": \"white\"}}, \"shapedefaults\": {\"line\": {\"color\": \"#2a3f5f\"}}, \"ternary\": {\"aaxis\": {\"gridcolor\": \"white\", \"linecolor\": \"white\", \"ticks\": \"\"}, \"baxis\": {\"gridcolor\": \"white\", \"linecolor\": \"white\", \"ticks\": \"\"}, \"bgcolor\": \"#E5ECF6\", \"caxis\": {\"gridcolor\": \"white\", \"linecolor\": \"white\", \"ticks\": \"\"}}, \"title\": {\"x\": 0.05}, \"xaxis\": {\"automargin\": true, \"gridcolor\": \"white\", \"linecolor\": \"white\", \"ticks\": \"\", \"title\": {\"standoff\": 15}, \"zerolinecolor\": \"white\", \"zerolinewidth\": 2}, \"yaxis\": {\"automargin\": true, \"gridcolor\": \"white\", \"linecolor\": \"white\", \"ticks\": \"\", \"title\": {\"standoff\": 15}, \"zerolinecolor\": \"white\", \"zerolinewidth\": 2}}}, \"xaxis\": {\"anchor\": \"y\", \"domain\": [0.0, 1.0], \"title\": {\"text\": \"PROCENTA_GRADES\"}}, \"yaxis\": {\"anchor\": \"x\", \"domain\": [0.0, 1.0], \"title\": {\"text\": \"UCHAZECU_NA_JEDNO_MISTO\"}}},                        {\"responsive\": true}                    ).then(function(){\n",
       "                            \n",
       "var gd = document.getElementById('074cca42-2246-41f0-a91b-6bc92fd55493');\n",
       "var x = new MutationObserver(function (mutations, observer) {{\n",
       "        var display = window.getComputedStyle(gd).display;\n",
       "        if (!display || display === 'none') {{\n",
       "            console.log([gd, 'removed!']);\n",
       "            Plotly.purge(gd);\n",
       "            observer.disconnect();\n",
       "        }}\n",
       "}});\n",
       "\n",
       "// Listen for the removal of the full notebook cells\n",
       "var notebookContainer = gd.closest('#notebook-container');\n",
       "if (notebookContainer) {{\n",
       "    x.observe(notebookContainer, {childList: true});\n",
       "}}\n",
       "\n",
       "// Listen for the clearing of the current output cell\n",
       "var outputEl = gd.closest('.output');\n",
       "if (outputEl) {{\n",
       "    x.observe(outputEl, {childList: true});\n",
       "}}\n",
       "\n",
       "                        })                };                });            </script>        </div>"
      ]
     },
     "metadata": {},
     "output_type": "display_data"
    }
   ],
   "source": [
    "dataset_no_hudebni[\"IS_SCHOOL_EXAM\"]= dataset_no_hudebni[\"IS_SCHOOL_EXAM\"].astype(str) \n",
    "fig3 = px.scatter(dataset_no_hudebni\n",
    "                  #.query(f'YEAR=={year}')\n",
    "                  , x='PROCENTA_GRADES', y=\"UCHAZECU_NA_JEDNO_MISTO\", \n",
    "                hover_data=['SCHOOL_NAME', \"YEAR\"], \n",
    "                 trendline=\"ols\", \n",
    "                 color=\"IS_SCHOOL_EXAM\"\n",
    "                 # ,color=\"clusters54\"\n",
    "                 )\n",
    "fig3.show()\n"
   ]
  },
  {
   "cell_type": "markdown",
   "metadata": {},
   "source": [
    "#### Minimální úspěšnost vs známky"
   ]
  },
  {
   "cell_type": "code",
   "execution_count": 110,
   "metadata": {},
   "outputs": [
    {
     "data": {
      "application/vnd.plotly.v1+json": {
       "config": {
        "plotlyServerURL": "https://plot.ly"
       },
       "data": [
        {
         "customdata": [
          [
           "Gymnázium Budějovická"
          ],
          [
           "Gymnázium Elišky Krásnohorské"
          ],
          [
           "Gymnázium Hlivická"
          ],
          [
           "Gymnázium J.G.Jarkovského"
          ],
          [
           "Gymnázium Jaroslava Heyrovského"
          ],
          [
           "Gymnázium Nad Alejí"
          ],
          [
           "Gymnázium Písnická"
          ],
          [
           "Gymnázium prof. Jana Patočky"
          ],
          [
           "Gymnázium Českolipská"
          ],
          [
           "Gymnázium Špitálská"
          ],
          [
           "Malostranské gymnázium"
          ],
          [
           "Gymnázium Nad Alejí"
          ],
          [
           "Gymnázium Špitálská"
          ],
          [
           "Malostranské gymnázium"
          ],
          [
           "Gymnázium Christiana Dopplera - matematická třída"
          ],
          [
           "Gymnázium Nad Alejí"
          ],
          [
           "Gymnázium Českolipská"
          ],
          [
           "Gymnázium Špitálská"
          ],
          [
           "Malostranské gymnázium"
          ],
          [
           "Gymnázium Budějovická"
          ],
          [
           "Gymnázium Christiana Dopplera - jazyková třída"
          ],
          [
           "Gymnázium Christiana Dopplera - matematická třída"
          ],
          [
           "Gymnázium Elišky Krásnohorské"
          ],
          [
           "Gymnázium Hlivická"
          ],
          [
           "Gymnázium J.G.Jarkovského"
          ],
          [
           "Gymnázium Nad Alejí"
          ],
          [
           "Gymnázium Písnická"
          ],
          [
           "Gymnázium prof. Jana Patočky"
          ],
          [
           "Gymnázium Českolipská"
          ],
          [
           "Gymnázium Špitálská"
          ],
          [
           "Malostranské gymnázium"
          ]
         ],
         "hovertemplate": "clusters54=1<br>PROCENTA_GRADES=%{x}<br>MIN_CERMAT=%{y}<br>SCHOOL_NAME=%{customdata[0]}<extra></extra>",
         "legendgroup": "1",
         "marker": {
          "color": "#636efa",
          "symbol": "circle"
         },
         "mode": "markers",
         "name": "1",
         "orientation": "v",
         "showlegend": true,
         "type": "scatter",
         "x": [
          9.09,
          10.17,
          15.75,
          6.52,
          10.71,
          10.71,
          18.03,
          8.33,
          4.76,
          9.52,
          2.91,
          10.71,
          9.76,
          4.76,
          6.45,
          10.71,
          4.76,
          9.76,
          9.09,
          9.09,
          6.45,
          6.45,
          10.17,
          15.75,
          6.52,
          10.71,
          19.35,
          8.33,
          4.76,
          9.76,
          9.09
         ],
         "xaxis": "x",
         "y": [
          73,
          67,
          72,
          65,
          64,
          75,
          72,
          66,
          71,
          79,
          71,
          67,
          71,
          63,
          72,
          72,
          64,
          73,
          74,
          73,
          74,
          74,
          66,
          72,
          69,
          76,
          76,
          71,
          69,
          78,
          77
         ],
         "yaxis": "y"
        },
        {
         "hovertemplate": "<b>OLS trendline</b><br>MIN_CERMAT = 0.342761 * PROCENTA_GRADES + 67.9667<br>R<sup>2</sup>=0.094149<br><br>clusters54=1<br>PROCENTA_GRADES=%{x}<br>MIN_CERMAT=%{y} <b>(trend)</b><extra></extra>",
         "legendgroup": "1",
         "marker": {
          "color": "#636efa",
          "symbol": "circle"
         },
         "mode": "lines",
         "name": "1",
         "showlegend": false,
         "type": "scatter",
         "x": [
          2.91,
          4.76,
          4.76,
          4.76,
          4.76,
          6.45,
          6.45,
          6.45,
          6.52,
          6.52,
          8.33,
          8.33,
          9.09,
          9.09,
          9.09,
          9.09,
          9.52,
          9.76,
          9.76,
          9.76,
          10.17,
          10.17,
          10.71,
          10.71,
          10.71,
          10.71,
          10.71,
          15.75,
          15.75,
          18.03,
          19.35
         ],
         "xaxis": "x",
         "y": [
          68.96408456138155,
          69.59819159844258,
          69.59819159844258,
          69.59819159844258,
          69.59819159844258,
          70.17745694581184,
          70.17745694581184,
          70.17745694581184,
          70.201450185052,
          70.201450185052,
          70.82184679969008,
          70.82184679969008,
          71.08234482572597,
          71.08234482572597,
          71.08234482572597,
          71.08234482572597,
          71.22973186677258,
          71.31199440131023,
          71.31199440131023,
          71.31199440131023,
          71.45252623114537,
          71.45252623114537,
          71.63761693385509,
          71.63761693385509,
          71.63761693385509,
          71.63761693385509,
          71.63761693385509,
          73.36513015914566,
          73.36513015914566,
          74.14662423725332,
          74.59906817721037
         ],
         "yaxis": "y"
        },
        {
         "customdata": [
          [
           "Gymnázium Jana Keplera"
          ],
          [
           "Gymnázium Jana Keplera"
          ],
          [
           "Gymnázium Jana Keplera"
          ],
          [
           "Gymnázium Jana Keplera"
          ],
          [
           "Gymnázium Nad Štolou"
          ],
          [
           "Gymnázium Voděradská"
          ]
         ],
         "hovertemplate": "clusters54=0<br>PROCENTA_GRADES=%{x}<br>MIN_CERMAT=%{y}<br>SCHOOL_NAME=%{customdata[0]}<extra></extra>",
         "legendgroup": "0",
         "marker": {
          "color": "#EF553B",
          "symbol": "circle"
         },
         "mode": "markers",
         "name": "0",
         "orientation": "v",
         "showlegend": true,
         "type": "scatter",
         "x": [
          6.06,
          6.06,
          6.06,
          6.06,
          10.64,
          4.41
         ],
         "xaxis": "x",
         "y": [
          81,
          76,
          72,
          78,
          70,
          71
         ],
         "yaxis": "y"
        },
        {
         "hovertemplate": "<b>OLS trendline</b><br>MIN_CERMAT = -0.68813 * PROCENTA_GRADES + 79.1728<br>R<sup>2</sup>=0.110606<br><br>clusters54=0<br>PROCENTA_GRADES=%{x}<br>MIN_CERMAT=%{y} <b>(trend)</b><extra></extra>",
         "legendgroup": "0",
         "marker": {
          "color": "#EF553B",
          "symbol": "circle"
         },
         "mode": "lines",
         "name": "0",
         "showlegend": false,
         "type": "scatter",
         "x": [
          4.41,
          6.06,
          6.06,
          6.06,
          6.06,
          10.64
         ],
         "xaxis": "x",
         "y": [
          76.13811770957687,
          75.00270342081531,
          75.00270342081531,
          75.00270342081531,
          75.00270342081531,
          71.85106860716199
         ],
         "yaxis": "y"
        },
        {
         "customdata": [
          [
           "Gymnázium Karla Sladkovského"
          ],
          [
           "Gymnázium Litoměřická"
          ],
          [
           "Gymnázium Budějovická"
          ],
          [
           "Gymnázium Christiana Dopplera - jazyková třída"
          ],
          [
           "Gymnázium Christiana Dopplera - matematická třída"
          ],
          [
           "Gymnázium Elišky Krásnohorské"
          ],
          [
           "Gymnázium Hlivická"
          ],
          [
           "Gymnázium J.G.Jarkovského"
          ],
          [
           "Gymnázium Karla Sladkovského"
          ],
          [
           "Gymnázium Litoměřická"
          ],
          [
           "Gymnázium Písnická"
          ],
          [
           "Gymnázium prof. Jana Patočky"
          ],
          [
           "Gymnázium Českolipská"
          ],
          [
           "Gymnázium Budějovická"
          ],
          [
           "Gymnázium Christiana Dopplera - jazyková třída"
          ],
          [
           "Gymnázium Elišky Krásnohorské"
          ],
          [
           "Gymnázium Hlivická"
          ],
          [
           "Gymnázium J.G.Jarkovského"
          ],
          [
           "Gymnázium Karla Sladkovského"
          ],
          [
           "Gymnázium Písnická"
          ],
          [
           "Gymnázium prof. Jana Patočky"
          ],
          [
           "Gymnázium Karla Sladkovského"
          ]
         ],
         "hovertemplate": "clusters54=2<br>PROCENTA_GRADES=%{x}<br>MIN_CERMAT=%{y}<br>SCHOOL_NAME=%{customdata[0]}<extra></extra>",
         "legendgroup": "2",
         "marker": {
          "color": "#00cc96",
          "symbol": "circle"
         },
         "mode": "markers",
         "name": "2",
         "orientation": "v",
         "showlegend": true,
         "type": "scatter",
         "x": [
          15.38,
          18.87,
          9.09,
          6.45,
          6.45,
          10.17,
          15.75,
          6.52,
          15.38,
          18.87,
          18.03,
          8.33,
          4.76,
          9.09,
          6.45,
          10.17,
          15.75,
          6.52,
          11.54,
          18.03,
          8.33,
          11.54
         ],
         "xaxis": "x",
         "y": [
          52,
          67,
          61,
          58,
          66,
          61,
          63,
          59,
          51,
          58,
          61,
          59,
          59,
          64,
          59,
          60,
          64,
          60,
          50,
          62,
          61,
          59
         ],
         "yaxis": "y"
        },
        {
         "hovertemplate": "<b>OLS trendline</b><br>MIN_CERMAT = 0.00548959 * PROCENTA_GRADES + 59.6645<br>R<sup>2</sup>=0.000036<br><br>clusters54=2<br>PROCENTA_GRADES=%{x}<br>MIN_CERMAT=%{y} <b>(trend)</b><extra></extra>",
         "legendgroup": "2",
         "marker": {
          "color": "#00cc96",
          "symbol": "circle"
         },
         "mode": "lines",
         "name": "2",
         "showlegend": false,
         "type": "scatter",
         "x": [
          4.76,
          6.45,
          6.45,
          6.45,
          6.52,
          6.52,
          8.33,
          8.33,
          9.09,
          9.09,
          10.17,
          10.17,
          11.54,
          11.54,
          15.38,
          15.38,
          15.75,
          15.75,
          18.03,
          18.03,
          18.87,
          18.87
         ],
         "xaxis": "x",
         "y": [
          59.690654658294505,
          59.69993206752524,
          59.69993206752524,
          59.69993206752524,
          59.700316338913495,
          59.700316338913495,
          59.71025249909553,
          59.71025249909553,
          59.71442458845373,
          59.71442458845373,
          59.72035334701538,
          59.72035334701538,
          59.727874087042665,
          59.727874087042665,
          59.748954117484104,
          59.748954117484104,
          59.750985266250595,
          59.750985266250595,
          59.763501534325194,
          59.763501534325194,
          59.76811279098426,
          59.76811279098426
         ],
         "yaxis": "y"
        },
        {
         "customdata": [
          [
           "Gymnázium Nad Kavalírkou"
          ],
          [
           "Gymnázium Nad Štolou"
          ],
          [
           "Gymnázium Omská"
          ],
          [
           "Gymnázium Opatov"
          ],
          [
           "Gymnázium Voděradská"
          ],
          [
           "Gymnázium Jaroslava Heyrovského"
          ],
          [
           "Gymnázium Nad Kavalírkou"
          ],
          [
           "Gymnázium Nad Štolou"
          ],
          [
           "Gymnázium Omská"
          ],
          [
           "Gymnázium Opatov"
          ],
          [
           "Gymnázium Voděradská"
          ],
          [
           "Gymnázium Jaroslava Heyrovského"
          ],
          [
           "Gymnázium Nad Kavalírkou"
          ],
          [
           "Gymnázium Nad Štolou"
          ],
          [
           "Gymnázium Omská"
          ],
          [
           "Gymnázium Opatov"
          ],
          [
           "Gymnázium Voděradská"
          ],
          [
           "Gymnázium Jaroslava Heyrovského"
          ],
          [
           "Gymnázium Nad Kavalírkou"
          ],
          [
           "Gymnázium Omská"
          ],
          [
           "Gymnázium Opatov"
          ]
         ],
         "hovertemplate": "clusters54=3<br>PROCENTA_GRADES=%{x}<br>MIN_CERMAT=%{y}<br>SCHOOL_NAME=%{customdata[0]}<extra></extra>",
         "legendgroup": "3",
         "marker": {
          "color": "#ab63fa",
          "symbol": "circle"
         },
         "mode": "markers",
         "name": "3",
         "orientation": "v",
         "showlegend": true,
         "type": "scatter",
         "x": [
          1.32,
          9.93,
          6.25,
          6.02,
          4.14,
          7.41,
          1.32,
          10.56,
          6.25,
          6.02,
          4.41,
          7.41,
          1.32,
          10.64,
          6.25,
          6.02,
          4.41,
          7.41,
          1.32,
          6.25,
          6.02
         ],
         "xaxis": "x",
         "y": [
          60,
          64,
          62,
          60,
          58,
          61,
          61,
          61,
          54,
          52,
          56,
          57,
          64,
          63,
          59,
          61,
          59,
          57,
          61,
          61,
          66
         ],
         "yaxis": "y"
        },
        {
         "hovertemplate": "<b>OLS trendline</b><br>MIN_CERMAT = 0.0564368 * PROCENTA_GRADES + 59.5328<br>R<sup>2</sup>=0.002232<br><br>clusters54=3<br>PROCENTA_GRADES=%{x}<br>MIN_CERMAT=%{y} <b>(trend)</b><extra></extra>",
         "legendgroup": "3",
         "marker": {
          "color": "#ab63fa",
          "symbol": "circle"
         },
         "mode": "lines",
         "name": "3",
         "showlegend": false,
         "type": "scatter",
         "x": [
          1.32,
          1.32,
          1.32,
          1.32,
          4.14,
          4.41,
          4.41,
          6.02,
          6.02,
          6.02,
          6.02,
          6.25,
          6.25,
          6.25,
          6.25,
          7.41,
          7.41,
          7.41,
          9.93,
          10.56,
          10.64
         ],
         "xaxis": "x",
         "y": [
          59.607315967780366,
          59.607315967780366,
          59.607315967780366,
          59.607315967780366,
          59.76646773615433,
          59.781705671424184,
          59.781705671424184,
          59.87256891507031,
          59.87256891507031,
          59.87256891507031,
          59.87256891507031,
          59.88554937844833,
          59.88554937844833,
          59.88554937844833,
          59.88554937844833,
          59.951016063311386,
          59.951016063311386,
          59.951016063311386,
          60.09323679249663,
          60.12879197479295,
          60.1333069185766
         ],
         "yaxis": "y"
        }
       ],
       "layout": {
        "legend": {
         "title": {
          "text": "clusters54"
         },
         "tracegroupgap": 0
        },
        "margin": {
         "t": 60
        },
        "template": {
         "data": {
          "bar": [
           {
            "error_x": {
             "color": "#2a3f5f"
            },
            "error_y": {
             "color": "#2a3f5f"
            },
            "marker": {
             "line": {
              "color": "#E5ECF6",
              "width": 0.5
             }
            },
            "type": "bar"
           }
          ],
          "barpolar": [
           {
            "marker": {
             "line": {
              "color": "#E5ECF6",
              "width": 0.5
             }
            },
            "type": "barpolar"
           }
          ],
          "carpet": [
           {
            "aaxis": {
             "endlinecolor": "#2a3f5f",
             "gridcolor": "white",
             "linecolor": "white",
             "minorgridcolor": "white",
             "startlinecolor": "#2a3f5f"
            },
            "baxis": {
             "endlinecolor": "#2a3f5f",
             "gridcolor": "white",
             "linecolor": "white",
             "minorgridcolor": "white",
             "startlinecolor": "#2a3f5f"
            },
            "type": "carpet"
           }
          ],
          "choropleth": [
           {
            "colorbar": {
             "outlinewidth": 0,
             "ticks": ""
            },
            "type": "choropleth"
           }
          ],
          "contour": [
           {
            "colorbar": {
             "outlinewidth": 0,
             "ticks": ""
            },
            "colorscale": [
             [
              0,
              "#0d0887"
             ],
             [
              0.1111111111111111,
              "#46039f"
             ],
             [
              0.2222222222222222,
              "#7201a8"
             ],
             [
              0.3333333333333333,
              "#9c179e"
             ],
             [
              0.4444444444444444,
              "#bd3786"
             ],
             [
              0.5555555555555556,
              "#d8576b"
             ],
             [
              0.6666666666666666,
              "#ed7953"
             ],
             [
              0.7777777777777778,
              "#fb9f3a"
             ],
             [
              0.8888888888888888,
              "#fdca26"
             ],
             [
              1,
              "#f0f921"
             ]
            ],
            "type": "contour"
           }
          ],
          "contourcarpet": [
           {
            "colorbar": {
             "outlinewidth": 0,
             "ticks": ""
            },
            "type": "contourcarpet"
           }
          ],
          "heatmap": [
           {
            "colorbar": {
             "outlinewidth": 0,
             "ticks": ""
            },
            "colorscale": [
             [
              0,
              "#0d0887"
             ],
             [
              0.1111111111111111,
              "#46039f"
             ],
             [
              0.2222222222222222,
              "#7201a8"
             ],
             [
              0.3333333333333333,
              "#9c179e"
             ],
             [
              0.4444444444444444,
              "#bd3786"
             ],
             [
              0.5555555555555556,
              "#d8576b"
             ],
             [
              0.6666666666666666,
              "#ed7953"
             ],
             [
              0.7777777777777778,
              "#fb9f3a"
             ],
             [
              0.8888888888888888,
              "#fdca26"
             ],
             [
              1,
              "#f0f921"
             ]
            ],
            "type": "heatmap"
           }
          ],
          "heatmapgl": [
           {
            "colorbar": {
             "outlinewidth": 0,
             "ticks": ""
            },
            "colorscale": [
             [
              0,
              "#0d0887"
             ],
             [
              0.1111111111111111,
              "#46039f"
             ],
             [
              0.2222222222222222,
              "#7201a8"
             ],
             [
              0.3333333333333333,
              "#9c179e"
             ],
             [
              0.4444444444444444,
              "#bd3786"
             ],
             [
              0.5555555555555556,
              "#d8576b"
             ],
             [
              0.6666666666666666,
              "#ed7953"
             ],
             [
              0.7777777777777778,
              "#fb9f3a"
             ],
             [
              0.8888888888888888,
              "#fdca26"
             ],
             [
              1,
              "#f0f921"
             ]
            ],
            "type": "heatmapgl"
           }
          ],
          "histogram": [
           {
            "marker": {
             "colorbar": {
              "outlinewidth": 0,
              "ticks": ""
             }
            },
            "type": "histogram"
           }
          ],
          "histogram2d": [
           {
            "colorbar": {
             "outlinewidth": 0,
             "ticks": ""
            },
            "colorscale": [
             [
              0,
              "#0d0887"
             ],
             [
              0.1111111111111111,
              "#46039f"
             ],
             [
              0.2222222222222222,
              "#7201a8"
             ],
             [
              0.3333333333333333,
              "#9c179e"
             ],
             [
              0.4444444444444444,
              "#bd3786"
             ],
             [
              0.5555555555555556,
              "#d8576b"
             ],
             [
              0.6666666666666666,
              "#ed7953"
             ],
             [
              0.7777777777777778,
              "#fb9f3a"
             ],
             [
              0.8888888888888888,
              "#fdca26"
             ],
             [
              1,
              "#f0f921"
             ]
            ],
            "type": "histogram2d"
           }
          ],
          "histogram2dcontour": [
           {
            "colorbar": {
             "outlinewidth": 0,
             "ticks": ""
            },
            "colorscale": [
             [
              0,
              "#0d0887"
             ],
             [
              0.1111111111111111,
              "#46039f"
             ],
             [
              0.2222222222222222,
              "#7201a8"
             ],
             [
              0.3333333333333333,
              "#9c179e"
             ],
             [
              0.4444444444444444,
              "#bd3786"
             ],
             [
              0.5555555555555556,
              "#d8576b"
             ],
             [
              0.6666666666666666,
              "#ed7953"
             ],
             [
              0.7777777777777778,
              "#fb9f3a"
             ],
             [
              0.8888888888888888,
              "#fdca26"
             ],
             [
              1,
              "#f0f921"
             ]
            ],
            "type": "histogram2dcontour"
           }
          ],
          "mesh3d": [
           {
            "colorbar": {
             "outlinewidth": 0,
             "ticks": ""
            },
            "type": "mesh3d"
           }
          ],
          "parcoords": [
           {
            "line": {
             "colorbar": {
              "outlinewidth": 0,
              "ticks": ""
             }
            },
            "type": "parcoords"
           }
          ],
          "pie": [
           {
            "automargin": true,
            "type": "pie"
           }
          ],
          "scatter": [
           {
            "marker": {
             "colorbar": {
              "outlinewidth": 0,
              "ticks": ""
             }
            },
            "type": "scatter"
           }
          ],
          "scatter3d": [
           {
            "line": {
             "colorbar": {
              "outlinewidth": 0,
              "ticks": ""
             }
            },
            "marker": {
             "colorbar": {
              "outlinewidth": 0,
              "ticks": ""
             }
            },
            "type": "scatter3d"
           }
          ],
          "scattercarpet": [
           {
            "marker": {
             "colorbar": {
              "outlinewidth": 0,
              "ticks": ""
             }
            },
            "type": "scattercarpet"
           }
          ],
          "scattergeo": [
           {
            "marker": {
             "colorbar": {
              "outlinewidth": 0,
              "ticks": ""
             }
            },
            "type": "scattergeo"
           }
          ],
          "scattergl": [
           {
            "marker": {
             "colorbar": {
              "outlinewidth": 0,
              "ticks": ""
             }
            },
            "type": "scattergl"
           }
          ],
          "scattermapbox": [
           {
            "marker": {
             "colorbar": {
              "outlinewidth": 0,
              "ticks": ""
             }
            },
            "type": "scattermapbox"
           }
          ],
          "scatterpolar": [
           {
            "marker": {
             "colorbar": {
              "outlinewidth": 0,
              "ticks": ""
             }
            },
            "type": "scatterpolar"
           }
          ],
          "scatterpolargl": [
           {
            "marker": {
             "colorbar": {
              "outlinewidth": 0,
              "ticks": ""
             }
            },
            "type": "scatterpolargl"
           }
          ],
          "scatterternary": [
           {
            "marker": {
             "colorbar": {
              "outlinewidth": 0,
              "ticks": ""
             }
            },
            "type": "scatterternary"
           }
          ],
          "surface": [
           {
            "colorbar": {
             "outlinewidth": 0,
             "ticks": ""
            },
            "colorscale": [
             [
              0,
              "#0d0887"
             ],
             [
              0.1111111111111111,
              "#46039f"
             ],
             [
              0.2222222222222222,
              "#7201a8"
             ],
             [
              0.3333333333333333,
              "#9c179e"
             ],
             [
              0.4444444444444444,
              "#bd3786"
             ],
             [
              0.5555555555555556,
              "#d8576b"
             ],
             [
              0.6666666666666666,
              "#ed7953"
             ],
             [
              0.7777777777777778,
              "#fb9f3a"
             ],
             [
              0.8888888888888888,
              "#fdca26"
             ],
             [
              1,
              "#f0f921"
             ]
            ],
            "type": "surface"
           }
          ],
          "table": [
           {
            "cells": {
             "fill": {
              "color": "#EBF0F8"
             },
             "line": {
              "color": "white"
             }
            },
            "header": {
             "fill": {
              "color": "#C8D4E3"
             },
             "line": {
              "color": "white"
             }
            },
            "type": "table"
           }
          ]
         },
         "layout": {
          "annotationdefaults": {
           "arrowcolor": "#2a3f5f",
           "arrowhead": 0,
           "arrowwidth": 1
          },
          "coloraxis": {
           "colorbar": {
            "outlinewidth": 0,
            "ticks": ""
           }
          },
          "colorscale": {
           "diverging": [
            [
             0,
             "#8e0152"
            ],
            [
             0.1,
             "#c51b7d"
            ],
            [
             0.2,
             "#de77ae"
            ],
            [
             0.3,
             "#f1b6da"
            ],
            [
             0.4,
             "#fde0ef"
            ],
            [
             0.5,
             "#f7f7f7"
            ],
            [
             0.6,
             "#e6f5d0"
            ],
            [
             0.7,
             "#b8e186"
            ],
            [
             0.8,
             "#7fbc41"
            ],
            [
             0.9,
             "#4d9221"
            ],
            [
             1,
             "#276419"
            ]
           ],
           "sequential": [
            [
             0,
             "#0d0887"
            ],
            [
             0.1111111111111111,
             "#46039f"
            ],
            [
             0.2222222222222222,
             "#7201a8"
            ],
            [
             0.3333333333333333,
             "#9c179e"
            ],
            [
             0.4444444444444444,
             "#bd3786"
            ],
            [
             0.5555555555555556,
             "#d8576b"
            ],
            [
             0.6666666666666666,
             "#ed7953"
            ],
            [
             0.7777777777777778,
             "#fb9f3a"
            ],
            [
             0.8888888888888888,
             "#fdca26"
            ],
            [
             1,
             "#f0f921"
            ]
           ],
           "sequentialminus": [
            [
             0,
             "#0d0887"
            ],
            [
             0.1111111111111111,
             "#46039f"
            ],
            [
             0.2222222222222222,
             "#7201a8"
            ],
            [
             0.3333333333333333,
             "#9c179e"
            ],
            [
             0.4444444444444444,
             "#bd3786"
            ],
            [
             0.5555555555555556,
             "#d8576b"
            ],
            [
             0.6666666666666666,
             "#ed7953"
            ],
            [
             0.7777777777777778,
             "#fb9f3a"
            ],
            [
             0.8888888888888888,
             "#fdca26"
            ],
            [
             1,
             "#f0f921"
            ]
           ]
          },
          "colorway": [
           "#636efa",
           "#EF553B",
           "#00cc96",
           "#ab63fa",
           "#FFA15A",
           "#19d3f3",
           "#FF6692",
           "#B6E880",
           "#FF97FF",
           "#FECB52"
          ],
          "font": {
           "color": "#2a3f5f"
          },
          "geo": {
           "bgcolor": "white",
           "lakecolor": "white",
           "landcolor": "#E5ECF6",
           "showlakes": true,
           "showland": true,
           "subunitcolor": "white"
          },
          "hoverlabel": {
           "align": "left"
          },
          "hovermode": "closest",
          "mapbox": {
           "style": "light"
          },
          "paper_bgcolor": "white",
          "plot_bgcolor": "#E5ECF6",
          "polar": {
           "angularaxis": {
            "gridcolor": "white",
            "linecolor": "white",
            "ticks": ""
           },
           "bgcolor": "#E5ECF6",
           "radialaxis": {
            "gridcolor": "white",
            "linecolor": "white",
            "ticks": ""
           }
          },
          "scene": {
           "xaxis": {
            "backgroundcolor": "#E5ECF6",
            "gridcolor": "white",
            "gridwidth": 2,
            "linecolor": "white",
            "showbackground": true,
            "ticks": "",
            "zerolinecolor": "white"
           },
           "yaxis": {
            "backgroundcolor": "#E5ECF6",
            "gridcolor": "white",
            "gridwidth": 2,
            "linecolor": "white",
            "showbackground": true,
            "ticks": "",
            "zerolinecolor": "white"
           },
           "zaxis": {
            "backgroundcolor": "#E5ECF6",
            "gridcolor": "white",
            "gridwidth": 2,
            "linecolor": "white",
            "showbackground": true,
            "ticks": "",
            "zerolinecolor": "white"
           }
          },
          "shapedefaults": {
           "line": {
            "color": "#2a3f5f"
           }
          },
          "ternary": {
           "aaxis": {
            "gridcolor": "white",
            "linecolor": "white",
            "ticks": ""
           },
           "baxis": {
            "gridcolor": "white",
            "linecolor": "white",
            "ticks": ""
           },
           "bgcolor": "#E5ECF6",
           "caxis": {
            "gridcolor": "white",
            "linecolor": "white",
            "ticks": ""
           }
          },
          "title": {
           "x": 0.05
          },
          "xaxis": {
           "automargin": true,
           "gridcolor": "white",
           "linecolor": "white",
           "ticks": "",
           "title": {
            "standoff": 15
           },
           "zerolinecolor": "white",
           "zerolinewidth": 2
          },
          "yaxis": {
           "automargin": true,
           "gridcolor": "white",
           "linecolor": "white",
           "ticks": "",
           "title": {
            "standoff": 15
           },
           "zerolinecolor": "white",
           "zerolinewidth": 2
          }
         }
        },
        "xaxis": {
         "anchor": "y",
         "domain": [
          0,
          1
         ],
         "title": {
          "text": "PROCENTA_GRADES"
         }
        },
        "yaxis": {
         "anchor": "x",
         "domain": [
          0,
          1
         ],
         "title": {
          "text": "MIN_CERMAT"
         }
        }
       }
      },
      "text/html": [
       "<div>                            <div id=\"83dc7fe6-2a51-4669-8fbe-75c459f0566c\" class=\"plotly-graph-div\" style=\"height:525px; width:100%;\"></div>            <script type=\"text/javascript\">                require([\"plotly\"], function(Plotly) {                    window.PLOTLYENV=window.PLOTLYENV || {};                                    if (document.getElementById(\"83dc7fe6-2a51-4669-8fbe-75c459f0566c\")) {                    Plotly.newPlot(                        \"83dc7fe6-2a51-4669-8fbe-75c459f0566c\",                        [{\"customdata\": [[\"Gymn\\u00e1zium Bud\\u011bjovick\\u00e1\"], [\"Gymn\\u00e1zium Eli\\u0161ky Kr\\u00e1snohorsk\\u00e9\"], [\"Gymn\\u00e1zium Hlivick\\u00e1\"], [\"Gymn\\u00e1zium J.G.Jarkovsk\\u00e9ho\"], [\"Gymn\\u00e1zium Jaroslava Heyrovsk\\u00e9ho\"], [\"Gymn\\u00e1zium Nad Alej\\u00ed\"], [\"Gymn\\u00e1zium P\\u00edsnick\\u00e1\"], [\"Gymn\\u00e1zium prof. Jana Pato\\u010dky\"], [\"Gymn\\u00e1zium \\u010ceskolipsk\\u00e1\"], [\"Gymn\\u00e1zium \\u0160pit\\u00e1lsk\\u00e1\"], [\"Malostransk\\u00e9 gymn\\u00e1zium\"], [\"Gymn\\u00e1zium Nad Alej\\u00ed\"], [\"Gymn\\u00e1zium \\u0160pit\\u00e1lsk\\u00e1\"], [\"Malostransk\\u00e9 gymn\\u00e1zium\"], [\"Gymn\\u00e1zium Christiana Dopplera - matematick\\u00e1 t\\u0159\\u00edda\"], [\"Gymn\\u00e1zium Nad Alej\\u00ed\"], [\"Gymn\\u00e1zium \\u010ceskolipsk\\u00e1\"], [\"Gymn\\u00e1zium \\u0160pit\\u00e1lsk\\u00e1\"], [\"Malostransk\\u00e9 gymn\\u00e1zium\"], [\"Gymn\\u00e1zium Bud\\u011bjovick\\u00e1\"], [\"Gymn\\u00e1zium Christiana Dopplera - jazykov\\u00e1 t\\u0159\\u00edda\"], [\"Gymn\\u00e1zium Christiana Dopplera - matematick\\u00e1 t\\u0159\\u00edda\"], [\"Gymn\\u00e1zium Eli\\u0161ky Kr\\u00e1snohorsk\\u00e9\"], [\"Gymn\\u00e1zium Hlivick\\u00e1\"], [\"Gymn\\u00e1zium J.G.Jarkovsk\\u00e9ho\"], [\"Gymn\\u00e1zium Nad Alej\\u00ed\"], [\"Gymn\\u00e1zium P\\u00edsnick\\u00e1\"], [\"Gymn\\u00e1zium prof. Jana Pato\\u010dky\"], [\"Gymn\\u00e1zium \\u010ceskolipsk\\u00e1\"], [\"Gymn\\u00e1zium \\u0160pit\\u00e1lsk\\u00e1\"], [\"Malostransk\\u00e9 gymn\\u00e1zium\"]], \"hovertemplate\": \"clusters54=1<br>PROCENTA_GRADES=%{x}<br>MIN_CERMAT=%{y}<br>SCHOOL_NAME=%{customdata[0]}<extra></extra>\", \"legendgroup\": \"1\", \"marker\": {\"color\": \"#636efa\", \"symbol\": \"circle\"}, \"mode\": \"markers\", \"name\": \"1\", \"orientation\": \"v\", \"showlegend\": true, \"type\": \"scatter\", \"x\": [9.09, 10.17, 15.75, 6.52, 10.71, 10.71, 18.03, 8.33, 4.76, 9.52, 2.91, 10.71, 9.76, 4.76, 6.45, 10.71, 4.76, 9.76, 9.09, 9.09, 6.45, 6.45, 10.17, 15.75, 6.52, 10.71, 19.35, 8.33, 4.76, 9.76, 9.09], \"xaxis\": \"x\", \"y\": [73.0, 67.0, 72.0, 65.0, 64.0, 75.0, 72.0, 66.0, 71.0, 79.0, 71.0, 67.0, 71.0, 63.0, 72.0, 72.0, 64.0, 73.0, 74.0, 73.0, 74.0, 74.0, 66.0, 72.0, 69.0, 76.0, 76.0, 71.0, 69.0, 78.0, 77.0], \"yaxis\": \"y\"}, {\"hovertemplate\": \"<b>OLS trendline</b><br>MIN_CERMAT = 0.342761 * PROCENTA_GRADES + 67.9667<br>R<sup>2</sup>=0.094149<br><br>clusters54=1<br>PROCENTA_GRADES=%{x}<br>MIN_CERMAT=%{y} <b>(trend)</b><extra></extra>\", \"legendgroup\": \"1\", \"marker\": {\"color\": \"#636efa\", \"symbol\": \"circle\"}, \"mode\": \"lines\", \"name\": \"1\", \"showlegend\": false, \"type\": \"scatter\", \"x\": [2.91, 4.76, 4.76, 4.76, 4.76, 6.45, 6.45, 6.45, 6.52, 6.52, 8.33, 8.33, 9.09, 9.09, 9.09, 9.09, 9.52, 9.76, 9.76, 9.76, 10.17, 10.17, 10.71, 10.71, 10.71, 10.71, 10.71, 15.75, 15.75, 18.03, 19.35], \"xaxis\": \"x\", \"y\": [68.96408456138155, 69.59819159844258, 69.59819159844258, 69.59819159844258, 69.59819159844258, 70.17745694581184, 70.17745694581184, 70.17745694581184, 70.201450185052, 70.201450185052, 70.82184679969008, 70.82184679969008, 71.08234482572597, 71.08234482572597, 71.08234482572597, 71.08234482572597, 71.22973186677258, 71.31199440131023, 71.31199440131023, 71.31199440131023, 71.45252623114537, 71.45252623114537, 71.63761693385509, 71.63761693385509, 71.63761693385509, 71.63761693385509, 71.63761693385509, 73.36513015914566, 73.36513015914566, 74.14662423725332, 74.59906817721037], \"yaxis\": \"y\"}, {\"customdata\": [[\"Gymn\\u00e1zium Jana Keplera\"], [\"Gymn\\u00e1zium Jana Keplera\"], [\"Gymn\\u00e1zium Jana Keplera\"], [\"Gymn\\u00e1zium Jana Keplera\"], [\"Gymn\\u00e1zium Nad \\u0160tolou\"], [\"Gymn\\u00e1zium Vod\\u011bradsk\\u00e1\"]], \"hovertemplate\": \"clusters54=0<br>PROCENTA_GRADES=%{x}<br>MIN_CERMAT=%{y}<br>SCHOOL_NAME=%{customdata[0]}<extra></extra>\", \"legendgroup\": \"0\", \"marker\": {\"color\": \"#EF553B\", \"symbol\": \"circle\"}, \"mode\": \"markers\", \"name\": \"0\", \"orientation\": \"v\", \"showlegend\": true, \"type\": \"scatter\", \"x\": [6.06, 6.06, 6.06, 6.06, 10.64, 4.41], \"xaxis\": \"x\", \"y\": [81.0, 76.0, 72.0, 78.0, 70.0, 71.0], \"yaxis\": \"y\"}, {\"hovertemplate\": \"<b>OLS trendline</b><br>MIN_CERMAT = -0.68813 * PROCENTA_GRADES + 79.1728<br>R<sup>2</sup>=0.110606<br><br>clusters54=0<br>PROCENTA_GRADES=%{x}<br>MIN_CERMAT=%{y} <b>(trend)</b><extra></extra>\", \"legendgroup\": \"0\", \"marker\": {\"color\": \"#EF553B\", \"symbol\": \"circle\"}, \"mode\": \"lines\", \"name\": \"0\", \"showlegend\": false, \"type\": \"scatter\", \"x\": [4.41, 6.06, 6.06, 6.06, 6.06, 10.64], \"xaxis\": \"x\", \"y\": [76.13811770957687, 75.00270342081531, 75.00270342081531, 75.00270342081531, 75.00270342081531, 71.85106860716199], \"yaxis\": \"y\"}, {\"customdata\": [[\"Gymn\\u00e1zium Karla Sladkovsk\\u00e9ho\"], [\"Gymn\\u00e1zium Litom\\u011b\\u0159ick\\u00e1\"], [\"Gymn\\u00e1zium Bud\\u011bjovick\\u00e1\"], [\"Gymn\\u00e1zium Christiana Dopplera - jazykov\\u00e1 t\\u0159\\u00edda\"], [\"Gymn\\u00e1zium Christiana Dopplera - matematick\\u00e1 t\\u0159\\u00edda\"], [\"Gymn\\u00e1zium Eli\\u0161ky Kr\\u00e1snohorsk\\u00e9\"], [\"Gymn\\u00e1zium Hlivick\\u00e1\"], [\"Gymn\\u00e1zium J.G.Jarkovsk\\u00e9ho\"], [\"Gymn\\u00e1zium Karla Sladkovsk\\u00e9ho\"], [\"Gymn\\u00e1zium Litom\\u011b\\u0159ick\\u00e1\"], [\"Gymn\\u00e1zium P\\u00edsnick\\u00e1\"], [\"Gymn\\u00e1zium prof. Jana Pato\\u010dky\"], [\"Gymn\\u00e1zium \\u010ceskolipsk\\u00e1\"], [\"Gymn\\u00e1zium Bud\\u011bjovick\\u00e1\"], [\"Gymn\\u00e1zium Christiana Dopplera - jazykov\\u00e1 t\\u0159\\u00edda\"], [\"Gymn\\u00e1zium Eli\\u0161ky Kr\\u00e1snohorsk\\u00e9\"], [\"Gymn\\u00e1zium Hlivick\\u00e1\"], [\"Gymn\\u00e1zium J.G.Jarkovsk\\u00e9ho\"], [\"Gymn\\u00e1zium Karla Sladkovsk\\u00e9ho\"], [\"Gymn\\u00e1zium P\\u00edsnick\\u00e1\"], [\"Gymn\\u00e1zium prof. Jana Pato\\u010dky\"], [\"Gymn\\u00e1zium Karla Sladkovsk\\u00e9ho\"]], \"hovertemplate\": \"clusters54=2<br>PROCENTA_GRADES=%{x}<br>MIN_CERMAT=%{y}<br>SCHOOL_NAME=%{customdata[0]}<extra></extra>\", \"legendgroup\": \"2\", \"marker\": {\"color\": \"#00cc96\", \"symbol\": \"circle\"}, \"mode\": \"markers\", \"name\": \"2\", \"orientation\": \"v\", \"showlegend\": true, \"type\": \"scatter\", \"x\": [15.38, 18.87, 9.09, 6.45, 6.45, 10.17, 15.75, 6.52, 15.38, 18.87, 18.03, 8.33, 4.76, 9.09, 6.45, 10.17, 15.75, 6.52, 11.54, 18.03, 8.33, 11.54], \"xaxis\": \"x\", \"y\": [52.0, 67.0, 61.0, 58.0, 66.0, 61.0, 63.0, 59.0, 51.0, 58.0, 61.0, 59.0, 59.0, 64.0, 59.0, 60.0, 64.0, 60.0, 50.0, 62.0, 61.0, 59.0], \"yaxis\": \"y\"}, {\"hovertemplate\": \"<b>OLS trendline</b><br>MIN_CERMAT = 0.00548959 * PROCENTA_GRADES + 59.6645<br>R<sup>2</sup>=0.000036<br><br>clusters54=2<br>PROCENTA_GRADES=%{x}<br>MIN_CERMAT=%{y} <b>(trend)</b><extra></extra>\", \"legendgroup\": \"2\", \"marker\": {\"color\": \"#00cc96\", \"symbol\": \"circle\"}, \"mode\": \"lines\", \"name\": \"2\", \"showlegend\": false, \"type\": \"scatter\", \"x\": [4.76, 6.45, 6.45, 6.45, 6.52, 6.52, 8.33, 8.33, 9.09, 9.09, 10.17, 10.17, 11.54, 11.54, 15.38, 15.38, 15.75, 15.75, 18.03, 18.03, 18.87, 18.87], \"xaxis\": \"x\", \"y\": [59.690654658294505, 59.69993206752524, 59.69993206752524, 59.69993206752524, 59.700316338913495, 59.700316338913495, 59.71025249909553, 59.71025249909553, 59.71442458845373, 59.71442458845373, 59.72035334701538, 59.72035334701538, 59.727874087042665, 59.727874087042665, 59.748954117484104, 59.748954117484104, 59.750985266250595, 59.750985266250595, 59.763501534325194, 59.763501534325194, 59.76811279098426, 59.76811279098426], \"yaxis\": \"y\"}, {\"customdata\": [[\"Gymn\\u00e1zium Nad Kaval\\u00edrkou\"], [\"Gymn\\u00e1zium Nad \\u0160tolou\"], [\"Gymn\\u00e1zium Omsk\\u00e1\"], [\"Gymn\\u00e1zium Opatov\"], [\"Gymn\\u00e1zium Vod\\u011bradsk\\u00e1\"], [\"Gymn\\u00e1zium Jaroslava Heyrovsk\\u00e9ho\"], [\"Gymn\\u00e1zium Nad Kaval\\u00edrkou\"], [\"Gymn\\u00e1zium Nad \\u0160tolou\"], [\"Gymn\\u00e1zium Omsk\\u00e1\"], [\"Gymn\\u00e1zium Opatov\"], [\"Gymn\\u00e1zium Vod\\u011bradsk\\u00e1\"], [\"Gymn\\u00e1zium Jaroslava Heyrovsk\\u00e9ho\"], [\"Gymn\\u00e1zium Nad Kaval\\u00edrkou\"], [\"Gymn\\u00e1zium Nad \\u0160tolou\"], [\"Gymn\\u00e1zium Omsk\\u00e1\"], [\"Gymn\\u00e1zium Opatov\"], [\"Gymn\\u00e1zium Vod\\u011bradsk\\u00e1\"], [\"Gymn\\u00e1zium Jaroslava Heyrovsk\\u00e9ho\"], [\"Gymn\\u00e1zium Nad Kaval\\u00edrkou\"], [\"Gymn\\u00e1zium Omsk\\u00e1\"], [\"Gymn\\u00e1zium Opatov\"]], \"hovertemplate\": \"clusters54=3<br>PROCENTA_GRADES=%{x}<br>MIN_CERMAT=%{y}<br>SCHOOL_NAME=%{customdata[0]}<extra></extra>\", \"legendgroup\": \"3\", \"marker\": {\"color\": \"#ab63fa\", \"symbol\": \"circle\"}, \"mode\": \"markers\", \"name\": \"3\", \"orientation\": \"v\", \"showlegend\": true, \"type\": \"scatter\", \"x\": [1.32, 9.93, 6.25, 6.02, 4.14, 7.41, 1.32, 10.56, 6.25, 6.02, 4.41, 7.41, 1.32, 10.64, 6.25, 6.02, 4.41, 7.41, 1.32, 6.25, 6.02], \"xaxis\": \"x\", \"y\": [60.0, 64.0, 62.0, 60.0, 58.0, 61.0, 61.0, 61.0, 54.0, 52.0, 56.0, 57.0, 64.0, 63.0, 59.0, 61.0, 59.0, 57.0, 61.0, 61.0, 66.0], \"yaxis\": \"y\"}, {\"hovertemplate\": \"<b>OLS trendline</b><br>MIN_CERMAT = 0.0564368 * PROCENTA_GRADES + 59.5328<br>R<sup>2</sup>=0.002232<br><br>clusters54=3<br>PROCENTA_GRADES=%{x}<br>MIN_CERMAT=%{y} <b>(trend)</b><extra></extra>\", \"legendgroup\": \"3\", \"marker\": {\"color\": \"#ab63fa\", \"symbol\": \"circle\"}, \"mode\": \"lines\", \"name\": \"3\", \"showlegend\": false, \"type\": \"scatter\", \"x\": [1.32, 1.32, 1.32, 1.32, 4.14, 4.41, 4.41, 6.02, 6.02, 6.02, 6.02, 6.25, 6.25, 6.25, 6.25, 7.41, 7.41, 7.41, 9.93, 10.56, 10.64], \"xaxis\": \"x\", \"y\": [59.607315967780366, 59.607315967780366, 59.607315967780366, 59.607315967780366, 59.76646773615433, 59.781705671424184, 59.781705671424184, 59.87256891507031, 59.87256891507031, 59.87256891507031, 59.87256891507031, 59.88554937844833, 59.88554937844833, 59.88554937844833, 59.88554937844833, 59.951016063311386, 59.951016063311386, 59.951016063311386, 60.09323679249663, 60.12879197479295, 60.1333069185766], \"yaxis\": \"y\"}],                        {\"legend\": {\"title\": {\"text\": \"clusters54\"}, \"tracegroupgap\": 0}, \"margin\": {\"t\": 60}, \"template\": {\"data\": {\"bar\": [{\"error_x\": {\"color\": \"#2a3f5f\"}, \"error_y\": {\"color\": \"#2a3f5f\"}, \"marker\": {\"line\": {\"color\": \"#E5ECF6\", \"width\": 0.5}}, \"type\": \"bar\"}], \"barpolar\": [{\"marker\": {\"line\": {\"color\": \"#E5ECF6\", \"width\": 0.5}}, \"type\": \"barpolar\"}], \"carpet\": [{\"aaxis\": {\"endlinecolor\": \"#2a3f5f\", \"gridcolor\": \"white\", \"linecolor\": \"white\", \"minorgridcolor\": \"white\", \"startlinecolor\": \"#2a3f5f\"}, \"baxis\": {\"endlinecolor\": \"#2a3f5f\", \"gridcolor\": \"white\", \"linecolor\": \"white\", \"minorgridcolor\": \"white\", \"startlinecolor\": \"#2a3f5f\"}, \"type\": \"carpet\"}], \"choropleth\": [{\"colorbar\": {\"outlinewidth\": 0, \"ticks\": \"\"}, \"type\": \"choropleth\"}], \"contour\": [{\"colorbar\": {\"outlinewidth\": 0, \"ticks\": \"\"}, \"colorscale\": [[0.0, \"#0d0887\"], [0.1111111111111111, \"#46039f\"], [0.2222222222222222, \"#7201a8\"], [0.3333333333333333, \"#9c179e\"], [0.4444444444444444, \"#bd3786\"], [0.5555555555555556, \"#d8576b\"], [0.6666666666666666, \"#ed7953\"], [0.7777777777777778, \"#fb9f3a\"], [0.8888888888888888, \"#fdca26\"], [1.0, \"#f0f921\"]], \"type\": \"contour\"}], \"contourcarpet\": [{\"colorbar\": {\"outlinewidth\": 0, \"ticks\": \"\"}, \"type\": \"contourcarpet\"}], \"heatmap\": [{\"colorbar\": {\"outlinewidth\": 0, \"ticks\": \"\"}, \"colorscale\": [[0.0, \"#0d0887\"], [0.1111111111111111, \"#46039f\"], [0.2222222222222222, \"#7201a8\"], [0.3333333333333333, \"#9c179e\"], [0.4444444444444444, \"#bd3786\"], [0.5555555555555556, \"#d8576b\"], [0.6666666666666666, \"#ed7953\"], [0.7777777777777778, \"#fb9f3a\"], [0.8888888888888888, \"#fdca26\"], [1.0, \"#f0f921\"]], \"type\": \"heatmap\"}], \"heatmapgl\": [{\"colorbar\": {\"outlinewidth\": 0, \"ticks\": \"\"}, \"colorscale\": [[0.0, \"#0d0887\"], [0.1111111111111111, \"#46039f\"], [0.2222222222222222, \"#7201a8\"], [0.3333333333333333, \"#9c179e\"], [0.4444444444444444, \"#bd3786\"], [0.5555555555555556, \"#d8576b\"], [0.6666666666666666, \"#ed7953\"], [0.7777777777777778, \"#fb9f3a\"], [0.8888888888888888, \"#fdca26\"], [1.0, \"#f0f921\"]], \"type\": \"heatmapgl\"}], \"histogram\": [{\"marker\": {\"colorbar\": {\"outlinewidth\": 0, \"ticks\": \"\"}}, \"type\": \"histogram\"}], \"histogram2d\": [{\"colorbar\": {\"outlinewidth\": 0, \"ticks\": \"\"}, \"colorscale\": [[0.0, \"#0d0887\"], [0.1111111111111111, \"#46039f\"], [0.2222222222222222, \"#7201a8\"], [0.3333333333333333, \"#9c179e\"], [0.4444444444444444, \"#bd3786\"], [0.5555555555555556, \"#d8576b\"], [0.6666666666666666, \"#ed7953\"], [0.7777777777777778, \"#fb9f3a\"], [0.8888888888888888, \"#fdca26\"], [1.0, \"#f0f921\"]], \"type\": \"histogram2d\"}], \"histogram2dcontour\": [{\"colorbar\": {\"outlinewidth\": 0, \"ticks\": \"\"}, \"colorscale\": [[0.0, \"#0d0887\"], [0.1111111111111111, \"#46039f\"], [0.2222222222222222, \"#7201a8\"], [0.3333333333333333, \"#9c179e\"], [0.4444444444444444, \"#bd3786\"], [0.5555555555555556, \"#d8576b\"], [0.6666666666666666, \"#ed7953\"], [0.7777777777777778, \"#fb9f3a\"], [0.8888888888888888, \"#fdca26\"], [1.0, \"#f0f921\"]], \"type\": \"histogram2dcontour\"}], \"mesh3d\": [{\"colorbar\": {\"outlinewidth\": 0, \"ticks\": \"\"}, \"type\": \"mesh3d\"}], \"parcoords\": [{\"line\": {\"colorbar\": {\"outlinewidth\": 0, \"ticks\": \"\"}}, \"type\": \"parcoords\"}], \"pie\": [{\"automargin\": true, \"type\": \"pie\"}], \"scatter\": [{\"marker\": {\"colorbar\": {\"outlinewidth\": 0, \"ticks\": \"\"}}, \"type\": \"scatter\"}], \"scatter3d\": [{\"line\": {\"colorbar\": {\"outlinewidth\": 0, \"ticks\": \"\"}}, \"marker\": {\"colorbar\": {\"outlinewidth\": 0, \"ticks\": \"\"}}, \"type\": \"scatter3d\"}], \"scattercarpet\": [{\"marker\": {\"colorbar\": {\"outlinewidth\": 0, \"ticks\": \"\"}}, \"type\": \"scattercarpet\"}], \"scattergeo\": [{\"marker\": {\"colorbar\": {\"outlinewidth\": 0, \"ticks\": \"\"}}, \"type\": \"scattergeo\"}], \"scattergl\": [{\"marker\": {\"colorbar\": {\"outlinewidth\": 0, \"ticks\": \"\"}}, \"type\": \"scattergl\"}], \"scattermapbox\": [{\"marker\": {\"colorbar\": {\"outlinewidth\": 0, \"ticks\": \"\"}}, \"type\": \"scattermapbox\"}], \"scatterpolar\": [{\"marker\": {\"colorbar\": {\"outlinewidth\": 0, \"ticks\": \"\"}}, \"type\": \"scatterpolar\"}], \"scatterpolargl\": [{\"marker\": {\"colorbar\": {\"outlinewidth\": 0, \"ticks\": \"\"}}, \"type\": \"scatterpolargl\"}], \"scatterternary\": [{\"marker\": {\"colorbar\": {\"outlinewidth\": 0, \"ticks\": \"\"}}, \"type\": \"scatterternary\"}], \"surface\": [{\"colorbar\": {\"outlinewidth\": 0, \"ticks\": \"\"}, \"colorscale\": [[0.0, \"#0d0887\"], [0.1111111111111111, \"#46039f\"], [0.2222222222222222, \"#7201a8\"], [0.3333333333333333, \"#9c179e\"], [0.4444444444444444, \"#bd3786\"], [0.5555555555555556, \"#d8576b\"], [0.6666666666666666, \"#ed7953\"], [0.7777777777777778, \"#fb9f3a\"], [0.8888888888888888, \"#fdca26\"], [1.0, \"#f0f921\"]], \"type\": \"surface\"}], \"table\": [{\"cells\": {\"fill\": {\"color\": \"#EBF0F8\"}, \"line\": {\"color\": \"white\"}}, \"header\": {\"fill\": {\"color\": \"#C8D4E3\"}, \"line\": {\"color\": \"white\"}}, \"type\": \"table\"}]}, \"layout\": {\"annotationdefaults\": {\"arrowcolor\": \"#2a3f5f\", \"arrowhead\": 0, \"arrowwidth\": 1}, \"coloraxis\": {\"colorbar\": {\"outlinewidth\": 0, \"ticks\": \"\"}}, \"colorscale\": {\"diverging\": [[0, \"#8e0152\"], [0.1, \"#c51b7d\"], [0.2, \"#de77ae\"], [0.3, \"#f1b6da\"], [0.4, \"#fde0ef\"], [0.5, \"#f7f7f7\"], [0.6, \"#e6f5d0\"], [0.7, \"#b8e186\"], [0.8, \"#7fbc41\"], [0.9, \"#4d9221\"], [1, \"#276419\"]], \"sequential\": [[0.0, \"#0d0887\"], [0.1111111111111111, \"#46039f\"], [0.2222222222222222, \"#7201a8\"], [0.3333333333333333, \"#9c179e\"], [0.4444444444444444, \"#bd3786\"], [0.5555555555555556, \"#d8576b\"], [0.6666666666666666, \"#ed7953\"], [0.7777777777777778, \"#fb9f3a\"], [0.8888888888888888, \"#fdca26\"], [1.0, \"#f0f921\"]], \"sequentialminus\": [[0.0, \"#0d0887\"], [0.1111111111111111, \"#46039f\"], [0.2222222222222222, \"#7201a8\"], [0.3333333333333333, \"#9c179e\"], [0.4444444444444444, \"#bd3786\"], [0.5555555555555556, \"#d8576b\"], [0.6666666666666666, \"#ed7953\"], [0.7777777777777778, \"#fb9f3a\"], [0.8888888888888888, \"#fdca26\"], [1.0, \"#f0f921\"]]}, \"colorway\": [\"#636efa\", \"#EF553B\", \"#00cc96\", \"#ab63fa\", \"#FFA15A\", \"#19d3f3\", \"#FF6692\", \"#B6E880\", \"#FF97FF\", \"#FECB52\"], \"font\": {\"color\": \"#2a3f5f\"}, \"geo\": {\"bgcolor\": \"white\", \"lakecolor\": \"white\", \"landcolor\": \"#E5ECF6\", \"showlakes\": true, \"showland\": true, \"subunitcolor\": \"white\"}, \"hoverlabel\": {\"align\": \"left\"}, \"hovermode\": \"closest\", \"mapbox\": {\"style\": \"light\"}, \"paper_bgcolor\": \"white\", \"plot_bgcolor\": \"#E5ECF6\", \"polar\": {\"angularaxis\": {\"gridcolor\": \"white\", \"linecolor\": \"white\", \"ticks\": \"\"}, \"bgcolor\": \"#E5ECF6\", \"radialaxis\": {\"gridcolor\": \"white\", \"linecolor\": \"white\", \"ticks\": \"\"}}, \"scene\": {\"xaxis\": {\"backgroundcolor\": \"#E5ECF6\", \"gridcolor\": \"white\", \"gridwidth\": 2, \"linecolor\": \"white\", \"showbackground\": true, \"ticks\": \"\", \"zerolinecolor\": \"white\"}, \"yaxis\": {\"backgroundcolor\": \"#E5ECF6\", \"gridcolor\": \"white\", \"gridwidth\": 2, \"linecolor\": \"white\", \"showbackground\": true, \"ticks\": \"\", \"zerolinecolor\": \"white\"}, \"zaxis\": {\"backgroundcolor\": \"#E5ECF6\", \"gridcolor\": \"white\", \"gridwidth\": 2, \"linecolor\": \"white\", \"showbackground\": true, \"ticks\": \"\", \"zerolinecolor\": \"white\"}}, \"shapedefaults\": {\"line\": {\"color\": \"#2a3f5f\"}}, \"ternary\": {\"aaxis\": {\"gridcolor\": \"white\", \"linecolor\": \"white\", \"ticks\": \"\"}, \"baxis\": {\"gridcolor\": \"white\", \"linecolor\": \"white\", \"ticks\": \"\"}, \"bgcolor\": \"#E5ECF6\", \"caxis\": {\"gridcolor\": \"white\", \"linecolor\": \"white\", \"ticks\": \"\"}}, \"title\": {\"x\": 0.05}, \"xaxis\": {\"automargin\": true, \"gridcolor\": \"white\", \"linecolor\": \"white\", \"ticks\": \"\", \"title\": {\"standoff\": 15}, \"zerolinecolor\": \"white\", \"zerolinewidth\": 2}, \"yaxis\": {\"automargin\": true, \"gridcolor\": \"white\", \"linecolor\": \"white\", \"ticks\": \"\", \"title\": {\"standoff\": 15}, \"zerolinecolor\": \"white\", \"zerolinewidth\": 2}}}, \"xaxis\": {\"anchor\": \"y\", \"domain\": [0.0, 1.0], \"title\": {\"text\": \"PROCENTA_GRADES\"}}, \"yaxis\": {\"anchor\": \"x\", \"domain\": [0.0, 1.0], \"title\": {\"text\": \"MIN_CERMAT\"}}},                        {\"responsive\": true}                    ).then(function(){\n",
       "                            \n",
       "var gd = document.getElementById('83dc7fe6-2a51-4669-8fbe-75c459f0566c');\n",
       "var x = new MutationObserver(function (mutations, observer) {{\n",
       "        var display = window.getComputedStyle(gd).display;\n",
       "        if (!display || display === 'none') {{\n",
       "            console.log([gd, 'removed!']);\n",
       "            Plotly.purge(gd);\n",
       "            observer.disconnect();\n",
       "        }}\n",
       "}});\n",
       "\n",
       "// Listen for the removal of the full notebook cells\n",
       "var notebookContainer = gd.closest('#notebook-container');\n",
       "if (notebookContainer) {{\n",
       "    x.observe(notebookContainer, {childList: true});\n",
       "}}\n",
       "\n",
       "// Listen for the clearing of the current output cell\n",
       "var outputEl = gd.closest('.output');\n",
       "if (outputEl) {{\n",
       "    x.observe(outputEl, {childList: true});\n",
       "}}\n",
       "\n",
       "                        })                };                });            </script>        </div>"
      ]
     },
     "metadata": {},
     "output_type": "display_data"
    }
   ],
   "source": [
    "kor_c_g = px.scatter(dataset_no_hudebni\n",
    "                  #.query(f'YEAR=={year}')\n",
    "                  , x=\"PROCENTA_GRADES\", y='MIN_CERMAT', \n",
    "                hover_data=['SCHOOL_NAME'], \n",
    "                 trendline=\"ols\",\n",
    "                #color=\"IS_SCHOOL_EXAM\", \n",
    "                 color=\"clusters54\")\n",
    "kor_c_g.show()"
   ]
  },
  {
   "cell_type": "markdown",
   "metadata": {},
   "source": [
    "#Publikace na Datapane\n",
    "dp.Report(\n",
    "    dp.Plot(kor_c_g)).publish(name='Známky a minimální úspšnost - podle clusterů', open=True)"
   ]
  },
  {
   "cell_type": "markdown",
   "metadata": {},
   "source": [
    "#### Minimální úspěšnost vs. zájem"
   ]
  },
  {
   "cell_type": "code",
   "execution_count": 111,
   "metadata": {},
   "outputs": [
    {
     "data": {
      "application/vnd.plotly.v1+json": {
       "config": {
        "plotlyServerURL": "https://plot.ly"
       },
       "data": [
        {
         "customdata": [
          [
           "Gymnázium Budějovická",
           2017
          ],
          [
           "Gymnázium Elišky Krásnohorské",
           2017
          ],
          [
           "Gymnázium Hlivická",
           2017
          ],
          [
           "Gymnázium J.G.Jarkovského",
           2017
          ],
          [
           "Gymnázium Jaroslava Heyrovského",
           2017
          ],
          [
           "Gymnázium Karla Sladkovského",
           2017
          ],
          [
           "Gymnázium Litoměřická",
           2017
          ],
          [
           "Gymnázium Nad Alejí",
           2017
          ],
          [
           "Gymnázium Písnická",
           2017
          ],
          [
           "Gymnázium Českolipská",
           2017
          ],
          [
           "Gymnázium Špitálská",
           2017
          ],
          [
           "Malostranské gymnázium",
           2017
          ],
          [
           "Gymnázium Budějovická",
           2018
          ],
          [
           "Gymnázium Christiana Dopplera - jazyková třída",
           2018
          ],
          [
           "Gymnázium Christiana Dopplera - matematická třída",
           2018
          ],
          [
           "Gymnázium Elišky Krásnohorské",
           2018
          ],
          [
           "Gymnázium Hlivická",
           2018
          ],
          [
           "Gymnázium J.G.Jarkovského",
           2018
          ],
          [
           "Gymnázium Karla Sladkovského",
           2018
          ],
          [
           "Gymnázium Litoměřická",
           2018
          ],
          [
           "Gymnázium Nad Alejí",
           2018
          ],
          [
           "Gymnázium Písnická",
           2018
          ],
          [
           "Gymnázium Českolipská",
           2018
          ],
          [
           "Gymnázium Špitálská",
           2018
          ],
          [
           "Malostranské gymnázium",
           2018
          ],
          [
           "Gymnázium Budějovická",
           2019
          ],
          [
           "Gymnázium Christiana Dopplera - jazyková třída",
           2019
          ],
          [
           "Gymnázium Christiana Dopplera - matematická třída",
           2019
          ],
          [
           "Gymnázium Elišky Krásnohorské",
           2019
          ],
          [
           "Gymnázium Hlivická",
           2019
          ],
          [
           "Gymnázium J.G.Jarkovského",
           2019
          ],
          [
           "Gymnázium Karla Sladkovského",
           2019
          ],
          [
           "Gymnázium Nad Alejí",
           2019
          ],
          [
           "Gymnázium Písnická",
           2019
          ],
          [
           "Gymnázium Českolipská",
           2019
          ],
          [
           "Gymnázium Špitálská",
           2019
          ],
          [
           "Malostranské gymnázium",
           2019
          ],
          [
           "Gymnázium Budějovická",
           2020
          ],
          [
           "Gymnázium Christiana Dopplera - jazyková třída",
           2020
          ],
          [
           "Gymnázium Christiana Dopplera - matematická třída",
           2020
          ],
          [
           "Gymnázium Elišky Krásnohorské",
           2020
          ],
          [
           "Gymnázium Hlivická",
           2020
          ],
          [
           "Gymnázium J.G.Jarkovského",
           2020
          ],
          [
           "Gymnázium Karla Sladkovského",
           2020
          ],
          [
           "Gymnázium Nad Alejí",
           2020
          ],
          [
           "Gymnázium Písnická",
           2020
          ],
          [
           "Gymnázium Českolipská",
           2020
          ],
          [
           "Gymnázium Špitálská",
           2020
          ],
          [
           "Malostranské gymnázium",
           2020
          ]
         ],
         "hovertemplate": "IS_SCHOOL_EXAM=0.5<br>UCHAZECU_NA_JEDNO_MISTO=%{x}<br>MIN_CERMAT=%{y}<br>SCHOOL_NAME=%{customdata[0]}<br>YEAR=%{customdata[1]}<extra></extra>",
         "legendgroup": "0.5",
         "marker": {
          "color": "#636efa",
          "symbol": "circle"
         },
         "mode": "markers",
         "name": "0.5",
         "orientation": "v",
         "showlegend": true,
         "type": "scatter",
         "x": [
          7.56,
          7.66,
          5.2,
          4.41,
          4.74,
          2.28,
          6.27,
          7.4,
          8.89,
          6.11,
          8.44,
          8.28,
          6.42,
          5.07,
          6.45,
          7.11,
          5.95,
          4.62,
          3.6,
          7.54,
          7.21,
          8.81,
          8.28,
          7.27,
          7.27,
          6.6,
          5.54,
          6.21,
          6.94,
          5.61,
          5.23,
          2.82,
          7.23,
          8.96,
          4.29,
          7.72,
          10.58,
          7.3,
          5.96,
          6.47,
          6.59,
          5,
          5.5,
          3.62,
          6.8,
          10.63,
          5.62,
          7.72,
          7.58
         ],
         "xaxis": "x",
         "y": [
          73,
          67,
          72,
          65,
          64,
          52,
          67,
          75,
          72,
          71,
          79,
          71,
          61,
          58,
          66,
          61,
          63,
          59,
          51,
          58,
          67,
          61,
          59,
          71,
          63,
          64,
          59,
          72,
          60,
          64,
          60,
          50,
          72,
          62,
          64,
          73,
          74,
          73,
          74,
          74,
          66,
          72,
          69,
          59,
          76,
          76,
          69,
          78,
          77
         ],
         "yaxis": "y"
        },
        {
         "hovertemplate": "<b>OLS trendline</b><br>MIN_CERMAT = 2.31312 * UCHAZECU_NA_JEDNO_MISTO + 51.516<br>R<sup>2</sup>=0.317062<br><br>IS_SCHOOL_EXAM=0.5<br>UCHAZECU_NA_JEDNO_MISTO=%{x}<br>MIN_CERMAT=%{y} <b>(trend)</b><extra></extra>",
         "legendgroup": "0.5",
         "marker": {
          "color": "#636efa",
          "symbol": "circle"
         },
         "mode": "lines",
         "name": "0.5",
         "showlegend": false,
         "type": "scatter",
         "x": [
          2.28,
          2.82,
          3.6,
          3.62,
          4.29,
          4.41,
          4.62,
          4.74,
          5,
          5.07,
          5.2,
          5.23,
          5.5,
          5.54,
          5.61,
          5.62,
          5.95,
          5.96,
          6.11,
          6.21,
          6.27,
          6.42,
          6.45,
          6.47,
          6.59,
          6.6,
          6.8,
          6.94,
          7.11,
          7.21,
          7.23,
          7.27,
          7.27,
          7.3,
          7.4,
          7.54,
          7.56,
          7.58,
          7.66,
          7.72,
          7.72,
          8.28,
          8.28,
          8.44,
          8.81,
          8.89,
          8.96,
          10.58,
          10.63
         ],
         "xaxis": "x",
         "y": [
          56.78989151737199,
          58.038973921775465,
          59.84320406146937,
          59.88946637274358,
          61.43925380042936,
          61.71682766807458,
          62.20258193645371,
          62.48015580409893,
          63.08156585066356,
          63.24348394012327,
          63.54418896340559,
          63.613582430316896,
          64.23812363251862,
          64.33064825506703,
          64.49256634452675,
          64.51569750016384,
          65.2790256361882,
          65.3021567918253,
          65.6491241263818,
          65.88043568275282,
          66.01922261657543,
          66.36618995113196,
          66.43558341804325,
          66.48184572931746,
          66.75941959696267,
          66.78255075259978,
          67.2451738653418,
          67.56901004426122,
          67.96223969009195,
          68.19355124646296,
          68.23981355773716,
          68.33233818028556,
          68.33233818028556,
          68.40173164719687,
          68.6330432035679,
          68.9568793824873,
          69.0031416937615,
          69.04940400503571,
          69.23445325013252,
          69.37324018395512,
          69.37324018395512,
          70.6685848996328,
          70.6685848996328,
          71.03868338982642,
          71.89453614839917,
          72.07958539349599,
          72.2415034829557,
          75.98875069616611,
          76.10440647435162
         ],
         "yaxis": "y"
        },
        {
         "customdata": [
          [
           "Gymnázium Jana Keplera",
           2017
          ],
          [
           "Gymnázium Nad Kavalírkou",
           2017
          ],
          [
           "Gymnázium Nad Štolou",
           2017
          ],
          [
           "Gymnázium Omská",
           2017
          ],
          [
           "Gymnázium Opatov",
           2017
          ],
          [
           "Gymnázium Voděradská",
           2017
          ],
          [
           "Gymnázium prof. Jana Patočky",
           2017
          ],
          [
           "Gymnázium Jana Keplera",
           2018
          ],
          [
           "Gymnázium Jaroslava Heyrovského",
           2018
          ],
          [
           "Gymnázium Nad Kavalírkou",
           2018
          ],
          [
           "Gymnázium Nad Štolou",
           2018
          ],
          [
           "Gymnázium Omská",
           2018
          ],
          [
           "Gymnázium Opatov",
           2018
          ],
          [
           "Gymnázium Voděradská",
           2018
          ],
          [
           "Gymnázium prof. Jana Patočky",
           2018
          ],
          [
           "Gymnázium Jana Keplera",
           2019
          ],
          [
           "Gymnázium Jaroslava Heyrovského",
           2019
          ],
          [
           "Gymnázium Nad Kavalírkou",
           2019
          ],
          [
           "Gymnázium Nad Štolou",
           2019
          ],
          [
           "Gymnázium Omská",
           2019
          ],
          [
           "Gymnázium Opatov",
           2019
          ],
          [
           "Gymnázium Voděradská",
           2019
          ],
          [
           "Gymnázium prof. Jana Patočky",
           2019
          ],
          [
           "Gymnázium Jana Keplera",
           2020
          ],
          [
           "Gymnázium Jaroslava Heyrovského",
           2020
          ],
          [
           "Gymnázium Nad Kavalírkou",
           2020
          ],
          [
           "Gymnázium Nad Štolou",
           2020
          ],
          [
           "Gymnázium Omská",
           2020
          ],
          [
           "Gymnázium Opatov",
           2020
          ],
          [
           "Gymnázium Voděradská",
           2020
          ],
          [
           "Gymnázium prof. Jana Patočky",
           2020
          ]
         ],
         "hovertemplate": "IS_SCHOOL_EXAM=1.0<br>UCHAZECU_NA_JEDNO_MISTO=%{x}<br>MIN_CERMAT=%{y}<br>SCHOOL_NAME=%{customdata[0]}<br>YEAR=%{customdata[1]}<extra></extra>",
         "legendgroup": "1.0",
         "marker": {
          "color": "#EF553B",
          "symbol": "circle"
         },
         "mode": "markers",
         "name": "1.0",
         "orientation": "v",
         "showlegend": true,
         "type": "scatter",
         "x": [
          7.29,
          4.19,
          5.66,
          4.75,
          7.28,
          5.7,
          5.19,
          7.32,
          5.75,
          6.4,
          6.78,
          4.94,
          6.35,
          6.14,
          6.19,
          6.5,
          4.84,
          6.89,
          6.34,
          5.13,
          6.62,
          6.31,
          6.64,
          6.7,
          4.74,
          7.08,
          5.14,
          5.46,
          5.71,
          8,
          6.91
         ],
         "xaxis": "x",
         "y": [
          81,
          60,
          64,
          62,
          60,
          58,
          66,
          76,
          61,
          61,
          61,
          54,
          52,
          56,
          59,
          72,
          57,
          64,
          63,
          59,
          61,
          59,
          61,
          78,
          57,
          61,
          70,
          61,
          66,
          71,
          71
         ],
         "yaxis": "y"
        },
        {
         "hovertemplate": "<b>OLS trendline</b><br>MIN_CERMAT = 3.41702 * UCHAZECU_NA_JEDNO_MISTO + 42.4641<br>R<sup>2</sup>=0.210833<br><br>IS_SCHOOL_EXAM=1.0<br>UCHAZECU_NA_JEDNO_MISTO=%{x}<br>MIN_CERMAT=%{y} <b>(trend)</b><extra></extra>",
         "legendgroup": "1.0",
         "marker": {
          "color": "#EF553B",
          "symbol": "circle"
         },
         "mode": "lines",
         "name": "1.0",
         "showlegend": false,
         "type": "scatter",
         "x": [
          4.19,
          4.74,
          4.75,
          4.84,
          4.94,
          5.13,
          5.14,
          5.19,
          5.46,
          5.66,
          5.7,
          5.71,
          5.75,
          6.14,
          6.19,
          6.31,
          6.34,
          6.35,
          6.4,
          6.5,
          6.62,
          6.64,
          6.7,
          6.78,
          6.89,
          6.91,
          7.08,
          7.28,
          7.29,
          7.32,
          8
         ],
         "xaxis": "x",
         "y": [
          56.781452415302724,
          58.66081289488086,
          58.69498308541864,
          59.0025148002587,
          59.34421670563654,
          59.99345032585444,
          60.02762051639223,
          60.198471469081156,
          61.12106661360133,
          61.80447042435701,
          61.94115118650815,
          61.97532137704593,
          62.11200213919707,
          63.44463957017065,
          63.615490522859574,
          64.02553280931298,
          64.12804338092634,
          64.16221357146412,
          64.33306452415304,
          64.67476642953089,
          65.0848087159843,
          65.15314909705987,
          65.35817024028657,
          65.63153176458884,
          66.00740386050447,
          66.07574424158004,
          66.65663748072237,
          67.34004129147806,
          67.37421148201585,
          67.4767220536292,
          69.80029501019852
         ],
         "yaxis": "y"
        }
       ],
       "layout": {
        "legend": {
         "title": {
          "text": "IS_SCHOOL_EXAM"
         },
         "tracegroupgap": 0
        },
        "margin": {
         "t": 60
        },
        "template": {
         "data": {
          "bar": [
           {
            "error_x": {
             "color": "#2a3f5f"
            },
            "error_y": {
             "color": "#2a3f5f"
            },
            "marker": {
             "line": {
              "color": "#E5ECF6",
              "width": 0.5
             }
            },
            "type": "bar"
           }
          ],
          "barpolar": [
           {
            "marker": {
             "line": {
              "color": "#E5ECF6",
              "width": 0.5
             }
            },
            "type": "barpolar"
           }
          ],
          "carpet": [
           {
            "aaxis": {
             "endlinecolor": "#2a3f5f",
             "gridcolor": "white",
             "linecolor": "white",
             "minorgridcolor": "white",
             "startlinecolor": "#2a3f5f"
            },
            "baxis": {
             "endlinecolor": "#2a3f5f",
             "gridcolor": "white",
             "linecolor": "white",
             "minorgridcolor": "white",
             "startlinecolor": "#2a3f5f"
            },
            "type": "carpet"
           }
          ],
          "choropleth": [
           {
            "colorbar": {
             "outlinewidth": 0,
             "ticks": ""
            },
            "type": "choropleth"
           }
          ],
          "contour": [
           {
            "colorbar": {
             "outlinewidth": 0,
             "ticks": ""
            },
            "colorscale": [
             [
              0,
              "#0d0887"
             ],
             [
              0.1111111111111111,
              "#46039f"
             ],
             [
              0.2222222222222222,
              "#7201a8"
             ],
             [
              0.3333333333333333,
              "#9c179e"
             ],
             [
              0.4444444444444444,
              "#bd3786"
             ],
             [
              0.5555555555555556,
              "#d8576b"
             ],
             [
              0.6666666666666666,
              "#ed7953"
             ],
             [
              0.7777777777777778,
              "#fb9f3a"
             ],
             [
              0.8888888888888888,
              "#fdca26"
             ],
             [
              1,
              "#f0f921"
             ]
            ],
            "type": "contour"
           }
          ],
          "contourcarpet": [
           {
            "colorbar": {
             "outlinewidth": 0,
             "ticks": ""
            },
            "type": "contourcarpet"
           }
          ],
          "heatmap": [
           {
            "colorbar": {
             "outlinewidth": 0,
             "ticks": ""
            },
            "colorscale": [
             [
              0,
              "#0d0887"
             ],
             [
              0.1111111111111111,
              "#46039f"
             ],
             [
              0.2222222222222222,
              "#7201a8"
             ],
             [
              0.3333333333333333,
              "#9c179e"
             ],
             [
              0.4444444444444444,
              "#bd3786"
             ],
             [
              0.5555555555555556,
              "#d8576b"
             ],
             [
              0.6666666666666666,
              "#ed7953"
             ],
             [
              0.7777777777777778,
              "#fb9f3a"
             ],
             [
              0.8888888888888888,
              "#fdca26"
             ],
             [
              1,
              "#f0f921"
             ]
            ],
            "type": "heatmap"
           }
          ],
          "heatmapgl": [
           {
            "colorbar": {
             "outlinewidth": 0,
             "ticks": ""
            },
            "colorscale": [
             [
              0,
              "#0d0887"
             ],
             [
              0.1111111111111111,
              "#46039f"
             ],
             [
              0.2222222222222222,
              "#7201a8"
             ],
             [
              0.3333333333333333,
              "#9c179e"
             ],
             [
              0.4444444444444444,
              "#bd3786"
             ],
             [
              0.5555555555555556,
              "#d8576b"
             ],
             [
              0.6666666666666666,
              "#ed7953"
             ],
             [
              0.7777777777777778,
              "#fb9f3a"
             ],
             [
              0.8888888888888888,
              "#fdca26"
             ],
             [
              1,
              "#f0f921"
             ]
            ],
            "type": "heatmapgl"
           }
          ],
          "histogram": [
           {
            "marker": {
             "colorbar": {
              "outlinewidth": 0,
              "ticks": ""
             }
            },
            "type": "histogram"
           }
          ],
          "histogram2d": [
           {
            "colorbar": {
             "outlinewidth": 0,
             "ticks": ""
            },
            "colorscale": [
             [
              0,
              "#0d0887"
             ],
             [
              0.1111111111111111,
              "#46039f"
             ],
             [
              0.2222222222222222,
              "#7201a8"
             ],
             [
              0.3333333333333333,
              "#9c179e"
             ],
             [
              0.4444444444444444,
              "#bd3786"
             ],
             [
              0.5555555555555556,
              "#d8576b"
             ],
             [
              0.6666666666666666,
              "#ed7953"
             ],
             [
              0.7777777777777778,
              "#fb9f3a"
             ],
             [
              0.8888888888888888,
              "#fdca26"
             ],
             [
              1,
              "#f0f921"
             ]
            ],
            "type": "histogram2d"
           }
          ],
          "histogram2dcontour": [
           {
            "colorbar": {
             "outlinewidth": 0,
             "ticks": ""
            },
            "colorscale": [
             [
              0,
              "#0d0887"
             ],
             [
              0.1111111111111111,
              "#46039f"
             ],
             [
              0.2222222222222222,
              "#7201a8"
             ],
             [
              0.3333333333333333,
              "#9c179e"
             ],
             [
              0.4444444444444444,
              "#bd3786"
             ],
             [
              0.5555555555555556,
              "#d8576b"
             ],
             [
              0.6666666666666666,
              "#ed7953"
             ],
             [
              0.7777777777777778,
              "#fb9f3a"
             ],
             [
              0.8888888888888888,
              "#fdca26"
             ],
             [
              1,
              "#f0f921"
             ]
            ],
            "type": "histogram2dcontour"
           }
          ],
          "mesh3d": [
           {
            "colorbar": {
             "outlinewidth": 0,
             "ticks": ""
            },
            "type": "mesh3d"
           }
          ],
          "parcoords": [
           {
            "line": {
             "colorbar": {
              "outlinewidth": 0,
              "ticks": ""
             }
            },
            "type": "parcoords"
           }
          ],
          "pie": [
           {
            "automargin": true,
            "type": "pie"
           }
          ],
          "scatter": [
           {
            "marker": {
             "colorbar": {
              "outlinewidth": 0,
              "ticks": ""
             }
            },
            "type": "scatter"
           }
          ],
          "scatter3d": [
           {
            "line": {
             "colorbar": {
              "outlinewidth": 0,
              "ticks": ""
             }
            },
            "marker": {
             "colorbar": {
              "outlinewidth": 0,
              "ticks": ""
             }
            },
            "type": "scatter3d"
           }
          ],
          "scattercarpet": [
           {
            "marker": {
             "colorbar": {
              "outlinewidth": 0,
              "ticks": ""
             }
            },
            "type": "scattercarpet"
           }
          ],
          "scattergeo": [
           {
            "marker": {
             "colorbar": {
              "outlinewidth": 0,
              "ticks": ""
             }
            },
            "type": "scattergeo"
           }
          ],
          "scattergl": [
           {
            "marker": {
             "colorbar": {
              "outlinewidth": 0,
              "ticks": ""
             }
            },
            "type": "scattergl"
           }
          ],
          "scattermapbox": [
           {
            "marker": {
             "colorbar": {
              "outlinewidth": 0,
              "ticks": ""
             }
            },
            "type": "scattermapbox"
           }
          ],
          "scatterpolar": [
           {
            "marker": {
             "colorbar": {
              "outlinewidth": 0,
              "ticks": ""
             }
            },
            "type": "scatterpolar"
           }
          ],
          "scatterpolargl": [
           {
            "marker": {
             "colorbar": {
              "outlinewidth": 0,
              "ticks": ""
             }
            },
            "type": "scatterpolargl"
           }
          ],
          "scatterternary": [
           {
            "marker": {
             "colorbar": {
              "outlinewidth": 0,
              "ticks": ""
             }
            },
            "type": "scatterternary"
           }
          ],
          "surface": [
           {
            "colorbar": {
             "outlinewidth": 0,
             "ticks": ""
            },
            "colorscale": [
             [
              0,
              "#0d0887"
             ],
             [
              0.1111111111111111,
              "#46039f"
             ],
             [
              0.2222222222222222,
              "#7201a8"
             ],
             [
              0.3333333333333333,
              "#9c179e"
             ],
             [
              0.4444444444444444,
              "#bd3786"
             ],
             [
              0.5555555555555556,
              "#d8576b"
             ],
             [
              0.6666666666666666,
              "#ed7953"
             ],
             [
              0.7777777777777778,
              "#fb9f3a"
             ],
             [
              0.8888888888888888,
              "#fdca26"
             ],
             [
              1,
              "#f0f921"
             ]
            ],
            "type": "surface"
           }
          ],
          "table": [
           {
            "cells": {
             "fill": {
              "color": "#EBF0F8"
             },
             "line": {
              "color": "white"
             }
            },
            "header": {
             "fill": {
              "color": "#C8D4E3"
             },
             "line": {
              "color": "white"
             }
            },
            "type": "table"
           }
          ]
         },
         "layout": {
          "annotationdefaults": {
           "arrowcolor": "#2a3f5f",
           "arrowhead": 0,
           "arrowwidth": 1
          },
          "coloraxis": {
           "colorbar": {
            "outlinewidth": 0,
            "ticks": ""
           }
          },
          "colorscale": {
           "diverging": [
            [
             0,
             "#8e0152"
            ],
            [
             0.1,
             "#c51b7d"
            ],
            [
             0.2,
             "#de77ae"
            ],
            [
             0.3,
             "#f1b6da"
            ],
            [
             0.4,
             "#fde0ef"
            ],
            [
             0.5,
             "#f7f7f7"
            ],
            [
             0.6,
             "#e6f5d0"
            ],
            [
             0.7,
             "#b8e186"
            ],
            [
             0.8,
             "#7fbc41"
            ],
            [
             0.9,
             "#4d9221"
            ],
            [
             1,
             "#276419"
            ]
           ],
           "sequential": [
            [
             0,
             "#0d0887"
            ],
            [
             0.1111111111111111,
             "#46039f"
            ],
            [
             0.2222222222222222,
             "#7201a8"
            ],
            [
             0.3333333333333333,
             "#9c179e"
            ],
            [
             0.4444444444444444,
             "#bd3786"
            ],
            [
             0.5555555555555556,
             "#d8576b"
            ],
            [
             0.6666666666666666,
             "#ed7953"
            ],
            [
             0.7777777777777778,
             "#fb9f3a"
            ],
            [
             0.8888888888888888,
             "#fdca26"
            ],
            [
             1,
             "#f0f921"
            ]
           ],
           "sequentialminus": [
            [
             0,
             "#0d0887"
            ],
            [
             0.1111111111111111,
             "#46039f"
            ],
            [
             0.2222222222222222,
             "#7201a8"
            ],
            [
             0.3333333333333333,
             "#9c179e"
            ],
            [
             0.4444444444444444,
             "#bd3786"
            ],
            [
             0.5555555555555556,
             "#d8576b"
            ],
            [
             0.6666666666666666,
             "#ed7953"
            ],
            [
             0.7777777777777778,
             "#fb9f3a"
            ],
            [
             0.8888888888888888,
             "#fdca26"
            ],
            [
             1,
             "#f0f921"
            ]
           ]
          },
          "colorway": [
           "#636efa",
           "#EF553B",
           "#00cc96",
           "#ab63fa",
           "#FFA15A",
           "#19d3f3",
           "#FF6692",
           "#B6E880",
           "#FF97FF",
           "#FECB52"
          ],
          "font": {
           "color": "#2a3f5f"
          },
          "geo": {
           "bgcolor": "white",
           "lakecolor": "white",
           "landcolor": "#E5ECF6",
           "showlakes": true,
           "showland": true,
           "subunitcolor": "white"
          },
          "hoverlabel": {
           "align": "left"
          },
          "hovermode": "closest",
          "mapbox": {
           "style": "light"
          },
          "paper_bgcolor": "white",
          "plot_bgcolor": "#E5ECF6",
          "polar": {
           "angularaxis": {
            "gridcolor": "white",
            "linecolor": "white",
            "ticks": ""
           },
           "bgcolor": "#E5ECF6",
           "radialaxis": {
            "gridcolor": "white",
            "linecolor": "white",
            "ticks": ""
           }
          },
          "scene": {
           "xaxis": {
            "backgroundcolor": "#E5ECF6",
            "gridcolor": "white",
            "gridwidth": 2,
            "linecolor": "white",
            "showbackground": true,
            "ticks": "",
            "zerolinecolor": "white"
           },
           "yaxis": {
            "backgroundcolor": "#E5ECF6",
            "gridcolor": "white",
            "gridwidth": 2,
            "linecolor": "white",
            "showbackground": true,
            "ticks": "",
            "zerolinecolor": "white"
           },
           "zaxis": {
            "backgroundcolor": "#E5ECF6",
            "gridcolor": "white",
            "gridwidth": 2,
            "linecolor": "white",
            "showbackground": true,
            "ticks": "",
            "zerolinecolor": "white"
           }
          },
          "shapedefaults": {
           "line": {
            "color": "#2a3f5f"
           }
          },
          "ternary": {
           "aaxis": {
            "gridcolor": "white",
            "linecolor": "white",
            "ticks": ""
           },
           "baxis": {
            "gridcolor": "white",
            "linecolor": "white",
            "ticks": ""
           },
           "bgcolor": "#E5ECF6",
           "caxis": {
            "gridcolor": "white",
            "linecolor": "white",
            "ticks": ""
           }
          },
          "title": {
           "x": 0.05
          },
          "xaxis": {
           "automargin": true,
           "gridcolor": "white",
           "linecolor": "white",
           "ticks": "",
           "title": {
            "standoff": 15
           },
           "zerolinecolor": "white",
           "zerolinewidth": 2
          },
          "yaxis": {
           "automargin": true,
           "gridcolor": "white",
           "linecolor": "white",
           "ticks": "",
           "title": {
            "standoff": 15
           },
           "zerolinecolor": "white",
           "zerolinewidth": 2
          }
         }
        },
        "xaxis": {
         "anchor": "y",
         "domain": [
          0,
          1
         ],
         "title": {
          "text": "UCHAZECU_NA_JEDNO_MISTO"
         }
        },
        "yaxis": {
         "anchor": "x",
         "domain": [
          0,
          1
         ],
         "title": {
          "text": "MIN_CERMAT"
         }
        }
       }
      },
      "text/html": [
       "<div>                            <div id=\"f3f8aa6f-2747-4344-a6ce-b8d582c3fa2a\" class=\"plotly-graph-div\" style=\"height:525px; width:100%;\"></div>            <script type=\"text/javascript\">                require([\"plotly\"], function(Plotly) {                    window.PLOTLYENV=window.PLOTLYENV || {};                                    if (document.getElementById(\"f3f8aa6f-2747-4344-a6ce-b8d582c3fa2a\")) {                    Plotly.newPlot(                        \"f3f8aa6f-2747-4344-a6ce-b8d582c3fa2a\",                        [{\"customdata\": [[\"Gymn\\u00e1zium Bud\\u011bjovick\\u00e1\", 2017], [\"Gymn\\u00e1zium Eli\\u0161ky Kr\\u00e1snohorsk\\u00e9\", 2017], [\"Gymn\\u00e1zium Hlivick\\u00e1\", 2017], [\"Gymn\\u00e1zium J.G.Jarkovsk\\u00e9ho\", 2017], [\"Gymn\\u00e1zium Jaroslava Heyrovsk\\u00e9ho\", 2017], [\"Gymn\\u00e1zium Karla Sladkovsk\\u00e9ho\", 2017], [\"Gymn\\u00e1zium Litom\\u011b\\u0159ick\\u00e1\", 2017], [\"Gymn\\u00e1zium Nad Alej\\u00ed\", 2017], [\"Gymn\\u00e1zium P\\u00edsnick\\u00e1\", 2017], [\"Gymn\\u00e1zium \\u010ceskolipsk\\u00e1\", 2017], [\"Gymn\\u00e1zium \\u0160pit\\u00e1lsk\\u00e1\", 2017], [\"Malostransk\\u00e9 gymn\\u00e1zium\", 2017], [\"Gymn\\u00e1zium Bud\\u011bjovick\\u00e1\", 2018], [\"Gymn\\u00e1zium Christiana Dopplera - jazykov\\u00e1 t\\u0159\\u00edda\", 2018], [\"Gymn\\u00e1zium Christiana Dopplera - matematick\\u00e1 t\\u0159\\u00edda\", 2018], [\"Gymn\\u00e1zium Eli\\u0161ky Kr\\u00e1snohorsk\\u00e9\", 2018], [\"Gymn\\u00e1zium Hlivick\\u00e1\", 2018], [\"Gymn\\u00e1zium J.G.Jarkovsk\\u00e9ho\", 2018], [\"Gymn\\u00e1zium Karla Sladkovsk\\u00e9ho\", 2018], [\"Gymn\\u00e1zium Litom\\u011b\\u0159ick\\u00e1\", 2018], [\"Gymn\\u00e1zium Nad Alej\\u00ed\", 2018], [\"Gymn\\u00e1zium P\\u00edsnick\\u00e1\", 2018], [\"Gymn\\u00e1zium \\u010ceskolipsk\\u00e1\", 2018], [\"Gymn\\u00e1zium \\u0160pit\\u00e1lsk\\u00e1\", 2018], [\"Malostransk\\u00e9 gymn\\u00e1zium\", 2018], [\"Gymn\\u00e1zium Bud\\u011bjovick\\u00e1\", 2019], [\"Gymn\\u00e1zium Christiana Dopplera - jazykov\\u00e1 t\\u0159\\u00edda\", 2019], [\"Gymn\\u00e1zium Christiana Dopplera - matematick\\u00e1 t\\u0159\\u00edda\", 2019], [\"Gymn\\u00e1zium Eli\\u0161ky Kr\\u00e1snohorsk\\u00e9\", 2019], [\"Gymn\\u00e1zium Hlivick\\u00e1\", 2019], [\"Gymn\\u00e1zium J.G.Jarkovsk\\u00e9ho\", 2019], [\"Gymn\\u00e1zium Karla Sladkovsk\\u00e9ho\", 2019], [\"Gymn\\u00e1zium Nad Alej\\u00ed\", 2019], [\"Gymn\\u00e1zium P\\u00edsnick\\u00e1\", 2019], [\"Gymn\\u00e1zium \\u010ceskolipsk\\u00e1\", 2019], [\"Gymn\\u00e1zium \\u0160pit\\u00e1lsk\\u00e1\", 2019], [\"Malostransk\\u00e9 gymn\\u00e1zium\", 2019], [\"Gymn\\u00e1zium Bud\\u011bjovick\\u00e1\", 2020], [\"Gymn\\u00e1zium Christiana Dopplera - jazykov\\u00e1 t\\u0159\\u00edda\", 2020], [\"Gymn\\u00e1zium Christiana Dopplera - matematick\\u00e1 t\\u0159\\u00edda\", 2020], [\"Gymn\\u00e1zium Eli\\u0161ky Kr\\u00e1snohorsk\\u00e9\", 2020], [\"Gymn\\u00e1zium Hlivick\\u00e1\", 2020], [\"Gymn\\u00e1zium J.G.Jarkovsk\\u00e9ho\", 2020], [\"Gymn\\u00e1zium Karla Sladkovsk\\u00e9ho\", 2020], [\"Gymn\\u00e1zium Nad Alej\\u00ed\", 2020], [\"Gymn\\u00e1zium P\\u00edsnick\\u00e1\", 2020], [\"Gymn\\u00e1zium \\u010ceskolipsk\\u00e1\", 2020], [\"Gymn\\u00e1zium \\u0160pit\\u00e1lsk\\u00e1\", 2020], [\"Malostransk\\u00e9 gymn\\u00e1zium\", 2020]], \"hovertemplate\": \"IS_SCHOOL_EXAM=0.5<br>UCHAZECU_NA_JEDNO_MISTO=%{x}<br>MIN_CERMAT=%{y}<br>SCHOOL_NAME=%{customdata[0]}<br>YEAR=%{customdata[1]}<extra></extra>\", \"legendgroup\": \"0.5\", \"marker\": {\"color\": \"#636efa\", \"symbol\": \"circle\"}, \"mode\": \"markers\", \"name\": \"0.5\", \"orientation\": \"v\", \"showlegend\": true, \"type\": \"scatter\", \"x\": [7.56, 7.66, 5.2, 4.41, 4.74, 2.28, 6.27, 7.4, 8.89, 6.11, 8.44, 8.28, 6.42, 5.07, 6.45, 7.11, 5.95, 4.62, 3.6, 7.54, 7.21, 8.81, 8.28, 7.27, 7.27, 6.6, 5.54, 6.21, 6.94, 5.61, 5.23, 2.82, 7.23, 8.96, 4.29, 7.72, 10.58, 7.3, 5.96, 6.47, 6.59, 5.0, 5.5, 3.62, 6.8, 10.63, 5.62, 7.72, 7.58], \"xaxis\": \"x\", \"y\": [73.0, 67.0, 72.0, 65.0, 64.0, 52.0, 67.0, 75.0, 72.0, 71.0, 79.0, 71.0, 61.0, 58.0, 66.0, 61.0, 63.0, 59.0, 51.0, 58.0, 67.0, 61.0, 59.0, 71.0, 63.0, 64.0, 59.0, 72.0, 60.0, 64.0, 60.0, 50.0, 72.0, 62.0, 64.0, 73.0, 74.0, 73.0, 74.0, 74.0, 66.0, 72.0, 69.0, 59.0, 76.0, 76.0, 69.0, 78.0, 77.0], \"yaxis\": \"y\"}, {\"hovertemplate\": \"<b>OLS trendline</b><br>MIN_CERMAT = 2.31312 * UCHAZECU_NA_JEDNO_MISTO + 51.516<br>R<sup>2</sup>=0.317062<br><br>IS_SCHOOL_EXAM=0.5<br>UCHAZECU_NA_JEDNO_MISTO=%{x}<br>MIN_CERMAT=%{y} <b>(trend)</b><extra></extra>\", \"legendgroup\": \"0.5\", \"marker\": {\"color\": \"#636efa\", \"symbol\": \"circle\"}, \"mode\": \"lines\", \"name\": \"0.5\", \"showlegend\": false, \"type\": \"scatter\", \"x\": [2.28, 2.82, 3.6, 3.62, 4.29, 4.41, 4.62, 4.74, 5.0, 5.07, 5.2, 5.23, 5.5, 5.54, 5.61, 5.62, 5.95, 5.96, 6.11, 6.21, 6.27, 6.42, 6.45, 6.47, 6.59, 6.6, 6.8, 6.94, 7.11, 7.21, 7.23, 7.27, 7.27, 7.3, 7.4, 7.54, 7.56, 7.58, 7.66, 7.72, 7.72, 8.28, 8.28, 8.44, 8.81, 8.89, 8.96, 10.58, 10.63], \"xaxis\": \"x\", \"y\": [56.78989151737199, 58.038973921775465, 59.84320406146937, 59.88946637274358, 61.43925380042936, 61.71682766807458, 62.20258193645371, 62.48015580409893, 63.08156585066356, 63.24348394012327, 63.54418896340559, 63.613582430316896, 64.23812363251862, 64.33064825506703, 64.49256634452675, 64.51569750016384, 65.2790256361882, 65.3021567918253, 65.6491241263818, 65.88043568275282, 66.01922261657543, 66.36618995113196, 66.43558341804325, 66.48184572931746, 66.75941959696267, 66.78255075259978, 67.2451738653418, 67.56901004426122, 67.96223969009195, 68.19355124646296, 68.23981355773716, 68.33233818028556, 68.33233818028556, 68.40173164719687, 68.6330432035679, 68.9568793824873, 69.0031416937615, 69.04940400503571, 69.23445325013252, 69.37324018395512, 69.37324018395512, 70.6685848996328, 70.6685848996328, 71.03868338982642, 71.89453614839917, 72.07958539349599, 72.2415034829557, 75.98875069616611, 76.10440647435162], \"yaxis\": \"y\"}, {\"customdata\": [[\"Gymn\\u00e1zium Jana Keplera\", 2017], [\"Gymn\\u00e1zium Nad Kaval\\u00edrkou\", 2017], [\"Gymn\\u00e1zium Nad \\u0160tolou\", 2017], [\"Gymn\\u00e1zium Omsk\\u00e1\", 2017], [\"Gymn\\u00e1zium Opatov\", 2017], [\"Gymn\\u00e1zium Vod\\u011bradsk\\u00e1\", 2017], [\"Gymn\\u00e1zium prof. Jana Pato\\u010dky\", 2017], [\"Gymn\\u00e1zium Jana Keplera\", 2018], [\"Gymn\\u00e1zium Jaroslava Heyrovsk\\u00e9ho\", 2018], [\"Gymn\\u00e1zium Nad Kaval\\u00edrkou\", 2018], [\"Gymn\\u00e1zium Nad \\u0160tolou\", 2018], [\"Gymn\\u00e1zium Omsk\\u00e1\", 2018], [\"Gymn\\u00e1zium Opatov\", 2018], [\"Gymn\\u00e1zium Vod\\u011bradsk\\u00e1\", 2018], [\"Gymn\\u00e1zium prof. Jana Pato\\u010dky\", 2018], [\"Gymn\\u00e1zium Jana Keplera\", 2019], [\"Gymn\\u00e1zium Jaroslava Heyrovsk\\u00e9ho\", 2019], [\"Gymn\\u00e1zium Nad Kaval\\u00edrkou\", 2019], [\"Gymn\\u00e1zium Nad \\u0160tolou\", 2019], [\"Gymn\\u00e1zium Omsk\\u00e1\", 2019], [\"Gymn\\u00e1zium Opatov\", 2019], [\"Gymn\\u00e1zium Vod\\u011bradsk\\u00e1\", 2019], [\"Gymn\\u00e1zium prof. Jana Pato\\u010dky\", 2019], [\"Gymn\\u00e1zium Jana Keplera\", 2020], [\"Gymn\\u00e1zium Jaroslava Heyrovsk\\u00e9ho\", 2020], [\"Gymn\\u00e1zium Nad Kaval\\u00edrkou\", 2020], [\"Gymn\\u00e1zium Nad \\u0160tolou\", 2020], [\"Gymn\\u00e1zium Omsk\\u00e1\", 2020], [\"Gymn\\u00e1zium Opatov\", 2020], [\"Gymn\\u00e1zium Vod\\u011bradsk\\u00e1\", 2020], [\"Gymn\\u00e1zium prof. Jana Pato\\u010dky\", 2020]], \"hovertemplate\": \"IS_SCHOOL_EXAM=1.0<br>UCHAZECU_NA_JEDNO_MISTO=%{x}<br>MIN_CERMAT=%{y}<br>SCHOOL_NAME=%{customdata[0]}<br>YEAR=%{customdata[1]}<extra></extra>\", \"legendgroup\": \"1.0\", \"marker\": {\"color\": \"#EF553B\", \"symbol\": \"circle\"}, \"mode\": \"markers\", \"name\": \"1.0\", \"orientation\": \"v\", \"showlegend\": true, \"type\": \"scatter\", \"x\": [7.29, 4.19, 5.66, 4.75, 7.28, 5.7, 5.19, 7.32, 5.75, 6.4, 6.78, 4.94, 6.35, 6.14, 6.19, 6.5, 4.84, 6.89, 6.34, 5.13, 6.62, 6.31, 6.64, 6.7, 4.74, 7.08, 5.14, 5.46, 5.71, 8.0, 6.91], \"xaxis\": \"x\", \"y\": [81.0, 60.0, 64.0, 62.0, 60.0, 58.0, 66.0, 76.0, 61.0, 61.0, 61.0, 54.0, 52.0, 56.0, 59.0, 72.0, 57.0, 64.0, 63.0, 59.0, 61.0, 59.0, 61.0, 78.0, 57.0, 61.0, 70.0, 61.0, 66.0, 71.0, 71.0], \"yaxis\": \"y\"}, {\"hovertemplate\": \"<b>OLS trendline</b><br>MIN_CERMAT = 3.41702 * UCHAZECU_NA_JEDNO_MISTO + 42.4641<br>R<sup>2</sup>=0.210833<br><br>IS_SCHOOL_EXAM=1.0<br>UCHAZECU_NA_JEDNO_MISTO=%{x}<br>MIN_CERMAT=%{y} <b>(trend)</b><extra></extra>\", \"legendgroup\": \"1.0\", \"marker\": {\"color\": \"#EF553B\", \"symbol\": \"circle\"}, \"mode\": \"lines\", \"name\": \"1.0\", \"showlegend\": false, \"type\": \"scatter\", \"x\": [4.19, 4.74, 4.75, 4.84, 4.94, 5.13, 5.14, 5.19, 5.46, 5.66, 5.7, 5.71, 5.75, 6.14, 6.19, 6.31, 6.34, 6.35, 6.4, 6.5, 6.62, 6.64, 6.7, 6.78, 6.89, 6.91, 7.08, 7.28, 7.29, 7.32, 8.0], \"xaxis\": \"x\", \"y\": [56.781452415302724, 58.66081289488086, 58.69498308541864, 59.0025148002587, 59.34421670563654, 59.99345032585444, 60.02762051639223, 60.198471469081156, 61.12106661360133, 61.80447042435701, 61.94115118650815, 61.97532137704593, 62.11200213919707, 63.44463957017065, 63.615490522859574, 64.02553280931298, 64.12804338092634, 64.16221357146412, 64.33306452415304, 64.67476642953089, 65.0848087159843, 65.15314909705987, 65.35817024028657, 65.63153176458884, 66.00740386050447, 66.07574424158004, 66.65663748072237, 67.34004129147806, 67.37421148201585, 67.4767220536292, 69.80029501019852], \"yaxis\": \"y\"}],                        {\"legend\": {\"title\": {\"text\": \"IS_SCHOOL_EXAM\"}, \"tracegroupgap\": 0}, \"margin\": {\"t\": 60}, \"template\": {\"data\": {\"bar\": [{\"error_x\": {\"color\": \"#2a3f5f\"}, \"error_y\": {\"color\": \"#2a3f5f\"}, \"marker\": {\"line\": {\"color\": \"#E5ECF6\", \"width\": 0.5}}, \"type\": \"bar\"}], \"barpolar\": [{\"marker\": {\"line\": {\"color\": \"#E5ECF6\", \"width\": 0.5}}, \"type\": \"barpolar\"}], \"carpet\": [{\"aaxis\": {\"endlinecolor\": \"#2a3f5f\", \"gridcolor\": \"white\", \"linecolor\": \"white\", \"minorgridcolor\": \"white\", \"startlinecolor\": \"#2a3f5f\"}, \"baxis\": {\"endlinecolor\": \"#2a3f5f\", \"gridcolor\": \"white\", \"linecolor\": \"white\", \"minorgridcolor\": \"white\", \"startlinecolor\": \"#2a3f5f\"}, \"type\": \"carpet\"}], \"choropleth\": [{\"colorbar\": {\"outlinewidth\": 0, \"ticks\": \"\"}, \"type\": \"choropleth\"}], \"contour\": [{\"colorbar\": {\"outlinewidth\": 0, \"ticks\": \"\"}, \"colorscale\": [[0.0, \"#0d0887\"], [0.1111111111111111, \"#46039f\"], [0.2222222222222222, \"#7201a8\"], [0.3333333333333333, \"#9c179e\"], [0.4444444444444444, \"#bd3786\"], [0.5555555555555556, \"#d8576b\"], [0.6666666666666666, \"#ed7953\"], [0.7777777777777778, \"#fb9f3a\"], [0.8888888888888888, \"#fdca26\"], [1.0, \"#f0f921\"]], \"type\": \"contour\"}], \"contourcarpet\": [{\"colorbar\": {\"outlinewidth\": 0, \"ticks\": \"\"}, \"type\": \"contourcarpet\"}], \"heatmap\": [{\"colorbar\": {\"outlinewidth\": 0, \"ticks\": \"\"}, \"colorscale\": [[0.0, \"#0d0887\"], [0.1111111111111111, \"#46039f\"], [0.2222222222222222, \"#7201a8\"], [0.3333333333333333, \"#9c179e\"], [0.4444444444444444, \"#bd3786\"], [0.5555555555555556, \"#d8576b\"], [0.6666666666666666, \"#ed7953\"], [0.7777777777777778, \"#fb9f3a\"], [0.8888888888888888, \"#fdca26\"], [1.0, \"#f0f921\"]], \"type\": \"heatmap\"}], \"heatmapgl\": [{\"colorbar\": {\"outlinewidth\": 0, \"ticks\": \"\"}, \"colorscale\": [[0.0, \"#0d0887\"], [0.1111111111111111, \"#46039f\"], [0.2222222222222222, \"#7201a8\"], [0.3333333333333333, \"#9c179e\"], [0.4444444444444444, \"#bd3786\"], [0.5555555555555556, \"#d8576b\"], [0.6666666666666666, \"#ed7953\"], [0.7777777777777778, \"#fb9f3a\"], [0.8888888888888888, \"#fdca26\"], [1.0, \"#f0f921\"]], \"type\": \"heatmapgl\"}], \"histogram\": [{\"marker\": {\"colorbar\": {\"outlinewidth\": 0, \"ticks\": \"\"}}, \"type\": \"histogram\"}], \"histogram2d\": [{\"colorbar\": {\"outlinewidth\": 0, \"ticks\": \"\"}, \"colorscale\": [[0.0, \"#0d0887\"], [0.1111111111111111, \"#46039f\"], [0.2222222222222222, \"#7201a8\"], [0.3333333333333333, \"#9c179e\"], [0.4444444444444444, \"#bd3786\"], [0.5555555555555556, \"#d8576b\"], [0.6666666666666666, \"#ed7953\"], [0.7777777777777778, \"#fb9f3a\"], [0.8888888888888888, \"#fdca26\"], [1.0, \"#f0f921\"]], \"type\": \"histogram2d\"}], \"histogram2dcontour\": [{\"colorbar\": {\"outlinewidth\": 0, \"ticks\": \"\"}, \"colorscale\": [[0.0, \"#0d0887\"], [0.1111111111111111, \"#46039f\"], [0.2222222222222222, \"#7201a8\"], [0.3333333333333333, \"#9c179e\"], [0.4444444444444444, \"#bd3786\"], [0.5555555555555556, \"#d8576b\"], [0.6666666666666666, \"#ed7953\"], [0.7777777777777778, \"#fb9f3a\"], [0.8888888888888888, \"#fdca26\"], [1.0, \"#f0f921\"]], \"type\": \"histogram2dcontour\"}], \"mesh3d\": [{\"colorbar\": {\"outlinewidth\": 0, \"ticks\": \"\"}, \"type\": \"mesh3d\"}], \"parcoords\": [{\"line\": {\"colorbar\": {\"outlinewidth\": 0, \"ticks\": \"\"}}, \"type\": \"parcoords\"}], \"pie\": [{\"automargin\": true, \"type\": \"pie\"}], \"scatter\": [{\"marker\": {\"colorbar\": {\"outlinewidth\": 0, \"ticks\": \"\"}}, \"type\": \"scatter\"}], \"scatter3d\": [{\"line\": {\"colorbar\": {\"outlinewidth\": 0, \"ticks\": \"\"}}, \"marker\": {\"colorbar\": {\"outlinewidth\": 0, \"ticks\": \"\"}}, \"type\": \"scatter3d\"}], \"scattercarpet\": [{\"marker\": {\"colorbar\": {\"outlinewidth\": 0, \"ticks\": \"\"}}, \"type\": \"scattercarpet\"}], \"scattergeo\": [{\"marker\": {\"colorbar\": {\"outlinewidth\": 0, \"ticks\": \"\"}}, \"type\": \"scattergeo\"}], \"scattergl\": [{\"marker\": {\"colorbar\": {\"outlinewidth\": 0, \"ticks\": \"\"}}, \"type\": \"scattergl\"}], \"scattermapbox\": [{\"marker\": {\"colorbar\": {\"outlinewidth\": 0, \"ticks\": \"\"}}, \"type\": \"scattermapbox\"}], \"scatterpolar\": [{\"marker\": {\"colorbar\": {\"outlinewidth\": 0, \"ticks\": \"\"}}, \"type\": \"scatterpolar\"}], \"scatterpolargl\": [{\"marker\": {\"colorbar\": {\"outlinewidth\": 0, \"ticks\": \"\"}}, \"type\": \"scatterpolargl\"}], \"scatterternary\": [{\"marker\": {\"colorbar\": {\"outlinewidth\": 0, \"ticks\": \"\"}}, \"type\": \"scatterternary\"}], \"surface\": [{\"colorbar\": {\"outlinewidth\": 0, \"ticks\": \"\"}, \"colorscale\": [[0.0, \"#0d0887\"], [0.1111111111111111, \"#46039f\"], [0.2222222222222222, \"#7201a8\"], [0.3333333333333333, \"#9c179e\"], [0.4444444444444444, \"#bd3786\"], [0.5555555555555556, \"#d8576b\"], [0.6666666666666666, \"#ed7953\"], [0.7777777777777778, \"#fb9f3a\"], [0.8888888888888888, \"#fdca26\"], [1.0, \"#f0f921\"]], \"type\": \"surface\"}], \"table\": [{\"cells\": {\"fill\": {\"color\": \"#EBF0F8\"}, \"line\": {\"color\": \"white\"}}, \"header\": {\"fill\": {\"color\": \"#C8D4E3\"}, \"line\": {\"color\": \"white\"}}, \"type\": \"table\"}]}, \"layout\": {\"annotationdefaults\": {\"arrowcolor\": \"#2a3f5f\", \"arrowhead\": 0, \"arrowwidth\": 1}, \"coloraxis\": {\"colorbar\": {\"outlinewidth\": 0, \"ticks\": \"\"}}, \"colorscale\": {\"diverging\": [[0, \"#8e0152\"], [0.1, \"#c51b7d\"], [0.2, \"#de77ae\"], [0.3, \"#f1b6da\"], [0.4, \"#fde0ef\"], [0.5, \"#f7f7f7\"], [0.6, \"#e6f5d0\"], [0.7, \"#b8e186\"], [0.8, \"#7fbc41\"], [0.9, \"#4d9221\"], [1, \"#276419\"]], \"sequential\": [[0.0, \"#0d0887\"], [0.1111111111111111, \"#46039f\"], [0.2222222222222222, \"#7201a8\"], [0.3333333333333333, \"#9c179e\"], [0.4444444444444444, \"#bd3786\"], [0.5555555555555556, \"#d8576b\"], [0.6666666666666666, \"#ed7953\"], [0.7777777777777778, \"#fb9f3a\"], [0.8888888888888888, \"#fdca26\"], [1.0, \"#f0f921\"]], \"sequentialminus\": [[0.0, \"#0d0887\"], [0.1111111111111111, \"#46039f\"], [0.2222222222222222, \"#7201a8\"], [0.3333333333333333, \"#9c179e\"], [0.4444444444444444, \"#bd3786\"], [0.5555555555555556, \"#d8576b\"], [0.6666666666666666, \"#ed7953\"], [0.7777777777777778, \"#fb9f3a\"], [0.8888888888888888, \"#fdca26\"], [1.0, \"#f0f921\"]]}, \"colorway\": [\"#636efa\", \"#EF553B\", \"#00cc96\", \"#ab63fa\", \"#FFA15A\", \"#19d3f3\", \"#FF6692\", \"#B6E880\", \"#FF97FF\", \"#FECB52\"], \"font\": {\"color\": \"#2a3f5f\"}, \"geo\": {\"bgcolor\": \"white\", \"lakecolor\": \"white\", \"landcolor\": \"#E5ECF6\", \"showlakes\": true, \"showland\": true, \"subunitcolor\": \"white\"}, \"hoverlabel\": {\"align\": \"left\"}, \"hovermode\": \"closest\", \"mapbox\": {\"style\": \"light\"}, \"paper_bgcolor\": \"white\", \"plot_bgcolor\": \"#E5ECF6\", \"polar\": {\"angularaxis\": {\"gridcolor\": \"white\", \"linecolor\": \"white\", \"ticks\": \"\"}, \"bgcolor\": \"#E5ECF6\", \"radialaxis\": {\"gridcolor\": \"white\", \"linecolor\": \"white\", \"ticks\": \"\"}}, \"scene\": {\"xaxis\": {\"backgroundcolor\": \"#E5ECF6\", \"gridcolor\": \"white\", \"gridwidth\": 2, \"linecolor\": \"white\", \"showbackground\": true, \"ticks\": \"\", \"zerolinecolor\": \"white\"}, \"yaxis\": {\"backgroundcolor\": \"#E5ECF6\", \"gridcolor\": \"white\", \"gridwidth\": 2, \"linecolor\": \"white\", \"showbackground\": true, \"ticks\": \"\", \"zerolinecolor\": \"white\"}, \"zaxis\": {\"backgroundcolor\": \"#E5ECF6\", \"gridcolor\": \"white\", \"gridwidth\": 2, \"linecolor\": \"white\", \"showbackground\": true, \"ticks\": \"\", \"zerolinecolor\": \"white\"}}, \"shapedefaults\": {\"line\": {\"color\": \"#2a3f5f\"}}, \"ternary\": {\"aaxis\": {\"gridcolor\": \"white\", \"linecolor\": \"white\", \"ticks\": \"\"}, \"baxis\": {\"gridcolor\": \"white\", \"linecolor\": \"white\", \"ticks\": \"\"}, \"bgcolor\": \"#E5ECF6\", \"caxis\": {\"gridcolor\": \"white\", \"linecolor\": \"white\", \"ticks\": \"\"}}, \"title\": {\"x\": 0.05}, \"xaxis\": {\"automargin\": true, \"gridcolor\": \"white\", \"linecolor\": \"white\", \"ticks\": \"\", \"title\": {\"standoff\": 15}, \"zerolinecolor\": \"white\", \"zerolinewidth\": 2}, \"yaxis\": {\"automargin\": true, \"gridcolor\": \"white\", \"linecolor\": \"white\", \"ticks\": \"\", \"title\": {\"standoff\": 15}, \"zerolinecolor\": \"white\", \"zerolinewidth\": 2}}}, \"xaxis\": {\"anchor\": \"y\", \"domain\": [0.0, 1.0], \"title\": {\"text\": \"UCHAZECU_NA_JEDNO_MISTO\"}}, \"yaxis\": {\"anchor\": \"x\", \"domain\": [0.0, 1.0], \"title\": {\"text\": \"MIN_CERMAT\"}}},                        {\"responsive\": true}                    ).then(function(){\n",
       "                            \n",
       "var gd = document.getElementById('f3f8aa6f-2747-4344-a6ce-b8d582c3fa2a');\n",
       "var x = new MutationObserver(function (mutations, observer) {{\n",
       "        var display = window.getComputedStyle(gd).display;\n",
       "        if (!display || display === 'none') {{\n",
       "            console.log([gd, 'removed!']);\n",
       "            Plotly.purge(gd);\n",
       "            observer.disconnect();\n",
       "        }}\n",
       "}});\n",
       "\n",
       "// Listen for the removal of the full notebook cells\n",
       "var notebookContainer = gd.closest('#notebook-container');\n",
       "if (notebookContainer) {{\n",
       "    x.observe(notebookContainer, {childList: true});\n",
       "}}\n",
       "\n",
       "// Listen for the clearing of the current output cell\n",
       "var outputEl = gd.closest('.output');\n",
       "if (outputEl) {{\n",
       "    x.observe(outputEl, {childList: true});\n",
       "}}\n",
       "\n",
       "                        })                };                });            </script>        </div>"
      ]
     },
     "metadata": {},
     "output_type": "display_data"
    }
   ],
   "source": [
    "fig3 = px.scatter(dataset_no_hudebni\n",
    "                  #.query(f'YEAR=={year}')\n",
    "                  , x=\"UCHAZECU_NA_JEDNO_MISTO\", y='MIN_CERMAT', \n",
    "                hover_data=['SCHOOL_NAME', 'YEAR'], \n",
    "                 trendline=\"ols\",  \n",
    "                color=\"IS_SCHOOL_EXAM\", \n",
    "                 #color=\"clusters54\"\n",
    "                 )\n",
    "fig3.show()"
   ]
  },
  {
   "cell_type": "markdown",
   "metadata": {},
   "source": [
    "#### Minimální úspěšnost vs váha Cermatu"
   ]
  },
  {
   "cell_type": "code",
   "execution_count": 112,
   "metadata": {},
   "outputs": [
    {
     "data": {
      "application/vnd.plotly.v1+json": {
       "config": {
        "plotlyServerURL": "https://plot.ly"
       },
       "data": [
        {
         "customdata": [
          [
           "Gymnázium Budějovická",
           2017
          ],
          [
           "Gymnázium Elišky Krásnohorské",
           2017
          ],
          [
           "Gymnázium Hlivická",
           2017
          ],
          [
           "Gymnázium J.G.Jarkovského",
           2017
          ],
          [
           "Gymnázium Jaroslava Heyrovského",
           2017
          ],
          [
           "Gymnázium Nad Alejí",
           2017
          ],
          [
           "Gymnázium Písnická",
           2017
          ],
          [
           "Gymnázium prof. Jana Patočky",
           2017
          ],
          [
           "Gymnázium Českolipská",
           2017
          ],
          [
           "Gymnázium Špitálská",
           2017
          ],
          [
           "Malostranské gymnázium",
           2017
          ],
          [
           "Gymnázium Nad Alejí",
           2018
          ],
          [
           "Gymnázium Špitálská",
           2018
          ],
          [
           "Malostranské gymnázium",
           2018
          ],
          [
           "Gymnázium Christiana Dopplera - matematická třída",
           2019
          ],
          [
           "Gymnázium Nad Alejí",
           2019
          ],
          [
           "Gymnázium Českolipská",
           2019
          ],
          [
           "Gymnázium Špitálská",
           2019
          ],
          [
           "Malostranské gymnázium",
           2019
          ],
          [
           "Gymnázium Budějovická",
           2020
          ],
          [
           "Gymnázium Christiana Dopplera - jazyková třída",
           2020
          ],
          [
           "Gymnázium Christiana Dopplera - matematická třída",
           2020
          ],
          [
           "Gymnázium Elišky Krásnohorské",
           2020
          ],
          [
           "Gymnázium Hlivická",
           2020
          ],
          [
           "Gymnázium J.G.Jarkovského",
           2020
          ],
          [
           "Gymnázium Nad Alejí",
           2020
          ],
          [
           "Gymnázium Písnická",
           2020
          ],
          [
           "Gymnázium prof. Jana Patočky",
           2020
          ],
          [
           "Gymnázium Českolipská",
           2020
          ],
          [
           "Gymnázium Špitálská",
           2020
          ],
          [
           "Malostranské gymnázium",
           2020
          ]
         ],
         "hovertemplate": "clusters54=1<br>PROCENTA_CERMAT=%{x}<br>MIN_CERMAT=%{y}<br>SCHOOL_NAME=%{customdata[0]}<br>YEAR=%{customdata[1]}<extra></extra>",
         "legendgroup": "1",
         "marker": {
          "color": "#636efa",
          "symbol": "circle"
         },
         "mode": "markers",
         "name": "1",
         "orientation": "v",
         "showlegend": true,
         "type": "scatter",
         "x": [
          82.64,
          84.74,
          78.74,
          86.96,
          89.28,
          89.28,
          81.96,
          83.34,
          95.24,
          85.72,
          97.08,
          89.28,
          87.8,
          95.24,
          80.75,
          89.28,
          95.24,
          87.8,
          90.9,
          82.64,
          80.75,
          80.75,
          84.74,
          78.74,
          86.96,
          89.28,
          80.64,
          83.34,
          95.24,
          87.8,
          90.9
         ],
         "xaxis": "x",
         "y": [
          73,
          67,
          72,
          65,
          64,
          75,
          72,
          66,
          71,
          79,
          71,
          67,
          71,
          63,
          72,
          72,
          64,
          73,
          74,
          73,
          74,
          74,
          66,
          72,
          69,
          76,
          76,
          71,
          69,
          78,
          77
         ],
         "yaxis": "y"
        },
        {
         "hovertemplate": "<b>OLS trendline</b><br>MIN_CERMAT = -0.223955 * PROCENTA_CERMAT + 90.6169<br>R<sup>2</sup>=0.075959<br><br>clusters54=1<br>PROCENTA_CERMAT=%{x}<br>MIN_CERMAT=%{y} <b>(trend)</b><extra></extra>",
         "legendgroup": "1",
         "marker": {
          "color": "#636efa",
          "symbol": "circle"
         },
         "mode": "lines",
         "name": "1",
         "showlegend": false,
         "type": "scatter",
         "x": [
          78.74,
          78.74,
          80.64,
          80.75,
          80.75,
          80.75,
          81.96,
          82.64,
          82.64,
          83.34,
          83.34,
          84.74,
          84.74,
          85.72,
          86.96,
          86.96,
          87.8,
          87.8,
          87.8,
          89.28,
          89.28,
          89.28,
          89.28,
          89.28,
          90.9,
          90.9,
          95.24,
          95.24,
          95.24,
          95.24,
          97.08
         ],
         "xaxis": "x",
         "y": [
          72.9826256621336,
          72.9826256621336,
          72.55711040490593,
          72.53247531106642,
          72.53247531106642,
          72.53247531106642,
          72.26148927883196,
          72.10919960782415,
          72.10919960782415,
          71.95243082884554,
          71.95243082884554,
          71.6388932708883,
          71.6388932708883,
          71.41941698031823,
          71.14171228612753,
          71.14171228612753,
          70.95358975135318,
          70.95358975135318,
          70.95358975135318,
          70.62213576151268,
          70.62213576151268,
          70.62213576151268,
          70.62213576151268,
          70.62213576151268,
          70.25932801587643,
          70.25932801587643,
          69.287361586209,
          69.287361586209,
          69.287361586209,
          69.287361586209,
          68.87528365289377
         ],
         "yaxis": "y"
        },
        {
         "customdata": [
          [
           "Gymnázium Jana Keplera",
           2017
          ],
          [
           "Gymnázium Jana Keplera",
           2018
          ],
          [
           "Gymnázium Jana Keplera",
           2019
          ],
          [
           "Gymnázium Jana Keplera",
           2020
          ],
          [
           "Gymnázium Nad Štolou",
           2020
          ],
          [
           "Gymnázium Voděradská",
           2020
          ]
         ],
         "hovertemplate": "clusters54=0<br>PROCENTA_CERMAT=%{x}<br>MIN_CERMAT=%{y}<br>SCHOOL_NAME=%{customdata[0]}<br>YEAR=%{customdata[1]}<extra></extra>",
         "legendgroup": "0",
         "marker": {
          "color": "#EF553B",
          "symbol": "circle"
         },
         "mode": "markers",
         "name": "0",
         "orientation": "v",
         "showlegend": true,
         "type": "scatter",
         "x": [
          60.6,
          60.6,
          60.6,
          60.6,
          70.92,
          73.52
         ],
         "xaxis": "x",
         "y": [
          81,
          76,
          72,
          78,
          70,
          71
         ],
         "yaxis": "y"
        },
        {
         "hovertemplate": "<b>OLS trendline</b><br>MIN_CERMAT = -0.520866 * PROCENTA_CERMAT + 108.249<br>R<sup>2</sup>=0.521959<br><br>clusters54=0<br>PROCENTA_CERMAT=%{x}<br>MIN_CERMAT=%{y} <b>(trend)</b><extra></extra>",
         "legendgroup": "0",
         "marker": {
          "color": "#EF553B",
          "symbol": "circle"
         },
         "mode": "lines",
         "name": "0",
         "showlegend": false,
         "type": "scatter",
         "x": [
          60.6,
          60.6,
          60.6,
          60.6,
          70.92,
          73.52
         ],
         "xaxis": "x",
         "y": [
          76.68415390006068,
          76.68415390006068,
          76.68415390006068,
          76.68415390006068,
          71.30881786341033,
          69.95456653634727
         ],
         "yaxis": "y"
        },
        {
         "customdata": [
          [
           "Gymnázium Karla Sladkovského",
           2017
          ],
          [
           "Gymnázium Litoměřická",
           2017
          ],
          [
           "Gymnázium Budějovická",
           2018
          ],
          [
           "Gymnázium Christiana Dopplera - jazyková třída",
           2018
          ],
          [
           "Gymnázium Christiana Dopplera - matematická třída",
           2018
          ],
          [
           "Gymnázium Elišky Krásnohorské",
           2018
          ],
          [
           "Gymnázium Hlivická",
           2018
          ],
          [
           "Gymnázium J.G.Jarkovského",
           2018
          ],
          [
           "Gymnázium Karla Sladkovského",
           2018
          ],
          [
           "Gymnázium Litoměřická",
           2018
          ],
          [
           "Gymnázium Písnická",
           2018
          ],
          [
           "Gymnázium prof. Jana Patočky",
           2018
          ],
          [
           "Gymnázium Českolipská",
           2018
          ],
          [
           "Gymnázium Budějovická",
           2019
          ],
          [
           "Gymnázium Christiana Dopplera - jazyková třída",
           2019
          ],
          [
           "Gymnázium Elišky Krásnohorské",
           2019
          ],
          [
           "Gymnázium Hlivická",
           2019
          ],
          [
           "Gymnázium J.G.Jarkovského",
           2019
          ],
          [
           "Gymnázium Karla Sladkovského",
           2019
          ],
          [
           "Gymnázium Písnická",
           2019
          ],
          [
           "Gymnázium prof. Jana Patočky",
           2019
          ],
          [
           "Gymnázium Karla Sladkovského",
           2020
          ]
         ],
         "hovertemplate": "clusters54=2<br>PROCENTA_CERMAT=%{x}<br>MIN_CERMAT=%{y}<br>SCHOOL_NAME=%{customdata[0]}<br>YEAR=%{customdata[1]}<extra></extra>",
         "legendgroup": "2",
         "marker": {
          "color": "#00cc96",
          "symbol": "circle"
         },
         "mode": "markers",
         "name": "2",
         "orientation": "v",
         "showlegend": true,
         "type": "scatter",
         "x": [
          76.92,
          75.48,
          82.64,
          80.75,
          80.75,
          84.74,
          78.74,
          86.96,
          76.92,
          75.48,
          81.96,
          83.34,
          95.24,
          82.64,
          80.75,
          84.74,
          78.74,
          86.96,
          76.92,
          81.96,
          83.34,
          76.92
         ],
         "xaxis": "x",
         "y": [
          52,
          67,
          61,
          58,
          66,
          61,
          63,
          59,
          51,
          58,
          61,
          59,
          59,
          64,
          59,
          60,
          64,
          60,
          50,
          62,
          61,
          59
         ],
         "yaxis": "y"
        },
        {
         "hovertemplate": "<b>OLS trendline</b><br>MIN_CERMAT = 0.149522 * PROCENTA_CERMAT + 47.542<br>R<sup>2</sup>=0.025916<br><br>clusters54=2<br>PROCENTA_CERMAT=%{x}<br>MIN_CERMAT=%{y} <b>(trend)</b><extra></extra>",
         "legendgroup": "2",
         "marker": {
          "color": "#00cc96",
          "symbol": "circle"
         },
         "mode": "lines",
         "name": "2",
         "showlegend": false,
         "type": "scatter",
         "x": [
          75.48,
          75.48,
          76.92,
          76.92,
          76.92,
          76.92,
          78.74,
          78.74,
          80.75,
          80.75,
          80.75,
          81.96,
          81.96,
          82.64,
          82.64,
          83.34,
          83.34,
          84.74,
          84.74,
          86.96,
          86.96,
          95.24
         ],
         "xaxis": "x",
         "y": [
          58.8278968817769,
          58.8278968817769,
          59.043208804888124,
          59.043208804888124,
          59.043208804888124,
          59.043208804888124,
          59.31533915215369,
          59.31533915215369,
          59.615878711496435,
          59.615878711496435,
          59.615878711496435,
          59.79680053577739,
          59.79680053577739,
          59.89847561057991,
          59.89847561057991,
          60.003141128758976,
          60.003141128758976,
          60.212472165117106,
          60.212472165117106,
          60.54441137991357,
          60.54441137991357,
          61.78245493780308
         ],
         "yaxis": "y"
        },
        {
         "customdata": [
          [
           "Gymnázium Nad Kavalírkou",
           2017
          ],
          [
           "Gymnázium Nad Štolou",
           2017
          ],
          [
           "Gymnázium Omská",
           2017
          ],
          [
           "Gymnázium Opatov",
           2017
          ],
          [
           "Gymnázium Voděradská",
           2017
          ],
          [
           "Gymnázium Jaroslava Heyrovského",
           2018
          ],
          [
           "Gymnázium Nad Kavalírkou",
           2018
          ],
          [
           "Gymnázium Nad Štolou",
           2018
          ],
          [
           "Gymnázium Omská",
           2018
          ],
          [
           "Gymnázium Opatov",
           2018
          ],
          [
           "Gymnázium Voděradská",
           2018
          ],
          [
           "Gymnázium Jaroslava Heyrovského",
           2019
          ],
          [
           "Gymnázium Nad Kavalírkou",
           2019
          ],
          [
           "Gymnázium Nad Štolou",
           2019
          ],
          [
           "Gymnázium Omská",
           2019
          ],
          [
           "Gymnázium Opatov",
           2019
          ],
          [
           "Gymnázium Voděradská",
           2019
          ],
          [
           "Gymnázium Jaroslava Heyrovského",
           2020
          ],
          [
           "Gymnázium Nad Kavalírkou",
           2020
          ],
          [
           "Gymnázium Omská",
           2020
          ],
          [
           "Gymnázium Opatov",
           2020
          ]
         ],
         "hovertemplate": "clusters54=3<br>PROCENTA_CERMAT=%{x}<br>MIN_CERMAT=%{y}<br>SCHOOL_NAME=%{customdata[0]}<br>YEAR=%{customdata[1]}<extra></extra>",
         "legendgroup": "3",
         "marker": {
          "color": "#ab63fa",
          "symbol": "circle"
         },
         "mode": "markers",
         "name": "3",
         "orientation": "v",
         "showlegend": true,
         "type": "scatter",
         "x": [
          65.78,
          66.22,
          62.5,
          60.24,
          68.96,
          61.72,
          65.78,
          70.42,
          62.5,
          60.24,
          73.52,
          61.72,
          65.78,
          70.92,
          62.5,
          60.24,
          73.52,
          61.72,
          65.78,
          62.5,
          60.24
         ],
         "xaxis": "x",
         "y": [
          60,
          64,
          62,
          60,
          58,
          61,
          61,
          61,
          54,
          52,
          56,
          57,
          64,
          63,
          59,
          61,
          59,
          57,
          61,
          61,
          66
         ],
         "yaxis": "y"
        },
        {
         "hovertemplate": "<b>OLS trendline</b><br>MIN_CERMAT = 0.0346679 * PROCENTA_CERMAT + 57.6074<br>R<sup>2</sup>=0.001999<br><br>clusters54=3<br>PROCENTA_CERMAT=%{x}<br>MIN_CERMAT=%{y} <b>(trend)</b><extra></extra>",
         "legendgroup": "3",
         "marker": {
          "color": "#ab63fa",
          "symbol": "circle"
         },
         "mode": "lines",
         "name": "3",
         "showlegend": false,
         "type": "scatter",
         "x": [
          60.24,
          60.24,
          60.24,
          60.24,
          61.72,
          61.72,
          61.72,
          62.5,
          62.5,
          62.5,
          62.5,
          65.78,
          65.78,
          65.78,
          65.78,
          66.22,
          68.96,
          70.42,
          70.92,
          73.52,
          73.52
         ],
         "xaxis": "x",
         "y": [
          59.69575558307398,
          59.69575558307398,
          59.69575558307398,
          59.69575558307398,
          59.74706405768589,
          59.74706405768589,
          59.74706405768589,
          59.77410501052189,
          59.77410501052189,
          59.77410501052189,
          59.77410501052189,
          59.88781568398612,
          59.88781568398612,
          59.88781568398612,
          59.88781568398612,
          59.90306955481668,
          59.99805956862521,
          60.04867468547209,
          60.06600862959773,
          60.156145139051084,
          60.156145139051084
         ],
         "yaxis": "y"
        }
       ],
       "layout": {
        "legend": {
         "title": {
          "text": "clusters54"
         },
         "tracegroupgap": 0
        },
        "margin": {
         "t": 60
        },
        "template": {
         "data": {
          "bar": [
           {
            "error_x": {
             "color": "#2a3f5f"
            },
            "error_y": {
             "color": "#2a3f5f"
            },
            "marker": {
             "line": {
              "color": "#E5ECF6",
              "width": 0.5
             }
            },
            "type": "bar"
           }
          ],
          "barpolar": [
           {
            "marker": {
             "line": {
              "color": "#E5ECF6",
              "width": 0.5
             }
            },
            "type": "barpolar"
           }
          ],
          "carpet": [
           {
            "aaxis": {
             "endlinecolor": "#2a3f5f",
             "gridcolor": "white",
             "linecolor": "white",
             "minorgridcolor": "white",
             "startlinecolor": "#2a3f5f"
            },
            "baxis": {
             "endlinecolor": "#2a3f5f",
             "gridcolor": "white",
             "linecolor": "white",
             "minorgridcolor": "white",
             "startlinecolor": "#2a3f5f"
            },
            "type": "carpet"
           }
          ],
          "choropleth": [
           {
            "colorbar": {
             "outlinewidth": 0,
             "ticks": ""
            },
            "type": "choropleth"
           }
          ],
          "contour": [
           {
            "colorbar": {
             "outlinewidth": 0,
             "ticks": ""
            },
            "colorscale": [
             [
              0,
              "#0d0887"
             ],
             [
              0.1111111111111111,
              "#46039f"
             ],
             [
              0.2222222222222222,
              "#7201a8"
             ],
             [
              0.3333333333333333,
              "#9c179e"
             ],
             [
              0.4444444444444444,
              "#bd3786"
             ],
             [
              0.5555555555555556,
              "#d8576b"
             ],
             [
              0.6666666666666666,
              "#ed7953"
             ],
             [
              0.7777777777777778,
              "#fb9f3a"
             ],
             [
              0.8888888888888888,
              "#fdca26"
             ],
             [
              1,
              "#f0f921"
             ]
            ],
            "type": "contour"
           }
          ],
          "contourcarpet": [
           {
            "colorbar": {
             "outlinewidth": 0,
             "ticks": ""
            },
            "type": "contourcarpet"
           }
          ],
          "heatmap": [
           {
            "colorbar": {
             "outlinewidth": 0,
             "ticks": ""
            },
            "colorscale": [
             [
              0,
              "#0d0887"
             ],
             [
              0.1111111111111111,
              "#46039f"
             ],
             [
              0.2222222222222222,
              "#7201a8"
             ],
             [
              0.3333333333333333,
              "#9c179e"
             ],
             [
              0.4444444444444444,
              "#bd3786"
             ],
             [
              0.5555555555555556,
              "#d8576b"
             ],
             [
              0.6666666666666666,
              "#ed7953"
             ],
             [
              0.7777777777777778,
              "#fb9f3a"
             ],
             [
              0.8888888888888888,
              "#fdca26"
             ],
             [
              1,
              "#f0f921"
             ]
            ],
            "type": "heatmap"
           }
          ],
          "heatmapgl": [
           {
            "colorbar": {
             "outlinewidth": 0,
             "ticks": ""
            },
            "colorscale": [
             [
              0,
              "#0d0887"
             ],
             [
              0.1111111111111111,
              "#46039f"
             ],
             [
              0.2222222222222222,
              "#7201a8"
             ],
             [
              0.3333333333333333,
              "#9c179e"
             ],
             [
              0.4444444444444444,
              "#bd3786"
             ],
             [
              0.5555555555555556,
              "#d8576b"
             ],
             [
              0.6666666666666666,
              "#ed7953"
             ],
             [
              0.7777777777777778,
              "#fb9f3a"
             ],
             [
              0.8888888888888888,
              "#fdca26"
             ],
             [
              1,
              "#f0f921"
             ]
            ],
            "type": "heatmapgl"
           }
          ],
          "histogram": [
           {
            "marker": {
             "colorbar": {
              "outlinewidth": 0,
              "ticks": ""
             }
            },
            "type": "histogram"
           }
          ],
          "histogram2d": [
           {
            "colorbar": {
             "outlinewidth": 0,
             "ticks": ""
            },
            "colorscale": [
             [
              0,
              "#0d0887"
             ],
             [
              0.1111111111111111,
              "#46039f"
             ],
             [
              0.2222222222222222,
              "#7201a8"
             ],
             [
              0.3333333333333333,
              "#9c179e"
             ],
             [
              0.4444444444444444,
              "#bd3786"
             ],
             [
              0.5555555555555556,
              "#d8576b"
             ],
             [
              0.6666666666666666,
              "#ed7953"
             ],
             [
              0.7777777777777778,
              "#fb9f3a"
             ],
             [
              0.8888888888888888,
              "#fdca26"
             ],
             [
              1,
              "#f0f921"
             ]
            ],
            "type": "histogram2d"
           }
          ],
          "histogram2dcontour": [
           {
            "colorbar": {
             "outlinewidth": 0,
             "ticks": ""
            },
            "colorscale": [
             [
              0,
              "#0d0887"
             ],
             [
              0.1111111111111111,
              "#46039f"
             ],
             [
              0.2222222222222222,
              "#7201a8"
             ],
             [
              0.3333333333333333,
              "#9c179e"
             ],
             [
              0.4444444444444444,
              "#bd3786"
             ],
             [
              0.5555555555555556,
              "#d8576b"
             ],
             [
              0.6666666666666666,
              "#ed7953"
             ],
             [
              0.7777777777777778,
              "#fb9f3a"
             ],
             [
              0.8888888888888888,
              "#fdca26"
             ],
             [
              1,
              "#f0f921"
             ]
            ],
            "type": "histogram2dcontour"
           }
          ],
          "mesh3d": [
           {
            "colorbar": {
             "outlinewidth": 0,
             "ticks": ""
            },
            "type": "mesh3d"
           }
          ],
          "parcoords": [
           {
            "line": {
             "colorbar": {
              "outlinewidth": 0,
              "ticks": ""
             }
            },
            "type": "parcoords"
           }
          ],
          "pie": [
           {
            "automargin": true,
            "type": "pie"
           }
          ],
          "scatter": [
           {
            "marker": {
             "colorbar": {
              "outlinewidth": 0,
              "ticks": ""
             }
            },
            "type": "scatter"
           }
          ],
          "scatter3d": [
           {
            "line": {
             "colorbar": {
              "outlinewidth": 0,
              "ticks": ""
             }
            },
            "marker": {
             "colorbar": {
              "outlinewidth": 0,
              "ticks": ""
             }
            },
            "type": "scatter3d"
           }
          ],
          "scattercarpet": [
           {
            "marker": {
             "colorbar": {
              "outlinewidth": 0,
              "ticks": ""
             }
            },
            "type": "scattercarpet"
           }
          ],
          "scattergeo": [
           {
            "marker": {
             "colorbar": {
              "outlinewidth": 0,
              "ticks": ""
             }
            },
            "type": "scattergeo"
           }
          ],
          "scattergl": [
           {
            "marker": {
             "colorbar": {
              "outlinewidth": 0,
              "ticks": ""
             }
            },
            "type": "scattergl"
           }
          ],
          "scattermapbox": [
           {
            "marker": {
             "colorbar": {
              "outlinewidth": 0,
              "ticks": ""
             }
            },
            "type": "scattermapbox"
           }
          ],
          "scatterpolar": [
           {
            "marker": {
             "colorbar": {
              "outlinewidth": 0,
              "ticks": ""
             }
            },
            "type": "scatterpolar"
           }
          ],
          "scatterpolargl": [
           {
            "marker": {
             "colorbar": {
              "outlinewidth": 0,
              "ticks": ""
             }
            },
            "type": "scatterpolargl"
           }
          ],
          "scatterternary": [
           {
            "marker": {
             "colorbar": {
              "outlinewidth": 0,
              "ticks": ""
             }
            },
            "type": "scatterternary"
           }
          ],
          "surface": [
           {
            "colorbar": {
             "outlinewidth": 0,
             "ticks": ""
            },
            "colorscale": [
             [
              0,
              "#0d0887"
             ],
             [
              0.1111111111111111,
              "#46039f"
             ],
             [
              0.2222222222222222,
              "#7201a8"
             ],
             [
              0.3333333333333333,
              "#9c179e"
             ],
             [
              0.4444444444444444,
              "#bd3786"
             ],
             [
              0.5555555555555556,
              "#d8576b"
             ],
             [
              0.6666666666666666,
              "#ed7953"
             ],
             [
              0.7777777777777778,
              "#fb9f3a"
             ],
             [
              0.8888888888888888,
              "#fdca26"
             ],
             [
              1,
              "#f0f921"
             ]
            ],
            "type": "surface"
           }
          ],
          "table": [
           {
            "cells": {
             "fill": {
              "color": "#EBF0F8"
             },
             "line": {
              "color": "white"
             }
            },
            "header": {
             "fill": {
              "color": "#C8D4E3"
             },
             "line": {
              "color": "white"
             }
            },
            "type": "table"
           }
          ]
         },
         "layout": {
          "annotationdefaults": {
           "arrowcolor": "#2a3f5f",
           "arrowhead": 0,
           "arrowwidth": 1
          },
          "coloraxis": {
           "colorbar": {
            "outlinewidth": 0,
            "ticks": ""
           }
          },
          "colorscale": {
           "diverging": [
            [
             0,
             "#8e0152"
            ],
            [
             0.1,
             "#c51b7d"
            ],
            [
             0.2,
             "#de77ae"
            ],
            [
             0.3,
             "#f1b6da"
            ],
            [
             0.4,
             "#fde0ef"
            ],
            [
             0.5,
             "#f7f7f7"
            ],
            [
             0.6,
             "#e6f5d0"
            ],
            [
             0.7,
             "#b8e186"
            ],
            [
             0.8,
             "#7fbc41"
            ],
            [
             0.9,
             "#4d9221"
            ],
            [
             1,
             "#276419"
            ]
           ],
           "sequential": [
            [
             0,
             "#0d0887"
            ],
            [
             0.1111111111111111,
             "#46039f"
            ],
            [
             0.2222222222222222,
             "#7201a8"
            ],
            [
             0.3333333333333333,
             "#9c179e"
            ],
            [
             0.4444444444444444,
             "#bd3786"
            ],
            [
             0.5555555555555556,
             "#d8576b"
            ],
            [
             0.6666666666666666,
             "#ed7953"
            ],
            [
             0.7777777777777778,
             "#fb9f3a"
            ],
            [
             0.8888888888888888,
             "#fdca26"
            ],
            [
             1,
             "#f0f921"
            ]
           ],
           "sequentialminus": [
            [
             0,
             "#0d0887"
            ],
            [
             0.1111111111111111,
             "#46039f"
            ],
            [
             0.2222222222222222,
             "#7201a8"
            ],
            [
             0.3333333333333333,
             "#9c179e"
            ],
            [
             0.4444444444444444,
             "#bd3786"
            ],
            [
             0.5555555555555556,
             "#d8576b"
            ],
            [
             0.6666666666666666,
             "#ed7953"
            ],
            [
             0.7777777777777778,
             "#fb9f3a"
            ],
            [
             0.8888888888888888,
             "#fdca26"
            ],
            [
             1,
             "#f0f921"
            ]
           ]
          },
          "colorway": [
           "#636efa",
           "#EF553B",
           "#00cc96",
           "#ab63fa",
           "#FFA15A",
           "#19d3f3",
           "#FF6692",
           "#B6E880",
           "#FF97FF",
           "#FECB52"
          ],
          "font": {
           "color": "#2a3f5f"
          },
          "geo": {
           "bgcolor": "white",
           "lakecolor": "white",
           "landcolor": "#E5ECF6",
           "showlakes": true,
           "showland": true,
           "subunitcolor": "white"
          },
          "hoverlabel": {
           "align": "left"
          },
          "hovermode": "closest",
          "mapbox": {
           "style": "light"
          },
          "paper_bgcolor": "white",
          "plot_bgcolor": "#E5ECF6",
          "polar": {
           "angularaxis": {
            "gridcolor": "white",
            "linecolor": "white",
            "ticks": ""
           },
           "bgcolor": "#E5ECF6",
           "radialaxis": {
            "gridcolor": "white",
            "linecolor": "white",
            "ticks": ""
           }
          },
          "scene": {
           "xaxis": {
            "backgroundcolor": "#E5ECF6",
            "gridcolor": "white",
            "gridwidth": 2,
            "linecolor": "white",
            "showbackground": true,
            "ticks": "",
            "zerolinecolor": "white"
           },
           "yaxis": {
            "backgroundcolor": "#E5ECF6",
            "gridcolor": "white",
            "gridwidth": 2,
            "linecolor": "white",
            "showbackground": true,
            "ticks": "",
            "zerolinecolor": "white"
           },
           "zaxis": {
            "backgroundcolor": "#E5ECF6",
            "gridcolor": "white",
            "gridwidth": 2,
            "linecolor": "white",
            "showbackground": true,
            "ticks": "",
            "zerolinecolor": "white"
           }
          },
          "shapedefaults": {
           "line": {
            "color": "#2a3f5f"
           }
          },
          "ternary": {
           "aaxis": {
            "gridcolor": "white",
            "linecolor": "white",
            "ticks": ""
           },
           "baxis": {
            "gridcolor": "white",
            "linecolor": "white",
            "ticks": ""
           },
           "bgcolor": "#E5ECF6",
           "caxis": {
            "gridcolor": "white",
            "linecolor": "white",
            "ticks": ""
           }
          },
          "title": {
           "x": 0.05
          },
          "xaxis": {
           "automargin": true,
           "gridcolor": "white",
           "linecolor": "white",
           "ticks": "",
           "title": {
            "standoff": 15
           },
           "zerolinecolor": "white",
           "zerolinewidth": 2
          },
          "yaxis": {
           "automargin": true,
           "gridcolor": "white",
           "linecolor": "white",
           "ticks": "",
           "title": {
            "standoff": 15
           },
           "zerolinecolor": "white",
           "zerolinewidth": 2
          }
         }
        },
        "xaxis": {
         "anchor": "y",
         "domain": [
          0,
          1
         ],
         "title": {
          "text": "PROCENTA_CERMAT"
         }
        },
        "yaxis": {
         "anchor": "x",
         "domain": [
          0,
          1
         ],
         "title": {
          "text": "MIN_CERMAT"
         }
        }
       }
      },
      "text/html": [
       "<div>                            <div id=\"07da29d5-6d21-485e-be24-742b9e4f0fba\" class=\"plotly-graph-div\" style=\"height:525px; width:100%;\"></div>            <script type=\"text/javascript\">                require([\"plotly\"], function(Plotly) {                    window.PLOTLYENV=window.PLOTLYENV || {};                                    if (document.getElementById(\"07da29d5-6d21-485e-be24-742b9e4f0fba\")) {                    Plotly.newPlot(                        \"07da29d5-6d21-485e-be24-742b9e4f0fba\",                        [{\"customdata\": [[\"Gymn\\u00e1zium Bud\\u011bjovick\\u00e1\", 2017], [\"Gymn\\u00e1zium Eli\\u0161ky Kr\\u00e1snohorsk\\u00e9\", 2017], [\"Gymn\\u00e1zium Hlivick\\u00e1\", 2017], [\"Gymn\\u00e1zium J.G.Jarkovsk\\u00e9ho\", 2017], [\"Gymn\\u00e1zium Jaroslava Heyrovsk\\u00e9ho\", 2017], [\"Gymn\\u00e1zium Nad Alej\\u00ed\", 2017], [\"Gymn\\u00e1zium P\\u00edsnick\\u00e1\", 2017], [\"Gymn\\u00e1zium prof. Jana Pato\\u010dky\", 2017], [\"Gymn\\u00e1zium \\u010ceskolipsk\\u00e1\", 2017], [\"Gymn\\u00e1zium \\u0160pit\\u00e1lsk\\u00e1\", 2017], [\"Malostransk\\u00e9 gymn\\u00e1zium\", 2017], [\"Gymn\\u00e1zium Nad Alej\\u00ed\", 2018], [\"Gymn\\u00e1zium \\u0160pit\\u00e1lsk\\u00e1\", 2018], [\"Malostransk\\u00e9 gymn\\u00e1zium\", 2018], [\"Gymn\\u00e1zium Christiana Dopplera - matematick\\u00e1 t\\u0159\\u00edda\", 2019], [\"Gymn\\u00e1zium Nad Alej\\u00ed\", 2019], [\"Gymn\\u00e1zium \\u010ceskolipsk\\u00e1\", 2019], [\"Gymn\\u00e1zium \\u0160pit\\u00e1lsk\\u00e1\", 2019], [\"Malostransk\\u00e9 gymn\\u00e1zium\", 2019], [\"Gymn\\u00e1zium Bud\\u011bjovick\\u00e1\", 2020], [\"Gymn\\u00e1zium Christiana Dopplera - jazykov\\u00e1 t\\u0159\\u00edda\", 2020], [\"Gymn\\u00e1zium Christiana Dopplera - matematick\\u00e1 t\\u0159\\u00edda\", 2020], [\"Gymn\\u00e1zium Eli\\u0161ky Kr\\u00e1snohorsk\\u00e9\", 2020], [\"Gymn\\u00e1zium Hlivick\\u00e1\", 2020], [\"Gymn\\u00e1zium J.G.Jarkovsk\\u00e9ho\", 2020], [\"Gymn\\u00e1zium Nad Alej\\u00ed\", 2020], [\"Gymn\\u00e1zium P\\u00edsnick\\u00e1\", 2020], [\"Gymn\\u00e1zium prof. Jana Pato\\u010dky\", 2020], [\"Gymn\\u00e1zium \\u010ceskolipsk\\u00e1\", 2020], [\"Gymn\\u00e1zium \\u0160pit\\u00e1lsk\\u00e1\", 2020], [\"Malostransk\\u00e9 gymn\\u00e1zium\", 2020]], \"hovertemplate\": \"clusters54=1<br>PROCENTA_CERMAT=%{x}<br>MIN_CERMAT=%{y}<br>SCHOOL_NAME=%{customdata[0]}<br>YEAR=%{customdata[1]}<extra></extra>\", \"legendgroup\": \"1\", \"marker\": {\"color\": \"#636efa\", \"symbol\": \"circle\"}, \"mode\": \"markers\", \"name\": \"1\", \"orientation\": \"v\", \"showlegend\": true, \"type\": \"scatter\", \"x\": [82.64, 84.74, 78.74, 86.96, 89.28, 89.28, 81.96, 83.34, 95.24, 85.72, 97.08, 89.28, 87.8, 95.24, 80.75, 89.28, 95.24, 87.8, 90.9, 82.64, 80.75, 80.75, 84.74, 78.74, 86.96, 89.28, 80.64, 83.34, 95.24, 87.8, 90.9], \"xaxis\": \"x\", \"y\": [73.0, 67.0, 72.0, 65.0, 64.0, 75.0, 72.0, 66.0, 71.0, 79.0, 71.0, 67.0, 71.0, 63.0, 72.0, 72.0, 64.0, 73.0, 74.0, 73.0, 74.0, 74.0, 66.0, 72.0, 69.0, 76.0, 76.0, 71.0, 69.0, 78.0, 77.0], \"yaxis\": \"y\"}, {\"hovertemplate\": \"<b>OLS trendline</b><br>MIN_CERMAT = -0.223955 * PROCENTA_CERMAT + 90.6169<br>R<sup>2</sup>=0.075959<br><br>clusters54=1<br>PROCENTA_CERMAT=%{x}<br>MIN_CERMAT=%{y} <b>(trend)</b><extra></extra>\", \"legendgroup\": \"1\", \"marker\": {\"color\": \"#636efa\", \"symbol\": \"circle\"}, \"mode\": \"lines\", \"name\": \"1\", \"showlegend\": false, \"type\": \"scatter\", \"x\": [78.74, 78.74, 80.64, 80.75, 80.75, 80.75, 81.96, 82.64, 82.64, 83.34, 83.34, 84.74, 84.74, 85.72, 86.96, 86.96, 87.8, 87.8, 87.8, 89.28, 89.28, 89.28, 89.28, 89.28, 90.9, 90.9, 95.24, 95.24, 95.24, 95.24, 97.08], \"xaxis\": \"x\", \"y\": [72.9826256621336, 72.9826256621336, 72.55711040490593, 72.53247531106642, 72.53247531106642, 72.53247531106642, 72.26148927883196, 72.10919960782415, 72.10919960782415, 71.95243082884554, 71.95243082884554, 71.6388932708883, 71.6388932708883, 71.41941698031823, 71.14171228612753, 71.14171228612753, 70.95358975135318, 70.95358975135318, 70.95358975135318, 70.62213576151268, 70.62213576151268, 70.62213576151268, 70.62213576151268, 70.62213576151268, 70.25932801587643, 70.25932801587643, 69.287361586209, 69.287361586209, 69.287361586209, 69.287361586209, 68.87528365289377], \"yaxis\": \"y\"}, {\"customdata\": [[\"Gymn\\u00e1zium Jana Keplera\", 2017], [\"Gymn\\u00e1zium Jana Keplera\", 2018], [\"Gymn\\u00e1zium Jana Keplera\", 2019], [\"Gymn\\u00e1zium Jana Keplera\", 2020], [\"Gymn\\u00e1zium Nad \\u0160tolou\", 2020], [\"Gymn\\u00e1zium Vod\\u011bradsk\\u00e1\", 2020]], \"hovertemplate\": \"clusters54=0<br>PROCENTA_CERMAT=%{x}<br>MIN_CERMAT=%{y}<br>SCHOOL_NAME=%{customdata[0]}<br>YEAR=%{customdata[1]}<extra></extra>\", \"legendgroup\": \"0\", \"marker\": {\"color\": \"#EF553B\", \"symbol\": \"circle\"}, \"mode\": \"markers\", \"name\": \"0\", \"orientation\": \"v\", \"showlegend\": true, \"type\": \"scatter\", \"x\": [60.6, 60.6, 60.6, 60.6, 70.92, 73.52], \"xaxis\": \"x\", \"y\": [81.0, 76.0, 72.0, 78.0, 70.0, 71.0], \"yaxis\": \"y\"}, {\"hovertemplate\": \"<b>OLS trendline</b><br>MIN_CERMAT = -0.520866 * PROCENTA_CERMAT + 108.249<br>R<sup>2</sup>=0.521959<br><br>clusters54=0<br>PROCENTA_CERMAT=%{x}<br>MIN_CERMAT=%{y} <b>(trend)</b><extra></extra>\", \"legendgroup\": \"0\", \"marker\": {\"color\": \"#EF553B\", \"symbol\": \"circle\"}, \"mode\": \"lines\", \"name\": \"0\", \"showlegend\": false, \"type\": \"scatter\", \"x\": [60.6, 60.6, 60.6, 60.6, 70.92, 73.52], \"xaxis\": \"x\", \"y\": [76.68415390006068, 76.68415390006068, 76.68415390006068, 76.68415390006068, 71.30881786341033, 69.95456653634727], \"yaxis\": \"y\"}, {\"customdata\": [[\"Gymn\\u00e1zium Karla Sladkovsk\\u00e9ho\", 2017], [\"Gymn\\u00e1zium Litom\\u011b\\u0159ick\\u00e1\", 2017], [\"Gymn\\u00e1zium Bud\\u011bjovick\\u00e1\", 2018], [\"Gymn\\u00e1zium Christiana Dopplera - jazykov\\u00e1 t\\u0159\\u00edda\", 2018], [\"Gymn\\u00e1zium Christiana Dopplera - matematick\\u00e1 t\\u0159\\u00edda\", 2018], [\"Gymn\\u00e1zium Eli\\u0161ky Kr\\u00e1snohorsk\\u00e9\", 2018], [\"Gymn\\u00e1zium Hlivick\\u00e1\", 2018], [\"Gymn\\u00e1zium J.G.Jarkovsk\\u00e9ho\", 2018], [\"Gymn\\u00e1zium Karla Sladkovsk\\u00e9ho\", 2018], [\"Gymn\\u00e1zium Litom\\u011b\\u0159ick\\u00e1\", 2018], [\"Gymn\\u00e1zium P\\u00edsnick\\u00e1\", 2018], [\"Gymn\\u00e1zium prof. Jana Pato\\u010dky\", 2018], [\"Gymn\\u00e1zium \\u010ceskolipsk\\u00e1\", 2018], [\"Gymn\\u00e1zium Bud\\u011bjovick\\u00e1\", 2019], [\"Gymn\\u00e1zium Christiana Dopplera - jazykov\\u00e1 t\\u0159\\u00edda\", 2019], [\"Gymn\\u00e1zium Eli\\u0161ky Kr\\u00e1snohorsk\\u00e9\", 2019], [\"Gymn\\u00e1zium Hlivick\\u00e1\", 2019], [\"Gymn\\u00e1zium J.G.Jarkovsk\\u00e9ho\", 2019], [\"Gymn\\u00e1zium Karla Sladkovsk\\u00e9ho\", 2019], [\"Gymn\\u00e1zium P\\u00edsnick\\u00e1\", 2019], [\"Gymn\\u00e1zium prof. Jana Pato\\u010dky\", 2019], [\"Gymn\\u00e1zium Karla Sladkovsk\\u00e9ho\", 2020]], \"hovertemplate\": \"clusters54=2<br>PROCENTA_CERMAT=%{x}<br>MIN_CERMAT=%{y}<br>SCHOOL_NAME=%{customdata[0]}<br>YEAR=%{customdata[1]}<extra></extra>\", \"legendgroup\": \"2\", \"marker\": {\"color\": \"#00cc96\", \"symbol\": \"circle\"}, \"mode\": \"markers\", \"name\": \"2\", \"orientation\": \"v\", \"showlegend\": true, \"type\": \"scatter\", \"x\": [76.92, 75.48, 82.64, 80.75, 80.75, 84.74, 78.74, 86.96, 76.92, 75.48, 81.96, 83.34, 95.24, 82.64, 80.75, 84.74, 78.74, 86.96, 76.92, 81.96, 83.34, 76.92], \"xaxis\": \"x\", \"y\": [52.0, 67.0, 61.0, 58.0, 66.0, 61.0, 63.0, 59.0, 51.0, 58.0, 61.0, 59.0, 59.0, 64.0, 59.0, 60.0, 64.0, 60.0, 50.0, 62.0, 61.0, 59.0], \"yaxis\": \"y\"}, {\"hovertemplate\": \"<b>OLS trendline</b><br>MIN_CERMAT = 0.149522 * PROCENTA_CERMAT + 47.542<br>R<sup>2</sup>=0.025916<br><br>clusters54=2<br>PROCENTA_CERMAT=%{x}<br>MIN_CERMAT=%{y} <b>(trend)</b><extra></extra>\", \"legendgroup\": \"2\", \"marker\": {\"color\": \"#00cc96\", \"symbol\": \"circle\"}, \"mode\": \"lines\", \"name\": \"2\", \"showlegend\": false, \"type\": \"scatter\", \"x\": [75.48, 75.48, 76.92, 76.92, 76.92, 76.92, 78.74, 78.74, 80.75, 80.75, 80.75, 81.96, 81.96, 82.64, 82.64, 83.34, 83.34, 84.74, 84.74, 86.96, 86.96, 95.24], \"xaxis\": \"x\", \"y\": [58.8278968817769, 58.8278968817769, 59.043208804888124, 59.043208804888124, 59.043208804888124, 59.043208804888124, 59.31533915215369, 59.31533915215369, 59.615878711496435, 59.615878711496435, 59.615878711496435, 59.79680053577739, 59.79680053577739, 59.89847561057991, 59.89847561057991, 60.003141128758976, 60.003141128758976, 60.212472165117106, 60.212472165117106, 60.54441137991357, 60.54441137991357, 61.78245493780308], \"yaxis\": \"y\"}, {\"customdata\": [[\"Gymn\\u00e1zium Nad Kaval\\u00edrkou\", 2017], [\"Gymn\\u00e1zium Nad \\u0160tolou\", 2017], [\"Gymn\\u00e1zium Omsk\\u00e1\", 2017], [\"Gymn\\u00e1zium Opatov\", 2017], [\"Gymn\\u00e1zium Vod\\u011bradsk\\u00e1\", 2017], [\"Gymn\\u00e1zium Jaroslava Heyrovsk\\u00e9ho\", 2018], [\"Gymn\\u00e1zium Nad Kaval\\u00edrkou\", 2018], [\"Gymn\\u00e1zium Nad \\u0160tolou\", 2018], [\"Gymn\\u00e1zium Omsk\\u00e1\", 2018], [\"Gymn\\u00e1zium Opatov\", 2018], [\"Gymn\\u00e1zium Vod\\u011bradsk\\u00e1\", 2018], [\"Gymn\\u00e1zium Jaroslava Heyrovsk\\u00e9ho\", 2019], [\"Gymn\\u00e1zium Nad Kaval\\u00edrkou\", 2019], [\"Gymn\\u00e1zium Nad \\u0160tolou\", 2019], [\"Gymn\\u00e1zium Omsk\\u00e1\", 2019], [\"Gymn\\u00e1zium Opatov\", 2019], [\"Gymn\\u00e1zium Vod\\u011bradsk\\u00e1\", 2019], [\"Gymn\\u00e1zium Jaroslava Heyrovsk\\u00e9ho\", 2020], [\"Gymn\\u00e1zium Nad Kaval\\u00edrkou\", 2020], [\"Gymn\\u00e1zium Omsk\\u00e1\", 2020], [\"Gymn\\u00e1zium Opatov\", 2020]], \"hovertemplate\": \"clusters54=3<br>PROCENTA_CERMAT=%{x}<br>MIN_CERMAT=%{y}<br>SCHOOL_NAME=%{customdata[0]}<br>YEAR=%{customdata[1]}<extra></extra>\", \"legendgroup\": \"3\", \"marker\": {\"color\": \"#ab63fa\", \"symbol\": \"circle\"}, \"mode\": \"markers\", \"name\": \"3\", \"orientation\": \"v\", \"showlegend\": true, \"type\": \"scatter\", \"x\": [65.78, 66.22, 62.5, 60.24, 68.96, 61.72, 65.78, 70.42, 62.5, 60.24, 73.52, 61.72, 65.78, 70.92, 62.5, 60.24, 73.52, 61.72, 65.78, 62.5, 60.24], \"xaxis\": \"x\", \"y\": [60.0, 64.0, 62.0, 60.0, 58.0, 61.0, 61.0, 61.0, 54.0, 52.0, 56.0, 57.0, 64.0, 63.0, 59.0, 61.0, 59.0, 57.0, 61.0, 61.0, 66.0], \"yaxis\": \"y\"}, {\"hovertemplate\": \"<b>OLS trendline</b><br>MIN_CERMAT = 0.0346679 * PROCENTA_CERMAT + 57.6074<br>R<sup>2</sup>=0.001999<br><br>clusters54=3<br>PROCENTA_CERMAT=%{x}<br>MIN_CERMAT=%{y} <b>(trend)</b><extra></extra>\", \"legendgroup\": \"3\", \"marker\": {\"color\": \"#ab63fa\", \"symbol\": \"circle\"}, \"mode\": \"lines\", \"name\": \"3\", \"showlegend\": false, \"type\": \"scatter\", \"x\": [60.24, 60.24, 60.24, 60.24, 61.72, 61.72, 61.72, 62.5, 62.5, 62.5, 62.5, 65.78, 65.78, 65.78, 65.78, 66.22, 68.96, 70.42, 70.92, 73.52, 73.52], \"xaxis\": \"x\", \"y\": [59.69575558307398, 59.69575558307398, 59.69575558307398, 59.69575558307398, 59.74706405768589, 59.74706405768589, 59.74706405768589, 59.77410501052189, 59.77410501052189, 59.77410501052189, 59.77410501052189, 59.88781568398612, 59.88781568398612, 59.88781568398612, 59.88781568398612, 59.90306955481668, 59.99805956862521, 60.04867468547209, 60.06600862959773, 60.156145139051084, 60.156145139051084], \"yaxis\": \"y\"}],                        {\"legend\": {\"title\": {\"text\": \"clusters54\"}, \"tracegroupgap\": 0}, \"margin\": {\"t\": 60}, \"template\": {\"data\": {\"bar\": [{\"error_x\": {\"color\": \"#2a3f5f\"}, \"error_y\": {\"color\": \"#2a3f5f\"}, \"marker\": {\"line\": {\"color\": \"#E5ECF6\", \"width\": 0.5}}, \"type\": \"bar\"}], \"barpolar\": [{\"marker\": {\"line\": {\"color\": \"#E5ECF6\", \"width\": 0.5}}, \"type\": \"barpolar\"}], \"carpet\": [{\"aaxis\": {\"endlinecolor\": \"#2a3f5f\", \"gridcolor\": \"white\", \"linecolor\": \"white\", \"minorgridcolor\": \"white\", \"startlinecolor\": \"#2a3f5f\"}, \"baxis\": {\"endlinecolor\": \"#2a3f5f\", \"gridcolor\": \"white\", \"linecolor\": \"white\", \"minorgridcolor\": \"white\", \"startlinecolor\": \"#2a3f5f\"}, \"type\": \"carpet\"}], \"choropleth\": [{\"colorbar\": {\"outlinewidth\": 0, \"ticks\": \"\"}, \"type\": \"choropleth\"}], \"contour\": [{\"colorbar\": {\"outlinewidth\": 0, \"ticks\": \"\"}, \"colorscale\": [[0.0, \"#0d0887\"], [0.1111111111111111, \"#46039f\"], [0.2222222222222222, \"#7201a8\"], [0.3333333333333333, \"#9c179e\"], [0.4444444444444444, \"#bd3786\"], [0.5555555555555556, \"#d8576b\"], [0.6666666666666666, \"#ed7953\"], [0.7777777777777778, \"#fb9f3a\"], [0.8888888888888888, \"#fdca26\"], [1.0, \"#f0f921\"]], \"type\": \"contour\"}], \"contourcarpet\": [{\"colorbar\": {\"outlinewidth\": 0, \"ticks\": \"\"}, \"type\": \"contourcarpet\"}], \"heatmap\": [{\"colorbar\": {\"outlinewidth\": 0, \"ticks\": \"\"}, \"colorscale\": [[0.0, \"#0d0887\"], [0.1111111111111111, \"#46039f\"], [0.2222222222222222, \"#7201a8\"], [0.3333333333333333, \"#9c179e\"], [0.4444444444444444, \"#bd3786\"], [0.5555555555555556, \"#d8576b\"], [0.6666666666666666, \"#ed7953\"], [0.7777777777777778, \"#fb9f3a\"], [0.8888888888888888, \"#fdca26\"], [1.0, \"#f0f921\"]], \"type\": \"heatmap\"}], \"heatmapgl\": [{\"colorbar\": {\"outlinewidth\": 0, \"ticks\": \"\"}, \"colorscale\": [[0.0, \"#0d0887\"], [0.1111111111111111, \"#46039f\"], [0.2222222222222222, \"#7201a8\"], [0.3333333333333333, \"#9c179e\"], [0.4444444444444444, \"#bd3786\"], [0.5555555555555556, \"#d8576b\"], [0.6666666666666666, \"#ed7953\"], [0.7777777777777778, \"#fb9f3a\"], [0.8888888888888888, \"#fdca26\"], [1.0, \"#f0f921\"]], \"type\": \"heatmapgl\"}], \"histogram\": [{\"marker\": {\"colorbar\": {\"outlinewidth\": 0, \"ticks\": \"\"}}, \"type\": \"histogram\"}], \"histogram2d\": [{\"colorbar\": {\"outlinewidth\": 0, \"ticks\": \"\"}, \"colorscale\": [[0.0, \"#0d0887\"], [0.1111111111111111, \"#46039f\"], [0.2222222222222222, \"#7201a8\"], [0.3333333333333333, \"#9c179e\"], [0.4444444444444444, \"#bd3786\"], [0.5555555555555556, \"#d8576b\"], [0.6666666666666666, \"#ed7953\"], [0.7777777777777778, \"#fb9f3a\"], [0.8888888888888888, \"#fdca26\"], [1.0, \"#f0f921\"]], \"type\": \"histogram2d\"}], \"histogram2dcontour\": [{\"colorbar\": {\"outlinewidth\": 0, \"ticks\": \"\"}, \"colorscale\": [[0.0, \"#0d0887\"], [0.1111111111111111, \"#46039f\"], [0.2222222222222222, \"#7201a8\"], [0.3333333333333333, \"#9c179e\"], [0.4444444444444444, \"#bd3786\"], [0.5555555555555556, \"#d8576b\"], [0.6666666666666666, \"#ed7953\"], [0.7777777777777778, \"#fb9f3a\"], [0.8888888888888888, \"#fdca26\"], [1.0, \"#f0f921\"]], \"type\": \"histogram2dcontour\"}], \"mesh3d\": [{\"colorbar\": {\"outlinewidth\": 0, \"ticks\": \"\"}, \"type\": \"mesh3d\"}], \"parcoords\": [{\"line\": {\"colorbar\": {\"outlinewidth\": 0, \"ticks\": \"\"}}, \"type\": \"parcoords\"}], \"pie\": [{\"automargin\": true, \"type\": \"pie\"}], \"scatter\": [{\"marker\": {\"colorbar\": {\"outlinewidth\": 0, \"ticks\": \"\"}}, \"type\": \"scatter\"}], \"scatter3d\": [{\"line\": {\"colorbar\": {\"outlinewidth\": 0, \"ticks\": \"\"}}, \"marker\": {\"colorbar\": {\"outlinewidth\": 0, \"ticks\": \"\"}}, \"type\": \"scatter3d\"}], \"scattercarpet\": [{\"marker\": {\"colorbar\": {\"outlinewidth\": 0, \"ticks\": \"\"}}, \"type\": \"scattercarpet\"}], \"scattergeo\": [{\"marker\": {\"colorbar\": {\"outlinewidth\": 0, \"ticks\": \"\"}}, \"type\": \"scattergeo\"}], \"scattergl\": [{\"marker\": {\"colorbar\": {\"outlinewidth\": 0, \"ticks\": \"\"}}, \"type\": \"scattergl\"}], \"scattermapbox\": [{\"marker\": {\"colorbar\": {\"outlinewidth\": 0, \"ticks\": \"\"}}, \"type\": \"scattermapbox\"}], \"scatterpolar\": [{\"marker\": {\"colorbar\": {\"outlinewidth\": 0, \"ticks\": \"\"}}, \"type\": \"scatterpolar\"}], \"scatterpolargl\": [{\"marker\": {\"colorbar\": {\"outlinewidth\": 0, \"ticks\": \"\"}}, \"type\": \"scatterpolargl\"}], \"scatterternary\": [{\"marker\": {\"colorbar\": {\"outlinewidth\": 0, \"ticks\": \"\"}}, \"type\": \"scatterternary\"}], \"surface\": [{\"colorbar\": {\"outlinewidth\": 0, \"ticks\": \"\"}, \"colorscale\": [[0.0, \"#0d0887\"], [0.1111111111111111, \"#46039f\"], [0.2222222222222222, \"#7201a8\"], [0.3333333333333333, \"#9c179e\"], [0.4444444444444444, \"#bd3786\"], [0.5555555555555556, \"#d8576b\"], [0.6666666666666666, \"#ed7953\"], [0.7777777777777778, \"#fb9f3a\"], [0.8888888888888888, \"#fdca26\"], [1.0, \"#f0f921\"]], \"type\": \"surface\"}], \"table\": [{\"cells\": {\"fill\": {\"color\": \"#EBF0F8\"}, \"line\": {\"color\": \"white\"}}, \"header\": {\"fill\": {\"color\": \"#C8D4E3\"}, \"line\": {\"color\": \"white\"}}, \"type\": \"table\"}]}, \"layout\": {\"annotationdefaults\": {\"arrowcolor\": \"#2a3f5f\", \"arrowhead\": 0, \"arrowwidth\": 1}, \"coloraxis\": {\"colorbar\": {\"outlinewidth\": 0, \"ticks\": \"\"}}, \"colorscale\": {\"diverging\": [[0, \"#8e0152\"], [0.1, \"#c51b7d\"], [0.2, \"#de77ae\"], [0.3, \"#f1b6da\"], [0.4, \"#fde0ef\"], [0.5, \"#f7f7f7\"], [0.6, \"#e6f5d0\"], [0.7, \"#b8e186\"], [0.8, \"#7fbc41\"], [0.9, \"#4d9221\"], [1, \"#276419\"]], \"sequential\": [[0.0, \"#0d0887\"], [0.1111111111111111, \"#46039f\"], [0.2222222222222222, \"#7201a8\"], [0.3333333333333333, \"#9c179e\"], [0.4444444444444444, \"#bd3786\"], [0.5555555555555556, \"#d8576b\"], [0.6666666666666666, \"#ed7953\"], [0.7777777777777778, \"#fb9f3a\"], [0.8888888888888888, \"#fdca26\"], [1.0, \"#f0f921\"]], \"sequentialminus\": [[0.0, \"#0d0887\"], [0.1111111111111111, \"#46039f\"], [0.2222222222222222, \"#7201a8\"], [0.3333333333333333, \"#9c179e\"], [0.4444444444444444, \"#bd3786\"], [0.5555555555555556, \"#d8576b\"], [0.6666666666666666, \"#ed7953\"], [0.7777777777777778, \"#fb9f3a\"], [0.8888888888888888, \"#fdca26\"], [1.0, \"#f0f921\"]]}, \"colorway\": [\"#636efa\", \"#EF553B\", \"#00cc96\", \"#ab63fa\", \"#FFA15A\", \"#19d3f3\", \"#FF6692\", \"#B6E880\", \"#FF97FF\", \"#FECB52\"], \"font\": {\"color\": \"#2a3f5f\"}, \"geo\": {\"bgcolor\": \"white\", \"lakecolor\": \"white\", \"landcolor\": \"#E5ECF6\", \"showlakes\": true, \"showland\": true, \"subunitcolor\": \"white\"}, \"hoverlabel\": {\"align\": \"left\"}, \"hovermode\": \"closest\", \"mapbox\": {\"style\": \"light\"}, \"paper_bgcolor\": \"white\", \"plot_bgcolor\": \"#E5ECF6\", \"polar\": {\"angularaxis\": {\"gridcolor\": \"white\", \"linecolor\": \"white\", \"ticks\": \"\"}, \"bgcolor\": \"#E5ECF6\", \"radialaxis\": {\"gridcolor\": \"white\", \"linecolor\": \"white\", \"ticks\": \"\"}}, \"scene\": {\"xaxis\": {\"backgroundcolor\": \"#E5ECF6\", \"gridcolor\": \"white\", \"gridwidth\": 2, \"linecolor\": \"white\", \"showbackground\": true, \"ticks\": \"\", \"zerolinecolor\": \"white\"}, \"yaxis\": {\"backgroundcolor\": \"#E5ECF6\", \"gridcolor\": \"white\", \"gridwidth\": 2, \"linecolor\": \"white\", \"showbackground\": true, \"ticks\": \"\", \"zerolinecolor\": \"white\"}, \"zaxis\": {\"backgroundcolor\": \"#E5ECF6\", \"gridcolor\": \"white\", \"gridwidth\": 2, \"linecolor\": \"white\", \"showbackground\": true, \"ticks\": \"\", \"zerolinecolor\": \"white\"}}, \"shapedefaults\": {\"line\": {\"color\": \"#2a3f5f\"}}, \"ternary\": {\"aaxis\": {\"gridcolor\": \"white\", \"linecolor\": \"white\", \"ticks\": \"\"}, \"baxis\": {\"gridcolor\": \"white\", \"linecolor\": \"white\", \"ticks\": \"\"}, \"bgcolor\": \"#E5ECF6\", \"caxis\": {\"gridcolor\": \"white\", \"linecolor\": \"white\", \"ticks\": \"\"}}, \"title\": {\"x\": 0.05}, \"xaxis\": {\"automargin\": true, \"gridcolor\": \"white\", \"linecolor\": \"white\", \"ticks\": \"\", \"title\": {\"standoff\": 15}, \"zerolinecolor\": \"white\", \"zerolinewidth\": 2}, \"yaxis\": {\"automargin\": true, \"gridcolor\": \"white\", \"linecolor\": \"white\", \"ticks\": \"\", \"title\": {\"standoff\": 15}, \"zerolinecolor\": \"white\", \"zerolinewidth\": 2}}}, \"xaxis\": {\"anchor\": \"y\", \"domain\": [0.0, 1.0], \"title\": {\"text\": \"PROCENTA_CERMAT\"}}, \"yaxis\": {\"anchor\": \"x\", \"domain\": [0.0, 1.0], \"title\": {\"text\": \"MIN_CERMAT\"}}},                        {\"responsive\": true}                    ).then(function(){\n",
       "                            \n",
       "var gd = document.getElementById('07da29d5-6d21-485e-be24-742b9e4f0fba');\n",
       "var x = new MutationObserver(function (mutations, observer) {{\n",
       "        var display = window.getComputedStyle(gd).display;\n",
       "        if (!display || display === 'none') {{\n",
       "            console.log([gd, 'removed!']);\n",
       "            Plotly.purge(gd);\n",
       "            observer.disconnect();\n",
       "        }}\n",
       "}});\n",
       "\n",
       "// Listen for the removal of the full notebook cells\n",
       "var notebookContainer = gd.closest('#notebook-container');\n",
       "if (notebookContainer) {{\n",
       "    x.observe(notebookContainer, {childList: true});\n",
       "}}\n",
       "\n",
       "// Listen for the clearing of the current output cell\n",
       "var outputEl = gd.closest('.output');\n",
       "if (outputEl) {{\n",
       "    x.observe(outputEl, {childList: true});\n",
       "}}\n",
       "\n",
       "                        })                };                });            </script>        </div>"
      ]
     },
     "metadata": {},
     "output_type": "display_data"
    }
   ],
   "source": [
    "fig5 = px.scatter(dataset_no_hudebni\n",
    "                  #.query(f'YEAR=={year}')\n",
    "                  , \n",
    "                  x=\"PROCENTA_CERMAT\", y='MIN_CERMAT', \n",
    "                hover_data=['SCHOOL_NAME', \"YEAR\"], \n",
    "                 trendline=\"ols\",  \n",
    "                 #color=\"IS_SCHOOL_EXAM\"\n",
    "                  \n",
    "                 color=\"clusters54\"\n",
    "                 )\n",
    "fig5.show()"
   ]
  }
 ],
 "metadata": {
  "kernelspec": {
   "display_name": "Python 3",
   "language": "python",
   "name": "python3"
  },
  "language_info": {
   "codemirror_mode": {
    "name": "ipython",
    "version": 3
   },
   "file_extension": ".py",
   "mimetype": "text/x-python",
   "name": "python",
   "nbconvert_exporter": "python",
   "pygments_lexer": "ipython3",
   "version": "3.7.1"
  }
 },
 "nbformat": 4,
 "nbformat_minor": 4
}
